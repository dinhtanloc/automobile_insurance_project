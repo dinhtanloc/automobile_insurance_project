{
 "cells": [
  {
   "cell_type": "markdown",
   "metadata": {},
   "source": [
    "___\n",
    "\n",
    "<a href='http://www.pieriandata.com'> <img src='../Pierian_Data_Logo.png' /></a>\n",
    "___\n",
    "# Plotly and Cufflinks"
   ]
  },
  {
   "cell_type": "markdown",
   "metadata": {},
   "source": [
    "Plotly is a library that allows you to create interactive plots that you can use in dashboards or websites (you can save them as html files or static images).\n",
    "\n",
    "## Installation\n",
    "\n",
    "In order for this all to work, you'll need to install plotly and cufflinks to call plots directly off of a pandas dataframe. These libraries are not currently available through **conda** but are available through **pip**. Install the libraries at your command line/terminal using:\n",
    "\n",
    "    pip install plotly\n",
    "    pip install cufflinks\n",
    "\n",
    "** NOTE: Make sure you only have one installation of Python on your computer when you do this, otherwise the installation may not work. **\n",
    "\n",
    "## Imports and Set-up"
   ]
  },
  {
   "cell_type": "code",
   "execution_count": 1,
   "metadata": {},
   "outputs": [],
   "source": [
    "import pandas as pd\n",
    "import numpy as np\n",
    "%matplotlib inline\n"
   ]
  },
  {
   "cell_type": "code",
   "execution_count": 2,
   "metadata": {},
   "outputs": [
    {
     "name": "stdout",
     "output_type": "stream",
     "text": [
      "5.18.0\n"
     ]
    }
   ],
   "source": [
    "from plotly import __version__\n",
    "from plotly.offline import download_plotlyjs, init_notebook_mode, plot, iplot\n",
    "\n",
    "print(__version__) # requires version >= 1.9.0"
   ]
  },
  {
   "cell_type": "code",
   "execution_count": 3,
   "metadata": {},
   "outputs": [],
   "source": [
    "import cufflinks as cf"
   ]
  },
  {
   "cell_type": "code",
   "execution_count": 4,
   "metadata": {},
   "outputs": [
    {
     "data": {
      "text/html": [
       "        <script type=\"text/javascript\">\n",
       "        window.PlotlyConfig = {MathJaxConfig: 'local'};\n",
       "        if (window.MathJax && window.MathJax.Hub && window.MathJax.Hub.Config) {window.MathJax.Hub.Config({SVG: {font: \"STIX-Web\"}});}\n",
       "        if (typeof require !== 'undefined') {\n",
       "        require.undef(\"plotly\");\n",
       "        requirejs.config({\n",
       "            paths: {\n",
       "                'plotly': ['https://cdn.plot.ly/plotly-2.27.0.min']\n",
       "            }\n",
       "        });\n",
       "        require(['plotly'], function(Plotly) {\n",
       "            window._Plotly = Plotly;\n",
       "        });\n",
       "        }\n",
       "        </script>\n",
       "        "
      ]
     },
     "metadata": {},
     "output_type": "display_data"
    }
   ],
   "source": [
    "# For Notebooks\n",
    "init_notebook_mode(connected=True)"
   ]
  },
  {
   "cell_type": "code",
   "execution_count": 5,
   "metadata": {},
   "outputs": [
    {
     "data": {
      "text/html": [
       "        <script type=\"text/javascript\">\n",
       "        window.PlotlyConfig = {MathJaxConfig: 'local'};\n",
       "        if (window.MathJax && window.MathJax.Hub && window.MathJax.Hub.Config) {window.MathJax.Hub.Config({SVG: {font: \"STIX-Web\"}});}\n",
       "        if (typeof require !== 'undefined') {\n",
       "        require.undef(\"plotly\");\n",
       "        requirejs.config({\n",
       "            paths: {\n",
       "                'plotly': ['https://cdn.plot.ly/plotly-2.27.0.min']\n",
       "            }\n",
       "        });\n",
       "        require(['plotly'], function(Plotly) {\n",
       "            window._Plotly = Plotly;\n",
       "        });\n",
       "        }\n",
       "        </script>\n",
       "        "
      ]
     },
     "metadata": {},
     "output_type": "display_data"
    }
   ],
   "source": [
    "# For offline use\n",
    "cf.go_offline()"
   ]
  },
  {
   "cell_type": "markdown",
   "metadata": {},
   "source": [
    "### Fake Data"
   ]
  },
  {
   "cell_type": "code",
   "execution_count": 6,
   "metadata": {},
   "outputs": [],
   "source": [
    "df = pd.DataFrame(np.random.randn(100,4),columns='A B C D'.split())"
   ]
  },
  {
   "cell_type": "code",
   "execution_count": 7,
   "metadata": {},
   "outputs": [
    {
     "data": {
      "text/html": [
       "<div>\n",
       "<style scoped>\n",
       "    .dataframe tbody tr th:only-of-type {\n",
       "        vertical-align: middle;\n",
       "    }\n",
       "\n",
       "    .dataframe tbody tr th {\n",
       "        vertical-align: top;\n",
       "    }\n",
       "\n",
       "    .dataframe thead th {\n",
       "        text-align: right;\n",
       "    }\n",
       "</style>\n",
       "<table border=\"1\" class=\"dataframe\">\n",
       "  <thead>\n",
       "    <tr style=\"text-align: right;\">\n",
       "      <th></th>\n",
       "      <th>A</th>\n",
       "      <th>B</th>\n",
       "      <th>C</th>\n",
       "      <th>D</th>\n",
       "    </tr>\n",
       "  </thead>\n",
       "  <tbody>\n",
       "    <tr>\n",
       "      <th>0</th>\n",
       "      <td>0.948371</td>\n",
       "      <td>0.695196</td>\n",
       "      <td>2.312065</td>\n",
       "      <td>0.411725</td>\n",
       "    </tr>\n",
       "    <tr>\n",
       "      <th>1</th>\n",
       "      <td>-0.164354</td>\n",
       "      <td>0.497254</td>\n",
       "      <td>-0.108444</td>\n",
       "      <td>-0.800073</td>\n",
       "    </tr>\n",
       "    <tr>\n",
       "      <th>2</th>\n",
       "      <td>0.647705</td>\n",
       "      <td>0.608714</td>\n",
       "      <td>0.496037</td>\n",
       "      <td>-0.582357</td>\n",
       "    </tr>\n",
       "    <tr>\n",
       "      <th>3</th>\n",
       "      <td>-2.273255</td>\n",
       "      <td>0.101125</td>\n",
       "      <td>0.702907</td>\n",
       "      <td>-0.585734</td>\n",
       "    </tr>\n",
       "    <tr>\n",
       "      <th>4</th>\n",
       "      <td>-0.195369</td>\n",
       "      <td>2.323614</td>\n",
       "      <td>0.337676</td>\n",
       "      <td>-0.421971</td>\n",
       "    </tr>\n",
       "  </tbody>\n",
       "</table>\n",
       "</div>"
      ],
      "text/plain": [
       "          A         B         C         D\n",
       "0  0.948371  0.695196  2.312065  0.411725\n",
       "1 -0.164354  0.497254 -0.108444 -0.800073\n",
       "2  0.647705  0.608714  0.496037 -0.582357\n",
       "3 -2.273255  0.101125  0.702907 -0.585734\n",
       "4 -0.195369  2.323614  0.337676 -0.421971"
      ]
     },
     "execution_count": 7,
     "metadata": {},
     "output_type": "execute_result"
    }
   ],
   "source": [
    "df.head()"
   ]
  },
  {
   "cell_type": "code",
   "execution_count": 8,
   "metadata": {},
   "outputs": [],
   "source": [
    "df2 = pd.DataFrame({'Category':['A','B','C'],'Values':[32,43,50]})"
   ]
  },
  {
   "cell_type": "code",
   "execution_count": 9,
   "metadata": {},
   "outputs": [
    {
     "data": {
      "text/html": [
       "<div>\n",
       "<style scoped>\n",
       "    .dataframe tbody tr th:only-of-type {\n",
       "        vertical-align: middle;\n",
       "    }\n",
       "\n",
       "    .dataframe tbody tr th {\n",
       "        vertical-align: top;\n",
       "    }\n",
       "\n",
       "    .dataframe thead th {\n",
       "        text-align: right;\n",
       "    }\n",
       "</style>\n",
       "<table border=\"1\" class=\"dataframe\">\n",
       "  <thead>\n",
       "    <tr style=\"text-align: right;\">\n",
       "      <th></th>\n",
       "      <th>Category</th>\n",
       "      <th>Values</th>\n",
       "    </tr>\n",
       "  </thead>\n",
       "  <tbody>\n",
       "    <tr>\n",
       "      <th>0</th>\n",
       "      <td>A</td>\n",
       "      <td>32</td>\n",
       "    </tr>\n",
       "    <tr>\n",
       "      <th>1</th>\n",
       "      <td>B</td>\n",
       "      <td>43</td>\n",
       "    </tr>\n",
       "    <tr>\n",
       "      <th>2</th>\n",
       "      <td>C</td>\n",
       "      <td>50</td>\n",
       "    </tr>\n",
       "  </tbody>\n",
       "</table>\n",
       "</div>"
      ],
      "text/plain": [
       "  Category  Values\n",
       "0        A      32\n",
       "1        B      43\n",
       "2        C      50"
      ]
     },
     "execution_count": 9,
     "metadata": {},
     "output_type": "execute_result"
    }
   ],
   "source": [
    "df2.head()"
   ]
  },
  {
   "cell_type": "markdown",
   "metadata": {},
   "source": [
    "## Using Cufflinks and iplot()\n",
    "\n",
    "* scatter\n",
    "* bar\n",
    "* box\n",
    "* spread\n",
    "* ratio\n",
    "* heatmap\n",
    "* surface\n",
    "* histogram\n",
    "* bubble"
   ]
  },
  {
   "cell_type": "markdown",
   "metadata": {},
   "source": [
    "## Scatter"
   ]
  },
  {
   "cell_type": "code",
   "execution_count": 10,
   "metadata": {},
   "outputs": [
    {
     "data": {
      "application/vnd.plotly.v1+json": {
       "config": {
        "linkText": "Export to plot.ly",
        "plotlyServerURL": "https://plot.ly",
        "showLink": true
       },
       "data": [
        {
         "line": {
          "color": "rgba(255, 153, 51, 1.0)",
          "dash": "solid",
          "shape": "linear",
          "width": 1.3
         },
         "marker": {
          "size": 10,
          "symbol": "circle"
         },
         "mode": "markers",
         "name": "B",
         "text": "",
         "type": "scatter",
         "x": [
          0.9483710285820001,
          -0.16435447117281413,
          0.6477051568801235,
          -2.273255312123948,
          -0.19536853035988794,
          -0.2118342237334965,
          1.969900103972678,
          -0.1496270218197629,
          -0.007020860163975405,
          0.4772917949028792,
          -2.296838980325794,
          -0.37000166265522116,
          0.34406523866400957,
          -0.29030028397892893,
          0.6878914949832962,
          0.5433316282880948,
          -0.40987022829918446,
          -0.3508115673844667,
          -0.3559125754431757,
          -1.1483952719332804,
          -0.8767453817952463,
          1.92278265358688,
          0.5770428505914557,
          0.02435312488294865,
          1.4107386803936892,
          -0.06322763639530866,
          -0.01795897935142888,
          -0.18530147911972034,
          -0.3659190731162389,
          1.3165523507978518,
          -0.792171042599313,
          -0.1554692689441983,
          -1.8409931154929848,
          0.1764468915089469,
          -0.30909415815164737,
          1.0632814501247938,
          0.26234545224339956,
          -1.5873657519214601,
          -1.6473598175363953,
          -0.6318463303111566,
          1.0543085403294332,
          1.246304011828692,
          -0.21144922670508443,
          -0.23589096320737366,
          -0.09395250356688174,
          0.0707249247579655,
          -0.6400009901335901,
          1.351331165453697,
          -1.1313727968282254,
          -0.7647615927907178,
          -0.8079994094244998,
          1.5607430028744744,
          -0.3620125847729232,
          1.6051928605447752,
          -0.2644213070910263,
          0.15301454089392363,
          -1.384940783808886,
          0.9569667644612428,
          1.0098032757966096,
          0.05981939777514478,
          -0.4063321066711721,
          -0.10489950599416006,
          0.4405417746248789,
          1.5885797975649483,
          -0.2123877545633354,
          0.7896146361235454,
          -0.25786433842463086,
          1.1631727044468283,
          0.8893538473792952,
          -0.605977484901111,
          -2.2759457922899493,
          -0.30667550908424834,
          -0.8241615883865696,
          -0.812670431832529,
          0.33268905472604193,
          0.23563136424290237,
          0.4578026499023031,
          0.7315995846678012,
          -1.7286130927550594,
          -0.24475898061728274,
          0.04932267359327156,
          0.09850376427288944,
          0.886720450911329,
          -0.17577082586457415,
          1.6183992637484683,
          1.1184599011461407,
          1.0592831356401937,
          0.04909605784286992,
          0.0490338970942655,
          -1.5413799533062233,
          -0.6846783116080516,
          0.28934161302670924,
          -1.5812189138833908,
          -0.551058815311809,
          -0.14210452149120745,
          1.132681638282884,
          -1.4845447509762713,
          0.7275497759426459,
          -0.9247206532943602,
          -0.10781768148384203
         ],
         "y": [
          0.6951956068812144,
          0.49725417558382046,
          0.6087143272319379,
          0.10112467773010585,
          2.323613568869922,
          -0.24534012165281577,
          -1.588981039176941,
          0.5649426863896487,
          -1.061003385941566,
          1.046139137247561,
          -1.429030819194681,
          -0.6721985390439421,
          0.7446491237600207,
          -1.194499495828478,
          -0.22504824095902065,
          -0.3974007034506707,
          1.536542067477092,
          -0.39250064016403163,
          0.9523164329683868,
          -1.8573519129338643,
          1.3006210941603213,
          -0.5528283250328027,
          -0.6977698963321508,
          1.2942172706712607,
          -1.1549871293902265,
          0.25272725615392627,
          0.8445125936973771,
          -2.4699306276453563,
          -0.31190850791083896,
          1.2259265317416355,
          0.48418414451155,
          0.5649252815461252,
          0.14138713508186163,
          1.938355457479299,
          -1.0465970402655622,
          -1.3816713931096485,
          -0.8790836945117418,
          -0.8016568421156806,
          -0.03807425182074729,
          1.512011476372494,
          -0.358844527962155,
          1.7906226715812434,
          0.696488767895237,
          -0.2677337901158682,
          1.3042993099547446,
          -0.32026858309367945,
          -0.07720683218039519,
          -0.634742010310217,
          0.7603041907311168,
          1.5805588555198649,
          -0.1989611304897986,
          0.7220453059317153,
          0.5692340768872667,
          -0.25156765622962063,
          0.8092358452271889,
          1.0885470599932183,
          0.45062822224819526,
          -0.013762313193872652,
          0.5912886501401902,
          -0.7423096218981617,
          0.9382882421920437,
          0.08293536258955617,
          0.8345857880588031,
          -0.716795511109764,
          0.36263691765918415,
          -0.9270008736821341,
          -0.6838395828920901,
          0.8694508382211932,
          -0.2347351263121534,
          1.8793424244484218,
          -1.269768586915114,
          0.5573369027699515,
          0.6817476354328097,
          -0.20346366467539387,
          0.21314857289525754,
          -0.30799604434693434,
          0.366574150799827,
          2.171757651011116,
          -0.8840881683355313,
          -0.1636449694274178,
          -1.266223369167309,
          -0.7745833709493388,
          0.6283851977513192,
          1.2378303894503486,
          0.5122696947240207,
          -0.9102284691228753,
          -0.619141770208701,
          1.0581714210855506,
          -1.7158268206733926,
          -1.3392909615359103,
          -0.1580198932356279,
          0.711646018189122,
          0.8383109344980673,
          -0.2850035136230021,
          0.007760260934558799,
          0.3489907751758173,
          0.06754387559919373,
          -1.6012150819873734,
          0.6283008119768948,
          -0.7677935023498129
         ]
        }
       ],
       "layout": {
        "legend": {
         "bgcolor": "#F5F6F9",
         "font": {
          "color": "#4D5663"
         }
        },
        "paper_bgcolor": "#F5F6F9",
        "plot_bgcolor": "#F5F6F9",
        "template": {
         "data": {
          "bar": [
           {
            "error_x": {
             "color": "#2a3f5f"
            },
            "error_y": {
             "color": "#2a3f5f"
            },
            "marker": {
             "line": {
              "color": "#E5ECF6",
              "width": 0.5
             },
             "pattern": {
              "fillmode": "overlay",
              "size": 10,
              "solidity": 0.2
             }
            },
            "type": "bar"
           }
          ],
          "barpolar": [
           {
            "marker": {
             "line": {
              "color": "#E5ECF6",
              "width": 0.5
             },
             "pattern": {
              "fillmode": "overlay",
              "size": 10,
              "solidity": 0.2
             }
            },
            "type": "barpolar"
           }
          ],
          "carpet": [
           {
            "aaxis": {
             "endlinecolor": "#2a3f5f",
             "gridcolor": "white",
             "linecolor": "white",
             "minorgridcolor": "white",
             "startlinecolor": "#2a3f5f"
            },
            "baxis": {
             "endlinecolor": "#2a3f5f",
             "gridcolor": "white",
             "linecolor": "white",
             "minorgridcolor": "white",
             "startlinecolor": "#2a3f5f"
            },
            "type": "carpet"
           }
          ],
          "choropleth": [
           {
            "colorbar": {
             "outlinewidth": 0,
             "ticks": ""
            },
            "type": "choropleth"
           }
          ],
          "contour": [
           {
            "colorbar": {
             "outlinewidth": 0,
             "ticks": ""
            },
            "colorscale": [
             [
              0,
              "#0d0887"
             ],
             [
              0.1111111111111111,
              "#46039f"
             ],
             [
              0.2222222222222222,
              "#7201a8"
             ],
             [
              0.3333333333333333,
              "#9c179e"
             ],
             [
              0.4444444444444444,
              "#bd3786"
             ],
             [
              0.5555555555555556,
              "#d8576b"
             ],
             [
              0.6666666666666666,
              "#ed7953"
             ],
             [
              0.7777777777777778,
              "#fb9f3a"
             ],
             [
              0.8888888888888888,
              "#fdca26"
             ],
             [
              1,
              "#f0f921"
             ]
            ],
            "type": "contour"
           }
          ],
          "contourcarpet": [
           {
            "colorbar": {
             "outlinewidth": 0,
             "ticks": ""
            },
            "type": "contourcarpet"
           }
          ],
          "heatmap": [
           {
            "colorbar": {
             "outlinewidth": 0,
             "ticks": ""
            },
            "colorscale": [
             [
              0,
              "#0d0887"
             ],
             [
              0.1111111111111111,
              "#46039f"
             ],
             [
              0.2222222222222222,
              "#7201a8"
             ],
             [
              0.3333333333333333,
              "#9c179e"
             ],
             [
              0.4444444444444444,
              "#bd3786"
             ],
             [
              0.5555555555555556,
              "#d8576b"
             ],
             [
              0.6666666666666666,
              "#ed7953"
             ],
             [
              0.7777777777777778,
              "#fb9f3a"
             ],
             [
              0.8888888888888888,
              "#fdca26"
             ],
             [
              1,
              "#f0f921"
             ]
            ],
            "type": "heatmap"
           }
          ],
          "heatmapgl": [
           {
            "colorbar": {
             "outlinewidth": 0,
             "ticks": ""
            },
            "colorscale": [
             [
              0,
              "#0d0887"
             ],
             [
              0.1111111111111111,
              "#46039f"
             ],
             [
              0.2222222222222222,
              "#7201a8"
             ],
             [
              0.3333333333333333,
              "#9c179e"
             ],
             [
              0.4444444444444444,
              "#bd3786"
             ],
             [
              0.5555555555555556,
              "#d8576b"
             ],
             [
              0.6666666666666666,
              "#ed7953"
             ],
             [
              0.7777777777777778,
              "#fb9f3a"
             ],
             [
              0.8888888888888888,
              "#fdca26"
             ],
             [
              1,
              "#f0f921"
             ]
            ],
            "type": "heatmapgl"
           }
          ],
          "histogram": [
           {
            "marker": {
             "pattern": {
              "fillmode": "overlay",
              "size": 10,
              "solidity": 0.2
             }
            },
            "type": "histogram"
           }
          ],
          "histogram2d": [
           {
            "colorbar": {
             "outlinewidth": 0,
             "ticks": ""
            },
            "colorscale": [
             [
              0,
              "#0d0887"
             ],
             [
              0.1111111111111111,
              "#46039f"
             ],
             [
              0.2222222222222222,
              "#7201a8"
             ],
             [
              0.3333333333333333,
              "#9c179e"
             ],
             [
              0.4444444444444444,
              "#bd3786"
             ],
             [
              0.5555555555555556,
              "#d8576b"
             ],
             [
              0.6666666666666666,
              "#ed7953"
             ],
             [
              0.7777777777777778,
              "#fb9f3a"
             ],
             [
              0.8888888888888888,
              "#fdca26"
             ],
             [
              1,
              "#f0f921"
             ]
            ],
            "type": "histogram2d"
           }
          ],
          "histogram2dcontour": [
           {
            "colorbar": {
             "outlinewidth": 0,
             "ticks": ""
            },
            "colorscale": [
             [
              0,
              "#0d0887"
             ],
             [
              0.1111111111111111,
              "#46039f"
             ],
             [
              0.2222222222222222,
              "#7201a8"
             ],
             [
              0.3333333333333333,
              "#9c179e"
             ],
             [
              0.4444444444444444,
              "#bd3786"
             ],
             [
              0.5555555555555556,
              "#d8576b"
             ],
             [
              0.6666666666666666,
              "#ed7953"
             ],
             [
              0.7777777777777778,
              "#fb9f3a"
             ],
             [
              0.8888888888888888,
              "#fdca26"
             ],
             [
              1,
              "#f0f921"
             ]
            ],
            "type": "histogram2dcontour"
           }
          ],
          "mesh3d": [
           {
            "colorbar": {
             "outlinewidth": 0,
             "ticks": ""
            },
            "type": "mesh3d"
           }
          ],
          "parcoords": [
           {
            "line": {
             "colorbar": {
              "outlinewidth": 0,
              "ticks": ""
             }
            },
            "type": "parcoords"
           }
          ],
          "pie": [
           {
            "automargin": true,
            "type": "pie"
           }
          ],
          "scatter": [
           {
            "fillpattern": {
             "fillmode": "overlay",
             "size": 10,
             "solidity": 0.2
            },
            "type": "scatter"
           }
          ],
          "scatter3d": [
           {
            "line": {
             "colorbar": {
              "outlinewidth": 0,
              "ticks": ""
             }
            },
            "marker": {
             "colorbar": {
              "outlinewidth": 0,
              "ticks": ""
             }
            },
            "type": "scatter3d"
           }
          ],
          "scattercarpet": [
           {
            "marker": {
             "colorbar": {
              "outlinewidth": 0,
              "ticks": ""
             }
            },
            "type": "scattercarpet"
           }
          ],
          "scattergeo": [
           {
            "marker": {
             "colorbar": {
              "outlinewidth": 0,
              "ticks": ""
             }
            },
            "type": "scattergeo"
           }
          ],
          "scattergl": [
           {
            "marker": {
             "colorbar": {
              "outlinewidth": 0,
              "ticks": ""
             }
            },
            "type": "scattergl"
           }
          ],
          "scattermapbox": [
           {
            "marker": {
             "colorbar": {
              "outlinewidth": 0,
              "ticks": ""
             }
            },
            "type": "scattermapbox"
           }
          ],
          "scatterpolar": [
           {
            "marker": {
             "colorbar": {
              "outlinewidth": 0,
              "ticks": ""
             }
            },
            "type": "scatterpolar"
           }
          ],
          "scatterpolargl": [
           {
            "marker": {
             "colorbar": {
              "outlinewidth": 0,
              "ticks": ""
             }
            },
            "type": "scatterpolargl"
           }
          ],
          "scatterternary": [
           {
            "marker": {
             "colorbar": {
              "outlinewidth": 0,
              "ticks": ""
             }
            },
            "type": "scatterternary"
           }
          ],
          "surface": [
           {
            "colorbar": {
             "outlinewidth": 0,
             "ticks": ""
            },
            "colorscale": [
             [
              0,
              "#0d0887"
             ],
             [
              0.1111111111111111,
              "#46039f"
             ],
             [
              0.2222222222222222,
              "#7201a8"
             ],
             [
              0.3333333333333333,
              "#9c179e"
             ],
             [
              0.4444444444444444,
              "#bd3786"
             ],
             [
              0.5555555555555556,
              "#d8576b"
             ],
             [
              0.6666666666666666,
              "#ed7953"
             ],
             [
              0.7777777777777778,
              "#fb9f3a"
             ],
             [
              0.8888888888888888,
              "#fdca26"
             ],
             [
              1,
              "#f0f921"
             ]
            ],
            "type": "surface"
           }
          ],
          "table": [
           {
            "cells": {
             "fill": {
              "color": "#EBF0F8"
             },
             "line": {
              "color": "white"
             }
            },
            "header": {
             "fill": {
              "color": "#C8D4E3"
             },
             "line": {
              "color": "white"
             }
            },
            "type": "table"
           }
          ]
         },
         "layout": {
          "annotationdefaults": {
           "arrowcolor": "#2a3f5f",
           "arrowhead": 0,
           "arrowwidth": 1
          },
          "autotypenumbers": "strict",
          "coloraxis": {
           "colorbar": {
            "outlinewidth": 0,
            "ticks": ""
           }
          },
          "colorscale": {
           "diverging": [
            [
             0,
             "#8e0152"
            ],
            [
             0.1,
             "#c51b7d"
            ],
            [
             0.2,
             "#de77ae"
            ],
            [
             0.3,
             "#f1b6da"
            ],
            [
             0.4,
             "#fde0ef"
            ],
            [
             0.5,
             "#f7f7f7"
            ],
            [
             0.6,
             "#e6f5d0"
            ],
            [
             0.7,
             "#b8e186"
            ],
            [
             0.8,
             "#7fbc41"
            ],
            [
             0.9,
             "#4d9221"
            ],
            [
             1,
             "#276419"
            ]
           ],
           "sequential": [
            [
             0,
             "#0d0887"
            ],
            [
             0.1111111111111111,
             "#46039f"
            ],
            [
             0.2222222222222222,
             "#7201a8"
            ],
            [
             0.3333333333333333,
             "#9c179e"
            ],
            [
             0.4444444444444444,
             "#bd3786"
            ],
            [
             0.5555555555555556,
             "#d8576b"
            ],
            [
             0.6666666666666666,
             "#ed7953"
            ],
            [
             0.7777777777777778,
             "#fb9f3a"
            ],
            [
             0.8888888888888888,
             "#fdca26"
            ],
            [
             1,
             "#f0f921"
            ]
           ],
           "sequentialminus": [
            [
             0,
             "#0d0887"
            ],
            [
             0.1111111111111111,
             "#46039f"
            ],
            [
             0.2222222222222222,
             "#7201a8"
            ],
            [
             0.3333333333333333,
             "#9c179e"
            ],
            [
             0.4444444444444444,
             "#bd3786"
            ],
            [
             0.5555555555555556,
             "#d8576b"
            ],
            [
             0.6666666666666666,
             "#ed7953"
            ],
            [
             0.7777777777777778,
             "#fb9f3a"
            ],
            [
             0.8888888888888888,
             "#fdca26"
            ],
            [
             1,
             "#f0f921"
            ]
           ]
          },
          "colorway": [
           "#636efa",
           "#EF553B",
           "#00cc96",
           "#ab63fa",
           "#FFA15A",
           "#19d3f3",
           "#FF6692",
           "#B6E880",
           "#FF97FF",
           "#FECB52"
          ],
          "font": {
           "color": "#2a3f5f"
          },
          "geo": {
           "bgcolor": "white",
           "lakecolor": "white",
           "landcolor": "#E5ECF6",
           "showlakes": true,
           "showland": true,
           "subunitcolor": "white"
          },
          "hoverlabel": {
           "align": "left"
          },
          "hovermode": "closest",
          "mapbox": {
           "style": "light"
          },
          "paper_bgcolor": "white",
          "plot_bgcolor": "#E5ECF6",
          "polar": {
           "angularaxis": {
            "gridcolor": "white",
            "linecolor": "white",
            "ticks": ""
           },
           "bgcolor": "#E5ECF6",
           "radialaxis": {
            "gridcolor": "white",
            "linecolor": "white",
            "ticks": ""
           }
          },
          "scene": {
           "xaxis": {
            "backgroundcolor": "#E5ECF6",
            "gridcolor": "white",
            "gridwidth": 2,
            "linecolor": "white",
            "showbackground": true,
            "ticks": "",
            "zerolinecolor": "white"
           },
           "yaxis": {
            "backgroundcolor": "#E5ECF6",
            "gridcolor": "white",
            "gridwidth": 2,
            "linecolor": "white",
            "showbackground": true,
            "ticks": "",
            "zerolinecolor": "white"
           },
           "zaxis": {
            "backgroundcolor": "#E5ECF6",
            "gridcolor": "white",
            "gridwidth": 2,
            "linecolor": "white",
            "showbackground": true,
            "ticks": "",
            "zerolinecolor": "white"
           }
          },
          "shapedefaults": {
           "line": {
            "color": "#2a3f5f"
           }
          },
          "ternary": {
           "aaxis": {
            "gridcolor": "white",
            "linecolor": "white",
            "ticks": ""
           },
           "baxis": {
            "gridcolor": "white",
            "linecolor": "white",
            "ticks": ""
           },
           "bgcolor": "#E5ECF6",
           "caxis": {
            "gridcolor": "white",
            "linecolor": "white",
            "ticks": ""
           }
          },
          "title": {
           "x": 0.05
          },
          "xaxis": {
           "automargin": true,
           "gridcolor": "white",
           "linecolor": "white",
           "ticks": "",
           "title": {
            "standoff": 15
           },
           "zerolinecolor": "white",
           "zerolinewidth": 2
          },
          "yaxis": {
           "automargin": true,
           "gridcolor": "white",
           "linecolor": "white",
           "ticks": "",
           "title": {
            "standoff": 15
           },
           "zerolinecolor": "white",
           "zerolinewidth": 2
          }
         }
        },
        "title": {
         "font": {
          "color": "#4D5663"
         }
        },
        "xaxis": {
         "gridcolor": "#E1E5ED",
         "showgrid": true,
         "tickfont": {
          "color": "#4D5663"
         },
         "title": {
          "font": {
           "color": "#4D5663"
          },
          "text": ""
         },
         "zerolinecolor": "#E1E5ED"
        },
        "yaxis": {
         "gridcolor": "#E1E5ED",
         "showgrid": true,
         "tickfont": {
          "color": "#4D5663"
         },
         "title": {
          "font": {
           "color": "#4D5663"
          },
          "text": ""
         },
         "zerolinecolor": "#E1E5ED"
        }
       }
      },
      "text/html": [
       "<div>                            <div id=\"6d21c5ed-3d20-41e3-9c28-727f6106551c\" class=\"plotly-graph-div\" style=\"height:525px; width:100%;\"></div>            <script type=\"text/javascript\">                require([\"plotly\"], function(Plotly) {                    window.PLOTLYENV=window.PLOTLYENV || {};\n",
       "                    window.PLOTLYENV.BASE_URL='https://plot.ly';                                    if (document.getElementById(\"6d21c5ed-3d20-41e3-9c28-727f6106551c\")) {                    Plotly.newPlot(                        \"6d21c5ed-3d20-41e3-9c28-727f6106551c\",                        [{\"line\":{\"color\":\"rgba(255, 153, 51, 1.0)\",\"dash\":\"solid\",\"shape\":\"linear\",\"width\":1.3},\"marker\":{\"size\":10,\"symbol\":\"circle\"},\"mode\":\"markers\",\"name\":\"B\",\"text\":\"\",\"x\":[0.9483710285820001,-0.16435447117281413,0.6477051568801235,-2.273255312123948,-0.19536853035988794,-0.2118342237334965,1.969900103972678,-0.1496270218197629,-0.007020860163975405,0.4772917949028792,-2.296838980325794,-0.37000166265522116,0.34406523866400957,-0.29030028397892893,0.6878914949832962,0.5433316282880948,-0.40987022829918446,-0.3508115673844667,-0.3559125754431757,-1.1483952719332804,-0.8767453817952463,1.92278265358688,0.5770428505914557,0.02435312488294865,1.4107386803936892,-0.06322763639530866,-0.01795897935142888,-0.18530147911972034,-0.3659190731162389,1.3165523507978518,-0.792171042599313,-0.1554692689441983,-1.8409931154929848,0.1764468915089469,-0.30909415815164737,1.0632814501247938,0.26234545224339956,-1.5873657519214601,-1.6473598175363953,-0.6318463303111566,1.0543085403294332,1.246304011828692,-0.21144922670508443,-0.23589096320737366,-0.09395250356688174,0.0707249247579655,-0.6400009901335901,1.351331165453697,-1.1313727968282254,-0.7647615927907178,-0.8079994094244998,1.5607430028744744,-0.3620125847729232,1.6051928605447752,-0.2644213070910263,0.15301454089392363,-1.384940783808886,0.9569667644612428,1.0098032757966096,0.05981939777514478,-0.4063321066711721,-0.10489950599416006,0.4405417746248789,1.5885797975649483,-0.2123877545633354,0.7896146361235454,-0.25786433842463086,1.1631727044468283,0.8893538473792952,-0.605977484901111,-2.2759457922899493,-0.30667550908424834,-0.8241615883865696,-0.812670431832529,0.33268905472604193,0.23563136424290237,0.4578026499023031,0.7315995846678012,-1.7286130927550594,-0.24475898061728274,0.04932267359327156,0.09850376427288944,0.886720450911329,-0.17577082586457415,1.6183992637484683,1.1184599011461407,1.0592831356401937,0.04909605784286992,0.0490338970942655,-1.5413799533062233,-0.6846783116080516,0.28934161302670924,-1.5812189138833908,-0.551058815311809,-0.14210452149120745,1.132681638282884,-1.4845447509762713,0.7275497759426459,-0.9247206532943602,-0.10781768148384203],\"y\":[0.6951956068812144,0.49725417558382046,0.6087143272319379,0.10112467773010585,2.323613568869922,-0.24534012165281577,-1.588981039176941,0.5649426863896487,-1.061003385941566,1.046139137247561,-1.429030819194681,-0.6721985390439421,0.7446491237600207,-1.194499495828478,-0.22504824095902065,-0.3974007034506707,1.536542067477092,-0.39250064016403163,0.9523164329683868,-1.8573519129338643,1.3006210941603213,-0.5528283250328027,-0.6977698963321508,1.2942172706712607,-1.1549871293902265,0.25272725615392627,0.8445125936973771,-2.4699306276453563,-0.31190850791083896,1.2259265317416355,0.48418414451155,0.5649252815461252,0.14138713508186163,1.938355457479299,-1.0465970402655622,-1.3816713931096485,-0.8790836945117418,-0.8016568421156806,-0.03807425182074729,1.512011476372494,-0.358844527962155,1.7906226715812434,0.696488767895237,-0.2677337901158682,1.3042993099547446,-0.32026858309367945,-0.07720683218039519,-0.634742010310217,0.7603041907311168,1.5805588555198649,-0.1989611304897986,0.7220453059317153,0.5692340768872667,-0.25156765622962063,0.8092358452271889,1.0885470599932183,0.45062822224819526,-0.013762313193872652,0.5912886501401902,-0.7423096218981617,0.9382882421920437,0.08293536258955617,0.8345857880588031,-0.716795511109764,0.36263691765918415,-0.9270008736821341,-0.6838395828920901,0.8694508382211932,-0.2347351263121534,1.8793424244484218,-1.269768586915114,0.5573369027699515,0.6817476354328097,-0.20346366467539387,0.21314857289525754,-0.30799604434693434,0.366574150799827,2.171757651011116,-0.8840881683355313,-0.1636449694274178,-1.266223369167309,-0.7745833709493388,0.6283851977513192,1.2378303894503486,0.5122696947240207,-0.9102284691228753,-0.619141770208701,1.0581714210855506,-1.7158268206733926,-1.3392909615359103,-0.1580198932356279,0.711646018189122,0.8383109344980673,-0.2850035136230021,0.007760260934558799,0.3489907751758173,0.06754387559919373,-1.6012150819873734,0.6283008119768948,-0.7677935023498129],\"type\":\"scatter\"}],                        {\"legend\":{\"bgcolor\":\"#F5F6F9\",\"font\":{\"color\":\"#4D5663\"}},\"paper_bgcolor\":\"#F5F6F9\",\"plot_bgcolor\":\"#F5F6F9\",\"template\":{\"data\":{\"barpolar\":[{\"marker\":{\"line\":{\"color\":\"#E5ECF6\",\"width\":0.5},\"pattern\":{\"fillmode\":\"overlay\",\"size\":10,\"solidity\":0.2}},\"type\":\"barpolar\"}],\"bar\":[{\"error_x\":{\"color\":\"#2a3f5f\"},\"error_y\":{\"color\":\"#2a3f5f\"},\"marker\":{\"line\":{\"color\":\"#E5ECF6\",\"width\":0.5},\"pattern\":{\"fillmode\":\"overlay\",\"size\":10,\"solidity\":0.2}},\"type\":\"bar\"}],\"carpet\":[{\"aaxis\":{\"endlinecolor\":\"#2a3f5f\",\"gridcolor\":\"white\",\"linecolor\":\"white\",\"minorgridcolor\":\"white\",\"startlinecolor\":\"#2a3f5f\"},\"baxis\":{\"endlinecolor\":\"#2a3f5f\",\"gridcolor\":\"white\",\"linecolor\":\"white\",\"minorgridcolor\":\"white\",\"startlinecolor\":\"#2a3f5f\"},\"type\":\"carpet\"}],\"choropleth\":[{\"colorbar\":{\"outlinewidth\":0,\"ticks\":\"\"},\"type\":\"choropleth\"}],\"contourcarpet\":[{\"colorbar\":{\"outlinewidth\":0,\"ticks\":\"\"},\"type\":\"contourcarpet\"}],\"contour\":[{\"colorbar\":{\"outlinewidth\":0,\"ticks\":\"\"},\"colorscale\":[[0.0,\"#0d0887\"],[0.1111111111111111,\"#46039f\"],[0.2222222222222222,\"#7201a8\"],[0.3333333333333333,\"#9c179e\"],[0.4444444444444444,\"#bd3786\"],[0.5555555555555556,\"#d8576b\"],[0.6666666666666666,\"#ed7953\"],[0.7777777777777778,\"#fb9f3a\"],[0.8888888888888888,\"#fdca26\"],[1.0,\"#f0f921\"]],\"type\":\"contour\"}],\"heatmapgl\":[{\"colorbar\":{\"outlinewidth\":0,\"ticks\":\"\"},\"colorscale\":[[0.0,\"#0d0887\"],[0.1111111111111111,\"#46039f\"],[0.2222222222222222,\"#7201a8\"],[0.3333333333333333,\"#9c179e\"],[0.4444444444444444,\"#bd3786\"],[0.5555555555555556,\"#d8576b\"],[0.6666666666666666,\"#ed7953\"],[0.7777777777777778,\"#fb9f3a\"],[0.8888888888888888,\"#fdca26\"],[1.0,\"#f0f921\"]],\"type\":\"heatmapgl\"}],\"heatmap\":[{\"colorbar\":{\"outlinewidth\":0,\"ticks\":\"\"},\"colorscale\":[[0.0,\"#0d0887\"],[0.1111111111111111,\"#46039f\"],[0.2222222222222222,\"#7201a8\"],[0.3333333333333333,\"#9c179e\"],[0.4444444444444444,\"#bd3786\"],[0.5555555555555556,\"#d8576b\"],[0.6666666666666666,\"#ed7953\"],[0.7777777777777778,\"#fb9f3a\"],[0.8888888888888888,\"#fdca26\"],[1.0,\"#f0f921\"]],\"type\":\"heatmap\"}],\"histogram2dcontour\":[{\"colorbar\":{\"outlinewidth\":0,\"ticks\":\"\"},\"colorscale\":[[0.0,\"#0d0887\"],[0.1111111111111111,\"#46039f\"],[0.2222222222222222,\"#7201a8\"],[0.3333333333333333,\"#9c179e\"],[0.4444444444444444,\"#bd3786\"],[0.5555555555555556,\"#d8576b\"],[0.6666666666666666,\"#ed7953\"],[0.7777777777777778,\"#fb9f3a\"],[0.8888888888888888,\"#fdca26\"],[1.0,\"#f0f921\"]],\"type\":\"histogram2dcontour\"}],\"histogram2d\":[{\"colorbar\":{\"outlinewidth\":0,\"ticks\":\"\"},\"colorscale\":[[0.0,\"#0d0887\"],[0.1111111111111111,\"#46039f\"],[0.2222222222222222,\"#7201a8\"],[0.3333333333333333,\"#9c179e\"],[0.4444444444444444,\"#bd3786\"],[0.5555555555555556,\"#d8576b\"],[0.6666666666666666,\"#ed7953\"],[0.7777777777777778,\"#fb9f3a\"],[0.8888888888888888,\"#fdca26\"],[1.0,\"#f0f921\"]],\"type\":\"histogram2d\"}],\"histogram\":[{\"marker\":{\"pattern\":{\"fillmode\":\"overlay\",\"size\":10,\"solidity\":0.2}},\"type\":\"histogram\"}],\"mesh3d\":[{\"colorbar\":{\"outlinewidth\":0,\"ticks\":\"\"},\"type\":\"mesh3d\"}],\"parcoords\":[{\"line\":{\"colorbar\":{\"outlinewidth\":0,\"ticks\":\"\"}},\"type\":\"parcoords\"}],\"pie\":[{\"automargin\":true,\"type\":\"pie\"}],\"scatter3d\":[{\"line\":{\"colorbar\":{\"outlinewidth\":0,\"ticks\":\"\"}},\"marker\":{\"colorbar\":{\"outlinewidth\":0,\"ticks\":\"\"}},\"type\":\"scatter3d\"}],\"scattercarpet\":[{\"marker\":{\"colorbar\":{\"outlinewidth\":0,\"ticks\":\"\"}},\"type\":\"scattercarpet\"}],\"scattergeo\":[{\"marker\":{\"colorbar\":{\"outlinewidth\":0,\"ticks\":\"\"}},\"type\":\"scattergeo\"}],\"scattergl\":[{\"marker\":{\"colorbar\":{\"outlinewidth\":0,\"ticks\":\"\"}},\"type\":\"scattergl\"}],\"scattermapbox\":[{\"marker\":{\"colorbar\":{\"outlinewidth\":0,\"ticks\":\"\"}},\"type\":\"scattermapbox\"}],\"scatterpolargl\":[{\"marker\":{\"colorbar\":{\"outlinewidth\":0,\"ticks\":\"\"}},\"type\":\"scatterpolargl\"}],\"scatterpolar\":[{\"marker\":{\"colorbar\":{\"outlinewidth\":0,\"ticks\":\"\"}},\"type\":\"scatterpolar\"}],\"scatter\":[{\"fillpattern\":{\"fillmode\":\"overlay\",\"size\":10,\"solidity\":0.2},\"type\":\"scatter\"}],\"scatterternary\":[{\"marker\":{\"colorbar\":{\"outlinewidth\":0,\"ticks\":\"\"}},\"type\":\"scatterternary\"}],\"surface\":[{\"colorbar\":{\"outlinewidth\":0,\"ticks\":\"\"},\"colorscale\":[[0.0,\"#0d0887\"],[0.1111111111111111,\"#46039f\"],[0.2222222222222222,\"#7201a8\"],[0.3333333333333333,\"#9c179e\"],[0.4444444444444444,\"#bd3786\"],[0.5555555555555556,\"#d8576b\"],[0.6666666666666666,\"#ed7953\"],[0.7777777777777778,\"#fb9f3a\"],[0.8888888888888888,\"#fdca26\"],[1.0,\"#f0f921\"]],\"type\":\"surface\"}],\"table\":[{\"cells\":{\"fill\":{\"color\":\"#EBF0F8\"},\"line\":{\"color\":\"white\"}},\"header\":{\"fill\":{\"color\":\"#C8D4E3\"},\"line\":{\"color\":\"white\"}},\"type\":\"table\"}]},\"layout\":{\"annotationdefaults\":{\"arrowcolor\":\"#2a3f5f\",\"arrowhead\":0,\"arrowwidth\":1},\"autotypenumbers\":\"strict\",\"coloraxis\":{\"colorbar\":{\"outlinewidth\":0,\"ticks\":\"\"}},\"colorscale\":{\"diverging\":[[0,\"#8e0152\"],[0.1,\"#c51b7d\"],[0.2,\"#de77ae\"],[0.3,\"#f1b6da\"],[0.4,\"#fde0ef\"],[0.5,\"#f7f7f7\"],[0.6,\"#e6f5d0\"],[0.7,\"#b8e186\"],[0.8,\"#7fbc41\"],[0.9,\"#4d9221\"],[1,\"#276419\"]],\"sequential\":[[0.0,\"#0d0887\"],[0.1111111111111111,\"#46039f\"],[0.2222222222222222,\"#7201a8\"],[0.3333333333333333,\"#9c179e\"],[0.4444444444444444,\"#bd3786\"],[0.5555555555555556,\"#d8576b\"],[0.6666666666666666,\"#ed7953\"],[0.7777777777777778,\"#fb9f3a\"],[0.8888888888888888,\"#fdca26\"],[1.0,\"#f0f921\"]],\"sequentialminus\":[[0.0,\"#0d0887\"],[0.1111111111111111,\"#46039f\"],[0.2222222222222222,\"#7201a8\"],[0.3333333333333333,\"#9c179e\"],[0.4444444444444444,\"#bd3786\"],[0.5555555555555556,\"#d8576b\"],[0.6666666666666666,\"#ed7953\"],[0.7777777777777778,\"#fb9f3a\"],[0.8888888888888888,\"#fdca26\"],[1.0,\"#f0f921\"]]},\"colorway\":[\"#636efa\",\"#EF553B\",\"#00cc96\",\"#ab63fa\",\"#FFA15A\",\"#19d3f3\",\"#FF6692\",\"#B6E880\",\"#FF97FF\",\"#FECB52\"],\"font\":{\"color\":\"#2a3f5f\"},\"geo\":{\"bgcolor\":\"white\",\"lakecolor\":\"white\",\"landcolor\":\"#E5ECF6\",\"showlakes\":true,\"showland\":true,\"subunitcolor\":\"white\"},\"hoverlabel\":{\"align\":\"left\"},\"hovermode\":\"closest\",\"mapbox\":{\"style\":\"light\"},\"paper_bgcolor\":\"white\",\"plot_bgcolor\":\"#E5ECF6\",\"polar\":{\"angularaxis\":{\"gridcolor\":\"white\",\"linecolor\":\"white\",\"ticks\":\"\"},\"bgcolor\":\"#E5ECF6\",\"radialaxis\":{\"gridcolor\":\"white\",\"linecolor\":\"white\",\"ticks\":\"\"}},\"scene\":{\"xaxis\":{\"backgroundcolor\":\"#E5ECF6\",\"gridcolor\":\"white\",\"gridwidth\":2,\"linecolor\":\"white\",\"showbackground\":true,\"ticks\":\"\",\"zerolinecolor\":\"white\"},\"yaxis\":{\"backgroundcolor\":\"#E5ECF6\",\"gridcolor\":\"white\",\"gridwidth\":2,\"linecolor\":\"white\",\"showbackground\":true,\"ticks\":\"\",\"zerolinecolor\":\"white\"},\"zaxis\":{\"backgroundcolor\":\"#E5ECF6\",\"gridcolor\":\"white\",\"gridwidth\":2,\"linecolor\":\"white\",\"showbackground\":true,\"ticks\":\"\",\"zerolinecolor\":\"white\"}},\"shapedefaults\":{\"line\":{\"color\":\"#2a3f5f\"}},\"ternary\":{\"aaxis\":{\"gridcolor\":\"white\",\"linecolor\":\"white\",\"ticks\":\"\"},\"baxis\":{\"gridcolor\":\"white\",\"linecolor\":\"white\",\"ticks\":\"\"},\"bgcolor\":\"#E5ECF6\",\"caxis\":{\"gridcolor\":\"white\",\"linecolor\":\"white\",\"ticks\":\"\"}},\"title\":{\"x\":0.05},\"xaxis\":{\"automargin\":true,\"gridcolor\":\"white\",\"linecolor\":\"white\",\"ticks\":\"\",\"title\":{\"standoff\":15},\"zerolinecolor\":\"white\",\"zerolinewidth\":2},\"yaxis\":{\"automargin\":true,\"gridcolor\":\"white\",\"linecolor\":\"white\",\"ticks\":\"\",\"title\":{\"standoff\":15},\"zerolinecolor\":\"white\",\"zerolinewidth\":2}}},\"title\":{\"font\":{\"color\":\"#4D5663\"}},\"xaxis\":{\"gridcolor\":\"#E1E5ED\",\"showgrid\":true,\"tickfont\":{\"color\":\"#4D5663\"},\"title\":{\"font\":{\"color\":\"#4D5663\"},\"text\":\"\"},\"zerolinecolor\":\"#E1E5ED\"},\"yaxis\":{\"gridcolor\":\"#E1E5ED\",\"showgrid\":true,\"tickfont\":{\"color\":\"#4D5663\"},\"title\":{\"font\":{\"color\":\"#4D5663\"},\"text\":\"\"},\"zerolinecolor\":\"#E1E5ED\"}},                        {\"showLink\": true, \"linkText\": \"Export to plot.ly\", \"plotlyServerURL\": \"https://plot.ly\", \"responsive\": true}                    ).then(function(){\n",
       "                            \n",
       "var gd = document.getElementById('6d21c5ed-3d20-41e3-9c28-727f6106551c');\n",
       "var x = new MutationObserver(function (mutations, observer) {{\n",
       "        var display = window.getComputedStyle(gd).display;\n",
       "        if (!display || display === 'none') {{\n",
       "            console.log([gd, 'removed!']);\n",
       "            Plotly.purge(gd);\n",
       "            observer.disconnect();\n",
       "        }}\n",
       "}});\n",
       "\n",
       "// Listen for the removal of the full notebook cells\n",
       "var notebookContainer = gd.closest('#notebook-container');\n",
       "if (notebookContainer) {{\n",
       "    x.observe(notebookContainer, {childList: true});\n",
       "}}\n",
       "\n",
       "// Listen for the clearing of the current output cell\n",
       "var outputEl = gd.closest('.output');\n",
       "if (outputEl) {{\n",
       "    x.observe(outputEl, {childList: true});\n",
       "}}\n",
       "\n",
       "                        })                };                });            </script>        </div>"
      ]
     },
     "metadata": {},
     "output_type": "display_data"
    }
   ],
   "source": [
    "df.iplot(kind='scatter',x='A',y='B',mode='markers',size=10)"
   ]
  },
  {
   "cell_type": "markdown",
   "metadata": {},
   "source": [
    "## Bar Plots"
   ]
  },
  {
   "cell_type": "code",
   "execution_count": 11,
   "metadata": {},
   "outputs": [
    {
     "data": {
      "application/vnd.plotly.v1+json": {
       "config": {
        "linkText": "Export to plot.ly",
        "plotlyServerURL": "https://plot.ly",
        "showLink": true
       },
       "data": [
        {
         "marker": {
          "color": "rgba(255, 153, 51, 0.6)",
          "line": {
           "color": "rgba(255, 153, 51, 1.0)",
           "width": 1
          }
         },
         "name": "Values",
         "orientation": "v",
         "text": "",
         "type": "bar",
         "x": [
          "A",
          "B",
          "C"
         ],
         "y": [
          32,
          43,
          50
         ]
        }
       ],
       "layout": {
        "legend": {
         "bgcolor": "#F5F6F9",
         "font": {
          "color": "#4D5663"
         }
        },
        "paper_bgcolor": "#F5F6F9",
        "plot_bgcolor": "#F5F6F9",
        "template": {
         "data": {
          "bar": [
           {
            "error_x": {
             "color": "#2a3f5f"
            },
            "error_y": {
             "color": "#2a3f5f"
            },
            "marker": {
             "line": {
              "color": "#E5ECF6",
              "width": 0.5
             },
             "pattern": {
              "fillmode": "overlay",
              "size": 10,
              "solidity": 0.2
             }
            },
            "type": "bar"
           }
          ],
          "barpolar": [
           {
            "marker": {
             "line": {
              "color": "#E5ECF6",
              "width": 0.5
             },
             "pattern": {
              "fillmode": "overlay",
              "size": 10,
              "solidity": 0.2
             }
            },
            "type": "barpolar"
           }
          ],
          "carpet": [
           {
            "aaxis": {
             "endlinecolor": "#2a3f5f",
             "gridcolor": "white",
             "linecolor": "white",
             "minorgridcolor": "white",
             "startlinecolor": "#2a3f5f"
            },
            "baxis": {
             "endlinecolor": "#2a3f5f",
             "gridcolor": "white",
             "linecolor": "white",
             "minorgridcolor": "white",
             "startlinecolor": "#2a3f5f"
            },
            "type": "carpet"
           }
          ],
          "choropleth": [
           {
            "colorbar": {
             "outlinewidth": 0,
             "ticks": ""
            },
            "type": "choropleth"
           }
          ],
          "contour": [
           {
            "colorbar": {
             "outlinewidth": 0,
             "ticks": ""
            },
            "colorscale": [
             [
              0,
              "#0d0887"
             ],
             [
              0.1111111111111111,
              "#46039f"
             ],
             [
              0.2222222222222222,
              "#7201a8"
             ],
             [
              0.3333333333333333,
              "#9c179e"
             ],
             [
              0.4444444444444444,
              "#bd3786"
             ],
             [
              0.5555555555555556,
              "#d8576b"
             ],
             [
              0.6666666666666666,
              "#ed7953"
             ],
             [
              0.7777777777777778,
              "#fb9f3a"
             ],
             [
              0.8888888888888888,
              "#fdca26"
             ],
             [
              1,
              "#f0f921"
             ]
            ],
            "type": "contour"
           }
          ],
          "contourcarpet": [
           {
            "colorbar": {
             "outlinewidth": 0,
             "ticks": ""
            },
            "type": "contourcarpet"
           }
          ],
          "heatmap": [
           {
            "colorbar": {
             "outlinewidth": 0,
             "ticks": ""
            },
            "colorscale": [
             [
              0,
              "#0d0887"
             ],
             [
              0.1111111111111111,
              "#46039f"
             ],
             [
              0.2222222222222222,
              "#7201a8"
             ],
             [
              0.3333333333333333,
              "#9c179e"
             ],
             [
              0.4444444444444444,
              "#bd3786"
             ],
             [
              0.5555555555555556,
              "#d8576b"
             ],
             [
              0.6666666666666666,
              "#ed7953"
             ],
             [
              0.7777777777777778,
              "#fb9f3a"
             ],
             [
              0.8888888888888888,
              "#fdca26"
             ],
             [
              1,
              "#f0f921"
             ]
            ],
            "type": "heatmap"
           }
          ],
          "heatmapgl": [
           {
            "colorbar": {
             "outlinewidth": 0,
             "ticks": ""
            },
            "colorscale": [
             [
              0,
              "#0d0887"
             ],
             [
              0.1111111111111111,
              "#46039f"
             ],
             [
              0.2222222222222222,
              "#7201a8"
             ],
             [
              0.3333333333333333,
              "#9c179e"
             ],
             [
              0.4444444444444444,
              "#bd3786"
             ],
             [
              0.5555555555555556,
              "#d8576b"
             ],
             [
              0.6666666666666666,
              "#ed7953"
             ],
             [
              0.7777777777777778,
              "#fb9f3a"
             ],
             [
              0.8888888888888888,
              "#fdca26"
             ],
             [
              1,
              "#f0f921"
             ]
            ],
            "type": "heatmapgl"
           }
          ],
          "histogram": [
           {
            "marker": {
             "pattern": {
              "fillmode": "overlay",
              "size": 10,
              "solidity": 0.2
             }
            },
            "type": "histogram"
           }
          ],
          "histogram2d": [
           {
            "colorbar": {
             "outlinewidth": 0,
             "ticks": ""
            },
            "colorscale": [
             [
              0,
              "#0d0887"
             ],
             [
              0.1111111111111111,
              "#46039f"
             ],
             [
              0.2222222222222222,
              "#7201a8"
             ],
             [
              0.3333333333333333,
              "#9c179e"
             ],
             [
              0.4444444444444444,
              "#bd3786"
             ],
             [
              0.5555555555555556,
              "#d8576b"
             ],
             [
              0.6666666666666666,
              "#ed7953"
             ],
             [
              0.7777777777777778,
              "#fb9f3a"
             ],
             [
              0.8888888888888888,
              "#fdca26"
             ],
             [
              1,
              "#f0f921"
             ]
            ],
            "type": "histogram2d"
           }
          ],
          "histogram2dcontour": [
           {
            "colorbar": {
             "outlinewidth": 0,
             "ticks": ""
            },
            "colorscale": [
             [
              0,
              "#0d0887"
             ],
             [
              0.1111111111111111,
              "#46039f"
             ],
             [
              0.2222222222222222,
              "#7201a8"
             ],
             [
              0.3333333333333333,
              "#9c179e"
             ],
             [
              0.4444444444444444,
              "#bd3786"
             ],
             [
              0.5555555555555556,
              "#d8576b"
             ],
             [
              0.6666666666666666,
              "#ed7953"
             ],
             [
              0.7777777777777778,
              "#fb9f3a"
             ],
             [
              0.8888888888888888,
              "#fdca26"
             ],
             [
              1,
              "#f0f921"
             ]
            ],
            "type": "histogram2dcontour"
           }
          ],
          "mesh3d": [
           {
            "colorbar": {
             "outlinewidth": 0,
             "ticks": ""
            },
            "type": "mesh3d"
           }
          ],
          "parcoords": [
           {
            "line": {
             "colorbar": {
              "outlinewidth": 0,
              "ticks": ""
             }
            },
            "type": "parcoords"
           }
          ],
          "pie": [
           {
            "automargin": true,
            "type": "pie"
           }
          ],
          "scatter": [
           {
            "fillpattern": {
             "fillmode": "overlay",
             "size": 10,
             "solidity": 0.2
            },
            "type": "scatter"
           }
          ],
          "scatter3d": [
           {
            "line": {
             "colorbar": {
              "outlinewidth": 0,
              "ticks": ""
             }
            },
            "marker": {
             "colorbar": {
              "outlinewidth": 0,
              "ticks": ""
             }
            },
            "type": "scatter3d"
           }
          ],
          "scattercarpet": [
           {
            "marker": {
             "colorbar": {
              "outlinewidth": 0,
              "ticks": ""
             }
            },
            "type": "scattercarpet"
           }
          ],
          "scattergeo": [
           {
            "marker": {
             "colorbar": {
              "outlinewidth": 0,
              "ticks": ""
             }
            },
            "type": "scattergeo"
           }
          ],
          "scattergl": [
           {
            "marker": {
             "colorbar": {
              "outlinewidth": 0,
              "ticks": ""
             }
            },
            "type": "scattergl"
           }
          ],
          "scattermapbox": [
           {
            "marker": {
             "colorbar": {
              "outlinewidth": 0,
              "ticks": ""
             }
            },
            "type": "scattermapbox"
           }
          ],
          "scatterpolar": [
           {
            "marker": {
             "colorbar": {
              "outlinewidth": 0,
              "ticks": ""
             }
            },
            "type": "scatterpolar"
           }
          ],
          "scatterpolargl": [
           {
            "marker": {
             "colorbar": {
              "outlinewidth": 0,
              "ticks": ""
             }
            },
            "type": "scatterpolargl"
           }
          ],
          "scatterternary": [
           {
            "marker": {
             "colorbar": {
              "outlinewidth": 0,
              "ticks": ""
             }
            },
            "type": "scatterternary"
           }
          ],
          "surface": [
           {
            "colorbar": {
             "outlinewidth": 0,
             "ticks": ""
            },
            "colorscale": [
             [
              0,
              "#0d0887"
             ],
             [
              0.1111111111111111,
              "#46039f"
             ],
             [
              0.2222222222222222,
              "#7201a8"
             ],
             [
              0.3333333333333333,
              "#9c179e"
             ],
             [
              0.4444444444444444,
              "#bd3786"
             ],
             [
              0.5555555555555556,
              "#d8576b"
             ],
             [
              0.6666666666666666,
              "#ed7953"
             ],
             [
              0.7777777777777778,
              "#fb9f3a"
             ],
             [
              0.8888888888888888,
              "#fdca26"
             ],
             [
              1,
              "#f0f921"
             ]
            ],
            "type": "surface"
           }
          ],
          "table": [
           {
            "cells": {
             "fill": {
              "color": "#EBF0F8"
             },
             "line": {
              "color": "white"
             }
            },
            "header": {
             "fill": {
              "color": "#C8D4E3"
             },
             "line": {
              "color": "white"
             }
            },
            "type": "table"
           }
          ]
         },
         "layout": {
          "annotationdefaults": {
           "arrowcolor": "#2a3f5f",
           "arrowhead": 0,
           "arrowwidth": 1
          },
          "autotypenumbers": "strict",
          "coloraxis": {
           "colorbar": {
            "outlinewidth": 0,
            "ticks": ""
           }
          },
          "colorscale": {
           "diverging": [
            [
             0,
             "#8e0152"
            ],
            [
             0.1,
             "#c51b7d"
            ],
            [
             0.2,
             "#de77ae"
            ],
            [
             0.3,
             "#f1b6da"
            ],
            [
             0.4,
             "#fde0ef"
            ],
            [
             0.5,
             "#f7f7f7"
            ],
            [
             0.6,
             "#e6f5d0"
            ],
            [
             0.7,
             "#b8e186"
            ],
            [
             0.8,
             "#7fbc41"
            ],
            [
             0.9,
             "#4d9221"
            ],
            [
             1,
             "#276419"
            ]
           ],
           "sequential": [
            [
             0,
             "#0d0887"
            ],
            [
             0.1111111111111111,
             "#46039f"
            ],
            [
             0.2222222222222222,
             "#7201a8"
            ],
            [
             0.3333333333333333,
             "#9c179e"
            ],
            [
             0.4444444444444444,
             "#bd3786"
            ],
            [
             0.5555555555555556,
             "#d8576b"
            ],
            [
             0.6666666666666666,
             "#ed7953"
            ],
            [
             0.7777777777777778,
             "#fb9f3a"
            ],
            [
             0.8888888888888888,
             "#fdca26"
            ],
            [
             1,
             "#f0f921"
            ]
           ],
           "sequentialminus": [
            [
             0,
             "#0d0887"
            ],
            [
             0.1111111111111111,
             "#46039f"
            ],
            [
             0.2222222222222222,
             "#7201a8"
            ],
            [
             0.3333333333333333,
             "#9c179e"
            ],
            [
             0.4444444444444444,
             "#bd3786"
            ],
            [
             0.5555555555555556,
             "#d8576b"
            ],
            [
             0.6666666666666666,
             "#ed7953"
            ],
            [
             0.7777777777777778,
             "#fb9f3a"
            ],
            [
             0.8888888888888888,
             "#fdca26"
            ],
            [
             1,
             "#f0f921"
            ]
           ]
          },
          "colorway": [
           "#636efa",
           "#EF553B",
           "#00cc96",
           "#ab63fa",
           "#FFA15A",
           "#19d3f3",
           "#FF6692",
           "#B6E880",
           "#FF97FF",
           "#FECB52"
          ],
          "font": {
           "color": "#2a3f5f"
          },
          "geo": {
           "bgcolor": "white",
           "lakecolor": "white",
           "landcolor": "#E5ECF6",
           "showlakes": true,
           "showland": true,
           "subunitcolor": "white"
          },
          "hoverlabel": {
           "align": "left"
          },
          "hovermode": "closest",
          "mapbox": {
           "style": "light"
          },
          "paper_bgcolor": "white",
          "plot_bgcolor": "#E5ECF6",
          "polar": {
           "angularaxis": {
            "gridcolor": "white",
            "linecolor": "white",
            "ticks": ""
           },
           "bgcolor": "#E5ECF6",
           "radialaxis": {
            "gridcolor": "white",
            "linecolor": "white",
            "ticks": ""
           }
          },
          "scene": {
           "xaxis": {
            "backgroundcolor": "#E5ECF6",
            "gridcolor": "white",
            "gridwidth": 2,
            "linecolor": "white",
            "showbackground": true,
            "ticks": "",
            "zerolinecolor": "white"
           },
           "yaxis": {
            "backgroundcolor": "#E5ECF6",
            "gridcolor": "white",
            "gridwidth": 2,
            "linecolor": "white",
            "showbackground": true,
            "ticks": "",
            "zerolinecolor": "white"
           },
           "zaxis": {
            "backgroundcolor": "#E5ECF6",
            "gridcolor": "white",
            "gridwidth": 2,
            "linecolor": "white",
            "showbackground": true,
            "ticks": "",
            "zerolinecolor": "white"
           }
          },
          "shapedefaults": {
           "line": {
            "color": "#2a3f5f"
           }
          },
          "ternary": {
           "aaxis": {
            "gridcolor": "white",
            "linecolor": "white",
            "ticks": ""
           },
           "baxis": {
            "gridcolor": "white",
            "linecolor": "white",
            "ticks": ""
           },
           "bgcolor": "#E5ECF6",
           "caxis": {
            "gridcolor": "white",
            "linecolor": "white",
            "ticks": ""
           }
          },
          "title": {
           "x": 0.05
          },
          "xaxis": {
           "automargin": true,
           "gridcolor": "white",
           "linecolor": "white",
           "ticks": "",
           "title": {
            "standoff": 15
           },
           "zerolinecolor": "white",
           "zerolinewidth": 2
          },
          "yaxis": {
           "automargin": true,
           "gridcolor": "white",
           "linecolor": "white",
           "ticks": "",
           "title": {
            "standoff": 15
           },
           "zerolinecolor": "white",
           "zerolinewidth": 2
          }
         }
        },
        "title": {
         "font": {
          "color": "#4D5663"
         }
        },
        "xaxis": {
         "gridcolor": "#E1E5ED",
         "showgrid": true,
         "tickfont": {
          "color": "#4D5663"
         },
         "title": {
          "font": {
           "color": "#4D5663"
          },
          "text": ""
         },
         "zerolinecolor": "#E1E5ED"
        },
        "yaxis": {
         "gridcolor": "#E1E5ED",
         "showgrid": true,
         "tickfont": {
          "color": "#4D5663"
         },
         "title": {
          "font": {
           "color": "#4D5663"
          },
          "text": ""
         },
         "zerolinecolor": "#E1E5ED"
        }
       }
      },
      "text/html": [
       "<div>                            <div id=\"b80f7bbe-ae52-4627-9a37-aad1a14867b1\" class=\"plotly-graph-div\" style=\"height:525px; width:100%;\"></div>            <script type=\"text/javascript\">                require([\"plotly\"], function(Plotly) {                    window.PLOTLYENV=window.PLOTLYENV || {};\n",
       "                    window.PLOTLYENV.BASE_URL='https://plot.ly';                                    if (document.getElementById(\"b80f7bbe-ae52-4627-9a37-aad1a14867b1\")) {                    Plotly.newPlot(                        \"b80f7bbe-ae52-4627-9a37-aad1a14867b1\",                        [{\"marker\":{\"color\":\"rgba(255, 153, 51, 0.6)\",\"line\":{\"color\":\"rgba(255, 153, 51, 1.0)\",\"width\":1}},\"name\":\"Values\",\"orientation\":\"v\",\"text\":\"\",\"x\":[\"A\",\"B\",\"C\"],\"y\":[32,43,50],\"type\":\"bar\"}],                        {\"legend\":{\"bgcolor\":\"#F5F6F9\",\"font\":{\"color\":\"#4D5663\"}},\"paper_bgcolor\":\"#F5F6F9\",\"plot_bgcolor\":\"#F5F6F9\",\"template\":{\"data\":{\"barpolar\":[{\"marker\":{\"line\":{\"color\":\"#E5ECF6\",\"width\":0.5},\"pattern\":{\"fillmode\":\"overlay\",\"size\":10,\"solidity\":0.2}},\"type\":\"barpolar\"}],\"bar\":[{\"error_x\":{\"color\":\"#2a3f5f\"},\"error_y\":{\"color\":\"#2a3f5f\"},\"marker\":{\"line\":{\"color\":\"#E5ECF6\",\"width\":0.5},\"pattern\":{\"fillmode\":\"overlay\",\"size\":10,\"solidity\":0.2}},\"type\":\"bar\"}],\"carpet\":[{\"aaxis\":{\"endlinecolor\":\"#2a3f5f\",\"gridcolor\":\"white\",\"linecolor\":\"white\",\"minorgridcolor\":\"white\",\"startlinecolor\":\"#2a3f5f\"},\"baxis\":{\"endlinecolor\":\"#2a3f5f\",\"gridcolor\":\"white\",\"linecolor\":\"white\",\"minorgridcolor\":\"white\",\"startlinecolor\":\"#2a3f5f\"},\"type\":\"carpet\"}],\"choropleth\":[{\"colorbar\":{\"outlinewidth\":0,\"ticks\":\"\"},\"type\":\"choropleth\"}],\"contourcarpet\":[{\"colorbar\":{\"outlinewidth\":0,\"ticks\":\"\"},\"type\":\"contourcarpet\"}],\"contour\":[{\"colorbar\":{\"outlinewidth\":0,\"ticks\":\"\"},\"colorscale\":[[0.0,\"#0d0887\"],[0.1111111111111111,\"#46039f\"],[0.2222222222222222,\"#7201a8\"],[0.3333333333333333,\"#9c179e\"],[0.4444444444444444,\"#bd3786\"],[0.5555555555555556,\"#d8576b\"],[0.6666666666666666,\"#ed7953\"],[0.7777777777777778,\"#fb9f3a\"],[0.8888888888888888,\"#fdca26\"],[1.0,\"#f0f921\"]],\"type\":\"contour\"}],\"heatmapgl\":[{\"colorbar\":{\"outlinewidth\":0,\"ticks\":\"\"},\"colorscale\":[[0.0,\"#0d0887\"],[0.1111111111111111,\"#46039f\"],[0.2222222222222222,\"#7201a8\"],[0.3333333333333333,\"#9c179e\"],[0.4444444444444444,\"#bd3786\"],[0.5555555555555556,\"#d8576b\"],[0.6666666666666666,\"#ed7953\"],[0.7777777777777778,\"#fb9f3a\"],[0.8888888888888888,\"#fdca26\"],[1.0,\"#f0f921\"]],\"type\":\"heatmapgl\"}],\"heatmap\":[{\"colorbar\":{\"outlinewidth\":0,\"ticks\":\"\"},\"colorscale\":[[0.0,\"#0d0887\"],[0.1111111111111111,\"#46039f\"],[0.2222222222222222,\"#7201a8\"],[0.3333333333333333,\"#9c179e\"],[0.4444444444444444,\"#bd3786\"],[0.5555555555555556,\"#d8576b\"],[0.6666666666666666,\"#ed7953\"],[0.7777777777777778,\"#fb9f3a\"],[0.8888888888888888,\"#fdca26\"],[1.0,\"#f0f921\"]],\"type\":\"heatmap\"}],\"histogram2dcontour\":[{\"colorbar\":{\"outlinewidth\":0,\"ticks\":\"\"},\"colorscale\":[[0.0,\"#0d0887\"],[0.1111111111111111,\"#46039f\"],[0.2222222222222222,\"#7201a8\"],[0.3333333333333333,\"#9c179e\"],[0.4444444444444444,\"#bd3786\"],[0.5555555555555556,\"#d8576b\"],[0.6666666666666666,\"#ed7953\"],[0.7777777777777778,\"#fb9f3a\"],[0.8888888888888888,\"#fdca26\"],[1.0,\"#f0f921\"]],\"type\":\"histogram2dcontour\"}],\"histogram2d\":[{\"colorbar\":{\"outlinewidth\":0,\"ticks\":\"\"},\"colorscale\":[[0.0,\"#0d0887\"],[0.1111111111111111,\"#46039f\"],[0.2222222222222222,\"#7201a8\"],[0.3333333333333333,\"#9c179e\"],[0.4444444444444444,\"#bd3786\"],[0.5555555555555556,\"#d8576b\"],[0.6666666666666666,\"#ed7953\"],[0.7777777777777778,\"#fb9f3a\"],[0.8888888888888888,\"#fdca26\"],[1.0,\"#f0f921\"]],\"type\":\"histogram2d\"}],\"histogram\":[{\"marker\":{\"pattern\":{\"fillmode\":\"overlay\",\"size\":10,\"solidity\":0.2}},\"type\":\"histogram\"}],\"mesh3d\":[{\"colorbar\":{\"outlinewidth\":0,\"ticks\":\"\"},\"type\":\"mesh3d\"}],\"parcoords\":[{\"line\":{\"colorbar\":{\"outlinewidth\":0,\"ticks\":\"\"}},\"type\":\"parcoords\"}],\"pie\":[{\"automargin\":true,\"type\":\"pie\"}],\"scatter3d\":[{\"line\":{\"colorbar\":{\"outlinewidth\":0,\"ticks\":\"\"}},\"marker\":{\"colorbar\":{\"outlinewidth\":0,\"ticks\":\"\"}},\"type\":\"scatter3d\"}],\"scattercarpet\":[{\"marker\":{\"colorbar\":{\"outlinewidth\":0,\"ticks\":\"\"}},\"type\":\"scattercarpet\"}],\"scattergeo\":[{\"marker\":{\"colorbar\":{\"outlinewidth\":0,\"ticks\":\"\"}},\"type\":\"scattergeo\"}],\"scattergl\":[{\"marker\":{\"colorbar\":{\"outlinewidth\":0,\"ticks\":\"\"}},\"type\":\"scattergl\"}],\"scattermapbox\":[{\"marker\":{\"colorbar\":{\"outlinewidth\":0,\"ticks\":\"\"}},\"type\":\"scattermapbox\"}],\"scatterpolargl\":[{\"marker\":{\"colorbar\":{\"outlinewidth\":0,\"ticks\":\"\"}},\"type\":\"scatterpolargl\"}],\"scatterpolar\":[{\"marker\":{\"colorbar\":{\"outlinewidth\":0,\"ticks\":\"\"}},\"type\":\"scatterpolar\"}],\"scatter\":[{\"fillpattern\":{\"fillmode\":\"overlay\",\"size\":10,\"solidity\":0.2},\"type\":\"scatter\"}],\"scatterternary\":[{\"marker\":{\"colorbar\":{\"outlinewidth\":0,\"ticks\":\"\"}},\"type\":\"scatterternary\"}],\"surface\":[{\"colorbar\":{\"outlinewidth\":0,\"ticks\":\"\"},\"colorscale\":[[0.0,\"#0d0887\"],[0.1111111111111111,\"#46039f\"],[0.2222222222222222,\"#7201a8\"],[0.3333333333333333,\"#9c179e\"],[0.4444444444444444,\"#bd3786\"],[0.5555555555555556,\"#d8576b\"],[0.6666666666666666,\"#ed7953\"],[0.7777777777777778,\"#fb9f3a\"],[0.8888888888888888,\"#fdca26\"],[1.0,\"#f0f921\"]],\"type\":\"surface\"}],\"table\":[{\"cells\":{\"fill\":{\"color\":\"#EBF0F8\"},\"line\":{\"color\":\"white\"}},\"header\":{\"fill\":{\"color\":\"#C8D4E3\"},\"line\":{\"color\":\"white\"}},\"type\":\"table\"}]},\"layout\":{\"annotationdefaults\":{\"arrowcolor\":\"#2a3f5f\",\"arrowhead\":0,\"arrowwidth\":1},\"autotypenumbers\":\"strict\",\"coloraxis\":{\"colorbar\":{\"outlinewidth\":0,\"ticks\":\"\"}},\"colorscale\":{\"diverging\":[[0,\"#8e0152\"],[0.1,\"#c51b7d\"],[0.2,\"#de77ae\"],[0.3,\"#f1b6da\"],[0.4,\"#fde0ef\"],[0.5,\"#f7f7f7\"],[0.6,\"#e6f5d0\"],[0.7,\"#b8e186\"],[0.8,\"#7fbc41\"],[0.9,\"#4d9221\"],[1,\"#276419\"]],\"sequential\":[[0.0,\"#0d0887\"],[0.1111111111111111,\"#46039f\"],[0.2222222222222222,\"#7201a8\"],[0.3333333333333333,\"#9c179e\"],[0.4444444444444444,\"#bd3786\"],[0.5555555555555556,\"#d8576b\"],[0.6666666666666666,\"#ed7953\"],[0.7777777777777778,\"#fb9f3a\"],[0.8888888888888888,\"#fdca26\"],[1.0,\"#f0f921\"]],\"sequentialminus\":[[0.0,\"#0d0887\"],[0.1111111111111111,\"#46039f\"],[0.2222222222222222,\"#7201a8\"],[0.3333333333333333,\"#9c179e\"],[0.4444444444444444,\"#bd3786\"],[0.5555555555555556,\"#d8576b\"],[0.6666666666666666,\"#ed7953\"],[0.7777777777777778,\"#fb9f3a\"],[0.8888888888888888,\"#fdca26\"],[1.0,\"#f0f921\"]]},\"colorway\":[\"#636efa\",\"#EF553B\",\"#00cc96\",\"#ab63fa\",\"#FFA15A\",\"#19d3f3\",\"#FF6692\",\"#B6E880\",\"#FF97FF\",\"#FECB52\"],\"font\":{\"color\":\"#2a3f5f\"},\"geo\":{\"bgcolor\":\"white\",\"lakecolor\":\"white\",\"landcolor\":\"#E5ECF6\",\"showlakes\":true,\"showland\":true,\"subunitcolor\":\"white\"},\"hoverlabel\":{\"align\":\"left\"},\"hovermode\":\"closest\",\"mapbox\":{\"style\":\"light\"},\"paper_bgcolor\":\"white\",\"plot_bgcolor\":\"#E5ECF6\",\"polar\":{\"angularaxis\":{\"gridcolor\":\"white\",\"linecolor\":\"white\",\"ticks\":\"\"},\"bgcolor\":\"#E5ECF6\",\"radialaxis\":{\"gridcolor\":\"white\",\"linecolor\":\"white\",\"ticks\":\"\"}},\"scene\":{\"xaxis\":{\"backgroundcolor\":\"#E5ECF6\",\"gridcolor\":\"white\",\"gridwidth\":2,\"linecolor\":\"white\",\"showbackground\":true,\"ticks\":\"\",\"zerolinecolor\":\"white\"},\"yaxis\":{\"backgroundcolor\":\"#E5ECF6\",\"gridcolor\":\"white\",\"gridwidth\":2,\"linecolor\":\"white\",\"showbackground\":true,\"ticks\":\"\",\"zerolinecolor\":\"white\"},\"zaxis\":{\"backgroundcolor\":\"#E5ECF6\",\"gridcolor\":\"white\",\"gridwidth\":2,\"linecolor\":\"white\",\"showbackground\":true,\"ticks\":\"\",\"zerolinecolor\":\"white\"}},\"shapedefaults\":{\"line\":{\"color\":\"#2a3f5f\"}},\"ternary\":{\"aaxis\":{\"gridcolor\":\"white\",\"linecolor\":\"white\",\"ticks\":\"\"},\"baxis\":{\"gridcolor\":\"white\",\"linecolor\":\"white\",\"ticks\":\"\"},\"bgcolor\":\"#E5ECF6\",\"caxis\":{\"gridcolor\":\"white\",\"linecolor\":\"white\",\"ticks\":\"\"}},\"title\":{\"x\":0.05},\"xaxis\":{\"automargin\":true,\"gridcolor\":\"white\",\"linecolor\":\"white\",\"ticks\":\"\",\"title\":{\"standoff\":15},\"zerolinecolor\":\"white\",\"zerolinewidth\":2},\"yaxis\":{\"automargin\":true,\"gridcolor\":\"white\",\"linecolor\":\"white\",\"ticks\":\"\",\"title\":{\"standoff\":15},\"zerolinecolor\":\"white\",\"zerolinewidth\":2}}},\"title\":{\"font\":{\"color\":\"#4D5663\"}},\"xaxis\":{\"gridcolor\":\"#E1E5ED\",\"showgrid\":true,\"tickfont\":{\"color\":\"#4D5663\"},\"title\":{\"font\":{\"color\":\"#4D5663\"},\"text\":\"\"},\"zerolinecolor\":\"#E1E5ED\"},\"yaxis\":{\"gridcolor\":\"#E1E5ED\",\"showgrid\":true,\"tickfont\":{\"color\":\"#4D5663\"},\"title\":{\"font\":{\"color\":\"#4D5663\"},\"text\":\"\"},\"zerolinecolor\":\"#E1E5ED\"}},                        {\"showLink\": true, \"linkText\": \"Export to plot.ly\", \"plotlyServerURL\": \"https://plot.ly\", \"responsive\": true}                    ).then(function(){\n",
       "                            \n",
       "var gd = document.getElementById('b80f7bbe-ae52-4627-9a37-aad1a14867b1');\n",
       "var x = new MutationObserver(function (mutations, observer) {{\n",
       "        var display = window.getComputedStyle(gd).display;\n",
       "        if (!display || display === 'none') {{\n",
       "            console.log([gd, 'removed!']);\n",
       "            Plotly.purge(gd);\n",
       "            observer.disconnect();\n",
       "        }}\n",
       "}});\n",
       "\n",
       "// Listen for the removal of the full notebook cells\n",
       "var notebookContainer = gd.closest('#notebook-container');\n",
       "if (notebookContainer) {{\n",
       "    x.observe(notebookContainer, {childList: true});\n",
       "}}\n",
       "\n",
       "// Listen for the clearing of the current output cell\n",
       "var outputEl = gd.closest('.output');\n",
       "if (outputEl) {{\n",
       "    x.observe(outputEl, {childList: true});\n",
       "}}\n",
       "\n",
       "                        })                };                });            </script>        </div>"
      ]
     },
     "metadata": {},
     "output_type": "display_data"
    }
   ],
   "source": [
    "df2.iplot(kind='bar',x='Category',y='Values')"
   ]
  },
  {
   "cell_type": "code",
   "execution_count": 12,
   "metadata": {},
   "outputs": [
    {
     "data": {
      "application/vnd.plotly.v1+json": {
       "config": {
        "linkText": "Export to plot.ly",
        "plotlyServerURL": "https://plot.ly",
        "showLink": true
       },
       "data": [
        {
         "marker": {
          "color": "rgba(255, 153, 51, 0.6)",
          "line": {
           "color": "rgba(255, 153, 51, 1.0)",
           "width": 1
          }
         },
         "name": "None",
         "orientation": "v",
         "text": "",
         "type": "bar",
         "x": [
          "A",
          "B",
          "C",
          "D"
         ],
         "y": [
          100,
          100,
          100,
          100
         ]
        }
       ],
       "layout": {
        "legend": {
         "bgcolor": "#F5F6F9",
         "font": {
          "color": "#4D5663"
         }
        },
        "paper_bgcolor": "#F5F6F9",
        "plot_bgcolor": "#F5F6F9",
        "template": {
         "data": {
          "bar": [
           {
            "error_x": {
             "color": "#2a3f5f"
            },
            "error_y": {
             "color": "#2a3f5f"
            },
            "marker": {
             "line": {
              "color": "#E5ECF6",
              "width": 0.5
             },
             "pattern": {
              "fillmode": "overlay",
              "size": 10,
              "solidity": 0.2
             }
            },
            "type": "bar"
           }
          ],
          "barpolar": [
           {
            "marker": {
             "line": {
              "color": "#E5ECF6",
              "width": 0.5
             },
             "pattern": {
              "fillmode": "overlay",
              "size": 10,
              "solidity": 0.2
             }
            },
            "type": "barpolar"
           }
          ],
          "carpet": [
           {
            "aaxis": {
             "endlinecolor": "#2a3f5f",
             "gridcolor": "white",
             "linecolor": "white",
             "minorgridcolor": "white",
             "startlinecolor": "#2a3f5f"
            },
            "baxis": {
             "endlinecolor": "#2a3f5f",
             "gridcolor": "white",
             "linecolor": "white",
             "minorgridcolor": "white",
             "startlinecolor": "#2a3f5f"
            },
            "type": "carpet"
           }
          ],
          "choropleth": [
           {
            "colorbar": {
             "outlinewidth": 0,
             "ticks": ""
            },
            "type": "choropleth"
           }
          ],
          "contour": [
           {
            "colorbar": {
             "outlinewidth": 0,
             "ticks": ""
            },
            "colorscale": [
             [
              0,
              "#0d0887"
             ],
             [
              0.1111111111111111,
              "#46039f"
             ],
             [
              0.2222222222222222,
              "#7201a8"
             ],
             [
              0.3333333333333333,
              "#9c179e"
             ],
             [
              0.4444444444444444,
              "#bd3786"
             ],
             [
              0.5555555555555556,
              "#d8576b"
             ],
             [
              0.6666666666666666,
              "#ed7953"
             ],
             [
              0.7777777777777778,
              "#fb9f3a"
             ],
             [
              0.8888888888888888,
              "#fdca26"
             ],
             [
              1,
              "#f0f921"
             ]
            ],
            "type": "contour"
           }
          ],
          "contourcarpet": [
           {
            "colorbar": {
             "outlinewidth": 0,
             "ticks": ""
            },
            "type": "contourcarpet"
           }
          ],
          "heatmap": [
           {
            "colorbar": {
             "outlinewidth": 0,
             "ticks": ""
            },
            "colorscale": [
             [
              0,
              "#0d0887"
             ],
             [
              0.1111111111111111,
              "#46039f"
             ],
             [
              0.2222222222222222,
              "#7201a8"
             ],
             [
              0.3333333333333333,
              "#9c179e"
             ],
             [
              0.4444444444444444,
              "#bd3786"
             ],
             [
              0.5555555555555556,
              "#d8576b"
             ],
             [
              0.6666666666666666,
              "#ed7953"
             ],
             [
              0.7777777777777778,
              "#fb9f3a"
             ],
             [
              0.8888888888888888,
              "#fdca26"
             ],
             [
              1,
              "#f0f921"
             ]
            ],
            "type": "heatmap"
           }
          ],
          "heatmapgl": [
           {
            "colorbar": {
             "outlinewidth": 0,
             "ticks": ""
            },
            "colorscale": [
             [
              0,
              "#0d0887"
             ],
             [
              0.1111111111111111,
              "#46039f"
             ],
             [
              0.2222222222222222,
              "#7201a8"
             ],
             [
              0.3333333333333333,
              "#9c179e"
             ],
             [
              0.4444444444444444,
              "#bd3786"
             ],
             [
              0.5555555555555556,
              "#d8576b"
             ],
             [
              0.6666666666666666,
              "#ed7953"
             ],
             [
              0.7777777777777778,
              "#fb9f3a"
             ],
             [
              0.8888888888888888,
              "#fdca26"
             ],
             [
              1,
              "#f0f921"
             ]
            ],
            "type": "heatmapgl"
           }
          ],
          "histogram": [
           {
            "marker": {
             "pattern": {
              "fillmode": "overlay",
              "size": 10,
              "solidity": 0.2
             }
            },
            "type": "histogram"
           }
          ],
          "histogram2d": [
           {
            "colorbar": {
             "outlinewidth": 0,
             "ticks": ""
            },
            "colorscale": [
             [
              0,
              "#0d0887"
             ],
             [
              0.1111111111111111,
              "#46039f"
             ],
             [
              0.2222222222222222,
              "#7201a8"
             ],
             [
              0.3333333333333333,
              "#9c179e"
             ],
             [
              0.4444444444444444,
              "#bd3786"
             ],
             [
              0.5555555555555556,
              "#d8576b"
             ],
             [
              0.6666666666666666,
              "#ed7953"
             ],
             [
              0.7777777777777778,
              "#fb9f3a"
             ],
             [
              0.8888888888888888,
              "#fdca26"
             ],
             [
              1,
              "#f0f921"
             ]
            ],
            "type": "histogram2d"
           }
          ],
          "histogram2dcontour": [
           {
            "colorbar": {
             "outlinewidth": 0,
             "ticks": ""
            },
            "colorscale": [
             [
              0,
              "#0d0887"
             ],
             [
              0.1111111111111111,
              "#46039f"
             ],
             [
              0.2222222222222222,
              "#7201a8"
             ],
             [
              0.3333333333333333,
              "#9c179e"
             ],
             [
              0.4444444444444444,
              "#bd3786"
             ],
             [
              0.5555555555555556,
              "#d8576b"
             ],
             [
              0.6666666666666666,
              "#ed7953"
             ],
             [
              0.7777777777777778,
              "#fb9f3a"
             ],
             [
              0.8888888888888888,
              "#fdca26"
             ],
             [
              1,
              "#f0f921"
             ]
            ],
            "type": "histogram2dcontour"
           }
          ],
          "mesh3d": [
           {
            "colorbar": {
             "outlinewidth": 0,
             "ticks": ""
            },
            "type": "mesh3d"
           }
          ],
          "parcoords": [
           {
            "line": {
             "colorbar": {
              "outlinewidth": 0,
              "ticks": ""
             }
            },
            "type": "parcoords"
           }
          ],
          "pie": [
           {
            "automargin": true,
            "type": "pie"
           }
          ],
          "scatter": [
           {
            "fillpattern": {
             "fillmode": "overlay",
             "size": 10,
             "solidity": 0.2
            },
            "type": "scatter"
           }
          ],
          "scatter3d": [
           {
            "line": {
             "colorbar": {
              "outlinewidth": 0,
              "ticks": ""
             }
            },
            "marker": {
             "colorbar": {
              "outlinewidth": 0,
              "ticks": ""
             }
            },
            "type": "scatter3d"
           }
          ],
          "scattercarpet": [
           {
            "marker": {
             "colorbar": {
              "outlinewidth": 0,
              "ticks": ""
             }
            },
            "type": "scattercarpet"
           }
          ],
          "scattergeo": [
           {
            "marker": {
             "colorbar": {
              "outlinewidth": 0,
              "ticks": ""
             }
            },
            "type": "scattergeo"
           }
          ],
          "scattergl": [
           {
            "marker": {
             "colorbar": {
              "outlinewidth": 0,
              "ticks": ""
             }
            },
            "type": "scattergl"
           }
          ],
          "scattermapbox": [
           {
            "marker": {
             "colorbar": {
              "outlinewidth": 0,
              "ticks": ""
             }
            },
            "type": "scattermapbox"
           }
          ],
          "scatterpolar": [
           {
            "marker": {
             "colorbar": {
              "outlinewidth": 0,
              "ticks": ""
             }
            },
            "type": "scatterpolar"
           }
          ],
          "scatterpolargl": [
           {
            "marker": {
             "colorbar": {
              "outlinewidth": 0,
              "ticks": ""
             }
            },
            "type": "scatterpolargl"
           }
          ],
          "scatterternary": [
           {
            "marker": {
             "colorbar": {
              "outlinewidth": 0,
              "ticks": ""
             }
            },
            "type": "scatterternary"
           }
          ],
          "surface": [
           {
            "colorbar": {
             "outlinewidth": 0,
             "ticks": ""
            },
            "colorscale": [
             [
              0,
              "#0d0887"
             ],
             [
              0.1111111111111111,
              "#46039f"
             ],
             [
              0.2222222222222222,
              "#7201a8"
             ],
             [
              0.3333333333333333,
              "#9c179e"
             ],
             [
              0.4444444444444444,
              "#bd3786"
             ],
             [
              0.5555555555555556,
              "#d8576b"
             ],
             [
              0.6666666666666666,
              "#ed7953"
             ],
             [
              0.7777777777777778,
              "#fb9f3a"
             ],
             [
              0.8888888888888888,
              "#fdca26"
             ],
             [
              1,
              "#f0f921"
             ]
            ],
            "type": "surface"
           }
          ],
          "table": [
           {
            "cells": {
             "fill": {
              "color": "#EBF0F8"
             },
             "line": {
              "color": "white"
             }
            },
            "header": {
             "fill": {
              "color": "#C8D4E3"
             },
             "line": {
              "color": "white"
             }
            },
            "type": "table"
           }
          ]
         },
         "layout": {
          "annotationdefaults": {
           "arrowcolor": "#2a3f5f",
           "arrowhead": 0,
           "arrowwidth": 1
          },
          "autotypenumbers": "strict",
          "coloraxis": {
           "colorbar": {
            "outlinewidth": 0,
            "ticks": ""
           }
          },
          "colorscale": {
           "diverging": [
            [
             0,
             "#8e0152"
            ],
            [
             0.1,
             "#c51b7d"
            ],
            [
             0.2,
             "#de77ae"
            ],
            [
             0.3,
             "#f1b6da"
            ],
            [
             0.4,
             "#fde0ef"
            ],
            [
             0.5,
             "#f7f7f7"
            ],
            [
             0.6,
             "#e6f5d0"
            ],
            [
             0.7,
             "#b8e186"
            ],
            [
             0.8,
             "#7fbc41"
            ],
            [
             0.9,
             "#4d9221"
            ],
            [
             1,
             "#276419"
            ]
           ],
           "sequential": [
            [
             0,
             "#0d0887"
            ],
            [
             0.1111111111111111,
             "#46039f"
            ],
            [
             0.2222222222222222,
             "#7201a8"
            ],
            [
             0.3333333333333333,
             "#9c179e"
            ],
            [
             0.4444444444444444,
             "#bd3786"
            ],
            [
             0.5555555555555556,
             "#d8576b"
            ],
            [
             0.6666666666666666,
             "#ed7953"
            ],
            [
             0.7777777777777778,
             "#fb9f3a"
            ],
            [
             0.8888888888888888,
             "#fdca26"
            ],
            [
             1,
             "#f0f921"
            ]
           ],
           "sequentialminus": [
            [
             0,
             "#0d0887"
            ],
            [
             0.1111111111111111,
             "#46039f"
            ],
            [
             0.2222222222222222,
             "#7201a8"
            ],
            [
             0.3333333333333333,
             "#9c179e"
            ],
            [
             0.4444444444444444,
             "#bd3786"
            ],
            [
             0.5555555555555556,
             "#d8576b"
            ],
            [
             0.6666666666666666,
             "#ed7953"
            ],
            [
             0.7777777777777778,
             "#fb9f3a"
            ],
            [
             0.8888888888888888,
             "#fdca26"
            ],
            [
             1,
             "#f0f921"
            ]
           ]
          },
          "colorway": [
           "#636efa",
           "#EF553B",
           "#00cc96",
           "#ab63fa",
           "#FFA15A",
           "#19d3f3",
           "#FF6692",
           "#B6E880",
           "#FF97FF",
           "#FECB52"
          ],
          "font": {
           "color": "#2a3f5f"
          },
          "geo": {
           "bgcolor": "white",
           "lakecolor": "white",
           "landcolor": "#E5ECF6",
           "showlakes": true,
           "showland": true,
           "subunitcolor": "white"
          },
          "hoverlabel": {
           "align": "left"
          },
          "hovermode": "closest",
          "mapbox": {
           "style": "light"
          },
          "paper_bgcolor": "white",
          "plot_bgcolor": "#E5ECF6",
          "polar": {
           "angularaxis": {
            "gridcolor": "white",
            "linecolor": "white",
            "ticks": ""
           },
           "bgcolor": "#E5ECF6",
           "radialaxis": {
            "gridcolor": "white",
            "linecolor": "white",
            "ticks": ""
           }
          },
          "scene": {
           "xaxis": {
            "backgroundcolor": "#E5ECF6",
            "gridcolor": "white",
            "gridwidth": 2,
            "linecolor": "white",
            "showbackground": true,
            "ticks": "",
            "zerolinecolor": "white"
           },
           "yaxis": {
            "backgroundcolor": "#E5ECF6",
            "gridcolor": "white",
            "gridwidth": 2,
            "linecolor": "white",
            "showbackground": true,
            "ticks": "",
            "zerolinecolor": "white"
           },
           "zaxis": {
            "backgroundcolor": "#E5ECF6",
            "gridcolor": "white",
            "gridwidth": 2,
            "linecolor": "white",
            "showbackground": true,
            "ticks": "",
            "zerolinecolor": "white"
           }
          },
          "shapedefaults": {
           "line": {
            "color": "#2a3f5f"
           }
          },
          "ternary": {
           "aaxis": {
            "gridcolor": "white",
            "linecolor": "white",
            "ticks": ""
           },
           "baxis": {
            "gridcolor": "white",
            "linecolor": "white",
            "ticks": ""
           },
           "bgcolor": "#E5ECF6",
           "caxis": {
            "gridcolor": "white",
            "linecolor": "white",
            "ticks": ""
           }
          },
          "title": {
           "x": 0.05
          },
          "xaxis": {
           "automargin": true,
           "gridcolor": "white",
           "linecolor": "white",
           "ticks": "",
           "title": {
            "standoff": 15
           },
           "zerolinecolor": "white",
           "zerolinewidth": 2
          },
          "yaxis": {
           "automargin": true,
           "gridcolor": "white",
           "linecolor": "white",
           "ticks": "",
           "title": {
            "standoff": 15
           },
           "zerolinecolor": "white",
           "zerolinewidth": 2
          }
         }
        },
        "title": {
         "font": {
          "color": "#4D5663"
         }
        },
        "xaxis": {
         "gridcolor": "#E1E5ED",
         "showgrid": true,
         "tickfont": {
          "color": "#4D5663"
         },
         "title": {
          "font": {
           "color": "#4D5663"
          },
          "text": ""
         },
         "zerolinecolor": "#E1E5ED"
        },
        "yaxis": {
         "gridcolor": "#E1E5ED",
         "showgrid": true,
         "tickfont": {
          "color": "#4D5663"
         },
         "title": {
          "font": {
           "color": "#4D5663"
          },
          "text": ""
         },
         "zerolinecolor": "#E1E5ED"
        }
       }
      },
      "text/html": [
       "<div>                            <div id=\"05cd51d2-7abe-49ce-a8d6-5a6a6d7259de\" class=\"plotly-graph-div\" style=\"height:525px; width:100%;\"></div>            <script type=\"text/javascript\">                require([\"plotly\"], function(Plotly) {                    window.PLOTLYENV=window.PLOTLYENV || {};\n",
       "                    window.PLOTLYENV.BASE_URL='https://plot.ly';                                    if (document.getElementById(\"05cd51d2-7abe-49ce-a8d6-5a6a6d7259de\")) {                    Plotly.newPlot(                        \"05cd51d2-7abe-49ce-a8d6-5a6a6d7259de\",                        [{\"marker\":{\"color\":\"rgba(255, 153, 51, 0.6)\",\"line\":{\"color\":\"rgba(255, 153, 51, 1.0)\",\"width\":1}},\"name\":\"None\",\"orientation\":\"v\",\"text\":\"\",\"x\":[\"A\",\"B\",\"C\",\"D\"],\"y\":[100,100,100,100],\"type\":\"bar\"}],                        {\"legend\":{\"bgcolor\":\"#F5F6F9\",\"font\":{\"color\":\"#4D5663\"}},\"paper_bgcolor\":\"#F5F6F9\",\"plot_bgcolor\":\"#F5F6F9\",\"template\":{\"data\":{\"barpolar\":[{\"marker\":{\"line\":{\"color\":\"#E5ECF6\",\"width\":0.5},\"pattern\":{\"fillmode\":\"overlay\",\"size\":10,\"solidity\":0.2}},\"type\":\"barpolar\"}],\"bar\":[{\"error_x\":{\"color\":\"#2a3f5f\"},\"error_y\":{\"color\":\"#2a3f5f\"},\"marker\":{\"line\":{\"color\":\"#E5ECF6\",\"width\":0.5},\"pattern\":{\"fillmode\":\"overlay\",\"size\":10,\"solidity\":0.2}},\"type\":\"bar\"}],\"carpet\":[{\"aaxis\":{\"endlinecolor\":\"#2a3f5f\",\"gridcolor\":\"white\",\"linecolor\":\"white\",\"minorgridcolor\":\"white\",\"startlinecolor\":\"#2a3f5f\"},\"baxis\":{\"endlinecolor\":\"#2a3f5f\",\"gridcolor\":\"white\",\"linecolor\":\"white\",\"minorgridcolor\":\"white\",\"startlinecolor\":\"#2a3f5f\"},\"type\":\"carpet\"}],\"choropleth\":[{\"colorbar\":{\"outlinewidth\":0,\"ticks\":\"\"},\"type\":\"choropleth\"}],\"contourcarpet\":[{\"colorbar\":{\"outlinewidth\":0,\"ticks\":\"\"},\"type\":\"contourcarpet\"}],\"contour\":[{\"colorbar\":{\"outlinewidth\":0,\"ticks\":\"\"},\"colorscale\":[[0.0,\"#0d0887\"],[0.1111111111111111,\"#46039f\"],[0.2222222222222222,\"#7201a8\"],[0.3333333333333333,\"#9c179e\"],[0.4444444444444444,\"#bd3786\"],[0.5555555555555556,\"#d8576b\"],[0.6666666666666666,\"#ed7953\"],[0.7777777777777778,\"#fb9f3a\"],[0.8888888888888888,\"#fdca26\"],[1.0,\"#f0f921\"]],\"type\":\"contour\"}],\"heatmapgl\":[{\"colorbar\":{\"outlinewidth\":0,\"ticks\":\"\"},\"colorscale\":[[0.0,\"#0d0887\"],[0.1111111111111111,\"#46039f\"],[0.2222222222222222,\"#7201a8\"],[0.3333333333333333,\"#9c179e\"],[0.4444444444444444,\"#bd3786\"],[0.5555555555555556,\"#d8576b\"],[0.6666666666666666,\"#ed7953\"],[0.7777777777777778,\"#fb9f3a\"],[0.8888888888888888,\"#fdca26\"],[1.0,\"#f0f921\"]],\"type\":\"heatmapgl\"}],\"heatmap\":[{\"colorbar\":{\"outlinewidth\":0,\"ticks\":\"\"},\"colorscale\":[[0.0,\"#0d0887\"],[0.1111111111111111,\"#46039f\"],[0.2222222222222222,\"#7201a8\"],[0.3333333333333333,\"#9c179e\"],[0.4444444444444444,\"#bd3786\"],[0.5555555555555556,\"#d8576b\"],[0.6666666666666666,\"#ed7953\"],[0.7777777777777778,\"#fb9f3a\"],[0.8888888888888888,\"#fdca26\"],[1.0,\"#f0f921\"]],\"type\":\"heatmap\"}],\"histogram2dcontour\":[{\"colorbar\":{\"outlinewidth\":0,\"ticks\":\"\"},\"colorscale\":[[0.0,\"#0d0887\"],[0.1111111111111111,\"#46039f\"],[0.2222222222222222,\"#7201a8\"],[0.3333333333333333,\"#9c179e\"],[0.4444444444444444,\"#bd3786\"],[0.5555555555555556,\"#d8576b\"],[0.6666666666666666,\"#ed7953\"],[0.7777777777777778,\"#fb9f3a\"],[0.8888888888888888,\"#fdca26\"],[1.0,\"#f0f921\"]],\"type\":\"histogram2dcontour\"}],\"histogram2d\":[{\"colorbar\":{\"outlinewidth\":0,\"ticks\":\"\"},\"colorscale\":[[0.0,\"#0d0887\"],[0.1111111111111111,\"#46039f\"],[0.2222222222222222,\"#7201a8\"],[0.3333333333333333,\"#9c179e\"],[0.4444444444444444,\"#bd3786\"],[0.5555555555555556,\"#d8576b\"],[0.6666666666666666,\"#ed7953\"],[0.7777777777777778,\"#fb9f3a\"],[0.8888888888888888,\"#fdca26\"],[1.0,\"#f0f921\"]],\"type\":\"histogram2d\"}],\"histogram\":[{\"marker\":{\"pattern\":{\"fillmode\":\"overlay\",\"size\":10,\"solidity\":0.2}},\"type\":\"histogram\"}],\"mesh3d\":[{\"colorbar\":{\"outlinewidth\":0,\"ticks\":\"\"},\"type\":\"mesh3d\"}],\"parcoords\":[{\"line\":{\"colorbar\":{\"outlinewidth\":0,\"ticks\":\"\"}},\"type\":\"parcoords\"}],\"pie\":[{\"automargin\":true,\"type\":\"pie\"}],\"scatter3d\":[{\"line\":{\"colorbar\":{\"outlinewidth\":0,\"ticks\":\"\"}},\"marker\":{\"colorbar\":{\"outlinewidth\":0,\"ticks\":\"\"}},\"type\":\"scatter3d\"}],\"scattercarpet\":[{\"marker\":{\"colorbar\":{\"outlinewidth\":0,\"ticks\":\"\"}},\"type\":\"scattercarpet\"}],\"scattergeo\":[{\"marker\":{\"colorbar\":{\"outlinewidth\":0,\"ticks\":\"\"}},\"type\":\"scattergeo\"}],\"scattergl\":[{\"marker\":{\"colorbar\":{\"outlinewidth\":0,\"ticks\":\"\"}},\"type\":\"scattergl\"}],\"scattermapbox\":[{\"marker\":{\"colorbar\":{\"outlinewidth\":0,\"ticks\":\"\"}},\"type\":\"scattermapbox\"}],\"scatterpolargl\":[{\"marker\":{\"colorbar\":{\"outlinewidth\":0,\"ticks\":\"\"}},\"type\":\"scatterpolargl\"}],\"scatterpolar\":[{\"marker\":{\"colorbar\":{\"outlinewidth\":0,\"ticks\":\"\"}},\"type\":\"scatterpolar\"}],\"scatter\":[{\"fillpattern\":{\"fillmode\":\"overlay\",\"size\":10,\"solidity\":0.2},\"type\":\"scatter\"}],\"scatterternary\":[{\"marker\":{\"colorbar\":{\"outlinewidth\":0,\"ticks\":\"\"}},\"type\":\"scatterternary\"}],\"surface\":[{\"colorbar\":{\"outlinewidth\":0,\"ticks\":\"\"},\"colorscale\":[[0.0,\"#0d0887\"],[0.1111111111111111,\"#46039f\"],[0.2222222222222222,\"#7201a8\"],[0.3333333333333333,\"#9c179e\"],[0.4444444444444444,\"#bd3786\"],[0.5555555555555556,\"#d8576b\"],[0.6666666666666666,\"#ed7953\"],[0.7777777777777778,\"#fb9f3a\"],[0.8888888888888888,\"#fdca26\"],[1.0,\"#f0f921\"]],\"type\":\"surface\"}],\"table\":[{\"cells\":{\"fill\":{\"color\":\"#EBF0F8\"},\"line\":{\"color\":\"white\"}},\"header\":{\"fill\":{\"color\":\"#C8D4E3\"},\"line\":{\"color\":\"white\"}},\"type\":\"table\"}]},\"layout\":{\"annotationdefaults\":{\"arrowcolor\":\"#2a3f5f\",\"arrowhead\":0,\"arrowwidth\":1},\"autotypenumbers\":\"strict\",\"coloraxis\":{\"colorbar\":{\"outlinewidth\":0,\"ticks\":\"\"}},\"colorscale\":{\"diverging\":[[0,\"#8e0152\"],[0.1,\"#c51b7d\"],[0.2,\"#de77ae\"],[0.3,\"#f1b6da\"],[0.4,\"#fde0ef\"],[0.5,\"#f7f7f7\"],[0.6,\"#e6f5d0\"],[0.7,\"#b8e186\"],[0.8,\"#7fbc41\"],[0.9,\"#4d9221\"],[1,\"#276419\"]],\"sequential\":[[0.0,\"#0d0887\"],[0.1111111111111111,\"#46039f\"],[0.2222222222222222,\"#7201a8\"],[0.3333333333333333,\"#9c179e\"],[0.4444444444444444,\"#bd3786\"],[0.5555555555555556,\"#d8576b\"],[0.6666666666666666,\"#ed7953\"],[0.7777777777777778,\"#fb9f3a\"],[0.8888888888888888,\"#fdca26\"],[1.0,\"#f0f921\"]],\"sequentialminus\":[[0.0,\"#0d0887\"],[0.1111111111111111,\"#46039f\"],[0.2222222222222222,\"#7201a8\"],[0.3333333333333333,\"#9c179e\"],[0.4444444444444444,\"#bd3786\"],[0.5555555555555556,\"#d8576b\"],[0.6666666666666666,\"#ed7953\"],[0.7777777777777778,\"#fb9f3a\"],[0.8888888888888888,\"#fdca26\"],[1.0,\"#f0f921\"]]},\"colorway\":[\"#636efa\",\"#EF553B\",\"#00cc96\",\"#ab63fa\",\"#FFA15A\",\"#19d3f3\",\"#FF6692\",\"#B6E880\",\"#FF97FF\",\"#FECB52\"],\"font\":{\"color\":\"#2a3f5f\"},\"geo\":{\"bgcolor\":\"white\",\"lakecolor\":\"white\",\"landcolor\":\"#E5ECF6\",\"showlakes\":true,\"showland\":true,\"subunitcolor\":\"white\"},\"hoverlabel\":{\"align\":\"left\"},\"hovermode\":\"closest\",\"mapbox\":{\"style\":\"light\"},\"paper_bgcolor\":\"white\",\"plot_bgcolor\":\"#E5ECF6\",\"polar\":{\"angularaxis\":{\"gridcolor\":\"white\",\"linecolor\":\"white\",\"ticks\":\"\"},\"bgcolor\":\"#E5ECF6\",\"radialaxis\":{\"gridcolor\":\"white\",\"linecolor\":\"white\",\"ticks\":\"\"}},\"scene\":{\"xaxis\":{\"backgroundcolor\":\"#E5ECF6\",\"gridcolor\":\"white\",\"gridwidth\":2,\"linecolor\":\"white\",\"showbackground\":true,\"ticks\":\"\",\"zerolinecolor\":\"white\"},\"yaxis\":{\"backgroundcolor\":\"#E5ECF6\",\"gridcolor\":\"white\",\"gridwidth\":2,\"linecolor\":\"white\",\"showbackground\":true,\"ticks\":\"\",\"zerolinecolor\":\"white\"},\"zaxis\":{\"backgroundcolor\":\"#E5ECF6\",\"gridcolor\":\"white\",\"gridwidth\":2,\"linecolor\":\"white\",\"showbackground\":true,\"ticks\":\"\",\"zerolinecolor\":\"white\"}},\"shapedefaults\":{\"line\":{\"color\":\"#2a3f5f\"}},\"ternary\":{\"aaxis\":{\"gridcolor\":\"white\",\"linecolor\":\"white\",\"ticks\":\"\"},\"baxis\":{\"gridcolor\":\"white\",\"linecolor\":\"white\",\"ticks\":\"\"},\"bgcolor\":\"#E5ECF6\",\"caxis\":{\"gridcolor\":\"white\",\"linecolor\":\"white\",\"ticks\":\"\"}},\"title\":{\"x\":0.05},\"xaxis\":{\"automargin\":true,\"gridcolor\":\"white\",\"linecolor\":\"white\",\"ticks\":\"\",\"title\":{\"standoff\":15},\"zerolinecolor\":\"white\",\"zerolinewidth\":2},\"yaxis\":{\"automargin\":true,\"gridcolor\":\"white\",\"linecolor\":\"white\",\"ticks\":\"\",\"title\":{\"standoff\":15},\"zerolinecolor\":\"white\",\"zerolinewidth\":2}}},\"title\":{\"font\":{\"color\":\"#4D5663\"}},\"xaxis\":{\"gridcolor\":\"#E1E5ED\",\"showgrid\":true,\"tickfont\":{\"color\":\"#4D5663\"},\"title\":{\"font\":{\"color\":\"#4D5663\"},\"text\":\"\"},\"zerolinecolor\":\"#E1E5ED\"},\"yaxis\":{\"gridcolor\":\"#E1E5ED\",\"showgrid\":true,\"tickfont\":{\"color\":\"#4D5663\"},\"title\":{\"font\":{\"color\":\"#4D5663\"},\"text\":\"\"},\"zerolinecolor\":\"#E1E5ED\"}},                        {\"showLink\": true, \"linkText\": \"Export to plot.ly\", \"plotlyServerURL\": \"https://plot.ly\", \"responsive\": true}                    ).then(function(){\n",
       "                            \n",
       "var gd = document.getElementById('05cd51d2-7abe-49ce-a8d6-5a6a6d7259de');\n",
       "var x = new MutationObserver(function (mutations, observer) {{\n",
       "        var display = window.getComputedStyle(gd).display;\n",
       "        if (!display || display === 'none') {{\n",
       "            console.log([gd, 'removed!']);\n",
       "            Plotly.purge(gd);\n",
       "            observer.disconnect();\n",
       "        }}\n",
       "}});\n",
       "\n",
       "// Listen for the removal of the full notebook cells\n",
       "var notebookContainer = gd.closest('#notebook-container');\n",
       "if (notebookContainer) {{\n",
       "    x.observe(notebookContainer, {childList: true});\n",
       "}}\n",
       "\n",
       "// Listen for the clearing of the current output cell\n",
       "var outputEl = gd.closest('.output');\n",
       "if (outputEl) {{\n",
       "    x.observe(outputEl, {childList: true});\n",
       "}}\n",
       "\n",
       "                        })                };                });            </script>        </div>"
      ]
     },
     "metadata": {},
     "output_type": "display_data"
    }
   ],
   "source": [
    "df.count().iplot(kind='bar')"
   ]
  },
  {
   "cell_type": "markdown",
   "metadata": {},
   "source": [
    "## Boxplots"
   ]
  },
  {
   "cell_type": "code",
   "execution_count": 13,
   "metadata": {},
   "outputs": [
    {
     "data": {
      "application/vnd.plotly.v1+json": {
       "config": {
        "linkText": "Export to plot.ly",
        "plotlyServerURL": "https://plot.ly",
        "showLink": true
       },
       "data": [
        {
         "boxpoints": false,
         "line": {
          "width": 1.3
         },
         "marker": {
          "color": "rgba(255, 153, 51, 1.0)"
         },
         "name": "A",
         "orientation": "v",
         "type": "box",
         "y": [
          0.9483710285820001,
          -0.16435447117281413,
          0.6477051568801235,
          -2.273255312123948,
          -0.19536853035988794,
          -0.2118342237334965,
          1.969900103972678,
          -0.1496270218197629,
          -0.007020860163975405,
          0.4772917949028792,
          -2.296838980325794,
          -0.37000166265522116,
          0.34406523866400957,
          -0.29030028397892893,
          0.6878914949832962,
          0.5433316282880948,
          -0.40987022829918446,
          -0.3508115673844667,
          -0.3559125754431757,
          -1.1483952719332804,
          -0.8767453817952463,
          1.92278265358688,
          0.5770428505914557,
          0.02435312488294865,
          1.4107386803936892,
          -0.06322763639530866,
          -0.01795897935142888,
          -0.18530147911972034,
          -0.3659190731162389,
          1.3165523507978518,
          -0.792171042599313,
          -0.1554692689441983,
          -1.8409931154929848,
          0.1764468915089469,
          -0.30909415815164737,
          1.0632814501247938,
          0.26234545224339956,
          -1.5873657519214601,
          -1.6473598175363953,
          -0.6318463303111566,
          1.0543085403294332,
          1.246304011828692,
          -0.21144922670508443,
          -0.23589096320737366,
          -0.09395250356688174,
          0.0707249247579655,
          -0.6400009901335901,
          1.351331165453697,
          -1.1313727968282254,
          -0.7647615927907178,
          -0.8079994094244998,
          1.5607430028744744,
          -0.3620125847729232,
          1.6051928605447752,
          -0.2644213070910263,
          0.15301454089392363,
          -1.384940783808886,
          0.9569667644612428,
          1.0098032757966096,
          0.05981939777514478,
          -0.4063321066711721,
          -0.10489950599416006,
          0.4405417746248789,
          1.5885797975649483,
          -0.2123877545633354,
          0.7896146361235454,
          -0.25786433842463086,
          1.1631727044468283,
          0.8893538473792952,
          -0.605977484901111,
          -2.2759457922899493,
          -0.30667550908424834,
          -0.8241615883865696,
          -0.812670431832529,
          0.33268905472604193,
          0.23563136424290237,
          0.4578026499023031,
          0.7315995846678012,
          -1.7286130927550594,
          -0.24475898061728274,
          0.04932267359327156,
          0.09850376427288944,
          0.886720450911329,
          -0.17577082586457415,
          1.6183992637484683,
          1.1184599011461407,
          1.0592831356401937,
          0.04909605784286992,
          0.0490338970942655,
          -1.5413799533062233,
          -0.6846783116080516,
          0.28934161302670924,
          -1.5812189138833908,
          -0.551058815311809,
          -0.14210452149120745,
          1.132681638282884,
          -1.4845447509762713,
          0.7275497759426459,
          -0.9247206532943602,
          -0.10781768148384203
         ]
        },
        {
         "boxpoints": false,
         "line": {
          "width": 1.3
         },
         "marker": {
          "color": "rgba(55, 128, 191, 1.0)"
         },
         "name": "B",
         "orientation": "v",
         "type": "box",
         "y": [
          0.6951956068812144,
          0.49725417558382046,
          0.6087143272319379,
          0.10112467773010585,
          2.323613568869922,
          -0.24534012165281577,
          -1.588981039176941,
          0.5649426863896487,
          -1.061003385941566,
          1.046139137247561,
          -1.429030819194681,
          -0.6721985390439421,
          0.7446491237600207,
          -1.194499495828478,
          -0.22504824095902065,
          -0.3974007034506707,
          1.536542067477092,
          -0.39250064016403163,
          0.9523164329683868,
          -1.8573519129338643,
          1.3006210941603213,
          -0.5528283250328027,
          -0.6977698963321508,
          1.2942172706712607,
          -1.1549871293902265,
          0.25272725615392627,
          0.8445125936973771,
          -2.4699306276453563,
          -0.31190850791083896,
          1.2259265317416355,
          0.48418414451155,
          0.5649252815461252,
          0.14138713508186163,
          1.938355457479299,
          -1.0465970402655622,
          -1.3816713931096485,
          -0.8790836945117418,
          -0.8016568421156806,
          -0.03807425182074729,
          1.512011476372494,
          -0.358844527962155,
          1.7906226715812434,
          0.696488767895237,
          -0.2677337901158682,
          1.3042993099547446,
          -0.32026858309367945,
          -0.07720683218039519,
          -0.634742010310217,
          0.7603041907311168,
          1.5805588555198649,
          -0.1989611304897986,
          0.7220453059317153,
          0.5692340768872667,
          -0.25156765622962063,
          0.8092358452271889,
          1.0885470599932183,
          0.45062822224819526,
          -0.013762313193872652,
          0.5912886501401902,
          -0.7423096218981617,
          0.9382882421920437,
          0.08293536258955617,
          0.8345857880588031,
          -0.716795511109764,
          0.36263691765918415,
          -0.9270008736821341,
          -0.6838395828920901,
          0.8694508382211932,
          -0.2347351263121534,
          1.8793424244484218,
          -1.269768586915114,
          0.5573369027699515,
          0.6817476354328097,
          -0.20346366467539387,
          0.21314857289525754,
          -0.30799604434693434,
          0.366574150799827,
          2.171757651011116,
          -0.8840881683355313,
          -0.1636449694274178,
          -1.266223369167309,
          -0.7745833709493388,
          0.6283851977513192,
          1.2378303894503486,
          0.5122696947240207,
          -0.9102284691228753,
          -0.619141770208701,
          1.0581714210855506,
          -1.7158268206733926,
          -1.3392909615359103,
          -0.1580198932356279,
          0.711646018189122,
          0.8383109344980673,
          -0.2850035136230021,
          0.007760260934558799,
          0.3489907751758173,
          0.06754387559919373,
          -1.6012150819873734,
          0.6283008119768948,
          -0.7677935023498129
         ]
        },
        {
         "boxpoints": false,
         "line": {
          "width": 1.3
         },
         "marker": {
          "color": "rgba(50, 171, 96, 1.0)"
         },
         "name": "C",
         "orientation": "v",
         "type": "box",
         "y": [
          2.3120647498890845,
          -0.10844376718298135,
          0.49603694482045774,
          0.7029068935199622,
          0.33767586675516464,
          -0.3273942819094764,
          1.2910422644623754,
          -0.7280629942713662,
          -0.37948453567552576,
          -0.5075785585881247,
          0.7648412974132406,
          -0.34317556764828144,
          0.11167798409441208,
          1.2650984620862653,
          0.766761605724421,
          0.31955712666768243,
          -0.45891956640233755,
          -2.229721280031838,
          0.01375682566020346,
          -0.4184960839369062,
          -2.1354010328905866,
          -0.13595787316665328,
          -0.6074707709920614,
          0.23270802075036562,
          -0.8617204033782296,
          -1.1187483859844616,
          0.3655407036427369,
          1.3654646400459185,
          -0.5596958133724508,
          -0.20408541579895417,
          0.281380033365303,
          -0.9243321452113985,
          -1.2111859491646975,
          0.09379968704457334,
          -1.5012917548880185,
          -0.05862200358089037,
          -0.04718778502607619,
          -0.3242110428858523,
          -0.42527238807371115,
          -1.3679909676319204,
          1.8964567090068993,
          1.1885395823157534,
          -1.6920389323236837,
          1.3690654618438791,
          -1.6081745725857974,
          0.3808873876934197,
          1.5738398069809034,
          -0.16572277462275684,
          0.0717220500585075,
          0.33127683623696824,
          -0.5500698627042598,
          0.056776562191795034,
          1.1227764428347549,
          -0.7754774339956455,
          1.7504723294180942,
          -0.4018102332597638,
          -1.4640165953696878,
          -0.20503167430574165,
          -0.6365151172486725,
          1.3042113446387575,
          0.4603219669807841,
          0.23090188921472082,
          0.9700529693362641,
          0.16945282621225663,
          1.4802168937634455,
          0.0675260202312709,
          -0.1417359478016793,
          -0.23862574364672587,
          -0.2971032547170577,
          1.9106529557426482,
          -0.8743882521198557,
          -0.33819483933678207,
          -0.485591209095817,
          -0.5822230924675388,
          0.6659479730280735,
          -0.13675089264516105,
          -0.7035031932660262,
          -0.7071924291775493,
          0.9297246362993715,
          0.1126782792369145,
          0.5394383808318713,
          1.1745838261097399,
          -0.22509705230926447,
          -1.1797416296682188,
          -0.3237660238142024,
          1.7144677087925255,
          -0.6451368128462501,
          -1.486807554637661,
          0.152008246741144,
          -0.0042176350596296605,
          -1.0532979193695557,
          1.9416343610971065,
          -1.6342423293973727,
          -1.173615402945359,
          0.23446925202851698,
          -0.10348752353806556,
          0.44166541120995817,
          -1.754087775175577,
          0.5208903066785237,
          -0.9495706932847503
         ]
        },
        {
         "boxpoints": false,
         "line": {
          "width": 1.3
         },
         "marker": {
          "color": "rgba(128, 0, 128, 1.0)"
         },
         "name": "D",
         "orientation": "v",
         "type": "box",
         "y": [
          0.411724521970622,
          -0.8000732251239695,
          -0.5823566131410723,
          -0.5857337896662608,
          -0.4219711566665966,
          0.04283996998504896,
          -0.9855758156712042,
          2.9007985561812544,
          -1.1899520984503331,
          1.713676165776391,
          0.02619044992030263,
          0.542728988308099,
          0.017455810907856386,
          1.6737744863963797,
          0.25935713642881164,
          -0.13067253155400987,
          1.2032075496959809,
          0.035797859606884,
          -0.8220651724957111,
          -0.9560703164189802,
          1.9529022560668132,
          2.2604514000263505,
          1.1783937668792193,
          2.4632188038938496,
          -1.4696005411993347,
          -0.21461441752304578,
          -0.5777839915139291,
          -0.436639864934878,
          -0.24005658413034367,
          0.1423439476529609,
          -0.5076402080294065,
          -0.584785390156653,
          0.07035751168862707,
          -0.654351397812607,
          0.9920183607436488,
          -1.1458325135351948,
          -2.6811067773442097,
          -0.5099053666276699,
          -0.27901737525377746,
          -0.2743497170577263,
          -0.1052384592182562,
          0.37618284337287267,
          0.9748066051872398,
          1.182846746139367,
          0.17997186061687998,
          -0.7507440198460564,
          -0.17319629631470432,
          0.21279541901038748,
          0.21904064512408344,
          1.8524652487363291,
          1.2241602234226943,
          -0.0391277899166953,
          -1.5553823166836684,
          -2.316853271122791,
          -0.048747490727946215,
          -1.0766380525460097,
          0.999525107605847,
          0.6820761261078453,
          -0.47729960705370694,
          -0.6643026213103974,
          -0.4421862122976522,
          -0.2271913441358957,
          0.38321953406222414,
          1.551597294216807,
          0.8722300079950615,
          0.7278991410642184,
          -0.8480850852140075,
          -1.0223627185995299,
          -0.07655486975424775,
          -0.028389663719147775,
          -1.1826913046514616,
          0.49908994479823143,
          0.23501381663109017,
          0.7095194483139694,
          0.355061427532842,
          -0.38317592356798463,
          0.5526545544398631,
          -0.913168920346793,
          -0.5313266299059057,
          -1.0610130851841248,
          -0.1356154941327158,
          0.19815912084389403,
          -0.861274657399313,
          -0.15579630846333647,
          0.15760047931045323,
          0.5524226332574209,
          -0.7784323195400733,
          0.5500019167958924,
          -0.5474402807398899,
          -0.5783469759331317,
          -0.0378719346451878,
          2.031122211931684,
          0.3133891650163439,
          -2.9298125318930857,
          -1.6153514669178302,
          -0.23648859478273493,
          -1.3995052532076473,
          0.2887587059717741,
          0.07542297746214613,
          -2.8010769123215984
         ]
        }
       ],
       "layout": {
        "legend": {
         "bgcolor": "#F5F6F9",
         "font": {
          "color": "#4D5663"
         }
        },
        "paper_bgcolor": "#F5F6F9",
        "plot_bgcolor": "#F5F6F9",
        "template": {
         "data": {
          "bar": [
           {
            "error_x": {
             "color": "#2a3f5f"
            },
            "error_y": {
             "color": "#2a3f5f"
            },
            "marker": {
             "line": {
              "color": "#E5ECF6",
              "width": 0.5
             },
             "pattern": {
              "fillmode": "overlay",
              "size": 10,
              "solidity": 0.2
             }
            },
            "type": "bar"
           }
          ],
          "barpolar": [
           {
            "marker": {
             "line": {
              "color": "#E5ECF6",
              "width": 0.5
             },
             "pattern": {
              "fillmode": "overlay",
              "size": 10,
              "solidity": 0.2
             }
            },
            "type": "barpolar"
           }
          ],
          "carpet": [
           {
            "aaxis": {
             "endlinecolor": "#2a3f5f",
             "gridcolor": "white",
             "linecolor": "white",
             "minorgridcolor": "white",
             "startlinecolor": "#2a3f5f"
            },
            "baxis": {
             "endlinecolor": "#2a3f5f",
             "gridcolor": "white",
             "linecolor": "white",
             "minorgridcolor": "white",
             "startlinecolor": "#2a3f5f"
            },
            "type": "carpet"
           }
          ],
          "choropleth": [
           {
            "colorbar": {
             "outlinewidth": 0,
             "ticks": ""
            },
            "type": "choropleth"
           }
          ],
          "contour": [
           {
            "colorbar": {
             "outlinewidth": 0,
             "ticks": ""
            },
            "colorscale": [
             [
              0,
              "#0d0887"
             ],
             [
              0.1111111111111111,
              "#46039f"
             ],
             [
              0.2222222222222222,
              "#7201a8"
             ],
             [
              0.3333333333333333,
              "#9c179e"
             ],
             [
              0.4444444444444444,
              "#bd3786"
             ],
             [
              0.5555555555555556,
              "#d8576b"
             ],
             [
              0.6666666666666666,
              "#ed7953"
             ],
             [
              0.7777777777777778,
              "#fb9f3a"
             ],
             [
              0.8888888888888888,
              "#fdca26"
             ],
             [
              1,
              "#f0f921"
             ]
            ],
            "type": "contour"
           }
          ],
          "contourcarpet": [
           {
            "colorbar": {
             "outlinewidth": 0,
             "ticks": ""
            },
            "type": "contourcarpet"
           }
          ],
          "heatmap": [
           {
            "colorbar": {
             "outlinewidth": 0,
             "ticks": ""
            },
            "colorscale": [
             [
              0,
              "#0d0887"
             ],
             [
              0.1111111111111111,
              "#46039f"
             ],
             [
              0.2222222222222222,
              "#7201a8"
             ],
             [
              0.3333333333333333,
              "#9c179e"
             ],
             [
              0.4444444444444444,
              "#bd3786"
             ],
             [
              0.5555555555555556,
              "#d8576b"
             ],
             [
              0.6666666666666666,
              "#ed7953"
             ],
             [
              0.7777777777777778,
              "#fb9f3a"
             ],
             [
              0.8888888888888888,
              "#fdca26"
             ],
             [
              1,
              "#f0f921"
             ]
            ],
            "type": "heatmap"
           }
          ],
          "heatmapgl": [
           {
            "colorbar": {
             "outlinewidth": 0,
             "ticks": ""
            },
            "colorscale": [
             [
              0,
              "#0d0887"
             ],
             [
              0.1111111111111111,
              "#46039f"
             ],
             [
              0.2222222222222222,
              "#7201a8"
             ],
             [
              0.3333333333333333,
              "#9c179e"
             ],
             [
              0.4444444444444444,
              "#bd3786"
             ],
             [
              0.5555555555555556,
              "#d8576b"
             ],
             [
              0.6666666666666666,
              "#ed7953"
             ],
             [
              0.7777777777777778,
              "#fb9f3a"
             ],
             [
              0.8888888888888888,
              "#fdca26"
             ],
             [
              1,
              "#f0f921"
             ]
            ],
            "type": "heatmapgl"
           }
          ],
          "histogram": [
           {
            "marker": {
             "pattern": {
              "fillmode": "overlay",
              "size": 10,
              "solidity": 0.2
             }
            },
            "type": "histogram"
           }
          ],
          "histogram2d": [
           {
            "colorbar": {
             "outlinewidth": 0,
             "ticks": ""
            },
            "colorscale": [
             [
              0,
              "#0d0887"
             ],
             [
              0.1111111111111111,
              "#46039f"
             ],
             [
              0.2222222222222222,
              "#7201a8"
             ],
             [
              0.3333333333333333,
              "#9c179e"
             ],
             [
              0.4444444444444444,
              "#bd3786"
             ],
             [
              0.5555555555555556,
              "#d8576b"
             ],
             [
              0.6666666666666666,
              "#ed7953"
             ],
             [
              0.7777777777777778,
              "#fb9f3a"
             ],
             [
              0.8888888888888888,
              "#fdca26"
             ],
             [
              1,
              "#f0f921"
             ]
            ],
            "type": "histogram2d"
           }
          ],
          "histogram2dcontour": [
           {
            "colorbar": {
             "outlinewidth": 0,
             "ticks": ""
            },
            "colorscale": [
             [
              0,
              "#0d0887"
             ],
             [
              0.1111111111111111,
              "#46039f"
             ],
             [
              0.2222222222222222,
              "#7201a8"
             ],
             [
              0.3333333333333333,
              "#9c179e"
             ],
             [
              0.4444444444444444,
              "#bd3786"
             ],
             [
              0.5555555555555556,
              "#d8576b"
             ],
             [
              0.6666666666666666,
              "#ed7953"
             ],
             [
              0.7777777777777778,
              "#fb9f3a"
             ],
             [
              0.8888888888888888,
              "#fdca26"
             ],
             [
              1,
              "#f0f921"
             ]
            ],
            "type": "histogram2dcontour"
           }
          ],
          "mesh3d": [
           {
            "colorbar": {
             "outlinewidth": 0,
             "ticks": ""
            },
            "type": "mesh3d"
           }
          ],
          "parcoords": [
           {
            "line": {
             "colorbar": {
              "outlinewidth": 0,
              "ticks": ""
             }
            },
            "type": "parcoords"
           }
          ],
          "pie": [
           {
            "automargin": true,
            "type": "pie"
           }
          ],
          "scatter": [
           {
            "fillpattern": {
             "fillmode": "overlay",
             "size": 10,
             "solidity": 0.2
            },
            "type": "scatter"
           }
          ],
          "scatter3d": [
           {
            "line": {
             "colorbar": {
              "outlinewidth": 0,
              "ticks": ""
             }
            },
            "marker": {
             "colorbar": {
              "outlinewidth": 0,
              "ticks": ""
             }
            },
            "type": "scatter3d"
           }
          ],
          "scattercarpet": [
           {
            "marker": {
             "colorbar": {
              "outlinewidth": 0,
              "ticks": ""
             }
            },
            "type": "scattercarpet"
           }
          ],
          "scattergeo": [
           {
            "marker": {
             "colorbar": {
              "outlinewidth": 0,
              "ticks": ""
             }
            },
            "type": "scattergeo"
           }
          ],
          "scattergl": [
           {
            "marker": {
             "colorbar": {
              "outlinewidth": 0,
              "ticks": ""
             }
            },
            "type": "scattergl"
           }
          ],
          "scattermapbox": [
           {
            "marker": {
             "colorbar": {
              "outlinewidth": 0,
              "ticks": ""
             }
            },
            "type": "scattermapbox"
           }
          ],
          "scatterpolar": [
           {
            "marker": {
             "colorbar": {
              "outlinewidth": 0,
              "ticks": ""
             }
            },
            "type": "scatterpolar"
           }
          ],
          "scatterpolargl": [
           {
            "marker": {
             "colorbar": {
              "outlinewidth": 0,
              "ticks": ""
             }
            },
            "type": "scatterpolargl"
           }
          ],
          "scatterternary": [
           {
            "marker": {
             "colorbar": {
              "outlinewidth": 0,
              "ticks": ""
             }
            },
            "type": "scatterternary"
           }
          ],
          "surface": [
           {
            "colorbar": {
             "outlinewidth": 0,
             "ticks": ""
            },
            "colorscale": [
             [
              0,
              "#0d0887"
             ],
             [
              0.1111111111111111,
              "#46039f"
             ],
             [
              0.2222222222222222,
              "#7201a8"
             ],
             [
              0.3333333333333333,
              "#9c179e"
             ],
             [
              0.4444444444444444,
              "#bd3786"
             ],
             [
              0.5555555555555556,
              "#d8576b"
             ],
             [
              0.6666666666666666,
              "#ed7953"
             ],
             [
              0.7777777777777778,
              "#fb9f3a"
             ],
             [
              0.8888888888888888,
              "#fdca26"
             ],
             [
              1,
              "#f0f921"
             ]
            ],
            "type": "surface"
           }
          ],
          "table": [
           {
            "cells": {
             "fill": {
              "color": "#EBF0F8"
             },
             "line": {
              "color": "white"
             }
            },
            "header": {
             "fill": {
              "color": "#C8D4E3"
             },
             "line": {
              "color": "white"
             }
            },
            "type": "table"
           }
          ]
         },
         "layout": {
          "annotationdefaults": {
           "arrowcolor": "#2a3f5f",
           "arrowhead": 0,
           "arrowwidth": 1
          },
          "autotypenumbers": "strict",
          "coloraxis": {
           "colorbar": {
            "outlinewidth": 0,
            "ticks": ""
           }
          },
          "colorscale": {
           "diverging": [
            [
             0,
             "#8e0152"
            ],
            [
             0.1,
             "#c51b7d"
            ],
            [
             0.2,
             "#de77ae"
            ],
            [
             0.3,
             "#f1b6da"
            ],
            [
             0.4,
             "#fde0ef"
            ],
            [
             0.5,
             "#f7f7f7"
            ],
            [
             0.6,
             "#e6f5d0"
            ],
            [
             0.7,
             "#b8e186"
            ],
            [
             0.8,
             "#7fbc41"
            ],
            [
             0.9,
             "#4d9221"
            ],
            [
             1,
             "#276419"
            ]
           ],
           "sequential": [
            [
             0,
             "#0d0887"
            ],
            [
             0.1111111111111111,
             "#46039f"
            ],
            [
             0.2222222222222222,
             "#7201a8"
            ],
            [
             0.3333333333333333,
             "#9c179e"
            ],
            [
             0.4444444444444444,
             "#bd3786"
            ],
            [
             0.5555555555555556,
             "#d8576b"
            ],
            [
             0.6666666666666666,
             "#ed7953"
            ],
            [
             0.7777777777777778,
             "#fb9f3a"
            ],
            [
             0.8888888888888888,
             "#fdca26"
            ],
            [
             1,
             "#f0f921"
            ]
           ],
           "sequentialminus": [
            [
             0,
             "#0d0887"
            ],
            [
             0.1111111111111111,
             "#46039f"
            ],
            [
             0.2222222222222222,
             "#7201a8"
            ],
            [
             0.3333333333333333,
             "#9c179e"
            ],
            [
             0.4444444444444444,
             "#bd3786"
            ],
            [
             0.5555555555555556,
             "#d8576b"
            ],
            [
             0.6666666666666666,
             "#ed7953"
            ],
            [
             0.7777777777777778,
             "#fb9f3a"
            ],
            [
             0.8888888888888888,
             "#fdca26"
            ],
            [
             1,
             "#f0f921"
            ]
           ]
          },
          "colorway": [
           "#636efa",
           "#EF553B",
           "#00cc96",
           "#ab63fa",
           "#FFA15A",
           "#19d3f3",
           "#FF6692",
           "#B6E880",
           "#FF97FF",
           "#FECB52"
          ],
          "font": {
           "color": "#2a3f5f"
          },
          "geo": {
           "bgcolor": "white",
           "lakecolor": "white",
           "landcolor": "#E5ECF6",
           "showlakes": true,
           "showland": true,
           "subunitcolor": "white"
          },
          "hoverlabel": {
           "align": "left"
          },
          "hovermode": "closest",
          "mapbox": {
           "style": "light"
          },
          "paper_bgcolor": "white",
          "plot_bgcolor": "#E5ECF6",
          "polar": {
           "angularaxis": {
            "gridcolor": "white",
            "linecolor": "white",
            "ticks": ""
           },
           "bgcolor": "#E5ECF6",
           "radialaxis": {
            "gridcolor": "white",
            "linecolor": "white",
            "ticks": ""
           }
          },
          "scene": {
           "xaxis": {
            "backgroundcolor": "#E5ECF6",
            "gridcolor": "white",
            "gridwidth": 2,
            "linecolor": "white",
            "showbackground": true,
            "ticks": "",
            "zerolinecolor": "white"
           },
           "yaxis": {
            "backgroundcolor": "#E5ECF6",
            "gridcolor": "white",
            "gridwidth": 2,
            "linecolor": "white",
            "showbackground": true,
            "ticks": "",
            "zerolinecolor": "white"
           },
           "zaxis": {
            "backgroundcolor": "#E5ECF6",
            "gridcolor": "white",
            "gridwidth": 2,
            "linecolor": "white",
            "showbackground": true,
            "ticks": "",
            "zerolinecolor": "white"
           }
          },
          "shapedefaults": {
           "line": {
            "color": "#2a3f5f"
           }
          },
          "ternary": {
           "aaxis": {
            "gridcolor": "white",
            "linecolor": "white",
            "ticks": ""
           },
           "baxis": {
            "gridcolor": "white",
            "linecolor": "white",
            "ticks": ""
           },
           "bgcolor": "#E5ECF6",
           "caxis": {
            "gridcolor": "white",
            "linecolor": "white",
            "ticks": ""
           }
          },
          "title": {
           "x": 0.05
          },
          "xaxis": {
           "automargin": true,
           "gridcolor": "white",
           "linecolor": "white",
           "ticks": "",
           "title": {
            "standoff": 15
           },
           "zerolinecolor": "white",
           "zerolinewidth": 2
          },
          "yaxis": {
           "automargin": true,
           "gridcolor": "white",
           "linecolor": "white",
           "ticks": "",
           "title": {
            "standoff": 15
           },
           "zerolinecolor": "white",
           "zerolinewidth": 2
          }
         }
        },
        "title": {
         "font": {
          "color": "#4D5663"
         }
        },
        "xaxis": {
         "gridcolor": "#E1E5ED",
         "showgrid": true,
         "tickfont": {
          "color": "#4D5663"
         },
         "title": {
          "font": {
           "color": "#4D5663"
          },
          "text": ""
         },
         "zerolinecolor": "#E1E5ED"
        },
        "yaxis": {
         "gridcolor": "#E1E5ED",
         "showgrid": true,
         "tickfont": {
          "color": "#4D5663"
         },
         "title": {
          "font": {
           "color": "#4D5663"
          },
          "text": ""
         },
         "zerolinecolor": "#E1E5ED"
        }
       }
      },
      "text/html": [
       "<div>                            <div id=\"a3919fe2-a600-4e1f-b717-afa075ad4fab\" class=\"plotly-graph-div\" style=\"height:525px; width:100%;\"></div>            <script type=\"text/javascript\">                require([\"plotly\"], function(Plotly) {                    window.PLOTLYENV=window.PLOTLYENV || {};\n",
       "                    window.PLOTLYENV.BASE_URL='https://plot.ly';                                    if (document.getElementById(\"a3919fe2-a600-4e1f-b717-afa075ad4fab\")) {                    Plotly.newPlot(                        \"a3919fe2-a600-4e1f-b717-afa075ad4fab\",                        [{\"boxpoints\":false,\"line\":{\"width\":1.3},\"marker\":{\"color\":\"rgba(255, 153, 51, 1.0)\"},\"name\":\"A\",\"orientation\":\"v\",\"y\":[0.9483710285820001,-0.16435447117281413,0.6477051568801235,-2.273255312123948,-0.19536853035988794,-0.2118342237334965,1.969900103972678,-0.1496270218197629,-0.007020860163975405,0.4772917949028792,-2.296838980325794,-0.37000166265522116,0.34406523866400957,-0.29030028397892893,0.6878914949832962,0.5433316282880948,-0.40987022829918446,-0.3508115673844667,-0.3559125754431757,-1.1483952719332804,-0.8767453817952463,1.92278265358688,0.5770428505914557,0.02435312488294865,1.4107386803936892,-0.06322763639530866,-0.01795897935142888,-0.18530147911972034,-0.3659190731162389,1.3165523507978518,-0.792171042599313,-0.1554692689441983,-1.8409931154929848,0.1764468915089469,-0.30909415815164737,1.0632814501247938,0.26234545224339956,-1.5873657519214601,-1.6473598175363953,-0.6318463303111566,1.0543085403294332,1.246304011828692,-0.21144922670508443,-0.23589096320737366,-0.09395250356688174,0.0707249247579655,-0.6400009901335901,1.351331165453697,-1.1313727968282254,-0.7647615927907178,-0.8079994094244998,1.5607430028744744,-0.3620125847729232,1.6051928605447752,-0.2644213070910263,0.15301454089392363,-1.384940783808886,0.9569667644612428,1.0098032757966096,0.05981939777514478,-0.4063321066711721,-0.10489950599416006,0.4405417746248789,1.5885797975649483,-0.2123877545633354,0.7896146361235454,-0.25786433842463086,1.1631727044468283,0.8893538473792952,-0.605977484901111,-2.2759457922899493,-0.30667550908424834,-0.8241615883865696,-0.812670431832529,0.33268905472604193,0.23563136424290237,0.4578026499023031,0.7315995846678012,-1.7286130927550594,-0.24475898061728274,0.04932267359327156,0.09850376427288944,0.886720450911329,-0.17577082586457415,1.6183992637484683,1.1184599011461407,1.0592831356401937,0.04909605784286992,0.0490338970942655,-1.5413799533062233,-0.6846783116080516,0.28934161302670924,-1.5812189138833908,-0.551058815311809,-0.14210452149120745,1.132681638282884,-1.4845447509762713,0.7275497759426459,-0.9247206532943602,-0.10781768148384203],\"type\":\"box\"},{\"boxpoints\":false,\"line\":{\"width\":1.3},\"marker\":{\"color\":\"rgba(55, 128, 191, 1.0)\"},\"name\":\"B\",\"orientation\":\"v\",\"y\":[0.6951956068812144,0.49725417558382046,0.6087143272319379,0.10112467773010585,2.323613568869922,-0.24534012165281577,-1.588981039176941,0.5649426863896487,-1.061003385941566,1.046139137247561,-1.429030819194681,-0.6721985390439421,0.7446491237600207,-1.194499495828478,-0.22504824095902065,-0.3974007034506707,1.536542067477092,-0.39250064016403163,0.9523164329683868,-1.8573519129338643,1.3006210941603213,-0.5528283250328027,-0.6977698963321508,1.2942172706712607,-1.1549871293902265,0.25272725615392627,0.8445125936973771,-2.4699306276453563,-0.31190850791083896,1.2259265317416355,0.48418414451155,0.5649252815461252,0.14138713508186163,1.938355457479299,-1.0465970402655622,-1.3816713931096485,-0.8790836945117418,-0.8016568421156806,-0.03807425182074729,1.512011476372494,-0.358844527962155,1.7906226715812434,0.696488767895237,-0.2677337901158682,1.3042993099547446,-0.32026858309367945,-0.07720683218039519,-0.634742010310217,0.7603041907311168,1.5805588555198649,-0.1989611304897986,0.7220453059317153,0.5692340768872667,-0.25156765622962063,0.8092358452271889,1.0885470599932183,0.45062822224819526,-0.013762313193872652,0.5912886501401902,-0.7423096218981617,0.9382882421920437,0.08293536258955617,0.8345857880588031,-0.716795511109764,0.36263691765918415,-0.9270008736821341,-0.6838395828920901,0.8694508382211932,-0.2347351263121534,1.8793424244484218,-1.269768586915114,0.5573369027699515,0.6817476354328097,-0.20346366467539387,0.21314857289525754,-0.30799604434693434,0.366574150799827,2.171757651011116,-0.8840881683355313,-0.1636449694274178,-1.266223369167309,-0.7745833709493388,0.6283851977513192,1.2378303894503486,0.5122696947240207,-0.9102284691228753,-0.619141770208701,1.0581714210855506,-1.7158268206733926,-1.3392909615359103,-0.1580198932356279,0.711646018189122,0.8383109344980673,-0.2850035136230021,0.007760260934558799,0.3489907751758173,0.06754387559919373,-1.6012150819873734,0.6283008119768948,-0.7677935023498129],\"type\":\"box\"},{\"boxpoints\":false,\"line\":{\"width\":1.3},\"marker\":{\"color\":\"rgba(50, 171, 96, 1.0)\"},\"name\":\"C\",\"orientation\":\"v\",\"y\":[2.3120647498890845,-0.10844376718298135,0.49603694482045774,0.7029068935199622,0.33767586675516464,-0.3273942819094764,1.2910422644623754,-0.7280629942713662,-0.37948453567552576,-0.5075785585881247,0.7648412974132406,-0.34317556764828144,0.11167798409441208,1.2650984620862653,0.766761605724421,0.31955712666768243,-0.45891956640233755,-2.229721280031838,0.01375682566020346,-0.4184960839369062,-2.1354010328905866,-0.13595787316665328,-0.6074707709920614,0.23270802075036562,-0.8617204033782296,-1.1187483859844616,0.3655407036427369,1.3654646400459185,-0.5596958133724508,-0.20408541579895417,0.281380033365303,-0.9243321452113985,-1.2111859491646975,0.09379968704457334,-1.5012917548880185,-0.05862200358089037,-0.04718778502607619,-0.3242110428858523,-0.42527238807371115,-1.3679909676319204,1.8964567090068993,1.1885395823157534,-1.6920389323236837,1.3690654618438791,-1.6081745725857974,0.3808873876934197,1.5738398069809034,-0.16572277462275684,0.0717220500585075,0.33127683623696824,-0.5500698627042598,0.056776562191795034,1.1227764428347549,-0.7754774339956455,1.7504723294180942,-0.4018102332597638,-1.4640165953696878,-0.20503167430574165,-0.6365151172486725,1.3042113446387575,0.4603219669807841,0.23090188921472082,0.9700529693362641,0.16945282621225663,1.4802168937634455,0.0675260202312709,-0.1417359478016793,-0.23862574364672587,-0.2971032547170577,1.9106529557426482,-0.8743882521198557,-0.33819483933678207,-0.485591209095817,-0.5822230924675388,0.6659479730280735,-0.13675089264516105,-0.7035031932660262,-0.7071924291775493,0.9297246362993715,0.1126782792369145,0.5394383808318713,1.1745838261097399,-0.22509705230926447,-1.1797416296682188,-0.3237660238142024,1.7144677087925255,-0.6451368128462501,-1.486807554637661,0.152008246741144,-0.0042176350596296605,-1.0532979193695557,1.9416343610971065,-1.6342423293973727,-1.173615402945359,0.23446925202851698,-0.10348752353806556,0.44166541120995817,-1.754087775175577,0.5208903066785237,-0.9495706932847503],\"type\":\"box\"},{\"boxpoints\":false,\"line\":{\"width\":1.3},\"marker\":{\"color\":\"rgba(128, 0, 128, 1.0)\"},\"name\":\"D\",\"orientation\":\"v\",\"y\":[0.411724521970622,-0.8000732251239695,-0.5823566131410723,-0.5857337896662608,-0.4219711566665966,0.04283996998504896,-0.9855758156712042,2.9007985561812544,-1.1899520984503331,1.713676165776391,0.02619044992030263,0.542728988308099,0.017455810907856386,1.6737744863963797,0.25935713642881164,-0.13067253155400987,1.2032075496959809,0.035797859606884,-0.8220651724957111,-0.9560703164189802,1.9529022560668132,2.2604514000263505,1.1783937668792193,2.4632188038938496,-1.4696005411993347,-0.21461441752304578,-0.5777839915139291,-0.436639864934878,-0.24005658413034367,0.1423439476529609,-0.5076402080294065,-0.584785390156653,0.07035751168862707,-0.654351397812607,0.9920183607436488,-1.1458325135351948,-2.6811067773442097,-0.5099053666276699,-0.27901737525377746,-0.2743497170577263,-0.1052384592182562,0.37618284337287267,0.9748066051872398,1.182846746139367,0.17997186061687998,-0.7507440198460564,-0.17319629631470432,0.21279541901038748,0.21904064512408344,1.8524652487363291,1.2241602234226943,-0.0391277899166953,-1.5553823166836684,-2.316853271122791,-0.048747490727946215,-1.0766380525460097,0.999525107605847,0.6820761261078453,-0.47729960705370694,-0.6643026213103974,-0.4421862122976522,-0.2271913441358957,0.38321953406222414,1.551597294216807,0.8722300079950615,0.7278991410642184,-0.8480850852140075,-1.0223627185995299,-0.07655486975424775,-0.028389663719147775,-1.1826913046514616,0.49908994479823143,0.23501381663109017,0.7095194483139694,0.355061427532842,-0.38317592356798463,0.5526545544398631,-0.913168920346793,-0.5313266299059057,-1.0610130851841248,-0.1356154941327158,0.19815912084389403,-0.861274657399313,-0.15579630846333647,0.15760047931045323,0.5524226332574209,-0.7784323195400733,0.5500019167958924,-0.5474402807398899,-0.5783469759331317,-0.0378719346451878,2.031122211931684,0.3133891650163439,-2.9298125318930857,-1.6153514669178302,-0.23648859478273493,-1.3995052532076473,0.2887587059717741,0.07542297746214613,-2.8010769123215984],\"type\":\"box\"}],                        {\"legend\":{\"bgcolor\":\"#F5F6F9\",\"font\":{\"color\":\"#4D5663\"}},\"paper_bgcolor\":\"#F5F6F9\",\"plot_bgcolor\":\"#F5F6F9\",\"template\":{\"data\":{\"barpolar\":[{\"marker\":{\"line\":{\"color\":\"#E5ECF6\",\"width\":0.5},\"pattern\":{\"fillmode\":\"overlay\",\"size\":10,\"solidity\":0.2}},\"type\":\"barpolar\"}],\"bar\":[{\"error_x\":{\"color\":\"#2a3f5f\"},\"error_y\":{\"color\":\"#2a3f5f\"},\"marker\":{\"line\":{\"color\":\"#E5ECF6\",\"width\":0.5},\"pattern\":{\"fillmode\":\"overlay\",\"size\":10,\"solidity\":0.2}},\"type\":\"bar\"}],\"carpet\":[{\"aaxis\":{\"endlinecolor\":\"#2a3f5f\",\"gridcolor\":\"white\",\"linecolor\":\"white\",\"minorgridcolor\":\"white\",\"startlinecolor\":\"#2a3f5f\"},\"baxis\":{\"endlinecolor\":\"#2a3f5f\",\"gridcolor\":\"white\",\"linecolor\":\"white\",\"minorgridcolor\":\"white\",\"startlinecolor\":\"#2a3f5f\"},\"type\":\"carpet\"}],\"choropleth\":[{\"colorbar\":{\"outlinewidth\":0,\"ticks\":\"\"},\"type\":\"choropleth\"}],\"contourcarpet\":[{\"colorbar\":{\"outlinewidth\":0,\"ticks\":\"\"},\"type\":\"contourcarpet\"}],\"contour\":[{\"colorbar\":{\"outlinewidth\":0,\"ticks\":\"\"},\"colorscale\":[[0.0,\"#0d0887\"],[0.1111111111111111,\"#46039f\"],[0.2222222222222222,\"#7201a8\"],[0.3333333333333333,\"#9c179e\"],[0.4444444444444444,\"#bd3786\"],[0.5555555555555556,\"#d8576b\"],[0.6666666666666666,\"#ed7953\"],[0.7777777777777778,\"#fb9f3a\"],[0.8888888888888888,\"#fdca26\"],[1.0,\"#f0f921\"]],\"type\":\"contour\"}],\"heatmapgl\":[{\"colorbar\":{\"outlinewidth\":0,\"ticks\":\"\"},\"colorscale\":[[0.0,\"#0d0887\"],[0.1111111111111111,\"#46039f\"],[0.2222222222222222,\"#7201a8\"],[0.3333333333333333,\"#9c179e\"],[0.4444444444444444,\"#bd3786\"],[0.5555555555555556,\"#d8576b\"],[0.6666666666666666,\"#ed7953\"],[0.7777777777777778,\"#fb9f3a\"],[0.8888888888888888,\"#fdca26\"],[1.0,\"#f0f921\"]],\"type\":\"heatmapgl\"}],\"heatmap\":[{\"colorbar\":{\"outlinewidth\":0,\"ticks\":\"\"},\"colorscale\":[[0.0,\"#0d0887\"],[0.1111111111111111,\"#46039f\"],[0.2222222222222222,\"#7201a8\"],[0.3333333333333333,\"#9c179e\"],[0.4444444444444444,\"#bd3786\"],[0.5555555555555556,\"#d8576b\"],[0.6666666666666666,\"#ed7953\"],[0.7777777777777778,\"#fb9f3a\"],[0.8888888888888888,\"#fdca26\"],[1.0,\"#f0f921\"]],\"type\":\"heatmap\"}],\"histogram2dcontour\":[{\"colorbar\":{\"outlinewidth\":0,\"ticks\":\"\"},\"colorscale\":[[0.0,\"#0d0887\"],[0.1111111111111111,\"#46039f\"],[0.2222222222222222,\"#7201a8\"],[0.3333333333333333,\"#9c179e\"],[0.4444444444444444,\"#bd3786\"],[0.5555555555555556,\"#d8576b\"],[0.6666666666666666,\"#ed7953\"],[0.7777777777777778,\"#fb9f3a\"],[0.8888888888888888,\"#fdca26\"],[1.0,\"#f0f921\"]],\"type\":\"histogram2dcontour\"}],\"histogram2d\":[{\"colorbar\":{\"outlinewidth\":0,\"ticks\":\"\"},\"colorscale\":[[0.0,\"#0d0887\"],[0.1111111111111111,\"#46039f\"],[0.2222222222222222,\"#7201a8\"],[0.3333333333333333,\"#9c179e\"],[0.4444444444444444,\"#bd3786\"],[0.5555555555555556,\"#d8576b\"],[0.6666666666666666,\"#ed7953\"],[0.7777777777777778,\"#fb9f3a\"],[0.8888888888888888,\"#fdca26\"],[1.0,\"#f0f921\"]],\"type\":\"histogram2d\"}],\"histogram\":[{\"marker\":{\"pattern\":{\"fillmode\":\"overlay\",\"size\":10,\"solidity\":0.2}},\"type\":\"histogram\"}],\"mesh3d\":[{\"colorbar\":{\"outlinewidth\":0,\"ticks\":\"\"},\"type\":\"mesh3d\"}],\"parcoords\":[{\"line\":{\"colorbar\":{\"outlinewidth\":0,\"ticks\":\"\"}},\"type\":\"parcoords\"}],\"pie\":[{\"automargin\":true,\"type\":\"pie\"}],\"scatter3d\":[{\"line\":{\"colorbar\":{\"outlinewidth\":0,\"ticks\":\"\"}},\"marker\":{\"colorbar\":{\"outlinewidth\":0,\"ticks\":\"\"}},\"type\":\"scatter3d\"}],\"scattercarpet\":[{\"marker\":{\"colorbar\":{\"outlinewidth\":0,\"ticks\":\"\"}},\"type\":\"scattercarpet\"}],\"scattergeo\":[{\"marker\":{\"colorbar\":{\"outlinewidth\":0,\"ticks\":\"\"}},\"type\":\"scattergeo\"}],\"scattergl\":[{\"marker\":{\"colorbar\":{\"outlinewidth\":0,\"ticks\":\"\"}},\"type\":\"scattergl\"}],\"scattermapbox\":[{\"marker\":{\"colorbar\":{\"outlinewidth\":0,\"ticks\":\"\"}},\"type\":\"scattermapbox\"}],\"scatterpolargl\":[{\"marker\":{\"colorbar\":{\"outlinewidth\":0,\"ticks\":\"\"}},\"type\":\"scatterpolargl\"}],\"scatterpolar\":[{\"marker\":{\"colorbar\":{\"outlinewidth\":0,\"ticks\":\"\"}},\"type\":\"scatterpolar\"}],\"scatter\":[{\"fillpattern\":{\"fillmode\":\"overlay\",\"size\":10,\"solidity\":0.2},\"type\":\"scatter\"}],\"scatterternary\":[{\"marker\":{\"colorbar\":{\"outlinewidth\":0,\"ticks\":\"\"}},\"type\":\"scatterternary\"}],\"surface\":[{\"colorbar\":{\"outlinewidth\":0,\"ticks\":\"\"},\"colorscale\":[[0.0,\"#0d0887\"],[0.1111111111111111,\"#46039f\"],[0.2222222222222222,\"#7201a8\"],[0.3333333333333333,\"#9c179e\"],[0.4444444444444444,\"#bd3786\"],[0.5555555555555556,\"#d8576b\"],[0.6666666666666666,\"#ed7953\"],[0.7777777777777778,\"#fb9f3a\"],[0.8888888888888888,\"#fdca26\"],[1.0,\"#f0f921\"]],\"type\":\"surface\"}],\"table\":[{\"cells\":{\"fill\":{\"color\":\"#EBF0F8\"},\"line\":{\"color\":\"white\"}},\"header\":{\"fill\":{\"color\":\"#C8D4E3\"},\"line\":{\"color\":\"white\"}},\"type\":\"table\"}]},\"layout\":{\"annotationdefaults\":{\"arrowcolor\":\"#2a3f5f\",\"arrowhead\":0,\"arrowwidth\":1},\"autotypenumbers\":\"strict\",\"coloraxis\":{\"colorbar\":{\"outlinewidth\":0,\"ticks\":\"\"}},\"colorscale\":{\"diverging\":[[0,\"#8e0152\"],[0.1,\"#c51b7d\"],[0.2,\"#de77ae\"],[0.3,\"#f1b6da\"],[0.4,\"#fde0ef\"],[0.5,\"#f7f7f7\"],[0.6,\"#e6f5d0\"],[0.7,\"#b8e186\"],[0.8,\"#7fbc41\"],[0.9,\"#4d9221\"],[1,\"#276419\"]],\"sequential\":[[0.0,\"#0d0887\"],[0.1111111111111111,\"#46039f\"],[0.2222222222222222,\"#7201a8\"],[0.3333333333333333,\"#9c179e\"],[0.4444444444444444,\"#bd3786\"],[0.5555555555555556,\"#d8576b\"],[0.6666666666666666,\"#ed7953\"],[0.7777777777777778,\"#fb9f3a\"],[0.8888888888888888,\"#fdca26\"],[1.0,\"#f0f921\"]],\"sequentialminus\":[[0.0,\"#0d0887\"],[0.1111111111111111,\"#46039f\"],[0.2222222222222222,\"#7201a8\"],[0.3333333333333333,\"#9c179e\"],[0.4444444444444444,\"#bd3786\"],[0.5555555555555556,\"#d8576b\"],[0.6666666666666666,\"#ed7953\"],[0.7777777777777778,\"#fb9f3a\"],[0.8888888888888888,\"#fdca26\"],[1.0,\"#f0f921\"]]},\"colorway\":[\"#636efa\",\"#EF553B\",\"#00cc96\",\"#ab63fa\",\"#FFA15A\",\"#19d3f3\",\"#FF6692\",\"#B6E880\",\"#FF97FF\",\"#FECB52\"],\"font\":{\"color\":\"#2a3f5f\"},\"geo\":{\"bgcolor\":\"white\",\"lakecolor\":\"white\",\"landcolor\":\"#E5ECF6\",\"showlakes\":true,\"showland\":true,\"subunitcolor\":\"white\"},\"hoverlabel\":{\"align\":\"left\"},\"hovermode\":\"closest\",\"mapbox\":{\"style\":\"light\"},\"paper_bgcolor\":\"white\",\"plot_bgcolor\":\"#E5ECF6\",\"polar\":{\"angularaxis\":{\"gridcolor\":\"white\",\"linecolor\":\"white\",\"ticks\":\"\"},\"bgcolor\":\"#E5ECF6\",\"radialaxis\":{\"gridcolor\":\"white\",\"linecolor\":\"white\",\"ticks\":\"\"}},\"scene\":{\"xaxis\":{\"backgroundcolor\":\"#E5ECF6\",\"gridcolor\":\"white\",\"gridwidth\":2,\"linecolor\":\"white\",\"showbackground\":true,\"ticks\":\"\",\"zerolinecolor\":\"white\"},\"yaxis\":{\"backgroundcolor\":\"#E5ECF6\",\"gridcolor\":\"white\",\"gridwidth\":2,\"linecolor\":\"white\",\"showbackground\":true,\"ticks\":\"\",\"zerolinecolor\":\"white\"},\"zaxis\":{\"backgroundcolor\":\"#E5ECF6\",\"gridcolor\":\"white\",\"gridwidth\":2,\"linecolor\":\"white\",\"showbackground\":true,\"ticks\":\"\",\"zerolinecolor\":\"white\"}},\"shapedefaults\":{\"line\":{\"color\":\"#2a3f5f\"}},\"ternary\":{\"aaxis\":{\"gridcolor\":\"white\",\"linecolor\":\"white\",\"ticks\":\"\"},\"baxis\":{\"gridcolor\":\"white\",\"linecolor\":\"white\",\"ticks\":\"\"},\"bgcolor\":\"#E5ECF6\",\"caxis\":{\"gridcolor\":\"white\",\"linecolor\":\"white\",\"ticks\":\"\"}},\"title\":{\"x\":0.05},\"xaxis\":{\"automargin\":true,\"gridcolor\":\"white\",\"linecolor\":\"white\",\"ticks\":\"\",\"title\":{\"standoff\":15},\"zerolinecolor\":\"white\",\"zerolinewidth\":2},\"yaxis\":{\"automargin\":true,\"gridcolor\":\"white\",\"linecolor\":\"white\",\"ticks\":\"\",\"title\":{\"standoff\":15},\"zerolinecolor\":\"white\",\"zerolinewidth\":2}}},\"title\":{\"font\":{\"color\":\"#4D5663\"}},\"xaxis\":{\"gridcolor\":\"#E1E5ED\",\"showgrid\":true,\"tickfont\":{\"color\":\"#4D5663\"},\"title\":{\"font\":{\"color\":\"#4D5663\"},\"text\":\"\"},\"zerolinecolor\":\"#E1E5ED\"},\"yaxis\":{\"gridcolor\":\"#E1E5ED\",\"showgrid\":true,\"tickfont\":{\"color\":\"#4D5663\"},\"title\":{\"font\":{\"color\":\"#4D5663\"},\"text\":\"\"},\"zerolinecolor\":\"#E1E5ED\"}},                        {\"showLink\": true, \"linkText\": \"Export to plot.ly\", \"plotlyServerURL\": \"https://plot.ly\", \"responsive\": true}                    ).then(function(){\n",
       "                            \n",
       "var gd = document.getElementById('a3919fe2-a600-4e1f-b717-afa075ad4fab');\n",
       "var x = new MutationObserver(function (mutations, observer) {{\n",
       "        var display = window.getComputedStyle(gd).display;\n",
       "        if (!display || display === 'none') {{\n",
       "            console.log([gd, 'removed!']);\n",
       "            Plotly.purge(gd);\n",
       "            observer.disconnect();\n",
       "        }}\n",
       "}});\n",
       "\n",
       "// Listen for the removal of the full notebook cells\n",
       "var notebookContainer = gd.closest('#notebook-container');\n",
       "if (notebookContainer) {{\n",
       "    x.observe(notebookContainer, {childList: true});\n",
       "}}\n",
       "\n",
       "// Listen for the clearing of the current output cell\n",
       "var outputEl = gd.closest('.output');\n",
       "if (outputEl) {{\n",
       "    x.observe(outputEl, {childList: true});\n",
       "}}\n",
       "\n",
       "                        })                };                });            </script>        </div>"
      ]
     },
     "metadata": {},
     "output_type": "display_data"
    }
   ],
   "source": [
    "df.iplot(kind='box')"
   ]
  },
  {
   "cell_type": "markdown",
   "metadata": {},
   "source": [
    "## 3d Surface"
   ]
  },
  {
   "cell_type": "code",
   "execution_count": 14,
   "metadata": {},
   "outputs": [
    {
     "data": {
      "application/vnd.plotly.v1+json": {
       "config": {
        "linkText": "Export to plot.ly",
        "plotlyServerURL": "https://plot.ly",
        "showLink": true
       },
       "data": [
        {
         "colorscale": [
          [
           0,
           "rgb(165,0,38)"
          ],
          [
           0.1,
           "rgb(215,48,39)"
          ],
          [
           0.2,
           "rgb(244,109,67)"
          ],
          [
           0.3,
           "rgb(253,174,97)"
          ],
          [
           0.4,
           "rgb(254,224,144)"
          ],
          [
           0.5,
           "rgb(255,255,191)"
          ],
          [
           0.6,
           "rgb(224,243,248)"
          ],
          [
           0.7,
           "rgb(171,217,233)"
          ],
          [
           0.8,
           "rgb(116,173,209)"
          ],
          [
           0.9,
           "rgb(69,117,180)"
          ],
          [
           1,
           "rgb(49,54,149)"
          ]
         ],
         "type": "surface",
         "x": [
          0,
          1,
          2,
          3,
          4
         ],
         "y": [
          "x",
          "y",
          "z"
         ],
         "z": [
          [
           1,
           2,
           3,
           4,
           5
          ],
          [
           10,
           20,
           30,
           20,
           10
          ],
          [
           5,
           4,
           3,
           2,
           1
          ]
         ]
        }
       ],
       "layout": {
        "legend": {
         "bgcolor": "#F5F6F9",
         "font": {
          "color": "#4D5663"
         }
        },
        "paper_bgcolor": "#F5F6F9",
        "plot_bgcolor": "#F5F6F9",
        "template": {
         "data": {
          "bar": [
           {
            "error_x": {
             "color": "#2a3f5f"
            },
            "error_y": {
             "color": "#2a3f5f"
            },
            "marker": {
             "line": {
              "color": "#E5ECF6",
              "width": 0.5
             },
             "pattern": {
              "fillmode": "overlay",
              "size": 10,
              "solidity": 0.2
             }
            },
            "type": "bar"
           }
          ],
          "barpolar": [
           {
            "marker": {
             "line": {
              "color": "#E5ECF6",
              "width": 0.5
             },
             "pattern": {
              "fillmode": "overlay",
              "size": 10,
              "solidity": 0.2
             }
            },
            "type": "barpolar"
           }
          ],
          "carpet": [
           {
            "aaxis": {
             "endlinecolor": "#2a3f5f",
             "gridcolor": "white",
             "linecolor": "white",
             "minorgridcolor": "white",
             "startlinecolor": "#2a3f5f"
            },
            "baxis": {
             "endlinecolor": "#2a3f5f",
             "gridcolor": "white",
             "linecolor": "white",
             "minorgridcolor": "white",
             "startlinecolor": "#2a3f5f"
            },
            "type": "carpet"
           }
          ],
          "choropleth": [
           {
            "colorbar": {
             "outlinewidth": 0,
             "ticks": ""
            },
            "type": "choropleth"
           }
          ],
          "contour": [
           {
            "colorbar": {
             "outlinewidth": 0,
             "ticks": ""
            },
            "colorscale": [
             [
              0,
              "#0d0887"
             ],
             [
              0.1111111111111111,
              "#46039f"
             ],
             [
              0.2222222222222222,
              "#7201a8"
             ],
             [
              0.3333333333333333,
              "#9c179e"
             ],
             [
              0.4444444444444444,
              "#bd3786"
             ],
             [
              0.5555555555555556,
              "#d8576b"
             ],
             [
              0.6666666666666666,
              "#ed7953"
             ],
             [
              0.7777777777777778,
              "#fb9f3a"
             ],
             [
              0.8888888888888888,
              "#fdca26"
             ],
             [
              1,
              "#f0f921"
             ]
            ],
            "type": "contour"
           }
          ],
          "contourcarpet": [
           {
            "colorbar": {
             "outlinewidth": 0,
             "ticks": ""
            },
            "type": "contourcarpet"
           }
          ],
          "heatmap": [
           {
            "colorbar": {
             "outlinewidth": 0,
             "ticks": ""
            },
            "colorscale": [
             [
              0,
              "#0d0887"
             ],
             [
              0.1111111111111111,
              "#46039f"
             ],
             [
              0.2222222222222222,
              "#7201a8"
             ],
             [
              0.3333333333333333,
              "#9c179e"
             ],
             [
              0.4444444444444444,
              "#bd3786"
             ],
             [
              0.5555555555555556,
              "#d8576b"
             ],
             [
              0.6666666666666666,
              "#ed7953"
             ],
             [
              0.7777777777777778,
              "#fb9f3a"
             ],
             [
              0.8888888888888888,
              "#fdca26"
             ],
             [
              1,
              "#f0f921"
             ]
            ],
            "type": "heatmap"
           }
          ],
          "heatmapgl": [
           {
            "colorbar": {
             "outlinewidth": 0,
             "ticks": ""
            },
            "colorscale": [
             [
              0,
              "#0d0887"
             ],
             [
              0.1111111111111111,
              "#46039f"
             ],
             [
              0.2222222222222222,
              "#7201a8"
             ],
             [
              0.3333333333333333,
              "#9c179e"
             ],
             [
              0.4444444444444444,
              "#bd3786"
             ],
             [
              0.5555555555555556,
              "#d8576b"
             ],
             [
              0.6666666666666666,
              "#ed7953"
             ],
             [
              0.7777777777777778,
              "#fb9f3a"
             ],
             [
              0.8888888888888888,
              "#fdca26"
             ],
             [
              1,
              "#f0f921"
             ]
            ],
            "type": "heatmapgl"
           }
          ],
          "histogram": [
           {
            "marker": {
             "pattern": {
              "fillmode": "overlay",
              "size": 10,
              "solidity": 0.2
             }
            },
            "type": "histogram"
           }
          ],
          "histogram2d": [
           {
            "colorbar": {
             "outlinewidth": 0,
             "ticks": ""
            },
            "colorscale": [
             [
              0,
              "#0d0887"
             ],
             [
              0.1111111111111111,
              "#46039f"
             ],
             [
              0.2222222222222222,
              "#7201a8"
             ],
             [
              0.3333333333333333,
              "#9c179e"
             ],
             [
              0.4444444444444444,
              "#bd3786"
             ],
             [
              0.5555555555555556,
              "#d8576b"
             ],
             [
              0.6666666666666666,
              "#ed7953"
             ],
             [
              0.7777777777777778,
              "#fb9f3a"
             ],
             [
              0.8888888888888888,
              "#fdca26"
             ],
             [
              1,
              "#f0f921"
             ]
            ],
            "type": "histogram2d"
           }
          ],
          "histogram2dcontour": [
           {
            "colorbar": {
             "outlinewidth": 0,
             "ticks": ""
            },
            "colorscale": [
             [
              0,
              "#0d0887"
             ],
             [
              0.1111111111111111,
              "#46039f"
             ],
             [
              0.2222222222222222,
              "#7201a8"
             ],
             [
              0.3333333333333333,
              "#9c179e"
             ],
             [
              0.4444444444444444,
              "#bd3786"
             ],
             [
              0.5555555555555556,
              "#d8576b"
             ],
             [
              0.6666666666666666,
              "#ed7953"
             ],
             [
              0.7777777777777778,
              "#fb9f3a"
             ],
             [
              0.8888888888888888,
              "#fdca26"
             ],
             [
              1,
              "#f0f921"
             ]
            ],
            "type": "histogram2dcontour"
           }
          ],
          "mesh3d": [
           {
            "colorbar": {
             "outlinewidth": 0,
             "ticks": ""
            },
            "type": "mesh3d"
           }
          ],
          "parcoords": [
           {
            "line": {
             "colorbar": {
              "outlinewidth": 0,
              "ticks": ""
             }
            },
            "type": "parcoords"
           }
          ],
          "pie": [
           {
            "automargin": true,
            "type": "pie"
           }
          ],
          "scatter": [
           {
            "fillpattern": {
             "fillmode": "overlay",
             "size": 10,
             "solidity": 0.2
            },
            "type": "scatter"
           }
          ],
          "scatter3d": [
           {
            "line": {
             "colorbar": {
              "outlinewidth": 0,
              "ticks": ""
             }
            },
            "marker": {
             "colorbar": {
              "outlinewidth": 0,
              "ticks": ""
             }
            },
            "type": "scatter3d"
           }
          ],
          "scattercarpet": [
           {
            "marker": {
             "colorbar": {
              "outlinewidth": 0,
              "ticks": ""
             }
            },
            "type": "scattercarpet"
           }
          ],
          "scattergeo": [
           {
            "marker": {
             "colorbar": {
              "outlinewidth": 0,
              "ticks": ""
             }
            },
            "type": "scattergeo"
           }
          ],
          "scattergl": [
           {
            "marker": {
             "colorbar": {
              "outlinewidth": 0,
              "ticks": ""
             }
            },
            "type": "scattergl"
           }
          ],
          "scattermapbox": [
           {
            "marker": {
             "colorbar": {
              "outlinewidth": 0,
              "ticks": ""
             }
            },
            "type": "scattermapbox"
           }
          ],
          "scatterpolar": [
           {
            "marker": {
             "colorbar": {
              "outlinewidth": 0,
              "ticks": ""
             }
            },
            "type": "scatterpolar"
           }
          ],
          "scatterpolargl": [
           {
            "marker": {
             "colorbar": {
              "outlinewidth": 0,
              "ticks": ""
             }
            },
            "type": "scatterpolargl"
           }
          ],
          "scatterternary": [
           {
            "marker": {
             "colorbar": {
              "outlinewidth": 0,
              "ticks": ""
             }
            },
            "type": "scatterternary"
           }
          ],
          "surface": [
           {
            "colorbar": {
             "outlinewidth": 0,
             "ticks": ""
            },
            "colorscale": [
             [
              0,
              "#0d0887"
             ],
             [
              0.1111111111111111,
              "#46039f"
             ],
             [
              0.2222222222222222,
              "#7201a8"
             ],
             [
              0.3333333333333333,
              "#9c179e"
             ],
             [
              0.4444444444444444,
              "#bd3786"
             ],
             [
              0.5555555555555556,
              "#d8576b"
             ],
             [
              0.6666666666666666,
              "#ed7953"
             ],
             [
              0.7777777777777778,
              "#fb9f3a"
             ],
             [
              0.8888888888888888,
              "#fdca26"
             ],
             [
              1,
              "#f0f921"
             ]
            ],
            "type": "surface"
           }
          ],
          "table": [
           {
            "cells": {
             "fill": {
              "color": "#EBF0F8"
             },
             "line": {
              "color": "white"
             }
            },
            "header": {
             "fill": {
              "color": "#C8D4E3"
             },
             "line": {
              "color": "white"
             }
            },
            "type": "table"
           }
          ]
         },
         "layout": {
          "annotationdefaults": {
           "arrowcolor": "#2a3f5f",
           "arrowhead": 0,
           "arrowwidth": 1
          },
          "autotypenumbers": "strict",
          "coloraxis": {
           "colorbar": {
            "outlinewidth": 0,
            "ticks": ""
           }
          },
          "colorscale": {
           "diverging": [
            [
             0,
             "#8e0152"
            ],
            [
             0.1,
             "#c51b7d"
            ],
            [
             0.2,
             "#de77ae"
            ],
            [
             0.3,
             "#f1b6da"
            ],
            [
             0.4,
             "#fde0ef"
            ],
            [
             0.5,
             "#f7f7f7"
            ],
            [
             0.6,
             "#e6f5d0"
            ],
            [
             0.7,
             "#b8e186"
            ],
            [
             0.8,
             "#7fbc41"
            ],
            [
             0.9,
             "#4d9221"
            ],
            [
             1,
             "#276419"
            ]
           ],
           "sequential": [
            [
             0,
             "#0d0887"
            ],
            [
             0.1111111111111111,
             "#46039f"
            ],
            [
             0.2222222222222222,
             "#7201a8"
            ],
            [
             0.3333333333333333,
             "#9c179e"
            ],
            [
             0.4444444444444444,
             "#bd3786"
            ],
            [
             0.5555555555555556,
             "#d8576b"
            ],
            [
             0.6666666666666666,
             "#ed7953"
            ],
            [
             0.7777777777777778,
             "#fb9f3a"
            ],
            [
             0.8888888888888888,
             "#fdca26"
            ],
            [
             1,
             "#f0f921"
            ]
           ],
           "sequentialminus": [
            [
             0,
             "#0d0887"
            ],
            [
             0.1111111111111111,
             "#46039f"
            ],
            [
             0.2222222222222222,
             "#7201a8"
            ],
            [
             0.3333333333333333,
             "#9c179e"
            ],
            [
             0.4444444444444444,
             "#bd3786"
            ],
            [
             0.5555555555555556,
             "#d8576b"
            ],
            [
             0.6666666666666666,
             "#ed7953"
            ],
            [
             0.7777777777777778,
             "#fb9f3a"
            ],
            [
             0.8888888888888888,
             "#fdca26"
            ],
            [
             1,
             "#f0f921"
            ]
           ]
          },
          "colorway": [
           "#636efa",
           "#EF553B",
           "#00cc96",
           "#ab63fa",
           "#FFA15A",
           "#19d3f3",
           "#FF6692",
           "#B6E880",
           "#FF97FF",
           "#FECB52"
          ],
          "font": {
           "color": "#2a3f5f"
          },
          "geo": {
           "bgcolor": "white",
           "lakecolor": "white",
           "landcolor": "#E5ECF6",
           "showlakes": true,
           "showland": true,
           "subunitcolor": "white"
          },
          "hoverlabel": {
           "align": "left"
          },
          "hovermode": "closest",
          "mapbox": {
           "style": "light"
          },
          "paper_bgcolor": "white",
          "plot_bgcolor": "#E5ECF6",
          "polar": {
           "angularaxis": {
            "gridcolor": "white",
            "linecolor": "white",
            "ticks": ""
           },
           "bgcolor": "#E5ECF6",
           "radialaxis": {
            "gridcolor": "white",
            "linecolor": "white",
            "ticks": ""
           }
          },
          "scene": {
           "xaxis": {
            "backgroundcolor": "#E5ECF6",
            "gridcolor": "white",
            "gridwidth": 2,
            "linecolor": "white",
            "showbackground": true,
            "ticks": "",
            "zerolinecolor": "white"
           },
           "yaxis": {
            "backgroundcolor": "#E5ECF6",
            "gridcolor": "white",
            "gridwidth": 2,
            "linecolor": "white",
            "showbackground": true,
            "ticks": "",
            "zerolinecolor": "white"
           },
           "zaxis": {
            "backgroundcolor": "#E5ECF6",
            "gridcolor": "white",
            "gridwidth": 2,
            "linecolor": "white",
            "showbackground": true,
            "ticks": "",
            "zerolinecolor": "white"
           }
          },
          "shapedefaults": {
           "line": {
            "color": "#2a3f5f"
           }
          },
          "ternary": {
           "aaxis": {
            "gridcolor": "white",
            "linecolor": "white",
            "ticks": ""
           },
           "baxis": {
            "gridcolor": "white",
            "linecolor": "white",
            "ticks": ""
           },
           "bgcolor": "#E5ECF6",
           "caxis": {
            "gridcolor": "white",
            "linecolor": "white",
            "ticks": ""
           }
          },
          "title": {
           "x": 0.05
          },
          "xaxis": {
           "automargin": true,
           "gridcolor": "white",
           "linecolor": "white",
           "ticks": "",
           "title": {
            "standoff": 15
           },
           "zerolinecolor": "white",
           "zerolinewidth": 2
          },
          "yaxis": {
           "automargin": true,
           "gridcolor": "white",
           "linecolor": "white",
           "ticks": "",
           "title": {
            "standoff": 15
           },
           "zerolinecolor": "white",
           "zerolinewidth": 2
          }
         }
        },
        "title": {
         "font": {
          "color": "#4D5663"
         }
        },
        "xaxis": {
         "gridcolor": "#E1E5ED",
         "showgrid": true,
         "tickfont": {
          "color": "#4D5663"
         },
         "title": {
          "font": {
           "color": "#4D5663"
          },
          "text": ""
         },
         "zerolinecolor": "#E1E5ED"
        },
        "yaxis": {
         "gridcolor": "#E1E5ED",
         "showgrid": true,
         "tickfont": {
          "color": "#4D5663"
         },
         "title": {
          "font": {
           "color": "#4D5663"
          },
          "text": ""
         },
         "zerolinecolor": "#E1E5ED"
        }
       }
      },
      "text/html": [
       "<div>                            <div id=\"25080ac1-ac90-4611-8bab-612801a6190c\" class=\"plotly-graph-div\" style=\"height:525px; width:100%;\"></div>            <script type=\"text/javascript\">                require([\"plotly\"], function(Plotly) {                    window.PLOTLYENV=window.PLOTLYENV || {};\n",
       "                    window.PLOTLYENV.BASE_URL='https://plot.ly';                                    if (document.getElementById(\"25080ac1-ac90-4611-8bab-612801a6190c\")) {                    Plotly.newPlot(                        \"25080ac1-ac90-4611-8bab-612801a6190c\",                        [{\"colorscale\":[[0.0,\"rgb(165,0,38)\"],[0.1,\"rgb(215,48,39)\"],[0.2,\"rgb(244,109,67)\"],[0.3,\"rgb(253,174,97)\"],[0.4,\"rgb(254,224,144)\"],[0.5,\"rgb(255,255,191)\"],[0.6,\"rgb(224,243,248)\"],[0.7,\"rgb(171,217,233)\"],[0.8,\"rgb(116,173,209)\"],[0.9,\"rgb(69,117,180)\"],[1.0,\"rgb(49,54,149)\"]],\"x\":[0,1,2,3,4],\"y\":[\"x\",\"y\",\"z\"],\"z\":[[1,2,3,4,5],[10,20,30,20,10],[5,4,3,2,1]],\"type\":\"surface\"}],                        {\"legend\":{\"bgcolor\":\"#F5F6F9\",\"font\":{\"color\":\"#4D5663\"}},\"paper_bgcolor\":\"#F5F6F9\",\"plot_bgcolor\":\"#F5F6F9\",\"template\":{\"data\":{\"barpolar\":[{\"marker\":{\"line\":{\"color\":\"#E5ECF6\",\"width\":0.5},\"pattern\":{\"fillmode\":\"overlay\",\"size\":10,\"solidity\":0.2}},\"type\":\"barpolar\"}],\"bar\":[{\"error_x\":{\"color\":\"#2a3f5f\"},\"error_y\":{\"color\":\"#2a3f5f\"},\"marker\":{\"line\":{\"color\":\"#E5ECF6\",\"width\":0.5},\"pattern\":{\"fillmode\":\"overlay\",\"size\":10,\"solidity\":0.2}},\"type\":\"bar\"}],\"carpet\":[{\"aaxis\":{\"endlinecolor\":\"#2a3f5f\",\"gridcolor\":\"white\",\"linecolor\":\"white\",\"minorgridcolor\":\"white\",\"startlinecolor\":\"#2a3f5f\"},\"baxis\":{\"endlinecolor\":\"#2a3f5f\",\"gridcolor\":\"white\",\"linecolor\":\"white\",\"minorgridcolor\":\"white\",\"startlinecolor\":\"#2a3f5f\"},\"type\":\"carpet\"}],\"choropleth\":[{\"colorbar\":{\"outlinewidth\":0,\"ticks\":\"\"},\"type\":\"choropleth\"}],\"contourcarpet\":[{\"colorbar\":{\"outlinewidth\":0,\"ticks\":\"\"},\"type\":\"contourcarpet\"}],\"contour\":[{\"colorbar\":{\"outlinewidth\":0,\"ticks\":\"\"},\"colorscale\":[[0.0,\"#0d0887\"],[0.1111111111111111,\"#46039f\"],[0.2222222222222222,\"#7201a8\"],[0.3333333333333333,\"#9c179e\"],[0.4444444444444444,\"#bd3786\"],[0.5555555555555556,\"#d8576b\"],[0.6666666666666666,\"#ed7953\"],[0.7777777777777778,\"#fb9f3a\"],[0.8888888888888888,\"#fdca26\"],[1.0,\"#f0f921\"]],\"type\":\"contour\"}],\"heatmapgl\":[{\"colorbar\":{\"outlinewidth\":0,\"ticks\":\"\"},\"colorscale\":[[0.0,\"#0d0887\"],[0.1111111111111111,\"#46039f\"],[0.2222222222222222,\"#7201a8\"],[0.3333333333333333,\"#9c179e\"],[0.4444444444444444,\"#bd3786\"],[0.5555555555555556,\"#d8576b\"],[0.6666666666666666,\"#ed7953\"],[0.7777777777777778,\"#fb9f3a\"],[0.8888888888888888,\"#fdca26\"],[1.0,\"#f0f921\"]],\"type\":\"heatmapgl\"}],\"heatmap\":[{\"colorbar\":{\"outlinewidth\":0,\"ticks\":\"\"},\"colorscale\":[[0.0,\"#0d0887\"],[0.1111111111111111,\"#46039f\"],[0.2222222222222222,\"#7201a8\"],[0.3333333333333333,\"#9c179e\"],[0.4444444444444444,\"#bd3786\"],[0.5555555555555556,\"#d8576b\"],[0.6666666666666666,\"#ed7953\"],[0.7777777777777778,\"#fb9f3a\"],[0.8888888888888888,\"#fdca26\"],[1.0,\"#f0f921\"]],\"type\":\"heatmap\"}],\"histogram2dcontour\":[{\"colorbar\":{\"outlinewidth\":0,\"ticks\":\"\"},\"colorscale\":[[0.0,\"#0d0887\"],[0.1111111111111111,\"#46039f\"],[0.2222222222222222,\"#7201a8\"],[0.3333333333333333,\"#9c179e\"],[0.4444444444444444,\"#bd3786\"],[0.5555555555555556,\"#d8576b\"],[0.6666666666666666,\"#ed7953\"],[0.7777777777777778,\"#fb9f3a\"],[0.8888888888888888,\"#fdca26\"],[1.0,\"#f0f921\"]],\"type\":\"histogram2dcontour\"}],\"histogram2d\":[{\"colorbar\":{\"outlinewidth\":0,\"ticks\":\"\"},\"colorscale\":[[0.0,\"#0d0887\"],[0.1111111111111111,\"#46039f\"],[0.2222222222222222,\"#7201a8\"],[0.3333333333333333,\"#9c179e\"],[0.4444444444444444,\"#bd3786\"],[0.5555555555555556,\"#d8576b\"],[0.6666666666666666,\"#ed7953\"],[0.7777777777777778,\"#fb9f3a\"],[0.8888888888888888,\"#fdca26\"],[1.0,\"#f0f921\"]],\"type\":\"histogram2d\"}],\"histogram\":[{\"marker\":{\"pattern\":{\"fillmode\":\"overlay\",\"size\":10,\"solidity\":0.2}},\"type\":\"histogram\"}],\"mesh3d\":[{\"colorbar\":{\"outlinewidth\":0,\"ticks\":\"\"},\"type\":\"mesh3d\"}],\"parcoords\":[{\"line\":{\"colorbar\":{\"outlinewidth\":0,\"ticks\":\"\"}},\"type\":\"parcoords\"}],\"pie\":[{\"automargin\":true,\"type\":\"pie\"}],\"scatter3d\":[{\"line\":{\"colorbar\":{\"outlinewidth\":0,\"ticks\":\"\"}},\"marker\":{\"colorbar\":{\"outlinewidth\":0,\"ticks\":\"\"}},\"type\":\"scatter3d\"}],\"scattercarpet\":[{\"marker\":{\"colorbar\":{\"outlinewidth\":0,\"ticks\":\"\"}},\"type\":\"scattercarpet\"}],\"scattergeo\":[{\"marker\":{\"colorbar\":{\"outlinewidth\":0,\"ticks\":\"\"}},\"type\":\"scattergeo\"}],\"scattergl\":[{\"marker\":{\"colorbar\":{\"outlinewidth\":0,\"ticks\":\"\"}},\"type\":\"scattergl\"}],\"scattermapbox\":[{\"marker\":{\"colorbar\":{\"outlinewidth\":0,\"ticks\":\"\"}},\"type\":\"scattermapbox\"}],\"scatterpolargl\":[{\"marker\":{\"colorbar\":{\"outlinewidth\":0,\"ticks\":\"\"}},\"type\":\"scatterpolargl\"}],\"scatterpolar\":[{\"marker\":{\"colorbar\":{\"outlinewidth\":0,\"ticks\":\"\"}},\"type\":\"scatterpolar\"}],\"scatter\":[{\"fillpattern\":{\"fillmode\":\"overlay\",\"size\":10,\"solidity\":0.2},\"type\":\"scatter\"}],\"scatterternary\":[{\"marker\":{\"colorbar\":{\"outlinewidth\":0,\"ticks\":\"\"}},\"type\":\"scatterternary\"}],\"surface\":[{\"colorbar\":{\"outlinewidth\":0,\"ticks\":\"\"},\"colorscale\":[[0.0,\"#0d0887\"],[0.1111111111111111,\"#46039f\"],[0.2222222222222222,\"#7201a8\"],[0.3333333333333333,\"#9c179e\"],[0.4444444444444444,\"#bd3786\"],[0.5555555555555556,\"#d8576b\"],[0.6666666666666666,\"#ed7953\"],[0.7777777777777778,\"#fb9f3a\"],[0.8888888888888888,\"#fdca26\"],[1.0,\"#f0f921\"]],\"type\":\"surface\"}],\"table\":[{\"cells\":{\"fill\":{\"color\":\"#EBF0F8\"},\"line\":{\"color\":\"white\"}},\"header\":{\"fill\":{\"color\":\"#C8D4E3\"},\"line\":{\"color\":\"white\"}},\"type\":\"table\"}]},\"layout\":{\"annotationdefaults\":{\"arrowcolor\":\"#2a3f5f\",\"arrowhead\":0,\"arrowwidth\":1},\"autotypenumbers\":\"strict\",\"coloraxis\":{\"colorbar\":{\"outlinewidth\":0,\"ticks\":\"\"}},\"colorscale\":{\"diverging\":[[0,\"#8e0152\"],[0.1,\"#c51b7d\"],[0.2,\"#de77ae\"],[0.3,\"#f1b6da\"],[0.4,\"#fde0ef\"],[0.5,\"#f7f7f7\"],[0.6,\"#e6f5d0\"],[0.7,\"#b8e186\"],[0.8,\"#7fbc41\"],[0.9,\"#4d9221\"],[1,\"#276419\"]],\"sequential\":[[0.0,\"#0d0887\"],[0.1111111111111111,\"#46039f\"],[0.2222222222222222,\"#7201a8\"],[0.3333333333333333,\"#9c179e\"],[0.4444444444444444,\"#bd3786\"],[0.5555555555555556,\"#d8576b\"],[0.6666666666666666,\"#ed7953\"],[0.7777777777777778,\"#fb9f3a\"],[0.8888888888888888,\"#fdca26\"],[1.0,\"#f0f921\"]],\"sequentialminus\":[[0.0,\"#0d0887\"],[0.1111111111111111,\"#46039f\"],[0.2222222222222222,\"#7201a8\"],[0.3333333333333333,\"#9c179e\"],[0.4444444444444444,\"#bd3786\"],[0.5555555555555556,\"#d8576b\"],[0.6666666666666666,\"#ed7953\"],[0.7777777777777778,\"#fb9f3a\"],[0.8888888888888888,\"#fdca26\"],[1.0,\"#f0f921\"]]},\"colorway\":[\"#636efa\",\"#EF553B\",\"#00cc96\",\"#ab63fa\",\"#FFA15A\",\"#19d3f3\",\"#FF6692\",\"#B6E880\",\"#FF97FF\",\"#FECB52\"],\"font\":{\"color\":\"#2a3f5f\"},\"geo\":{\"bgcolor\":\"white\",\"lakecolor\":\"white\",\"landcolor\":\"#E5ECF6\",\"showlakes\":true,\"showland\":true,\"subunitcolor\":\"white\"},\"hoverlabel\":{\"align\":\"left\"},\"hovermode\":\"closest\",\"mapbox\":{\"style\":\"light\"},\"paper_bgcolor\":\"white\",\"plot_bgcolor\":\"#E5ECF6\",\"polar\":{\"angularaxis\":{\"gridcolor\":\"white\",\"linecolor\":\"white\",\"ticks\":\"\"},\"bgcolor\":\"#E5ECF6\",\"radialaxis\":{\"gridcolor\":\"white\",\"linecolor\":\"white\",\"ticks\":\"\"}},\"scene\":{\"xaxis\":{\"backgroundcolor\":\"#E5ECF6\",\"gridcolor\":\"white\",\"gridwidth\":2,\"linecolor\":\"white\",\"showbackground\":true,\"ticks\":\"\",\"zerolinecolor\":\"white\"},\"yaxis\":{\"backgroundcolor\":\"#E5ECF6\",\"gridcolor\":\"white\",\"gridwidth\":2,\"linecolor\":\"white\",\"showbackground\":true,\"ticks\":\"\",\"zerolinecolor\":\"white\"},\"zaxis\":{\"backgroundcolor\":\"#E5ECF6\",\"gridcolor\":\"white\",\"gridwidth\":2,\"linecolor\":\"white\",\"showbackground\":true,\"ticks\":\"\",\"zerolinecolor\":\"white\"}},\"shapedefaults\":{\"line\":{\"color\":\"#2a3f5f\"}},\"ternary\":{\"aaxis\":{\"gridcolor\":\"white\",\"linecolor\":\"white\",\"ticks\":\"\"},\"baxis\":{\"gridcolor\":\"white\",\"linecolor\":\"white\",\"ticks\":\"\"},\"bgcolor\":\"#E5ECF6\",\"caxis\":{\"gridcolor\":\"white\",\"linecolor\":\"white\",\"ticks\":\"\"}},\"title\":{\"x\":0.05},\"xaxis\":{\"automargin\":true,\"gridcolor\":\"white\",\"linecolor\":\"white\",\"ticks\":\"\",\"title\":{\"standoff\":15},\"zerolinecolor\":\"white\",\"zerolinewidth\":2},\"yaxis\":{\"automargin\":true,\"gridcolor\":\"white\",\"linecolor\":\"white\",\"ticks\":\"\",\"title\":{\"standoff\":15},\"zerolinecolor\":\"white\",\"zerolinewidth\":2}}},\"title\":{\"font\":{\"color\":\"#4D5663\"}},\"xaxis\":{\"gridcolor\":\"#E1E5ED\",\"showgrid\":true,\"tickfont\":{\"color\":\"#4D5663\"},\"title\":{\"font\":{\"color\":\"#4D5663\"},\"text\":\"\"},\"zerolinecolor\":\"#E1E5ED\"},\"yaxis\":{\"gridcolor\":\"#E1E5ED\",\"showgrid\":true,\"tickfont\":{\"color\":\"#4D5663\"},\"title\":{\"font\":{\"color\":\"#4D5663\"},\"text\":\"\"},\"zerolinecolor\":\"#E1E5ED\"}},                        {\"showLink\": true, \"linkText\": \"Export to plot.ly\", \"plotlyServerURL\": \"https://plot.ly\", \"responsive\": true}                    ).then(function(){\n",
       "                            \n",
       "var gd = document.getElementById('25080ac1-ac90-4611-8bab-612801a6190c');\n",
       "var x = new MutationObserver(function (mutations, observer) {{\n",
       "        var display = window.getComputedStyle(gd).display;\n",
       "        if (!display || display === 'none') {{\n",
       "            console.log([gd, 'removed!']);\n",
       "            Plotly.purge(gd);\n",
       "            observer.disconnect();\n",
       "        }}\n",
       "}});\n",
       "\n",
       "// Listen for the removal of the full notebook cells\n",
       "var notebookContainer = gd.closest('#notebook-container');\n",
       "if (notebookContainer) {{\n",
       "    x.observe(notebookContainer, {childList: true});\n",
       "}}\n",
       "\n",
       "// Listen for the clearing of the current output cell\n",
       "var outputEl = gd.closest('.output');\n",
       "if (outputEl) {{\n",
       "    x.observe(outputEl, {childList: true});\n",
       "}}\n",
       "\n",
       "                        })                };                });            </script>        </div>"
      ]
     },
     "metadata": {},
     "output_type": "display_data"
    }
   ],
   "source": [
    "df3 = pd.DataFrame({'x':[1,2,3,4,5],'y':[10,20,30,20,10],'z':[5,4,3,2,1]})\n",
    "df3.iplot(kind='surface',colorscale='rdylbu')"
   ]
  },
  {
   "cell_type": "markdown",
   "metadata": {},
   "source": [
    "## Spread"
   ]
  },
  {
   "cell_type": "code",
   "execution_count": 15,
   "metadata": {},
   "outputs": [
    {
     "name": "stderr",
     "output_type": "stream",
     "text": [
      "C:\\Users\\PC\\miniconda3\\envs\\test\\lib\\site-packages\\cufflinks\\plotlytools.py:849: FutureWarning:\n",
      "\n",
      "The pandas.np module is deprecated and will be removed from pandas in a future version. Import numpy directly instead.\n",
      "\n",
      "C:\\Users\\PC\\miniconda3\\envs\\test\\lib\\site-packages\\cufflinks\\plotlytools.py:850: FutureWarning:\n",
      "\n",
      "The pandas.np module is deprecated and will be removed from pandas in a future version. Import numpy directly instead.\n",
      "\n"
     ]
    },
    {
     "data": {
      "application/vnd.plotly.v1+json": {
       "config": {
        "linkText": "Export to plot.ly",
        "plotlyServerURL": "https://plot.ly",
        "showLink": true
       },
       "data": [
        {
         "line": {
          "color": "rgba(255, 153, 51, 1.0)",
          "dash": "solid",
          "shape": "linear",
          "width": 1.3
         },
         "mode": "lines",
         "name": "A",
         "text": "",
         "type": "scatter",
         "x": [
          0,
          1,
          2,
          3,
          4,
          5,
          6,
          7,
          8,
          9,
          10,
          11,
          12,
          13,
          14,
          15,
          16,
          17,
          18,
          19,
          20,
          21,
          22,
          23,
          24,
          25,
          26,
          27,
          28,
          29,
          30,
          31,
          32,
          33,
          34,
          35,
          36,
          37,
          38,
          39,
          40,
          41,
          42,
          43,
          44,
          45,
          46,
          47,
          48,
          49,
          50,
          51,
          52,
          53,
          54,
          55,
          56,
          57,
          58,
          59,
          60,
          61,
          62,
          63,
          64,
          65,
          66,
          67,
          68,
          69,
          70,
          71,
          72,
          73,
          74,
          75,
          76,
          77,
          78,
          79,
          80,
          81,
          82,
          83,
          84,
          85,
          86,
          87,
          88,
          89,
          90,
          91,
          92,
          93,
          94,
          95,
          96,
          97,
          98,
          99
         ],
         "y": [
          0.9483710285820001,
          -0.16435447117281413,
          0.6477051568801235,
          -2.273255312123948,
          -0.19536853035988794,
          -0.2118342237334965,
          1.969900103972678,
          -0.1496270218197629,
          -0.007020860163975405,
          0.4772917949028792,
          -2.296838980325794,
          -0.37000166265522116,
          0.34406523866400957,
          -0.29030028397892893,
          0.6878914949832962,
          0.5433316282880948,
          -0.40987022829918446,
          -0.3508115673844667,
          -0.3559125754431757,
          -1.1483952719332804,
          -0.8767453817952463,
          1.92278265358688,
          0.5770428505914557,
          0.02435312488294865,
          1.4107386803936892,
          -0.06322763639530866,
          -0.01795897935142888,
          -0.18530147911972034,
          -0.3659190731162389,
          1.3165523507978518,
          -0.792171042599313,
          -0.1554692689441983,
          -1.8409931154929848,
          0.1764468915089469,
          -0.30909415815164737,
          1.0632814501247938,
          0.26234545224339956,
          -1.5873657519214601,
          -1.6473598175363953,
          -0.6318463303111566,
          1.0543085403294332,
          1.246304011828692,
          -0.21144922670508443,
          -0.23589096320737366,
          -0.09395250356688174,
          0.0707249247579655,
          -0.6400009901335901,
          1.351331165453697,
          -1.1313727968282254,
          -0.7647615927907178,
          -0.8079994094244998,
          1.5607430028744744,
          -0.3620125847729232,
          1.6051928605447752,
          -0.2644213070910263,
          0.15301454089392363,
          -1.384940783808886,
          0.9569667644612428,
          1.0098032757966096,
          0.05981939777514478,
          -0.4063321066711721,
          -0.10489950599416006,
          0.4405417746248789,
          1.5885797975649483,
          -0.2123877545633354,
          0.7896146361235454,
          -0.25786433842463086,
          1.1631727044468283,
          0.8893538473792952,
          -0.605977484901111,
          -2.2759457922899493,
          -0.30667550908424834,
          -0.8241615883865696,
          -0.812670431832529,
          0.33268905472604193,
          0.23563136424290237,
          0.4578026499023031,
          0.7315995846678012,
          -1.7286130927550594,
          -0.24475898061728274,
          0.04932267359327156,
          0.09850376427288944,
          0.886720450911329,
          -0.17577082586457415,
          1.6183992637484683,
          1.1184599011461407,
          1.0592831356401937,
          0.04909605784286992,
          0.0490338970942655,
          -1.5413799533062233,
          -0.6846783116080516,
          0.28934161302670924,
          -1.5812189138833908,
          -0.551058815311809,
          -0.14210452149120745,
          1.132681638282884,
          -1.4845447509762713,
          0.7275497759426459,
          -0.9247206532943602,
          -0.10781768148384203
         ]
        },
        {
         "line": {
          "color": "rgba(55, 128, 191, 1.0)",
          "dash": "solid",
          "shape": "linear",
          "width": 1.3
         },
         "mode": "lines",
         "name": "B",
         "text": "",
         "type": "scatter",
         "x": [
          0,
          1,
          2,
          3,
          4,
          5,
          6,
          7,
          8,
          9,
          10,
          11,
          12,
          13,
          14,
          15,
          16,
          17,
          18,
          19,
          20,
          21,
          22,
          23,
          24,
          25,
          26,
          27,
          28,
          29,
          30,
          31,
          32,
          33,
          34,
          35,
          36,
          37,
          38,
          39,
          40,
          41,
          42,
          43,
          44,
          45,
          46,
          47,
          48,
          49,
          50,
          51,
          52,
          53,
          54,
          55,
          56,
          57,
          58,
          59,
          60,
          61,
          62,
          63,
          64,
          65,
          66,
          67,
          68,
          69,
          70,
          71,
          72,
          73,
          74,
          75,
          76,
          77,
          78,
          79,
          80,
          81,
          82,
          83,
          84,
          85,
          86,
          87,
          88,
          89,
          90,
          91,
          92,
          93,
          94,
          95,
          96,
          97,
          98,
          99
         ],
         "y": [
          0.6951956068812144,
          0.49725417558382046,
          0.6087143272319379,
          0.10112467773010585,
          2.323613568869922,
          -0.24534012165281577,
          -1.588981039176941,
          0.5649426863896487,
          -1.061003385941566,
          1.046139137247561,
          -1.429030819194681,
          -0.6721985390439421,
          0.7446491237600207,
          -1.194499495828478,
          -0.22504824095902065,
          -0.3974007034506707,
          1.536542067477092,
          -0.39250064016403163,
          0.9523164329683868,
          -1.8573519129338643,
          1.3006210941603213,
          -0.5528283250328027,
          -0.6977698963321508,
          1.2942172706712607,
          -1.1549871293902265,
          0.25272725615392627,
          0.8445125936973771,
          -2.4699306276453563,
          -0.31190850791083896,
          1.2259265317416355,
          0.48418414451155,
          0.5649252815461252,
          0.14138713508186163,
          1.938355457479299,
          -1.0465970402655622,
          -1.3816713931096485,
          -0.8790836945117418,
          -0.8016568421156806,
          -0.03807425182074729,
          1.512011476372494,
          -0.358844527962155,
          1.7906226715812434,
          0.696488767895237,
          -0.2677337901158682,
          1.3042993099547446,
          -0.32026858309367945,
          -0.07720683218039519,
          -0.634742010310217,
          0.7603041907311168,
          1.5805588555198649,
          -0.1989611304897986,
          0.7220453059317153,
          0.5692340768872667,
          -0.25156765622962063,
          0.8092358452271889,
          1.0885470599932183,
          0.45062822224819526,
          -0.013762313193872652,
          0.5912886501401902,
          -0.7423096218981617,
          0.9382882421920437,
          0.08293536258955617,
          0.8345857880588031,
          -0.716795511109764,
          0.36263691765918415,
          -0.9270008736821341,
          -0.6838395828920901,
          0.8694508382211932,
          -0.2347351263121534,
          1.8793424244484218,
          -1.269768586915114,
          0.5573369027699515,
          0.6817476354328097,
          -0.20346366467539387,
          0.21314857289525754,
          -0.30799604434693434,
          0.366574150799827,
          2.171757651011116,
          -0.8840881683355313,
          -0.1636449694274178,
          -1.266223369167309,
          -0.7745833709493388,
          0.6283851977513192,
          1.2378303894503486,
          0.5122696947240207,
          -0.9102284691228753,
          -0.619141770208701,
          1.0581714210855506,
          -1.7158268206733926,
          -1.3392909615359103,
          -0.1580198932356279,
          0.711646018189122,
          0.8383109344980673,
          -0.2850035136230021,
          0.007760260934558799,
          0.3489907751758173,
          0.06754387559919373,
          -1.6012150819873734,
          0.6283008119768948,
          -0.7677935023498129
         ]
        },
        {
         "connectgaps": false,
         "fill": "tozeroy",
         "line": {
          "color": "green",
          "dash": "solid",
          "shape": "linear",
          "width": 0.5
         },
         "mode": "lines",
         "name": "Spread",
         "showlegend": false,
         "type": "scatter",
         "x": [
          0,
          1,
          2,
          3,
          4,
          5,
          6,
          7,
          8,
          9,
          10,
          11,
          12,
          13,
          14,
          15,
          16,
          17,
          18,
          19,
          20,
          21,
          22,
          23,
          24,
          25,
          26,
          27,
          28,
          29,
          30,
          31,
          32,
          33,
          34,
          35,
          36,
          37,
          38,
          39,
          40,
          41,
          42,
          43,
          44,
          45,
          46,
          47,
          48,
          49,
          50,
          51,
          52,
          53,
          54,
          55,
          56,
          57,
          58,
          59,
          60,
          61,
          62,
          63,
          64,
          65,
          66,
          67,
          68,
          69,
          70,
          71,
          72,
          73,
          74,
          75,
          76,
          77,
          78,
          79,
          80,
          81,
          82,
          83,
          84,
          85,
          86,
          87,
          88,
          89,
          90,
          91,
          92,
          93,
          94,
          95,
          96,
          97,
          98,
          99
         ],
         "xaxis": "x2",
         "y": [
          0.25317542170078566,
          "",
          0.038990829648185676,
          "",
          "",
          0.033505897919319266,
          3.558881143149619,
          "",
          1.0539825257775906,
          "",
          "",
          0.30219687638872095,
          "",
          0.9041992118495491,
          0.9129397359423168,
          0.9407323317387655,
          "",
          0.041689072779564906,
          "",
          0.7089566410005839,
          "",
          2.4756109786196827,
          1.2748127469236064,
          "",
          2.565725809783916,
          "",
          "",
          2.284629148525636,
          "",
          0.09062581905621636,
          "",
          "",
          "",
          "",
          0.7375028821139149,
          2.444952843234442,
          1.1414291467551414,
          "",
          "",
          "",
          1.4131530682915883,
          "",
          "",
          0.03184282690849452,
          "",
          0.39099350785164494,
          "",
          1.986073175763914,
          "",
          "",
          "",
          0.8386976969427591,
          "",
          1.8567605167743957,
          "",
          "",
          "",
          0.9707290776551155,
          0.4185146256564194,
          0.8021290196733065,
          "",
          "",
          "",
          2.305375308674712,
          "",
          1.7166155098056795,
          0.42597524446745927,
          0.2937218662256351,
          1.1240889736914486,
          "",
          "",
          "",
          "",
          "",
          0.11954048183078439,
          0.5436274085898367,
          0.0912284991024761,
          "",
          "",
          "",
          1.3155460427605805,
          0.8730871352222282,
          0.2583352531600098,
          "",
          1.1061295690244477,
          2.028688370269016,
          1.6784249058488947,
          "",
          1.764860717767658,
          "",
          "",
          "",
          "",
          "",
          "",
          0.7836908631070667,
          "",
          2.328764857930019,
          "",
          0.6599758208659708
         ],
         "yaxis": "y2"
        },
        {
         "connectgaps": false,
         "fill": "tozeroy",
         "line": {
          "color": "red",
          "dash": "solid",
          "shape": "linear",
          "width": 0.5
         },
         "mode": "lines",
         "name": "Spread",
         "showlegend": false,
         "type": "scatter",
         "x": [
          0,
          1,
          2,
          3,
          4,
          5,
          6,
          7,
          8,
          9,
          10,
          11,
          12,
          13,
          14,
          15,
          16,
          17,
          18,
          19,
          20,
          21,
          22,
          23,
          24,
          25,
          26,
          27,
          28,
          29,
          30,
          31,
          32,
          33,
          34,
          35,
          36,
          37,
          38,
          39,
          40,
          41,
          42,
          43,
          44,
          45,
          46,
          47,
          48,
          49,
          50,
          51,
          52,
          53,
          54,
          55,
          56,
          57,
          58,
          59,
          60,
          61,
          62,
          63,
          64,
          65,
          66,
          67,
          68,
          69,
          70,
          71,
          72,
          73,
          74,
          75,
          76,
          77,
          78,
          79,
          80,
          81,
          82,
          83,
          84,
          85,
          86,
          87,
          88,
          89,
          90,
          91,
          92,
          93,
          94,
          95,
          96,
          97,
          98,
          99
         ],
         "xaxis": "x2",
         "y": [
          "",
          -0.6616086467566346,
          "",
          -2.3743799898540536,
          -2.51898209922981,
          "",
          "",
          -0.7145697082094116,
          "",
          -0.5688473423446818,
          -0.867808161131113,
          "",
          -0.4005838850960111,
          "",
          "",
          "",
          -1.9464122957762764,
          "",
          -1.3082290084115624,
          "",
          -2.1773664759555675,
          "",
          "",
          -1.269864145788312,
          "",
          -0.3159548925492349,
          -0.862471573048806,
          "",
          -0.05401056520539993,
          "",
          -1.276355187110863,
          -0.7203945504903235,
          -1.9823802505748465,
          -1.761908565970352,
          "",
          "",
          "",
          -0.7857089098057796,
          -1.609285565715648,
          -2.1438578066836502,
          "",
          -0.5443186597525513,
          -0.9079379946003214,
          "",
          -1.3982518135216264,
          "",
          -0.562794157953195,
          "",
          -1.8916769875593422,
          -2.3453204483105825,
          -0.6090382789347012,
          "",
          -0.9312466616601899,
          "",
          -1.0736571523182152,
          -0.9355325190992947,
          -1.8355690060570813,
          "",
          "",
          "",
          -1.3446203488632158,
          -0.18783486858371623,
          -0.3940440134339242,
          "",
          -0.5750246722225195,
          "",
          "",
          "",
          "",
          -2.485319909349533,
          -1.0061772053748352,
          -0.8640124118541999,
          -1.5059092238193794,
          -0.6092067671571351,
          "",
          "",
          "",
          -1.440158066343315,
          -0.8445249244195281,
          -0.08111401118986494,
          "",
          "",
          "",
          -1.4136012153149227,
          "",
          "",
          "",
          -1.0090753632426808,
          "",
          -0.20208899177031303,
          -0.5266584183724237,
          -0.42230440516241274,
          -2.4195298483814582,
          -0.2660553016888069,
          -0.14986478242576626,
          "",
          -1.552088626575465,
          "",
          -1.553021465271255,
          ""
         ],
         "yaxis": "y2"
        }
       ],
       "layout": {
        "hovermode": "x",
        "legend": {
         "bgcolor": "#F5F6F9",
         "font": {
          "color": "#4D5663"
         }
        },
        "paper_bgcolor": "#F5F6F9",
        "plot_bgcolor": "#F5F6F9",
        "template": {
         "data": {
          "bar": [
           {
            "error_x": {
             "color": "#2a3f5f"
            },
            "error_y": {
             "color": "#2a3f5f"
            },
            "marker": {
             "line": {
              "color": "#E5ECF6",
              "width": 0.5
             },
             "pattern": {
              "fillmode": "overlay",
              "size": 10,
              "solidity": 0.2
             }
            },
            "type": "bar"
           }
          ],
          "barpolar": [
           {
            "marker": {
             "line": {
              "color": "#E5ECF6",
              "width": 0.5
             },
             "pattern": {
              "fillmode": "overlay",
              "size": 10,
              "solidity": 0.2
             }
            },
            "type": "barpolar"
           }
          ],
          "carpet": [
           {
            "aaxis": {
             "endlinecolor": "#2a3f5f",
             "gridcolor": "white",
             "linecolor": "white",
             "minorgridcolor": "white",
             "startlinecolor": "#2a3f5f"
            },
            "baxis": {
             "endlinecolor": "#2a3f5f",
             "gridcolor": "white",
             "linecolor": "white",
             "minorgridcolor": "white",
             "startlinecolor": "#2a3f5f"
            },
            "type": "carpet"
           }
          ],
          "choropleth": [
           {
            "colorbar": {
             "outlinewidth": 0,
             "ticks": ""
            },
            "type": "choropleth"
           }
          ],
          "contour": [
           {
            "colorbar": {
             "outlinewidth": 0,
             "ticks": ""
            },
            "colorscale": [
             [
              0,
              "#0d0887"
             ],
             [
              0.1111111111111111,
              "#46039f"
             ],
             [
              0.2222222222222222,
              "#7201a8"
             ],
             [
              0.3333333333333333,
              "#9c179e"
             ],
             [
              0.4444444444444444,
              "#bd3786"
             ],
             [
              0.5555555555555556,
              "#d8576b"
             ],
             [
              0.6666666666666666,
              "#ed7953"
             ],
             [
              0.7777777777777778,
              "#fb9f3a"
             ],
             [
              0.8888888888888888,
              "#fdca26"
             ],
             [
              1,
              "#f0f921"
             ]
            ],
            "type": "contour"
           }
          ],
          "contourcarpet": [
           {
            "colorbar": {
             "outlinewidth": 0,
             "ticks": ""
            },
            "type": "contourcarpet"
           }
          ],
          "heatmap": [
           {
            "colorbar": {
             "outlinewidth": 0,
             "ticks": ""
            },
            "colorscale": [
             [
              0,
              "#0d0887"
             ],
             [
              0.1111111111111111,
              "#46039f"
             ],
             [
              0.2222222222222222,
              "#7201a8"
             ],
             [
              0.3333333333333333,
              "#9c179e"
             ],
             [
              0.4444444444444444,
              "#bd3786"
             ],
             [
              0.5555555555555556,
              "#d8576b"
             ],
             [
              0.6666666666666666,
              "#ed7953"
             ],
             [
              0.7777777777777778,
              "#fb9f3a"
             ],
             [
              0.8888888888888888,
              "#fdca26"
             ],
             [
              1,
              "#f0f921"
             ]
            ],
            "type": "heatmap"
           }
          ],
          "heatmapgl": [
           {
            "colorbar": {
             "outlinewidth": 0,
             "ticks": ""
            },
            "colorscale": [
             [
              0,
              "#0d0887"
             ],
             [
              0.1111111111111111,
              "#46039f"
             ],
             [
              0.2222222222222222,
              "#7201a8"
             ],
             [
              0.3333333333333333,
              "#9c179e"
             ],
             [
              0.4444444444444444,
              "#bd3786"
             ],
             [
              0.5555555555555556,
              "#d8576b"
             ],
             [
              0.6666666666666666,
              "#ed7953"
             ],
             [
              0.7777777777777778,
              "#fb9f3a"
             ],
             [
              0.8888888888888888,
              "#fdca26"
             ],
             [
              1,
              "#f0f921"
             ]
            ],
            "type": "heatmapgl"
           }
          ],
          "histogram": [
           {
            "marker": {
             "pattern": {
              "fillmode": "overlay",
              "size": 10,
              "solidity": 0.2
             }
            },
            "type": "histogram"
           }
          ],
          "histogram2d": [
           {
            "colorbar": {
             "outlinewidth": 0,
             "ticks": ""
            },
            "colorscale": [
             [
              0,
              "#0d0887"
             ],
             [
              0.1111111111111111,
              "#46039f"
             ],
             [
              0.2222222222222222,
              "#7201a8"
             ],
             [
              0.3333333333333333,
              "#9c179e"
             ],
             [
              0.4444444444444444,
              "#bd3786"
             ],
             [
              0.5555555555555556,
              "#d8576b"
             ],
             [
              0.6666666666666666,
              "#ed7953"
             ],
             [
              0.7777777777777778,
              "#fb9f3a"
             ],
             [
              0.8888888888888888,
              "#fdca26"
             ],
             [
              1,
              "#f0f921"
             ]
            ],
            "type": "histogram2d"
           }
          ],
          "histogram2dcontour": [
           {
            "colorbar": {
             "outlinewidth": 0,
             "ticks": ""
            },
            "colorscale": [
             [
              0,
              "#0d0887"
             ],
             [
              0.1111111111111111,
              "#46039f"
             ],
             [
              0.2222222222222222,
              "#7201a8"
             ],
             [
              0.3333333333333333,
              "#9c179e"
             ],
             [
              0.4444444444444444,
              "#bd3786"
             ],
             [
              0.5555555555555556,
              "#d8576b"
             ],
             [
              0.6666666666666666,
              "#ed7953"
             ],
             [
              0.7777777777777778,
              "#fb9f3a"
             ],
             [
              0.8888888888888888,
              "#fdca26"
             ],
             [
              1,
              "#f0f921"
             ]
            ],
            "type": "histogram2dcontour"
           }
          ],
          "mesh3d": [
           {
            "colorbar": {
             "outlinewidth": 0,
             "ticks": ""
            },
            "type": "mesh3d"
           }
          ],
          "parcoords": [
           {
            "line": {
             "colorbar": {
              "outlinewidth": 0,
              "ticks": ""
             }
            },
            "type": "parcoords"
           }
          ],
          "pie": [
           {
            "automargin": true,
            "type": "pie"
           }
          ],
          "scatter": [
           {
            "fillpattern": {
             "fillmode": "overlay",
             "size": 10,
             "solidity": 0.2
            },
            "type": "scatter"
           }
          ],
          "scatter3d": [
           {
            "line": {
             "colorbar": {
              "outlinewidth": 0,
              "ticks": ""
             }
            },
            "marker": {
             "colorbar": {
              "outlinewidth": 0,
              "ticks": ""
             }
            },
            "type": "scatter3d"
           }
          ],
          "scattercarpet": [
           {
            "marker": {
             "colorbar": {
              "outlinewidth": 0,
              "ticks": ""
             }
            },
            "type": "scattercarpet"
           }
          ],
          "scattergeo": [
           {
            "marker": {
             "colorbar": {
              "outlinewidth": 0,
              "ticks": ""
             }
            },
            "type": "scattergeo"
           }
          ],
          "scattergl": [
           {
            "marker": {
             "colorbar": {
              "outlinewidth": 0,
              "ticks": ""
             }
            },
            "type": "scattergl"
           }
          ],
          "scattermapbox": [
           {
            "marker": {
             "colorbar": {
              "outlinewidth": 0,
              "ticks": ""
             }
            },
            "type": "scattermapbox"
           }
          ],
          "scatterpolar": [
           {
            "marker": {
             "colorbar": {
              "outlinewidth": 0,
              "ticks": ""
             }
            },
            "type": "scatterpolar"
           }
          ],
          "scatterpolargl": [
           {
            "marker": {
             "colorbar": {
              "outlinewidth": 0,
              "ticks": ""
             }
            },
            "type": "scatterpolargl"
           }
          ],
          "scatterternary": [
           {
            "marker": {
             "colorbar": {
              "outlinewidth": 0,
              "ticks": ""
             }
            },
            "type": "scatterternary"
           }
          ],
          "surface": [
           {
            "colorbar": {
             "outlinewidth": 0,
             "ticks": ""
            },
            "colorscale": [
             [
              0,
              "#0d0887"
             ],
             [
              0.1111111111111111,
              "#46039f"
             ],
             [
              0.2222222222222222,
              "#7201a8"
             ],
             [
              0.3333333333333333,
              "#9c179e"
             ],
             [
              0.4444444444444444,
              "#bd3786"
             ],
             [
              0.5555555555555556,
              "#d8576b"
             ],
             [
              0.6666666666666666,
              "#ed7953"
             ],
             [
              0.7777777777777778,
              "#fb9f3a"
             ],
             [
              0.8888888888888888,
              "#fdca26"
             ],
             [
              1,
              "#f0f921"
             ]
            ],
            "type": "surface"
           }
          ],
          "table": [
           {
            "cells": {
             "fill": {
              "color": "#EBF0F8"
             },
             "line": {
              "color": "white"
             }
            },
            "header": {
             "fill": {
              "color": "#C8D4E3"
             },
             "line": {
              "color": "white"
             }
            },
            "type": "table"
           }
          ]
         },
         "layout": {
          "annotationdefaults": {
           "arrowcolor": "#2a3f5f",
           "arrowhead": 0,
           "arrowwidth": 1
          },
          "autotypenumbers": "strict",
          "coloraxis": {
           "colorbar": {
            "outlinewidth": 0,
            "ticks": ""
           }
          },
          "colorscale": {
           "diverging": [
            [
             0,
             "#8e0152"
            ],
            [
             0.1,
             "#c51b7d"
            ],
            [
             0.2,
             "#de77ae"
            ],
            [
             0.3,
             "#f1b6da"
            ],
            [
             0.4,
             "#fde0ef"
            ],
            [
             0.5,
             "#f7f7f7"
            ],
            [
             0.6,
             "#e6f5d0"
            ],
            [
             0.7,
             "#b8e186"
            ],
            [
             0.8,
             "#7fbc41"
            ],
            [
             0.9,
             "#4d9221"
            ],
            [
             1,
             "#276419"
            ]
           ],
           "sequential": [
            [
             0,
             "#0d0887"
            ],
            [
             0.1111111111111111,
             "#46039f"
            ],
            [
             0.2222222222222222,
             "#7201a8"
            ],
            [
             0.3333333333333333,
             "#9c179e"
            ],
            [
             0.4444444444444444,
             "#bd3786"
            ],
            [
             0.5555555555555556,
             "#d8576b"
            ],
            [
             0.6666666666666666,
             "#ed7953"
            ],
            [
             0.7777777777777778,
             "#fb9f3a"
            ],
            [
             0.8888888888888888,
             "#fdca26"
            ],
            [
             1,
             "#f0f921"
            ]
           ],
           "sequentialminus": [
            [
             0,
             "#0d0887"
            ],
            [
             0.1111111111111111,
             "#46039f"
            ],
            [
             0.2222222222222222,
             "#7201a8"
            ],
            [
             0.3333333333333333,
             "#9c179e"
            ],
            [
             0.4444444444444444,
             "#bd3786"
            ],
            [
             0.5555555555555556,
             "#d8576b"
            ],
            [
             0.6666666666666666,
             "#ed7953"
            ],
            [
             0.7777777777777778,
             "#fb9f3a"
            ],
            [
             0.8888888888888888,
             "#fdca26"
            ],
            [
             1,
             "#f0f921"
            ]
           ]
          },
          "colorway": [
           "#636efa",
           "#EF553B",
           "#00cc96",
           "#ab63fa",
           "#FFA15A",
           "#19d3f3",
           "#FF6692",
           "#B6E880",
           "#FF97FF",
           "#FECB52"
          ],
          "font": {
           "color": "#2a3f5f"
          },
          "geo": {
           "bgcolor": "white",
           "lakecolor": "white",
           "landcolor": "#E5ECF6",
           "showlakes": true,
           "showland": true,
           "subunitcolor": "white"
          },
          "hoverlabel": {
           "align": "left"
          },
          "hovermode": "closest",
          "mapbox": {
           "style": "light"
          },
          "paper_bgcolor": "white",
          "plot_bgcolor": "#E5ECF6",
          "polar": {
           "angularaxis": {
            "gridcolor": "white",
            "linecolor": "white",
            "ticks": ""
           },
           "bgcolor": "#E5ECF6",
           "radialaxis": {
            "gridcolor": "white",
            "linecolor": "white",
            "ticks": ""
           }
          },
          "scene": {
           "xaxis": {
            "backgroundcolor": "#E5ECF6",
            "gridcolor": "white",
            "gridwidth": 2,
            "linecolor": "white",
            "showbackground": true,
            "ticks": "",
            "zerolinecolor": "white"
           },
           "yaxis": {
            "backgroundcolor": "#E5ECF6",
            "gridcolor": "white",
            "gridwidth": 2,
            "linecolor": "white",
            "showbackground": true,
            "ticks": "",
            "zerolinecolor": "white"
           },
           "zaxis": {
            "backgroundcolor": "#E5ECF6",
            "gridcolor": "white",
            "gridwidth": 2,
            "linecolor": "white",
            "showbackground": true,
            "ticks": "",
            "zerolinecolor": "white"
           }
          },
          "shapedefaults": {
           "line": {
            "color": "#2a3f5f"
           }
          },
          "ternary": {
           "aaxis": {
            "gridcolor": "white",
            "linecolor": "white",
            "ticks": ""
           },
           "baxis": {
            "gridcolor": "white",
            "linecolor": "white",
            "ticks": ""
           },
           "bgcolor": "#E5ECF6",
           "caxis": {
            "gridcolor": "white",
            "linecolor": "white",
            "ticks": ""
           }
          },
          "title": {
           "x": 0.05
          },
          "xaxis": {
           "automargin": true,
           "gridcolor": "white",
           "linecolor": "white",
           "ticks": "",
           "title": {
            "standoff": 15
           },
           "zerolinecolor": "white",
           "zerolinewidth": 2
          },
          "yaxis": {
           "automargin": true,
           "gridcolor": "white",
           "linecolor": "white",
           "ticks": "",
           "title": {
            "standoff": 15
           },
           "zerolinecolor": "white",
           "zerolinewidth": 2
          }
         }
        },
        "title": {
         "font": {
          "color": "#4D5663"
         }
        },
        "xaxis": {
         "gridcolor": "#E1E5ED",
         "showgrid": true,
         "tickfont": {
          "color": "#4D5663"
         },
         "title": {
          "font": {
           "color": "#4D5663"
          },
          "text": ""
         },
         "zerolinecolor": "#E1E5ED"
        },
        "xaxis2": {
         "anchor": "y2",
         "gridcolor": "#E1E5ED",
         "showgrid": true,
         "showticklabels": false,
         "tickfont": {
          "color": "#4D5663"
         },
         "title": {
          "font": {
           "color": "#4D5663"
          },
          "text": ""
         },
         "zerolinecolor": "#E1E5ED"
        },
        "yaxis": {
         "domain": [
          0.3,
          1
         ],
         "gridcolor": "#E1E5ED",
         "showgrid": true,
         "tickfont": {
          "color": "#4D5663"
         },
         "title": {
          "font": {
           "color": "#4D5663"
          },
          "text": ""
         },
         "zerolinecolor": "#E1E5ED"
        },
        "yaxis2": {
         "domain": [
          0,
          0.25
         ],
         "gridcolor": "#E1E5ED",
         "showgrid": true,
         "tickfont": {
          "color": "#4D5663"
         },
         "title": {
          "font": {
           "color": "#4D5663"
          },
          "text": "Spread"
         },
         "zerolinecolor": "#E1E5ED"
        }
       }
      },
      "text/html": [
       "<div>                            <div id=\"2aad8776-0812-4262-bb79-de3c8c4a8063\" class=\"plotly-graph-div\" style=\"height:525px; width:100%;\"></div>            <script type=\"text/javascript\">                require([\"plotly\"], function(Plotly) {                    window.PLOTLYENV=window.PLOTLYENV || {};\n",
       "                    window.PLOTLYENV.BASE_URL='https://plot.ly';                                    if (document.getElementById(\"2aad8776-0812-4262-bb79-de3c8c4a8063\")) {                    Plotly.newPlot(                        \"2aad8776-0812-4262-bb79-de3c8c4a8063\",                        [{\"line\":{\"color\":\"rgba(255, 153, 51, 1.0)\",\"dash\":\"solid\",\"shape\":\"linear\",\"width\":1.3},\"mode\":\"lines\",\"name\":\"A\",\"text\":\"\",\"x\":[0,1,2,3,4,5,6,7,8,9,10,11,12,13,14,15,16,17,18,19,20,21,22,23,24,25,26,27,28,29,30,31,32,33,34,35,36,37,38,39,40,41,42,43,44,45,46,47,48,49,50,51,52,53,54,55,56,57,58,59,60,61,62,63,64,65,66,67,68,69,70,71,72,73,74,75,76,77,78,79,80,81,82,83,84,85,86,87,88,89,90,91,92,93,94,95,96,97,98,99],\"y\":[0.9483710285820001,-0.16435447117281413,0.6477051568801235,-2.273255312123948,-0.19536853035988794,-0.2118342237334965,1.969900103972678,-0.1496270218197629,-0.007020860163975405,0.4772917949028792,-2.296838980325794,-0.37000166265522116,0.34406523866400957,-0.29030028397892893,0.6878914949832962,0.5433316282880948,-0.40987022829918446,-0.3508115673844667,-0.3559125754431757,-1.1483952719332804,-0.8767453817952463,1.92278265358688,0.5770428505914557,0.02435312488294865,1.4107386803936892,-0.06322763639530866,-0.01795897935142888,-0.18530147911972034,-0.3659190731162389,1.3165523507978518,-0.792171042599313,-0.1554692689441983,-1.8409931154929848,0.1764468915089469,-0.30909415815164737,1.0632814501247938,0.26234545224339956,-1.5873657519214601,-1.6473598175363953,-0.6318463303111566,1.0543085403294332,1.246304011828692,-0.21144922670508443,-0.23589096320737366,-0.09395250356688174,0.0707249247579655,-0.6400009901335901,1.351331165453697,-1.1313727968282254,-0.7647615927907178,-0.8079994094244998,1.5607430028744744,-0.3620125847729232,1.6051928605447752,-0.2644213070910263,0.15301454089392363,-1.384940783808886,0.9569667644612428,1.0098032757966096,0.05981939777514478,-0.4063321066711721,-0.10489950599416006,0.4405417746248789,1.5885797975649483,-0.2123877545633354,0.7896146361235454,-0.25786433842463086,1.1631727044468283,0.8893538473792952,-0.605977484901111,-2.2759457922899493,-0.30667550908424834,-0.8241615883865696,-0.812670431832529,0.33268905472604193,0.23563136424290237,0.4578026499023031,0.7315995846678012,-1.7286130927550594,-0.24475898061728274,0.04932267359327156,0.09850376427288944,0.886720450911329,-0.17577082586457415,1.6183992637484683,1.1184599011461407,1.0592831356401937,0.04909605784286992,0.0490338970942655,-1.5413799533062233,-0.6846783116080516,0.28934161302670924,-1.5812189138833908,-0.551058815311809,-0.14210452149120745,1.132681638282884,-1.4845447509762713,0.7275497759426459,-0.9247206532943602,-0.10781768148384203],\"type\":\"scatter\"},{\"line\":{\"color\":\"rgba(55, 128, 191, 1.0)\",\"dash\":\"solid\",\"shape\":\"linear\",\"width\":1.3},\"mode\":\"lines\",\"name\":\"B\",\"text\":\"\",\"x\":[0,1,2,3,4,5,6,7,8,9,10,11,12,13,14,15,16,17,18,19,20,21,22,23,24,25,26,27,28,29,30,31,32,33,34,35,36,37,38,39,40,41,42,43,44,45,46,47,48,49,50,51,52,53,54,55,56,57,58,59,60,61,62,63,64,65,66,67,68,69,70,71,72,73,74,75,76,77,78,79,80,81,82,83,84,85,86,87,88,89,90,91,92,93,94,95,96,97,98,99],\"y\":[0.6951956068812144,0.49725417558382046,0.6087143272319379,0.10112467773010585,2.323613568869922,-0.24534012165281577,-1.588981039176941,0.5649426863896487,-1.061003385941566,1.046139137247561,-1.429030819194681,-0.6721985390439421,0.7446491237600207,-1.194499495828478,-0.22504824095902065,-0.3974007034506707,1.536542067477092,-0.39250064016403163,0.9523164329683868,-1.8573519129338643,1.3006210941603213,-0.5528283250328027,-0.6977698963321508,1.2942172706712607,-1.1549871293902265,0.25272725615392627,0.8445125936973771,-2.4699306276453563,-0.31190850791083896,1.2259265317416355,0.48418414451155,0.5649252815461252,0.14138713508186163,1.938355457479299,-1.0465970402655622,-1.3816713931096485,-0.8790836945117418,-0.8016568421156806,-0.03807425182074729,1.512011476372494,-0.358844527962155,1.7906226715812434,0.696488767895237,-0.2677337901158682,1.3042993099547446,-0.32026858309367945,-0.07720683218039519,-0.634742010310217,0.7603041907311168,1.5805588555198649,-0.1989611304897986,0.7220453059317153,0.5692340768872667,-0.25156765622962063,0.8092358452271889,1.0885470599932183,0.45062822224819526,-0.013762313193872652,0.5912886501401902,-0.7423096218981617,0.9382882421920437,0.08293536258955617,0.8345857880588031,-0.716795511109764,0.36263691765918415,-0.9270008736821341,-0.6838395828920901,0.8694508382211932,-0.2347351263121534,1.8793424244484218,-1.269768586915114,0.5573369027699515,0.6817476354328097,-0.20346366467539387,0.21314857289525754,-0.30799604434693434,0.366574150799827,2.171757651011116,-0.8840881683355313,-0.1636449694274178,-1.266223369167309,-0.7745833709493388,0.6283851977513192,1.2378303894503486,0.5122696947240207,-0.9102284691228753,-0.619141770208701,1.0581714210855506,-1.7158268206733926,-1.3392909615359103,-0.1580198932356279,0.711646018189122,0.8383109344980673,-0.2850035136230021,0.007760260934558799,0.3489907751758173,0.06754387559919373,-1.6012150819873734,0.6283008119768948,-0.7677935023498129],\"type\":\"scatter\"},{\"connectgaps\":false,\"fill\":\"tozeroy\",\"line\":{\"color\":\"green\",\"dash\":\"solid\",\"shape\":\"linear\",\"width\":0.5},\"mode\":\"lines\",\"name\":\"Spread\",\"showlegend\":false,\"x\":[0,1,2,3,4,5,6,7,8,9,10,11,12,13,14,15,16,17,18,19,20,21,22,23,24,25,26,27,28,29,30,31,32,33,34,35,36,37,38,39,40,41,42,43,44,45,46,47,48,49,50,51,52,53,54,55,56,57,58,59,60,61,62,63,64,65,66,67,68,69,70,71,72,73,74,75,76,77,78,79,80,81,82,83,84,85,86,87,88,89,90,91,92,93,94,95,96,97,98,99],\"xaxis\":\"x2\",\"y\":[0.25317542170078566,\"\",0.038990829648185676,\"\",\"\",0.033505897919319266,3.558881143149619,\"\",1.0539825257775906,\"\",\"\",0.30219687638872095,\"\",0.9041992118495491,0.9129397359423168,0.9407323317387655,\"\",0.041689072779564906,\"\",0.7089566410005839,\"\",2.4756109786196827,1.2748127469236064,\"\",2.565725809783916,\"\",\"\",2.284629148525636,\"\",0.09062581905621636,\"\",\"\",\"\",\"\",0.7375028821139149,2.444952843234442,1.1414291467551414,\"\",\"\",\"\",1.4131530682915883,\"\",\"\",0.03184282690849452,\"\",0.39099350785164494,\"\",1.986073175763914,\"\",\"\",\"\",0.8386976969427591,\"\",1.8567605167743957,\"\",\"\",\"\",0.9707290776551155,0.4185146256564194,0.8021290196733065,\"\",\"\",\"\",2.305375308674712,\"\",1.7166155098056795,0.42597524446745927,0.2937218662256351,1.1240889736914486,\"\",\"\",\"\",\"\",\"\",0.11954048183078439,0.5436274085898367,0.0912284991024761,\"\",\"\",\"\",1.3155460427605805,0.8730871352222282,0.2583352531600098,\"\",1.1061295690244477,2.028688370269016,1.6784249058488947,\"\",1.764860717767658,\"\",\"\",\"\",\"\",\"\",\"\",0.7836908631070667,\"\",2.328764857930019,\"\",0.6599758208659708],\"yaxis\":\"y2\",\"type\":\"scatter\"},{\"connectgaps\":false,\"fill\":\"tozeroy\",\"line\":{\"color\":\"red\",\"dash\":\"solid\",\"shape\":\"linear\",\"width\":0.5},\"mode\":\"lines\",\"name\":\"Spread\",\"showlegend\":false,\"x\":[0,1,2,3,4,5,6,7,8,9,10,11,12,13,14,15,16,17,18,19,20,21,22,23,24,25,26,27,28,29,30,31,32,33,34,35,36,37,38,39,40,41,42,43,44,45,46,47,48,49,50,51,52,53,54,55,56,57,58,59,60,61,62,63,64,65,66,67,68,69,70,71,72,73,74,75,76,77,78,79,80,81,82,83,84,85,86,87,88,89,90,91,92,93,94,95,96,97,98,99],\"xaxis\":\"x2\",\"y\":[\"\",-0.6616086467566346,\"\",-2.3743799898540536,-2.51898209922981,\"\",\"\",-0.7145697082094116,\"\",-0.5688473423446818,-0.867808161131113,\"\",-0.4005838850960111,\"\",\"\",\"\",-1.9464122957762764,\"\",-1.3082290084115624,\"\",-2.1773664759555675,\"\",\"\",-1.269864145788312,\"\",-0.3159548925492349,-0.862471573048806,\"\",-0.05401056520539993,\"\",-1.276355187110863,-0.7203945504903235,-1.9823802505748465,-1.761908565970352,\"\",\"\",\"\",-0.7857089098057796,-1.609285565715648,-2.1438578066836502,\"\",-0.5443186597525513,-0.9079379946003214,\"\",-1.3982518135216264,\"\",-0.562794157953195,\"\",-1.8916769875593422,-2.3453204483105825,-0.6090382789347012,\"\",-0.9312466616601899,\"\",-1.0736571523182152,-0.9355325190992947,-1.8355690060570813,\"\",\"\",\"\",-1.3446203488632158,-0.18783486858371623,-0.3940440134339242,\"\",-0.5750246722225195,\"\",\"\",\"\",\"\",-2.485319909349533,-1.0061772053748352,-0.8640124118541999,-1.5059092238193794,-0.6092067671571351,\"\",\"\",\"\",-1.440158066343315,-0.8445249244195281,-0.08111401118986494,\"\",\"\",\"\",-1.4136012153149227,\"\",\"\",\"\",-1.0090753632426808,\"\",-0.20208899177031303,-0.5266584183724237,-0.42230440516241274,-2.4195298483814582,-0.2660553016888069,-0.14986478242576626,\"\",-1.552088626575465,\"\",-1.553021465271255,\"\"],\"yaxis\":\"y2\",\"type\":\"scatter\"}],                        {\"hovermode\":\"x\",\"legend\":{\"bgcolor\":\"#F5F6F9\",\"font\":{\"color\":\"#4D5663\"}},\"paper_bgcolor\":\"#F5F6F9\",\"plot_bgcolor\":\"#F5F6F9\",\"template\":{\"data\":{\"barpolar\":[{\"marker\":{\"line\":{\"color\":\"#E5ECF6\",\"width\":0.5},\"pattern\":{\"fillmode\":\"overlay\",\"size\":10,\"solidity\":0.2}},\"type\":\"barpolar\"}],\"bar\":[{\"error_x\":{\"color\":\"#2a3f5f\"},\"error_y\":{\"color\":\"#2a3f5f\"},\"marker\":{\"line\":{\"color\":\"#E5ECF6\",\"width\":0.5},\"pattern\":{\"fillmode\":\"overlay\",\"size\":10,\"solidity\":0.2}},\"type\":\"bar\"}],\"carpet\":[{\"aaxis\":{\"endlinecolor\":\"#2a3f5f\",\"gridcolor\":\"white\",\"linecolor\":\"white\",\"minorgridcolor\":\"white\",\"startlinecolor\":\"#2a3f5f\"},\"baxis\":{\"endlinecolor\":\"#2a3f5f\",\"gridcolor\":\"white\",\"linecolor\":\"white\",\"minorgridcolor\":\"white\",\"startlinecolor\":\"#2a3f5f\"},\"type\":\"carpet\"}],\"choropleth\":[{\"colorbar\":{\"outlinewidth\":0,\"ticks\":\"\"},\"type\":\"choropleth\"}],\"contourcarpet\":[{\"colorbar\":{\"outlinewidth\":0,\"ticks\":\"\"},\"type\":\"contourcarpet\"}],\"contour\":[{\"colorbar\":{\"outlinewidth\":0,\"ticks\":\"\"},\"colorscale\":[[0.0,\"#0d0887\"],[0.1111111111111111,\"#46039f\"],[0.2222222222222222,\"#7201a8\"],[0.3333333333333333,\"#9c179e\"],[0.4444444444444444,\"#bd3786\"],[0.5555555555555556,\"#d8576b\"],[0.6666666666666666,\"#ed7953\"],[0.7777777777777778,\"#fb9f3a\"],[0.8888888888888888,\"#fdca26\"],[1.0,\"#f0f921\"]],\"type\":\"contour\"}],\"heatmapgl\":[{\"colorbar\":{\"outlinewidth\":0,\"ticks\":\"\"},\"colorscale\":[[0.0,\"#0d0887\"],[0.1111111111111111,\"#46039f\"],[0.2222222222222222,\"#7201a8\"],[0.3333333333333333,\"#9c179e\"],[0.4444444444444444,\"#bd3786\"],[0.5555555555555556,\"#d8576b\"],[0.6666666666666666,\"#ed7953\"],[0.7777777777777778,\"#fb9f3a\"],[0.8888888888888888,\"#fdca26\"],[1.0,\"#f0f921\"]],\"type\":\"heatmapgl\"}],\"heatmap\":[{\"colorbar\":{\"outlinewidth\":0,\"ticks\":\"\"},\"colorscale\":[[0.0,\"#0d0887\"],[0.1111111111111111,\"#46039f\"],[0.2222222222222222,\"#7201a8\"],[0.3333333333333333,\"#9c179e\"],[0.4444444444444444,\"#bd3786\"],[0.5555555555555556,\"#d8576b\"],[0.6666666666666666,\"#ed7953\"],[0.7777777777777778,\"#fb9f3a\"],[0.8888888888888888,\"#fdca26\"],[1.0,\"#f0f921\"]],\"type\":\"heatmap\"}],\"histogram2dcontour\":[{\"colorbar\":{\"outlinewidth\":0,\"ticks\":\"\"},\"colorscale\":[[0.0,\"#0d0887\"],[0.1111111111111111,\"#46039f\"],[0.2222222222222222,\"#7201a8\"],[0.3333333333333333,\"#9c179e\"],[0.4444444444444444,\"#bd3786\"],[0.5555555555555556,\"#d8576b\"],[0.6666666666666666,\"#ed7953\"],[0.7777777777777778,\"#fb9f3a\"],[0.8888888888888888,\"#fdca26\"],[1.0,\"#f0f921\"]],\"type\":\"histogram2dcontour\"}],\"histogram2d\":[{\"colorbar\":{\"outlinewidth\":0,\"ticks\":\"\"},\"colorscale\":[[0.0,\"#0d0887\"],[0.1111111111111111,\"#46039f\"],[0.2222222222222222,\"#7201a8\"],[0.3333333333333333,\"#9c179e\"],[0.4444444444444444,\"#bd3786\"],[0.5555555555555556,\"#d8576b\"],[0.6666666666666666,\"#ed7953\"],[0.7777777777777778,\"#fb9f3a\"],[0.8888888888888888,\"#fdca26\"],[1.0,\"#f0f921\"]],\"type\":\"histogram2d\"}],\"histogram\":[{\"marker\":{\"pattern\":{\"fillmode\":\"overlay\",\"size\":10,\"solidity\":0.2}},\"type\":\"histogram\"}],\"mesh3d\":[{\"colorbar\":{\"outlinewidth\":0,\"ticks\":\"\"},\"type\":\"mesh3d\"}],\"parcoords\":[{\"line\":{\"colorbar\":{\"outlinewidth\":0,\"ticks\":\"\"}},\"type\":\"parcoords\"}],\"pie\":[{\"automargin\":true,\"type\":\"pie\"}],\"scatter3d\":[{\"line\":{\"colorbar\":{\"outlinewidth\":0,\"ticks\":\"\"}},\"marker\":{\"colorbar\":{\"outlinewidth\":0,\"ticks\":\"\"}},\"type\":\"scatter3d\"}],\"scattercarpet\":[{\"marker\":{\"colorbar\":{\"outlinewidth\":0,\"ticks\":\"\"}},\"type\":\"scattercarpet\"}],\"scattergeo\":[{\"marker\":{\"colorbar\":{\"outlinewidth\":0,\"ticks\":\"\"}},\"type\":\"scattergeo\"}],\"scattergl\":[{\"marker\":{\"colorbar\":{\"outlinewidth\":0,\"ticks\":\"\"}},\"type\":\"scattergl\"}],\"scattermapbox\":[{\"marker\":{\"colorbar\":{\"outlinewidth\":0,\"ticks\":\"\"}},\"type\":\"scattermapbox\"}],\"scatterpolargl\":[{\"marker\":{\"colorbar\":{\"outlinewidth\":0,\"ticks\":\"\"}},\"type\":\"scatterpolargl\"}],\"scatterpolar\":[{\"marker\":{\"colorbar\":{\"outlinewidth\":0,\"ticks\":\"\"}},\"type\":\"scatterpolar\"}],\"scatter\":[{\"fillpattern\":{\"fillmode\":\"overlay\",\"size\":10,\"solidity\":0.2},\"type\":\"scatter\"}],\"scatterternary\":[{\"marker\":{\"colorbar\":{\"outlinewidth\":0,\"ticks\":\"\"}},\"type\":\"scatterternary\"}],\"surface\":[{\"colorbar\":{\"outlinewidth\":0,\"ticks\":\"\"},\"colorscale\":[[0.0,\"#0d0887\"],[0.1111111111111111,\"#46039f\"],[0.2222222222222222,\"#7201a8\"],[0.3333333333333333,\"#9c179e\"],[0.4444444444444444,\"#bd3786\"],[0.5555555555555556,\"#d8576b\"],[0.6666666666666666,\"#ed7953\"],[0.7777777777777778,\"#fb9f3a\"],[0.8888888888888888,\"#fdca26\"],[1.0,\"#f0f921\"]],\"type\":\"surface\"}],\"table\":[{\"cells\":{\"fill\":{\"color\":\"#EBF0F8\"},\"line\":{\"color\":\"white\"}},\"header\":{\"fill\":{\"color\":\"#C8D4E3\"},\"line\":{\"color\":\"white\"}},\"type\":\"table\"}]},\"layout\":{\"annotationdefaults\":{\"arrowcolor\":\"#2a3f5f\",\"arrowhead\":0,\"arrowwidth\":1},\"autotypenumbers\":\"strict\",\"coloraxis\":{\"colorbar\":{\"outlinewidth\":0,\"ticks\":\"\"}},\"colorscale\":{\"diverging\":[[0,\"#8e0152\"],[0.1,\"#c51b7d\"],[0.2,\"#de77ae\"],[0.3,\"#f1b6da\"],[0.4,\"#fde0ef\"],[0.5,\"#f7f7f7\"],[0.6,\"#e6f5d0\"],[0.7,\"#b8e186\"],[0.8,\"#7fbc41\"],[0.9,\"#4d9221\"],[1,\"#276419\"]],\"sequential\":[[0.0,\"#0d0887\"],[0.1111111111111111,\"#46039f\"],[0.2222222222222222,\"#7201a8\"],[0.3333333333333333,\"#9c179e\"],[0.4444444444444444,\"#bd3786\"],[0.5555555555555556,\"#d8576b\"],[0.6666666666666666,\"#ed7953\"],[0.7777777777777778,\"#fb9f3a\"],[0.8888888888888888,\"#fdca26\"],[1.0,\"#f0f921\"]],\"sequentialminus\":[[0.0,\"#0d0887\"],[0.1111111111111111,\"#46039f\"],[0.2222222222222222,\"#7201a8\"],[0.3333333333333333,\"#9c179e\"],[0.4444444444444444,\"#bd3786\"],[0.5555555555555556,\"#d8576b\"],[0.6666666666666666,\"#ed7953\"],[0.7777777777777778,\"#fb9f3a\"],[0.8888888888888888,\"#fdca26\"],[1.0,\"#f0f921\"]]},\"colorway\":[\"#636efa\",\"#EF553B\",\"#00cc96\",\"#ab63fa\",\"#FFA15A\",\"#19d3f3\",\"#FF6692\",\"#B6E880\",\"#FF97FF\",\"#FECB52\"],\"font\":{\"color\":\"#2a3f5f\"},\"geo\":{\"bgcolor\":\"white\",\"lakecolor\":\"white\",\"landcolor\":\"#E5ECF6\",\"showlakes\":true,\"showland\":true,\"subunitcolor\":\"white\"},\"hoverlabel\":{\"align\":\"left\"},\"hovermode\":\"closest\",\"mapbox\":{\"style\":\"light\"},\"paper_bgcolor\":\"white\",\"plot_bgcolor\":\"#E5ECF6\",\"polar\":{\"angularaxis\":{\"gridcolor\":\"white\",\"linecolor\":\"white\",\"ticks\":\"\"},\"bgcolor\":\"#E5ECF6\",\"radialaxis\":{\"gridcolor\":\"white\",\"linecolor\":\"white\",\"ticks\":\"\"}},\"scene\":{\"xaxis\":{\"backgroundcolor\":\"#E5ECF6\",\"gridcolor\":\"white\",\"gridwidth\":2,\"linecolor\":\"white\",\"showbackground\":true,\"ticks\":\"\",\"zerolinecolor\":\"white\"},\"yaxis\":{\"backgroundcolor\":\"#E5ECF6\",\"gridcolor\":\"white\",\"gridwidth\":2,\"linecolor\":\"white\",\"showbackground\":true,\"ticks\":\"\",\"zerolinecolor\":\"white\"},\"zaxis\":{\"backgroundcolor\":\"#E5ECF6\",\"gridcolor\":\"white\",\"gridwidth\":2,\"linecolor\":\"white\",\"showbackground\":true,\"ticks\":\"\",\"zerolinecolor\":\"white\"}},\"shapedefaults\":{\"line\":{\"color\":\"#2a3f5f\"}},\"ternary\":{\"aaxis\":{\"gridcolor\":\"white\",\"linecolor\":\"white\",\"ticks\":\"\"},\"baxis\":{\"gridcolor\":\"white\",\"linecolor\":\"white\",\"ticks\":\"\"},\"bgcolor\":\"#E5ECF6\",\"caxis\":{\"gridcolor\":\"white\",\"linecolor\":\"white\",\"ticks\":\"\"}},\"title\":{\"x\":0.05},\"xaxis\":{\"automargin\":true,\"gridcolor\":\"white\",\"linecolor\":\"white\",\"ticks\":\"\",\"title\":{\"standoff\":15},\"zerolinecolor\":\"white\",\"zerolinewidth\":2},\"yaxis\":{\"automargin\":true,\"gridcolor\":\"white\",\"linecolor\":\"white\",\"ticks\":\"\",\"title\":{\"standoff\":15},\"zerolinecolor\":\"white\",\"zerolinewidth\":2}}},\"title\":{\"font\":{\"color\":\"#4D5663\"}},\"xaxis\":{\"gridcolor\":\"#E1E5ED\",\"showgrid\":true,\"tickfont\":{\"color\":\"#4D5663\"},\"title\":{\"font\":{\"color\":\"#4D5663\"},\"text\":\"\"},\"zerolinecolor\":\"#E1E5ED\"},\"yaxis\":{\"domain\":[0.3,1],\"gridcolor\":\"#E1E5ED\",\"showgrid\":true,\"tickfont\":{\"color\":\"#4D5663\"},\"title\":{\"font\":{\"color\":\"#4D5663\"},\"text\":\"\"},\"zerolinecolor\":\"#E1E5ED\"},\"yaxis2\":{\"domain\":[0,0.25],\"gridcolor\":\"#E1E5ED\",\"showgrid\":true,\"tickfont\":{\"color\":\"#4D5663\"},\"title\":{\"font\":{\"color\":\"#4D5663\"},\"text\":\"Spread\"},\"zerolinecolor\":\"#E1E5ED\"},\"xaxis2\":{\"anchor\":\"y2\",\"gridcolor\":\"#E1E5ED\",\"showgrid\":true,\"showticklabels\":false,\"tickfont\":{\"color\":\"#4D5663\"},\"title\":{\"font\":{\"color\":\"#4D5663\"},\"text\":\"\"},\"zerolinecolor\":\"#E1E5ED\"}},                        {\"showLink\": true, \"linkText\": \"Export to plot.ly\", \"plotlyServerURL\": \"https://plot.ly\", \"responsive\": true}                    ).then(function(){\n",
       "                            \n",
       "var gd = document.getElementById('2aad8776-0812-4262-bb79-de3c8c4a8063');\n",
       "var x = new MutationObserver(function (mutations, observer) {{\n",
       "        var display = window.getComputedStyle(gd).display;\n",
       "        if (!display || display === 'none') {{\n",
       "            console.log([gd, 'removed!']);\n",
       "            Plotly.purge(gd);\n",
       "            observer.disconnect();\n",
       "        }}\n",
       "}});\n",
       "\n",
       "// Listen for the removal of the full notebook cells\n",
       "var notebookContainer = gd.closest('#notebook-container');\n",
       "if (notebookContainer) {{\n",
       "    x.observe(notebookContainer, {childList: true});\n",
       "}}\n",
       "\n",
       "// Listen for the clearing of the current output cell\n",
       "var outputEl = gd.closest('.output');\n",
       "if (outputEl) {{\n",
       "    x.observe(outputEl, {childList: true});\n",
       "}}\n",
       "\n",
       "                        })                };                });            </script>        </div>"
      ]
     },
     "metadata": {},
     "output_type": "display_data"
    }
   ],
   "source": [
    "df[['A','B']].iplot(kind='spread')"
   ]
  },
  {
   "cell_type": "markdown",
   "metadata": {},
   "source": [
    "## histogram"
   ]
  },
  {
   "cell_type": "code",
   "execution_count": 16,
   "metadata": {},
   "outputs": [
    {
     "data": {
      "application/vnd.plotly.v1+json": {
       "config": {
        "linkText": "Export to plot.ly",
        "plotlyServerURL": "https://plot.ly",
        "showLink": true
       },
       "data": [
        {
         "histfunc": "count",
         "histnorm": "",
         "marker": {
          "color": "rgba(255, 153, 51, 1.0)",
          "line": {
           "color": "#4D5663",
           "width": 1.3
          }
         },
         "name": "A",
         "nbinsx": 25,
         "opacity": 0.8,
         "orientation": "v",
         "type": "histogram",
         "x": [
          0.9483710285820001,
          -0.16435447117281413,
          0.6477051568801235,
          -2.273255312123948,
          -0.19536853035988794,
          -0.2118342237334965,
          1.969900103972678,
          -0.1496270218197629,
          -0.007020860163975405,
          0.4772917949028792,
          -2.296838980325794,
          -0.37000166265522116,
          0.34406523866400957,
          -0.29030028397892893,
          0.6878914949832962,
          0.5433316282880948,
          -0.40987022829918446,
          -0.3508115673844667,
          -0.3559125754431757,
          -1.1483952719332804,
          -0.8767453817952463,
          1.92278265358688,
          0.5770428505914557,
          0.02435312488294865,
          1.4107386803936892,
          -0.06322763639530866,
          -0.01795897935142888,
          -0.18530147911972034,
          -0.3659190731162389,
          1.3165523507978518,
          -0.792171042599313,
          -0.1554692689441983,
          -1.8409931154929848,
          0.1764468915089469,
          -0.30909415815164737,
          1.0632814501247938,
          0.26234545224339956,
          -1.5873657519214601,
          -1.6473598175363953,
          -0.6318463303111566,
          1.0543085403294332,
          1.246304011828692,
          -0.21144922670508443,
          -0.23589096320737366,
          -0.09395250356688174,
          0.0707249247579655,
          -0.6400009901335901,
          1.351331165453697,
          -1.1313727968282254,
          -0.7647615927907178,
          -0.8079994094244998,
          1.5607430028744744,
          -0.3620125847729232,
          1.6051928605447752,
          -0.2644213070910263,
          0.15301454089392363,
          -1.384940783808886,
          0.9569667644612428,
          1.0098032757966096,
          0.05981939777514478,
          -0.4063321066711721,
          -0.10489950599416006,
          0.4405417746248789,
          1.5885797975649483,
          -0.2123877545633354,
          0.7896146361235454,
          -0.25786433842463086,
          1.1631727044468283,
          0.8893538473792952,
          -0.605977484901111,
          -2.2759457922899493,
          -0.30667550908424834,
          -0.8241615883865696,
          -0.812670431832529,
          0.33268905472604193,
          0.23563136424290237,
          0.4578026499023031,
          0.7315995846678012,
          -1.7286130927550594,
          -0.24475898061728274,
          0.04932267359327156,
          0.09850376427288944,
          0.886720450911329,
          -0.17577082586457415,
          1.6183992637484683,
          1.1184599011461407,
          1.0592831356401937,
          0.04909605784286992,
          0.0490338970942655,
          -1.5413799533062233,
          -0.6846783116080516,
          0.28934161302670924,
          -1.5812189138833908,
          -0.551058815311809,
          -0.14210452149120745,
          1.132681638282884,
          -1.4845447509762713,
          0.7275497759426459,
          -0.9247206532943602,
          -0.10781768148384203
         ]
        }
       ],
       "layout": {
        "barmode": "overlay",
        "legend": {
         "bgcolor": "#F5F6F9",
         "font": {
          "color": "#4D5663"
         }
        },
        "paper_bgcolor": "#F5F6F9",
        "plot_bgcolor": "#F5F6F9",
        "template": {
         "data": {
          "bar": [
           {
            "error_x": {
             "color": "#2a3f5f"
            },
            "error_y": {
             "color": "#2a3f5f"
            },
            "marker": {
             "line": {
              "color": "#E5ECF6",
              "width": 0.5
             },
             "pattern": {
              "fillmode": "overlay",
              "size": 10,
              "solidity": 0.2
             }
            },
            "type": "bar"
           }
          ],
          "barpolar": [
           {
            "marker": {
             "line": {
              "color": "#E5ECF6",
              "width": 0.5
             },
             "pattern": {
              "fillmode": "overlay",
              "size": 10,
              "solidity": 0.2
             }
            },
            "type": "barpolar"
           }
          ],
          "carpet": [
           {
            "aaxis": {
             "endlinecolor": "#2a3f5f",
             "gridcolor": "white",
             "linecolor": "white",
             "minorgridcolor": "white",
             "startlinecolor": "#2a3f5f"
            },
            "baxis": {
             "endlinecolor": "#2a3f5f",
             "gridcolor": "white",
             "linecolor": "white",
             "minorgridcolor": "white",
             "startlinecolor": "#2a3f5f"
            },
            "type": "carpet"
           }
          ],
          "choropleth": [
           {
            "colorbar": {
             "outlinewidth": 0,
             "ticks": ""
            },
            "type": "choropleth"
           }
          ],
          "contour": [
           {
            "colorbar": {
             "outlinewidth": 0,
             "ticks": ""
            },
            "colorscale": [
             [
              0,
              "#0d0887"
             ],
             [
              0.1111111111111111,
              "#46039f"
             ],
             [
              0.2222222222222222,
              "#7201a8"
             ],
             [
              0.3333333333333333,
              "#9c179e"
             ],
             [
              0.4444444444444444,
              "#bd3786"
             ],
             [
              0.5555555555555556,
              "#d8576b"
             ],
             [
              0.6666666666666666,
              "#ed7953"
             ],
             [
              0.7777777777777778,
              "#fb9f3a"
             ],
             [
              0.8888888888888888,
              "#fdca26"
             ],
             [
              1,
              "#f0f921"
             ]
            ],
            "type": "contour"
           }
          ],
          "contourcarpet": [
           {
            "colorbar": {
             "outlinewidth": 0,
             "ticks": ""
            },
            "type": "contourcarpet"
           }
          ],
          "heatmap": [
           {
            "colorbar": {
             "outlinewidth": 0,
             "ticks": ""
            },
            "colorscale": [
             [
              0,
              "#0d0887"
             ],
             [
              0.1111111111111111,
              "#46039f"
             ],
             [
              0.2222222222222222,
              "#7201a8"
             ],
             [
              0.3333333333333333,
              "#9c179e"
             ],
             [
              0.4444444444444444,
              "#bd3786"
             ],
             [
              0.5555555555555556,
              "#d8576b"
             ],
             [
              0.6666666666666666,
              "#ed7953"
             ],
             [
              0.7777777777777778,
              "#fb9f3a"
             ],
             [
              0.8888888888888888,
              "#fdca26"
             ],
             [
              1,
              "#f0f921"
             ]
            ],
            "type": "heatmap"
           }
          ],
          "heatmapgl": [
           {
            "colorbar": {
             "outlinewidth": 0,
             "ticks": ""
            },
            "colorscale": [
             [
              0,
              "#0d0887"
             ],
             [
              0.1111111111111111,
              "#46039f"
             ],
             [
              0.2222222222222222,
              "#7201a8"
             ],
             [
              0.3333333333333333,
              "#9c179e"
             ],
             [
              0.4444444444444444,
              "#bd3786"
             ],
             [
              0.5555555555555556,
              "#d8576b"
             ],
             [
              0.6666666666666666,
              "#ed7953"
             ],
             [
              0.7777777777777778,
              "#fb9f3a"
             ],
             [
              0.8888888888888888,
              "#fdca26"
             ],
             [
              1,
              "#f0f921"
             ]
            ],
            "type": "heatmapgl"
           }
          ],
          "histogram": [
           {
            "marker": {
             "pattern": {
              "fillmode": "overlay",
              "size": 10,
              "solidity": 0.2
             }
            },
            "type": "histogram"
           }
          ],
          "histogram2d": [
           {
            "colorbar": {
             "outlinewidth": 0,
             "ticks": ""
            },
            "colorscale": [
             [
              0,
              "#0d0887"
             ],
             [
              0.1111111111111111,
              "#46039f"
             ],
             [
              0.2222222222222222,
              "#7201a8"
             ],
             [
              0.3333333333333333,
              "#9c179e"
             ],
             [
              0.4444444444444444,
              "#bd3786"
             ],
             [
              0.5555555555555556,
              "#d8576b"
             ],
             [
              0.6666666666666666,
              "#ed7953"
             ],
             [
              0.7777777777777778,
              "#fb9f3a"
             ],
             [
              0.8888888888888888,
              "#fdca26"
             ],
             [
              1,
              "#f0f921"
             ]
            ],
            "type": "histogram2d"
           }
          ],
          "histogram2dcontour": [
           {
            "colorbar": {
             "outlinewidth": 0,
             "ticks": ""
            },
            "colorscale": [
             [
              0,
              "#0d0887"
             ],
             [
              0.1111111111111111,
              "#46039f"
             ],
             [
              0.2222222222222222,
              "#7201a8"
             ],
             [
              0.3333333333333333,
              "#9c179e"
             ],
             [
              0.4444444444444444,
              "#bd3786"
             ],
             [
              0.5555555555555556,
              "#d8576b"
             ],
             [
              0.6666666666666666,
              "#ed7953"
             ],
             [
              0.7777777777777778,
              "#fb9f3a"
             ],
             [
              0.8888888888888888,
              "#fdca26"
             ],
             [
              1,
              "#f0f921"
             ]
            ],
            "type": "histogram2dcontour"
           }
          ],
          "mesh3d": [
           {
            "colorbar": {
             "outlinewidth": 0,
             "ticks": ""
            },
            "type": "mesh3d"
           }
          ],
          "parcoords": [
           {
            "line": {
             "colorbar": {
              "outlinewidth": 0,
              "ticks": ""
             }
            },
            "type": "parcoords"
           }
          ],
          "pie": [
           {
            "automargin": true,
            "type": "pie"
           }
          ],
          "scatter": [
           {
            "fillpattern": {
             "fillmode": "overlay",
             "size": 10,
             "solidity": 0.2
            },
            "type": "scatter"
           }
          ],
          "scatter3d": [
           {
            "line": {
             "colorbar": {
              "outlinewidth": 0,
              "ticks": ""
             }
            },
            "marker": {
             "colorbar": {
              "outlinewidth": 0,
              "ticks": ""
             }
            },
            "type": "scatter3d"
           }
          ],
          "scattercarpet": [
           {
            "marker": {
             "colorbar": {
              "outlinewidth": 0,
              "ticks": ""
             }
            },
            "type": "scattercarpet"
           }
          ],
          "scattergeo": [
           {
            "marker": {
             "colorbar": {
              "outlinewidth": 0,
              "ticks": ""
             }
            },
            "type": "scattergeo"
           }
          ],
          "scattergl": [
           {
            "marker": {
             "colorbar": {
              "outlinewidth": 0,
              "ticks": ""
             }
            },
            "type": "scattergl"
           }
          ],
          "scattermapbox": [
           {
            "marker": {
             "colorbar": {
              "outlinewidth": 0,
              "ticks": ""
             }
            },
            "type": "scattermapbox"
           }
          ],
          "scatterpolar": [
           {
            "marker": {
             "colorbar": {
              "outlinewidth": 0,
              "ticks": ""
             }
            },
            "type": "scatterpolar"
           }
          ],
          "scatterpolargl": [
           {
            "marker": {
             "colorbar": {
              "outlinewidth": 0,
              "ticks": ""
             }
            },
            "type": "scatterpolargl"
           }
          ],
          "scatterternary": [
           {
            "marker": {
             "colorbar": {
              "outlinewidth": 0,
              "ticks": ""
             }
            },
            "type": "scatterternary"
           }
          ],
          "surface": [
           {
            "colorbar": {
             "outlinewidth": 0,
             "ticks": ""
            },
            "colorscale": [
             [
              0,
              "#0d0887"
             ],
             [
              0.1111111111111111,
              "#46039f"
             ],
             [
              0.2222222222222222,
              "#7201a8"
             ],
             [
              0.3333333333333333,
              "#9c179e"
             ],
             [
              0.4444444444444444,
              "#bd3786"
             ],
             [
              0.5555555555555556,
              "#d8576b"
             ],
             [
              0.6666666666666666,
              "#ed7953"
             ],
             [
              0.7777777777777778,
              "#fb9f3a"
             ],
             [
              0.8888888888888888,
              "#fdca26"
             ],
             [
              1,
              "#f0f921"
             ]
            ],
            "type": "surface"
           }
          ],
          "table": [
           {
            "cells": {
             "fill": {
              "color": "#EBF0F8"
             },
             "line": {
              "color": "white"
             }
            },
            "header": {
             "fill": {
              "color": "#C8D4E3"
             },
             "line": {
              "color": "white"
             }
            },
            "type": "table"
           }
          ]
         },
         "layout": {
          "annotationdefaults": {
           "arrowcolor": "#2a3f5f",
           "arrowhead": 0,
           "arrowwidth": 1
          },
          "autotypenumbers": "strict",
          "coloraxis": {
           "colorbar": {
            "outlinewidth": 0,
            "ticks": ""
           }
          },
          "colorscale": {
           "diverging": [
            [
             0,
             "#8e0152"
            ],
            [
             0.1,
             "#c51b7d"
            ],
            [
             0.2,
             "#de77ae"
            ],
            [
             0.3,
             "#f1b6da"
            ],
            [
             0.4,
             "#fde0ef"
            ],
            [
             0.5,
             "#f7f7f7"
            ],
            [
             0.6,
             "#e6f5d0"
            ],
            [
             0.7,
             "#b8e186"
            ],
            [
             0.8,
             "#7fbc41"
            ],
            [
             0.9,
             "#4d9221"
            ],
            [
             1,
             "#276419"
            ]
           ],
           "sequential": [
            [
             0,
             "#0d0887"
            ],
            [
             0.1111111111111111,
             "#46039f"
            ],
            [
             0.2222222222222222,
             "#7201a8"
            ],
            [
             0.3333333333333333,
             "#9c179e"
            ],
            [
             0.4444444444444444,
             "#bd3786"
            ],
            [
             0.5555555555555556,
             "#d8576b"
            ],
            [
             0.6666666666666666,
             "#ed7953"
            ],
            [
             0.7777777777777778,
             "#fb9f3a"
            ],
            [
             0.8888888888888888,
             "#fdca26"
            ],
            [
             1,
             "#f0f921"
            ]
           ],
           "sequentialminus": [
            [
             0,
             "#0d0887"
            ],
            [
             0.1111111111111111,
             "#46039f"
            ],
            [
             0.2222222222222222,
             "#7201a8"
            ],
            [
             0.3333333333333333,
             "#9c179e"
            ],
            [
             0.4444444444444444,
             "#bd3786"
            ],
            [
             0.5555555555555556,
             "#d8576b"
            ],
            [
             0.6666666666666666,
             "#ed7953"
            ],
            [
             0.7777777777777778,
             "#fb9f3a"
            ],
            [
             0.8888888888888888,
             "#fdca26"
            ],
            [
             1,
             "#f0f921"
            ]
           ]
          },
          "colorway": [
           "#636efa",
           "#EF553B",
           "#00cc96",
           "#ab63fa",
           "#FFA15A",
           "#19d3f3",
           "#FF6692",
           "#B6E880",
           "#FF97FF",
           "#FECB52"
          ],
          "font": {
           "color": "#2a3f5f"
          },
          "geo": {
           "bgcolor": "white",
           "lakecolor": "white",
           "landcolor": "#E5ECF6",
           "showlakes": true,
           "showland": true,
           "subunitcolor": "white"
          },
          "hoverlabel": {
           "align": "left"
          },
          "hovermode": "closest",
          "mapbox": {
           "style": "light"
          },
          "paper_bgcolor": "white",
          "plot_bgcolor": "#E5ECF6",
          "polar": {
           "angularaxis": {
            "gridcolor": "white",
            "linecolor": "white",
            "ticks": ""
           },
           "bgcolor": "#E5ECF6",
           "radialaxis": {
            "gridcolor": "white",
            "linecolor": "white",
            "ticks": ""
           }
          },
          "scene": {
           "xaxis": {
            "backgroundcolor": "#E5ECF6",
            "gridcolor": "white",
            "gridwidth": 2,
            "linecolor": "white",
            "showbackground": true,
            "ticks": "",
            "zerolinecolor": "white"
           },
           "yaxis": {
            "backgroundcolor": "#E5ECF6",
            "gridcolor": "white",
            "gridwidth": 2,
            "linecolor": "white",
            "showbackground": true,
            "ticks": "",
            "zerolinecolor": "white"
           },
           "zaxis": {
            "backgroundcolor": "#E5ECF6",
            "gridcolor": "white",
            "gridwidth": 2,
            "linecolor": "white",
            "showbackground": true,
            "ticks": "",
            "zerolinecolor": "white"
           }
          },
          "shapedefaults": {
           "line": {
            "color": "#2a3f5f"
           }
          },
          "ternary": {
           "aaxis": {
            "gridcolor": "white",
            "linecolor": "white",
            "ticks": ""
           },
           "baxis": {
            "gridcolor": "white",
            "linecolor": "white",
            "ticks": ""
           },
           "bgcolor": "#E5ECF6",
           "caxis": {
            "gridcolor": "white",
            "linecolor": "white",
            "ticks": ""
           }
          },
          "title": {
           "x": 0.05
          },
          "xaxis": {
           "automargin": true,
           "gridcolor": "white",
           "linecolor": "white",
           "ticks": "",
           "title": {
            "standoff": 15
           },
           "zerolinecolor": "white",
           "zerolinewidth": 2
          },
          "yaxis": {
           "automargin": true,
           "gridcolor": "white",
           "linecolor": "white",
           "ticks": "",
           "title": {
            "standoff": 15
           },
           "zerolinecolor": "white",
           "zerolinewidth": 2
          }
         }
        },
        "title": {
         "font": {
          "color": "#4D5663"
         }
        },
        "xaxis": {
         "gridcolor": "#E1E5ED",
         "showgrid": true,
         "tickfont": {
          "color": "#4D5663"
         },
         "title": {
          "font": {
           "color": "#4D5663"
          },
          "text": ""
         },
         "zerolinecolor": "#E1E5ED"
        },
        "yaxis": {
         "gridcolor": "#E1E5ED",
         "showgrid": true,
         "tickfont": {
          "color": "#4D5663"
         },
         "title": {
          "font": {
           "color": "#4D5663"
          },
          "text": ""
         },
         "zerolinecolor": "#E1E5ED"
        }
       }
      },
      "text/html": [
       "<div>                            <div id=\"329ecf80-c51e-4305-96c4-9c67f0a3a139\" class=\"plotly-graph-div\" style=\"height:525px; width:100%;\"></div>            <script type=\"text/javascript\">                require([\"plotly\"], function(Plotly) {                    window.PLOTLYENV=window.PLOTLYENV || {};\n",
       "                    window.PLOTLYENV.BASE_URL='https://plot.ly';                                    if (document.getElementById(\"329ecf80-c51e-4305-96c4-9c67f0a3a139\")) {                    Plotly.newPlot(                        \"329ecf80-c51e-4305-96c4-9c67f0a3a139\",                        [{\"histfunc\":\"count\",\"histnorm\":\"\",\"marker\":{\"color\":\"rgba(255, 153, 51, 1.0)\",\"line\":{\"color\":\"#4D5663\",\"width\":1.3}},\"name\":\"A\",\"nbinsx\":25,\"opacity\":0.8,\"orientation\":\"v\",\"x\":[0.9483710285820001,-0.16435447117281413,0.6477051568801235,-2.273255312123948,-0.19536853035988794,-0.2118342237334965,1.969900103972678,-0.1496270218197629,-0.007020860163975405,0.4772917949028792,-2.296838980325794,-0.37000166265522116,0.34406523866400957,-0.29030028397892893,0.6878914949832962,0.5433316282880948,-0.40987022829918446,-0.3508115673844667,-0.3559125754431757,-1.1483952719332804,-0.8767453817952463,1.92278265358688,0.5770428505914557,0.02435312488294865,1.4107386803936892,-0.06322763639530866,-0.01795897935142888,-0.18530147911972034,-0.3659190731162389,1.3165523507978518,-0.792171042599313,-0.1554692689441983,-1.8409931154929848,0.1764468915089469,-0.30909415815164737,1.0632814501247938,0.26234545224339956,-1.5873657519214601,-1.6473598175363953,-0.6318463303111566,1.0543085403294332,1.246304011828692,-0.21144922670508443,-0.23589096320737366,-0.09395250356688174,0.0707249247579655,-0.6400009901335901,1.351331165453697,-1.1313727968282254,-0.7647615927907178,-0.8079994094244998,1.5607430028744744,-0.3620125847729232,1.6051928605447752,-0.2644213070910263,0.15301454089392363,-1.384940783808886,0.9569667644612428,1.0098032757966096,0.05981939777514478,-0.4063321066711721,-0.10489950599416006,0.4405417746248789,1.5885797975649483,-0.2123877545633354,0.7896146361235454,-0.25786433842463086,1.1631727044468283,0.8893538473792952,-0.605977484901111,-2.2759457922899493,-0.30667550908424834,-0.8241615883865696,-0.812670431832529,0.33268905472604193,0.23563136424290237,0.4578026499023031,0.7315995846678012,-1.7286130927550594,-0.24475898061728274,0.04932267359327156,0.09850376427288944,0.886720450911329,-0.17577082586457415,1.6183992637484683,1.1184599011461407,1.0592831356401937,0.04909605784286992,0.0490338970942655,-1.5413799533062233,-0.6846783116080516,0.28934161302670924,-1.5812189138833908,-0.551058815311809,-0.14210452149120745,1.132681638282884,-1.4845447509762713,0.7275497759426459,-0.9247206532943602,-0.10781768148384203],\"type\":\"histogram\"}],                        {\"barmode\":\"overlay\",\"legend\":{\"bgcolor\":\"#F5F6F9\",\"font\":{\"color\":\"#4D5663\"}},\"paper_bgcolor\":\"#F5F6F9\",\"plot_bgcolor\":\"#F5F6F9\",\"template\":{\"data\":{\"barpolar\":[{\"marker\":{\"line\":{\"color\":\"#E5ECF6\",\"width\":0.5},\"pattern\":{\"fillmode\":\"overlay\",\"size\":10,\"solidity\":0.2}},\"type\":\"barpolar\"}],\"bar\":[{\"error_x\":{\"color\":\"#2a3f5f\"},\"error_y\":{\"color\":\"#2a3f5f\"},\"marker\":{\"line\":{\"color\":\"#E5ECF6\",\"width\":0.5},\"pattern\":{\"fillmode\":\"overlay\",\"size\":10,\"solidity\":0.2}},\"type\":\"bar\"}],\"carpet\":[{\"aaxis\":{\"endlinecolor\":\"#2a3f5f\",\"gridcolor\":\"white\",\"linecolor\":\"white\",\"minorgridcolor\":\"white\",\"startlinecolor\":\"#2a3f5f\"},\"baxis\":{\"endlinecolor\":\"#2a3f5f\",\"gridcolor\":\"white\",\"linecolor\":\"white\",\"minorgridcolor\":\"white\",\"startlinecolor\":\"#2a3f5f\"},\"type\":\"carpet\"}],\"choropleth\":[{\"colorbar\":{\"outlinewidth\":0,\"ticks\":\"\"},\"type\":\"choropleth\"}],\"contourcarpet\":[{\"colorbar\":{\"outlinewidth\":0,\"ticks\":\"\"},\"type\":\"contourcarpet\"}],\"contour\":[{\"colorbar\":{\"outlinewidth\":0,\"ticks\":\"\"},\"colorscale\":[[0.0,\"#0d0887\"],[0.1111111111111111,\"#46039f\"],[0.2222222222222222,\"#7201a8\"],[0.3333333333333333,\"#9c179e\"],[0.4444444444444444,\"#bd3786\"],[0.5555555555555556,\"#d8576b\"],[0.6666666666666666,\"#ed7953\"],[0.7777777777777778,\"#fb9f3a\"],[0.8888888888888888,\"#fdca26\"],[1.0,\"#f0f921\"]],\"type\":\"contour\"}],\"heatmapgl\":[{\"colorbar\":{\"outlinewidth\":0,\"ticks\":\"\"},\"colorscale\":[[0.0,\"#0d0887\"],[0.1111111111111111,\"#46039f\"],[0.2222222222222222,\"#7201a8\"],[0.3333333333333333,\"#9c179e\"],[0.4444444444444444,\"#bd3786\"],[0.5555555555555556,\"#d8576b\"],[0.6666666666666666,\"#ed7953\"],[0.7777777777777778,\"#fb9f3a\"],[0.8888888888888888,\"#fdca26\"],[1.0,\"#f0f921\"]],\"type\":\"heatmapgl\"}],\"heatmap\":[{\"colorbar\":{\"outlinewidth\":0,\"ticks\":\"\"},\"colorscale\":[[0.0,\"#0d0887\"],[0.1111111111111111,\"#46039f\"],[0.2222222222222222,\"#7201a8\"],[0.3333333333333333,\"#9c179e\"],[0.4444444444444444,\"#bd3786\"],[0.5555555555555556,\"#d8576b\"],[0.6666666666666666,\"#ed7953\"],[0.7777777777777778,\"#fb9f3a\"],[0.8888888888888888,\"#fdca26\"],[1.0,\"#f0f921\"]],\"type\":\"heatmap\"}],\"histogram2dcontour\":[{\"colorbar\":{\"outlinewidth\":0,\"ticks\":\"\"},\"colorscale\":[[0.0,\"#0d0887\"],[0.1111111111111111,\"#46039f\"],[0.2222222222222222,\"#7201a8\"],[0.3333333333333333,\"#9c179e\"],[0.4444444444444444,\"#bd3786\"],[0.5555555555555556,\"#d8576b\"],[0.6666666666666666,\"#ed7953\"],[0.7777777777777778,\"#fb9f3a\"],[0.8888888888888888,\"#fdca26\"],[1.0,\"#f0f921\"]],\"type\":\"histogram2dcontour\"}],\"histogram2d\":[{\"colorbar\":{\"outlinewidth\":0,\"ticks\":\"\"},\"colorscale\":[[0.0,\"#0d0887\"],[0.1111111111111111,\"#46039f\"],[0.2222222222222222,\"#7201a8\"],[0.3333333333333333,\"#9c179e\"],[0.4444444444444444,\"#bd3786\"],[0.5555555555555556,\"#d8576b\"],[0.6666666666666666,\"#ed7953\"],[0.7777777777777778,\"#fb9f3a\"],[0.8888888888888888,\"#fdca26\"],[1.0,\"#f0f921\"]],\"type\":\"histogram2d\"}],\"histogram\":[{\"marker\":{\"pattern\":{\"fillmode\":\"overlay\",\"size\":10,\"solidity\":0.2}},\"type\":\"histogram\"}],\"mesh3d\":[{\"colorbar\":{\"outlinewidth\":0,\"ticks\":\"\"},\"type\":\"mesh3d\"}],\"parcoords\":[{\"line\":{\"colorbar\":{\"outlinewidth\":0,\"ticks\":\"\"}},\"type\":\"parcoords\"}],\"pie\":[{\"automargin\":true,\"type\":\"pie\"}],\"scatter3d\":[{\"line\":{\"colorbar\":{\"outlinewidth\":0,\"ticks\":\"\"}},\"marker\":{\"colorbar\":{\"outlinewidth\":0,\"ticks\":\"\"}},\"type\":\"scatter3d\"}],\"scattercarpet\":[{\"marker\":{\"colorbar\":{\"outlinewidth\":0,\"ticks\":\"\"}},\"type\":\"scattercarpet\"}],\"scattergeo\":[{\"marker\":{\"colorbar\":{\"outlinewidth\":0,\"ticks\":\"\"}},\"type\":\"scattergeo\"}],\"scattergl\":[{\"marker\":{\"colorbar\":{\"outlinewidth\":0,\"ticks\":\"\"}},\"type\":\"scattergl\"}],\"scattermapbox\":[{\"marker\":{\"colorbar\":{\"outlinewidth\":0,\"ticks\":\"\"}},\"type\":\"scattermapbox\"}],\"scatterpolargl\":[{\"marker\":{\"colorbar\":{\"outlinewidth\":0,\"ticks\":\"\"}},\"type\":\"scatterpolargl\"}],\"scatterpolar\":[{\"marker\":{\"colorbar\":{\"outlinewidth\":0,\"ticks\":\"\"}},\"type\":\"scatterpolar\"}],\"scatter\":[{\"fillpattern\":{\"fillmode\":\"overlay\",\"size\":10,\"solidity\":0.2},\"type\":\"scatter\"}],\"scatterternary\":[{\"marker\":{\"colorbar\":{\"outlinewidth\":0,\"ticks\":\"\"}},\"type\":\"scatterternary\"}],\"surface\":[{\"colorbar\":{\"outlinewidth\":0,\"ticks\":\"\"},\"colorscale\":[[0.0,\"#0d0887\"],[0.1111111111111111,\"#46039f\"],[0.2222222222222222,\"#7201a8\"],[0.3333333333333333,\"#9c179e\"],[0.4444444444444444,\"#bd3786\"],[0.5555555555555556,\"#d8576b\"],[0.6666666666666666,\"#ed7953\"],[0.7777777777777778,\"#fb9f3a\"],[0.8888888888888888,\"#fdca26\"],[1.0,\"#f0f921\"]],\"type\":\"surface\"}],\"table\":[{\"cells\":{\"fill\":{\"color\":\"#EBF0F8\"},\"line\":{\"color\":\"white\"}},\"header\":{\"fill\":{\"color\":\"#C8D4E3\"},\"line\":{\"color\":\"white\"}},\"type\":\"table\"}]},\"layout\":{\"annotationdefaults\":{\"arrowcolor\":\"#2a3f5f\",\"arrowhead\":0,\"arrowwidth\":1},\"autotypenumbers\":\"strict\",\"coloraxis\":{\"colorbar\":{\"outlinewidth\":0,\"ticks\":\"\"}},\"colorscale\":{\"diverging\":[[0,\"#8e0152\"],[0.1,\"#c51b7d\"],[0.2,\"#de77ae\"],[0.3,\"#f1b6da\"],[0.4,\"#fde0ef\"],[0.5,\"#f7f7f7\"],[0.6,\"#e6f5d0\"],[0.7,\"#b8e186\"],[0.8,\"#7fbc41\"],[0.9,\"#4d9221\"],[1,\"#276419\"]],\"sequential\":[[0.0,\"#0d0887\"],[0.1111111111111111,\"#46039f\"],[0.2222222222222222,\"#7201a8\"],[0.3333333333333333,\"#9c179e\"],[0.4444444444444444,\"#bd3786\"],[0.5555555555555556,\"#d8576b\"],[0.6666666666666666,\"#ed7953\"],[0.7777777777777778,\"#fb9f3a\"],[0.8888888888888888,\"#fdca26\"],[1.0,\"#f0f921\"]],\"sequentialminus\":[[0.0,\"#0d0887\"],[0.1111111111111111,\"#46039f\"],[0.2222222222222222,\"#7201a8\"],[0.3333333333333333,\"#9c179e\"],[0.4444444444444444,\"#bd3786\"],[0.5555555555555556,\"#d8576b\"],[0.6666666666666666,\"#ed7953\"],[0.7777777777777778,\"#fb9f3a\"],[0.8888888888888888,\"#fdca26\"],[1.0,\"#f0f921\"]]},\"colorway\":[\"#636efa\",\"#EF553B\",\"#00cc96\",\"#ab63fa\",\"#FFA15A\",\"#19d3f3\",\"#FF6692\",\"#B6E880\",\"#FF97FF\",\"#FECB52\"],\"font\":{\"color\":\"#2a3f5f\"},\"geo\":{\"bgcolor\":\"white\",\"lakecolor\":\"white\",\"landcolor\":\"#E5ECF6\",\"showlakes\":true,\"showland\":true,\"subunitcolor\":\"white\"},\"hoverlabel\":{\"align\":\"left\"},\"hovermode\":\"closest\",\"mapbox\":{\"style\":\"light\"},\"paper_bgcolor\":\"white\",\"plot_bgcolor\":\"#E5ECF6\",\"polar\":{\"angularaxis\":{\"gridcolor\":\"white\",\"linecolor\":\"white\",\"ticks\":\"\"},\"bgcolor\":\"#E5ECF6\",\"radialaxis\":{\"gridcolor\":\"white\",\"linecolor\":\"white\",\"ticks\":\"\"}},\"scene\":{\"xaxis\":{\"backgroundcolor\":\"#E5ECF6\",\"gridcolor\":\"white\",\"gridwidth\":2,\"linecolor\":\"white\",\"showbackground\":true,\"ticks\":\"\",\"zerolinecolor\":\"white\"},\"yaxis\":{\"backgroundcolor\":\"#E5ECF6\",\"gridcolor\":\"white\",\"gridwidth\":2,\"linecolor\":\"white\",\"showbackground\":true,\"ticks\":\"\",\"zerolinecolor\":\"white\"},\"zaxis\":{\"backgroundcolor\":\"#E5ECF6\",\"gridcolor\":\"white\",\"gridwidth\":2,\"linecolor\":\"white\",\"showbackground\":true,\"ticks\":\"\",\"zerolinecolor\":\"white\"}},\"shapedefaults\":{\"line\":{\"color\":\"#2a3f5f\"}},\"ternary\":{\"aaxis\":{\"gridcolor\":\"white\",\"linecolor\":\"white\",\"ticks\":\"\"},\"baxis\":{\"gridcolor\":\"white\",\"linecolor\":\"white\",\"ticks\":\"\"},\"bgcolor\":\"#E5ECF6\",\"caxis\":{\"gridcolor\":\"white\",\"linecolor\":\"white\",\"ticks\":\"\"}},\"title\":{\"x\":0.05},\"xaxis\":{\"automargin\":true,\"gridcolor\":\"white\",\"linecolor\":\"white\",\"ticks\":\"\",\"title\":{\"standoff\":15},\"zerolinecolor\":\"white\",\"zerolinewidth\":2},\"yaxis\":{\"automargin\":true,\"gridcolor\":\"white\",\"linecolor\":\"white\",\"ticks\":\"\",\"title\":{\"standoff\":15},\"zerolinecolor\":\"white\",\"zerolinewidth\":2}}},\"title\":{\"font\":{\"color\":\"#4D5663\"}},\"xaxis\":{\"gridcolor\":\"#E1E5ED\",\"showgrid\":true,\"tickfont\":{\"color\":\"#4D5663\"},\"title\":{\"font\":{\"color\":\"#4D5663\"},\"text\":\"\"},\"zerolinecolor\":\"#E1E5ED\"},\"yaxis\":{\"gridcolor\":\"#E1E5ED\",\"showgrid\":true,\"tickfont\":{\"color\":\"#4D5663\"},\"title\":{\"font\":{\"color\":\"#4D5663\"},\"text\":\"\"},\"zerolinecolor\":\"#E1E5ED\"}},                        {\"showLink\": true, \"linkText\": \"Export to plot.ly\", \"plotlyServerURL\": \"https://plot.ly\", \"responsive\": true}                    ).then(function(){\n",
       "                            \n",
       "var gd = document.getElementById('329ecf80-c51e-4305-96c4-9c67f0a3a139');\n",
       "var x = new MutationObserver(function (mutations, observer) {{\n",
       "        var display = window.getComputedStyle(gd).display;\n",
       "        if (!display || display === 'none') {{\n",
       "            console.log([gd, 'removed!']);\n",
       "            Plotly.purge(gd);\n",
       "            observer.disconnect();\n",
       "        }}\n",
       "}});\n",
       "\n",
       "// Listen for the removal of the full notebook cells\n",
       "var notebookContainer = gd.closest('#notebook-container');\n",
       "if (notebookContainer) {{\n",
       "    x.observe(notebookContainer, {childList: true});\n",
       "}}\n",
       "\n",
       "// Listen for the clearing of the current output cell\n",
       "var outputEl = gd.closest('.output');\n",
       "if (outputEl) {{\n",
       "    x.observe(outputEl, {childList: true});\n",
       "}}\n",
       "\n",
       "                        })                };                });            </script>        </div>"
      ]
     },
     "metadata": {},
     "output_type": "display_data"
    }
   ],
   "source": [
    "df['A'].iplot(kind='hist',bins=25)"
   ]
  },
  {
   "cell_type": "code",
   "execution_count": 17,
   "metadata": {},
   "outputs": [
    {
     "data": {
      "application/vnd.plotly.v1+json": {
       "config": {
        "linkText": "Export to plot.ly",
        "plotlyServerURL": "https://plot.ly",
        "showLink": true
       },
       "data": [
        {
         "marker": {
          "color": [
           "rgb(255, 153, 51)",
           "rgb(55, 128, 191)",
           "rgb(50, 171, 96)",
           "rgb(128, 0, 128)",
           "rgb(219, 64, 82)",
           "rgb(0, 128, 128)",
           "rgb(255, 255, 51)",
           "rgb(128, 128, 0)",
           "rgb(251, 128, 114)",
           "rgb(128, 177, 211)"
          ],
          "line": {
           "width": 1.3
          },
          "size": [
           112,
           58,
           72,
           76,
           68,
           53,
           89,
           45,
           52,
           49,
           77,
           53,
           63,
           88,
           77,
           68,
           50,
           12,
           61,
           51,
           14,
           58,
           47,
           66,
           42,
           36,
           69,
           91,
           48,
           56,
           67,
           40,
           34,
           63,
           28,
           59,
           60,
           53,
           51,
           30,
           102,
           87,
           23,
           91,
           25,
           69,
           95,
           57,
           62,
           68,
           48,
           62,
           85,
           44,
           99,
           52,
           28,
           56,
           47,
           89,
           71,
           66,
           82,
           64,
           93,
           62,
           57,
           55,
           54,
           103,
           41,
           53,
           50,
           48,
           75,
           58,
           45,
           45,
           81,
           63,
           72,
           86,
           56,
           35,
           53,
           98,
           46,
           28,
           64,
           61,
           37,
           103,
           25,
           35,
           66,
           58,
           70,
           22,
           72,
           40
          ],
          "symbol": "circle"
         },
         "mode": "markers",
         "text": "",
         "type": "scatter",
         "x": [
          0.9483710285820001,
          -0.16435447117281413,
          0.6477051568801235,
          -2.273255312123948,
          -0.19536853035988794,
          -0.2118342237334965,
          1.969900103972678,
          -0.1496270218197629,
          -0.007020860163975405,
          0.4772917949028792,
          -2.296838980325794,
          -0.37000166265522116,
          0.34406523866400957,
          -0.29030028397892893,
          0.6878914949832962,
          0.5433316282880948,
          -0.40987022829918446,
          -0.3508115673844667,
          -0.3559125754431757,
          -1.1483952719332804,
          -0.8767453817952463,
          1.92278265358688,
          0.5770428505914557,
          0.02435312488294865,
          1.4107386803936892,
          -0.06322763639530866,
          -0.01795897935142888,
          -0.18530147911972034,
          -0.3659190731162389,
          1.3165523507978518,
          -0.792171042599313,
          -0.1554692689441983,
          -1.8409931154929848,
          0.1764468915089469,
          -0.30909415815164737,
          1.0632814501247938,
          0.26234545224339956,
          -1.5873657519214601,
          -1.6473598175363953,
          -0.6318463303111566,
          1.0543085403294332,
          1.246304011828692,
          -0.21144922670508443,
          -0.23589096320737366,
          -0.09395250356688174,
          0.0707249247579655,
          -0.6400009901335901,
          1.351331165453697,
          -1.1313727968282254,
          -0.7647615927907178,
          -0.8079994094244998,
          1.5607430028744744,
          -0.3620125847729232,
          1.6051928605447752,
          -0.2644213070910263,
          0.15301454089392363,
          -1.384940783808886,
          0.9569667644612428,
          1.0098032757966096,
          0.05981939777514478,
          -0.4063321066711721,
          -0.10489950599416006,
          0.4405417746248789,
          1.5885797975649483,
          -0.2123877545633354,
          0.7896146361235454,
          -0.25786433842463086,
          1.1631727044468283,
          0.8893538473792952,
          -0.605977484901111,
          -2.2759457922899493,
          -0.30667550908424834,
          -0.8241615883865696,
          -0.812670431832529,
          0.33268905472604193,
          0.23563136424290237,
          0.4578026499023031,
          0.7315995846678012,
          -1.7286130927550594,
          -0.24475898061728274,
          0.04932267359327156,
          0.09850376427288944,
          0.886720450911329,
          -0.17577082586457415,
          1.6183992637484683,
          1.1184599011461407,
          1.0592831356401937,
          0.04909605784286992,
          0.0490338970942655,
          -1.5413799533062233,
          -0.6846783116080516,
          0.28934161302670924,
          -1.5812189138833908,
          -0.551058815311809,
          -0.14210452149120745,
          1.132681638282884,
          -1.4845447509762713,
          0.7275497759426459,
          -0.9247206532943602,
          -0.10781768148384203
         ],
         "y": [
          0.6951956068812144,
          0.49725417558382046,
          0.6087143272319379,
          0.10112467773010585,
          2.323613568869922,
          -0.24534012165281577,
          -1.588981039176941,
          0.5649426863896487,
          -1.061003385941566,
          1.046139137247561,
          -1.429030819194681,
          -0.6721985390439421,
          0.7446491237600207,
          -1.194499495828478,
          -0.22504824095902065,
          -0.3974007034506707,
          1.536542067477092,
          -0.39250064016403163,
          0.9523164329683868,
          -1.8573519129338643,
          1.3006210941603213,
          -0.5528283250328027,
          -0.6977698963321508,
          1.2942172706712607,
          -1.1549871293902265,
          0.25272725615392627,
          0.8445125936973771,
          -2.4699306276453563,
          -0.31190850791083896,
          1.2259265317416355,
          0.48418414451155,
          0.5649252815461252,
          0.14138713508186163,
          1.938355457479299,
          -1.0465970402655622,
          -1.3816713931096485,
          -0.8790836945117418,
          -0.8016568421156806,
          -0.03807425182074729,
          1.512011476372494,
          -0.358844527962155,
          1.7906226715812434,
          0.696488767895237,
          -0.2677337901158682,
          1.3042993099547446,
          -0.32026858309367945,
          -0.07720683218039519,
          -0.634742010310217,
          0.7603041907311168,
          1.5805588555198649,
          -0.1989611304897986,
          0.7220453059317153,
          0.5692340768872667,
          -0.25156765622962063,
          0.8092358452271889,
          1.0885470599932183,
          0.45062822224819526,
          -0.013762313193872652,
          0.5912886501401902,
          -0.7423096218981617,
          0.9382882421920437,
          0.08293536258955617,
          0.8345857880588031,
          -0.716795511109764,
          0.36263691765918415,
          -0.9270008736821341,
          -0.6838395828920901,
          0.8694508382211932,
          -0.2347351263121534,
          1.8793424244484218,
          -1.269768586915114,
          0.5573369027699515,
          0.6817476354328097,
          -0.20346366467539387,
          0.21314857289525754,
          -0.30799604434693434,
          0.366574150799827,
          2.171757651011116,
          -0.8840881683355313,
          -0.1636449694274178,
          -1.266223369167309,
          -0.7745833709493388,
          0.6283851977513192,
          1.2378303894503486,
          0.5122696947240207,
          -0.9102284691228753,
          -0.619141770208701,
          1.0581714210855506,
          -1.7158268206733926,
          -1.3392909615359103,
          -0.1580198932356279,
          0.711646018189122,
          0.8383109344980673,
          -0.2850035136230021,
          0.007760260934558799,
          0.3489907751758173,
          0.06754387559919373,
          -1.6012150819873734,
          0.6283008119768948,
          -0.7677935023498129
         ]
        }
       ],
       "layout": {
        "legend": {
         "bgcolor": "#F5F6F9",
         "font": {
          "color": "#4D5663"
         }
        },
        "paper_bgcolor": "#F5F6F9",
        "plot_bgcolor": "#F5F6F9",
        "template": {
         "data": {
          "bar": [
           {
            "error_x": {
             "color": "#2a3f5f"
            },
            "error_y": {
             "color": "#2a3f5f"
            },
            "marker": {
             "line": {
              "color": "#E5ECF6",
              "width": 0.5
             },
             "pattern": {
              "fillmode": "overlay",
              "size": 10,
              "solidity": 0.2
             }
            },
            "type": "bar"
           }
          ],
          "barpolar": [
           {
            "marker": {
             "line": {
              "color": "#E5ECF6",
              "width": 0.5
             },
             "pattern": {
              "fillmode": "overlay",
              "size": 10,
              "solidity": 0.2
             }
            },
            "type": "barpolar"
           }
          ],
          "carpet": [
           {
            "aaxis": {
             "endlinecolor": "#2a3f5f",
             "gridcolor": "white",
             "linecolor": "white",
             "minorgridcolor": "white",
             "startlinecolor": "#2a3f5f"
            },
            "baxis": {
             "endlinecolor": "#2a3f5f",
             "gridcolor": "white",
             "linecolor": "white",
             "minorgridcolor": "white",
             "startlinecolor": "#2a3f5f"
            },
            "type": "carpet"
           }
          ],
          "choropleth": [
           {
            "colorbar": {
             "outlinewidth": 0,
             "ticks": ""
            },
            "type": "choropleth"
           }
          ],
          "contour": [
           {
            "colorbar": {
             "outlinewidth": 0,
             "ticks": ""
            },
            "colorscale": [
             [
              0,
              "#0d0887"
             ],
             [
              0.1111111111111111,
              "#46039f"
             ],
             [
              0.2222222222222222,
              "#7201a8"
             ],
             [
              0.3333333333333333,
              "#9c179e"
             ],
             [
              0.4444444444444444,
              "#bd3786"
             ],
             [
              0.5555555555555556,
              "#d8576b"
             ],
             [
              0.6666666666666666,
              "#ed7953"
             ],
             [
              0.7777777777777778,
              "#fb9f3a"
             ],
             [
              0.8888888888888888,
              "#fdca26"
             ],
             [
              1,
              "#f0f921"
             ]
            ],
            "type": "contour"
           }
          ],
          "contourcarpet": [
           {
            "colorbar": {
             "outlinewidth": 0,
             "ticks": ""
            },
            "type": "contourcarpet"
           }
          ],
          "heatmap": [
           {
            "colorbar": {
             "outlinewidth": 0,
             "ticks": ""
            },
            "colorscale": [
             [
              0,
              "#0d0887"
             ],
             [
              0.1111111111111111,
              "#46039f"
             ],
             [
              0.2222222222222222,
              "#7201a8"
             ],
             [
              0.3333333333333333,
              "#9c179e"
             ],
             [
              0.4444444444444444,
              "#bd3786"
             ],
             [
              0.5555555555555556,
              "#d8576b"
             ],
             [
              0.6666666666666666,
              "#ed7953"
             ],
             [
              0.7777777777777778,
              "#fb9f3a"
             ],
             [
              0.8888888888888888,
              "#fdca26"
             ],
             [
              1,
              "#f0f921"
             ]
            ],
            "type": "heatmap"
           }
          ],
          "heatmapgl": [
           {
            "colorbar": {
             "outlinewidth": 0,
             "ticks": ""
            },
            "colorscale": [
             [
              0,
              "#0d0887"
             ],
             [
              0.1111111111111111,
              "#46039f"
             ],
             [
              0.2222222222222222,
              "#7201a8"
             ],
             [
              0.3333333333333333,
              "#9c179e"
             ],
             [
              0.4444444444444444,
              "#bd3786"
             ],
             [
              0.5555555555555556,
              "#d8576b"
             ],
             [
              0.6666666666666666,
              "#ed7953"
             ],
             [
              0.7777777777777778,
              "#fb9f3a"
             ],
             [
              0.8888888888888888,
              "#fdca26"
             ],
             [
              1,
              "#f0f921"
             ]
            ],
            "type": "heatmapgl"
           }
          ],
          "histogram": [
           {
            "marker": {
             "pattern": {
              "fillmode": "overlay",
              "size": 10,
              "solidity": 0.2
             }
            },
            "type": "histogram"
           }
          ],
          "histogram2d": [
           {
            "colorbar": {
             "outlinewidth": 0,
             "ticks": ""
            },
            "colorscale": [
             [
              0,
              "#0d0887"
             ],
             [
              0.1111111111111111,
              "#46039f"
             ],
             [
              0.2222222222222222,
              "#7201a8"
             ],
             [
              0.3333333333333333,
              "#9c179e"
             ],
             [
              0.4444444444444444,
              "#bd3786"
             ],
             [
              0.5555555555555556,
              "#d8576b"
             ],
             [
              0.6666666666666666,
              "#ed7953"
             ],
             [
              0.7777777777777778,
              "#fb9f3a"
             ],
             [
              0.8888888888888888,
              "#fdca26"
             ],
             [
              1,
              "#f0f921"
             ]
            ],
            "type": "histogram2d"
           }
          ],
          "histogram2dcontour": [
           {
            "colorbar": {
             "outlinewidth": 0,
             "ticks": ""
            },
            "colorscale": [
             [
              0,
              "#0d0887"
             ],
             [
              0.1111111111111111,
              "#46039f"
             ],
             [
              0.2222222222222222,
              "#7201a8"
             ],
             [
              0.3333333333333333,
              "#9c179e"
             ],
             [
              0.4444444444444444,
              "#bd3786"
             ],
             [
              0.5555555555555556,
              "#d8576b"
             ],
             [
              0.6666666666666666,
              "#ed7953"
             ],
             [
              0.7777777777777778,
              "#fb9f3a"
             ],
             [
              0.8888888888888888,
              "#fdca26"
             ],
             [
              1,
              "#f0f921"
             ]
            ],
            "type": "histogram2dcontour"
           }
          ],
          "mesh3d": [
           {
            "colorbar": {
             "outlinewidth": 0,
             "ticks": ""
            },
            "type": "mesh3d"
           }
          ],
          "parcoords": [
           {
            "line": {
             "colorbar": {
              "outlinewidth": 0,
              "ticks": ""
             }
            },
            "type": "parcoords"
           }
          ],
          "pie": [
           {
            "automargin": true,
            "type": "pie"
           }
          ],
          "scatter": [
           {
            "fillpattern": {
             "fillmode": "overlay",
             "size": 10,
             "solidity": 0.2
            },
            "type": "scatter"
           }
          ],
          "scatter3d": [
           {
            "line": {
             "colorbar": {
              "outlinewidth": 0,
              "ticks": ""
             }
            },
            "marker": {
             "colorbar": {
              "outlinewidth": 0,
              "ticks": ""
             }
            },
            "type": "scatter3d"
           }
          ],
          "scattercarpet": [
           {
            "marker": {
             "colorbar": {
              "outlinewidth": 0,
              "ticks": ""
             }
            },
            "type": "scattercarpet"
           }
          ],
          "scattergeo": [
           {
            "marker": {
             "colorbar": {
              "outlinewidth": 0,
              "ticks": ""
             }
            },
            "type": "scattergeo"
           }
          ],
          "scattergl": [
           {
            "marker": {
             "colorbar": {
              "outlinewidth": 0,
              "ticks": ""
             }
            },
            "type": "scattergl"
           }
          ],
          "scattermapbox": [
           {
            "marker": {
             "colorbar": {
              "outlinewidth": 0,
              "ticks": ""
             }
            },
            "type": "scattermapbox"
           }
          ],
          "scatterpolar": [
           {
            "marker": {
             "colorbar": {
              "outlinewidth": 0,
              "ticks": ""
             }
            },
            "type": "scatterpolar"
           }
          ],
          "scatterpolargl": [
           {
            "marker": {
             "colorbar": {
              "outlinewidth": 0,
              "ticks": ""
             }
            },
            "type": "scatterpolargl"
           }
          ],
          "scatterternary": [
           {
            "marker": {
             "colorbar": {
              "outlinewidth": 0,
              "ticks": ""
             }
            },
            "type": "scatterternary"
           }
          ],
          "surface": [
           {
            "colorbar": {
             "outlinewidth": 0,
             "ticks": ""
            },
            "colorscale": [
             [
              0,
              "#0d0887"
             ],
             [
              0.1111111111111111,
              "#46039f"
             ],
             [
              0.2222222222222222,
              "#7201a8"
             ],
             [
              0.3333333333333333,
              "#9c179e"
             ],
             [
              0.4444444444444444,
              "#bd3786"
             ],
             [
              0.5555555555555556,
              "#d8576b"
             ],
             [
              0.6666666666666666,
              "#ed7953"
             ],
             [
              0.7777777777777778,
              "#fb9f3a"
             ],
             [
              0.8888888888888888,
              "#fdca26"
             ],
             [
              1,
              "#f0f921"
             ]
            ],
            "type": "surface"
           }
          ],
          "table": [
           {
            "cells": {
             "fill": {
              "color": "#EBF0F8"
             },
             "line": {
              "color": "white"
             }
            },
            "header": {
             "fill": {
              "color": "#C8D4E3"
             },
             "line": {
              "color": "white"
             }
            },
            "type": "table"
           }
          ]
         },
         "layout": {
          "annotationdefaults": {
           "arrowcolor": "#2a3f5f",
           "arrowhead": 0,
           "arrowwidth": 1
          },
          "autotypenumbers": "strict",
          "coloraxis": {
           "colorbar": {
            "outlinewidth": 0,
            "ticks": ""
           }
          },
          "colorscale": {
           "diverging": [
            [
             0,
             "#8e0152"
            ],
            [
             0.1,
             "#c51b7d"
            ],
            [
             0.2,
             "#de77ae"
            ],
            [
             0.3,
             "#f1b6da"
            ],
            [
             0.4,
             "#fde0ef"
            ],
            [
             0.5,
             "#f7f7f7"
            ],
            [
             0.6,
             "#e6f5d0"
            ],
            [
             0.7,
             "#b8e186"
            ],
            [
             0.8,
             "#7fbc41"
            ],
            [
             0.9,
             "#4d9221"
            ],
            [
             1,
             "#276419"
            ]
           ],
           "sequential": [
            [
             0,
             "#0d0887"
            ],
            [
             0.1111111111111111,
             "#46039f"
            ],
            [
             0.2222222222222222,
             "#7201a8"
            ],
            [
             0.3333333333333333,
             "#9c179e"
            ],
            [
             0.4444444444444444,
             "#bd3786"
            ],
            [
             0.5555555555555556,
             "#d8576b"
            ],
            [
             0.6666666666666666,
             "#ed7953"
            ],
            [
             0.7777777777777778,
             "#fb9f3a"
            ],
            [
             0.8888888888888888,
             "#fdca26"
            ],
            [
             1,
             "#f0f921"
            ]
           ],
           "sequentialminus": [
            [
             0,
             "#0d0887"
            ],
            [
             0.1111111111111111,
             "#46039f"
            ],
            [
             0.2222222222222222,
             "#7201a8"
            ],
            [
             0.3333333333333333,
             "#9c179e"
            ],
            [
             0.4444444444444444,
             "#bd3786"
            ],
            [
             0.5555555555555556,
             "#d8576b"
            ],
            [
             0.6666666666666666,
             "#ed7953"
            ],
            [
             0.7777777777777778,
             "#fb9f3a"
            ],
            [
             0.8888888888888888,
             "#fdca26"
            ],
            [
             1,
             "#f0f921"
            ]
           ]
          },
          "colorway": [
           "#636efa",
           "#EF553B",
           "#00cc96",
           "#ab63fa",
           "#FFA15A",
           "#19d3f3",
           "#FF6692",
           "#B6E880",
           "#FF97FF",
           "#FECB52"
          ],
          "font": {
           "color": "#2a3f5f"
          },
          "geo": {
           "bgcolor": "white",
           "lakecolor": "white",
           "landcolor": "#E5ECF6",
           "showlakes": true,
           "showland": true,
           "subunitcolor": "white"
          },
          "hoverlabel": {
           "align": "left"
          },
          "hovermode": "closest",
          "mapbox": {
           "style": "light"
          },
          "paper_bgcolor": "white",
          "plot_bgcolor": "#E5ECF6",
          "polar": {
           "angularaxis": {
            "gridcolor": "white",
            "linecolor": "white",
            "ticks": ""
           },
           "bgcolor": "#E5ECF6",
           "radialaxis": {
            "gridcolor": "white",
            "linecolor": "white",
            "ticks": ""
           }
          },
          "scene": {
           "xaxis": {
            "backgroundcolor": "#E5ECF6",
            "gridcolor": "white",
            "gridwidth": 2,
            "linecolor": "white",
            "showbackground": true,
            "ticks": "",
            "zerolinecolor": "white"
           },
           "yaxis": {
            "backgroundcolor": "#E5ECF6",
            "gridcolor": "white",
            "gridwidth": 2,
            "linecolor": "white",
            "showbackground": true,
            "ticks": "",
            "zerolinecolor": "white"
           },
           "zaxis": {
            "backgroundcolor": "#E5ECF6",
            "gridcolor": "white",
            "gridwidth": 2,
            "linecolor": "white",
            "showbackground": true,
            "ticks": "",
            "zerolinecolor": "white"
           }
          },
          "shapedefaults": {
           "line": {
            "color": "#2a3f5f"
           }
          },
          "ternary": {
           "aaxis": {
            "gridcolor": "white",
            "linecolor": "white",
            "ticks": ""
           },
           "baxis": {
            "gridcolor": "white",
            "linecolor": "white",
            "ticks": ""
           },
           "bgcolor": "#E5ECF6",
           "caxis": {
            "gridcolor": "white",
            "linecolor": "white",
            "ticks": ""
           }
          },
          "title": {
           "x": 0.05
          },
          "xaxis": {
           "automargin": true,
           "gridcolor": "white",
           "linecolor": "white",
           "ticks": "",
           "title": {
            "standoff": 15
           },
           "zerolinecolor": "white",
           "zerolinewidth": 2
          },
          "yaxis": {
           "automargin": true,
           "gridcolor": "white",
           "linecolor": "white",
           "ticks": "",
           "title": {
            "standoff": 15
           },
           "zerolinecolor": "white",
           "zerolinewidth": 2
          }
         }
        },
        "title": {
         "font": {
          "color": "#4D5663"
         }
        },
        "xaxis": {
         "gridcolor": "#E1E5ED",
         "showgrid": true,
         "tickfont": {
          "color": "#4D5663"
         },
         "title": {
          "font": {
           "color": "#4D5663"
          },
          "text": ""
         },
         "zerolinecolor": "#E1E5ED"
        },
        "yaxis": {
         "gridcolor": "#E1E5ED",
         "showgrid": true,
         "tickfont": {
          "color": "#4D5663"
         },
         "title": {
          "font": {
           "color": "#4D5663"
          },
          "text": ""
         },
         "zerolinecolor": "#E1E5ED"
        }
       }
      },
      "text/html": [
       "<div>                            <div id=\"6b31cc32-d802-4d72-a951-8bfefe7b7d72\" class=\"plotly-graph-div\" style=\"height:525px; width:100%;\"></div>            <script type=\"text/javascript\">                require([\"plotly\"], function(Plotly) {                    window.PLOTLYENV=window.PLOTLYENV || {};\n",
       "                    window.PLOTLYENV.BASE_URL='https://plot.ly';                                    if (document.getElementById(\"6b31cc32-d802-4d72-a951-8bfefe7b7d72\")) {                    Plotly.newPlot(                        \"6b31cc32-d802-4d72-a951-8bfefe7b7d72\",                        [{\"marker\":{\"color\":[\"rgb(255, 153, 51)\",\"rgb(55, 128, 191)\",\"rgb(50, 171, 96)\",\"rgb(128, 0, 128)\",\"rgb(219, 64, 82)\",\"rgb(0, 128, 128)\",\"rgb(255, 255, 51)\",\"rgb(128, 128, 0)\",\"rgb(251, 128, 114)\",\"rgb(128, 177, 211)\"],\"line\":{\"width\":1.3},\"size\":[112,58,72,76,68,53,89,45,52,49,77,53,63,88,77,68,50,12,61,51,14,58,47,66,42,36,69,91,48,56,67,40,34,63,28,59,60,53,51,30,102,87,23,91,25,69,95,57,62,68,48,62,85,44,99,52,28,56,47,89,71,66,82,64,93,62,57,55,54,103,41,53,50,48,75,58,45,45,81,63,72,86,56,35,53,98,46,28,64,61,37,103,25,35,66,58,70,22,72,40],\"symbol\":\"circle\"},\"mode\":\"markers\",\"text\":\"\",\"x\":[0.9483710285820001,-0.16435447117281413,0.6477051568801235,-2.273255312123948,-0.19536853035988794,-0.2118342237334965,1.969900103972678,-0.1496270218197629,-0.007020860163975405,0.4772917949028792,-2.296838980325794,-0.37000166265522116,0.34406523866400957,-0.29030028397892893,0.6878914949832962,0.5433316282880948,-0.40987022829918446,-0.3508115673844667,-0.3559125754431757,-1.1483952719332804,-0.8767453817952463,1.92278265358688,0.5770428505914557,0.02435312488294865,1.4107386803936892,-0.06322763639530866,-0.01795897935142888,-0.18530147911972034,-0.3659190731162389,1.3165523507978518,-0.792171042599313,-0.1554692689441983,-1.8409931154929848,0.1764468915089469,-0.30909415815164737,1.0632814501247938,0.26234545224339956,-1.5873657519214601,-1.6473598175363953,-0.6318463303111566,1.0543085403294332,1.246304011828692,-0.21144922670508443,-0.23589096320737366,-0.09395250356688174,0.0707249247579655,-0.6400009901335901,1.351331165453697,-1.1313727968282254,-0.7647615927907178,-0.8079994094244998,1.5607430028744744,-0.3620125847729232,1.6051928605447752,-0.2644213070910263,0.15301454089392363,-1.384940783808886,0.9569667644612428,1.0098032757966096,0.05981939777514478,-0.4063321066711721,-0.10489950599416006,0.4405417746248789,1.5885797975649483,-0.2123877545633354,0.7896146361235454,-0.25786433842463086,1.1631727044468283,0.8893538473792952,-0.605977484901111,-2.2759457922899493,-0.30667550908424834,-0.8241615883865696,-0.812670431832529,0.33268905472604193,0.23563136424290237,0.4578026499023031,0.7315995846678012,-1.7286130927550594,-0.24475898061728274,0.04932267359327156,0.09850376427288944,0.886720450911329,-0.17577082586457415,1.6183992637484683,1.1184599011461407,1.0592831356401937,0.04909605784286992,0.0490338970942655,-1.5413799533062233,-0.6846783116080516,0.28934161302670924,-1.5812189138833908,-0.551058815311809,-0.14210452149120745,1.132681638282884,-1.4845447509762713,0.7275497759426459,-0.9247206532943602,-0.10781768148384203],\"y\":[0.6951956068812144,0.49725417558382046,0.6087143272319379,0.10112467773010585,2.323613568869922,-0.24534012165281577,-1.588981039176941,0.5649426863896487,-1.061003385941566,1.046139137247561,-1.429030819194681,-0.6721985390439421,0.7446491237600207,-1.194499495828478,-0.22504824095902065,-0.3974007034506707,1.536542067477092,-0.39250064016403163,0.9523164329683868,-1.8573519129338643,1.3006210941603213,-0.5528283250328027,-0.6977698963321508,1.2942172706712607,-1.1549871293902265,0.25272725615392627,0.8445125936973771,-2.4699306276453563,-0.31190850791083896,1.2259265317416355,0.48418414451155,0.5649252815461252,0.14138713508186163,1.938355457479299,-1.0465970402655622,-1.3816713931096485,-0.8790836945117418,-0.8016568421156806,-0.03807425182074729,1.512011476372494,-0.358844527962155,1.7906226715812434,0.696488767895237,-0.2677337901158682,1.3042993099547446,-0.32026858309367945,-0.07720683218039519,-0.634742010310217,0.7603041907311168,1.5805588555198649,-0.1989611304897986,0.7220453059317153,0.5692340768872667,-0.25156765622962063,0.8092358452271889,1.0885470599932183,0.45062822224819526,-0.013762313193872652,0.5912886501401902,-0.7423096218981617,0.9382882421920437,0.08293536258955617,0.8345857880588031,-0.716795511109764,0.36263691765918415,-0.9270008736821341,-0.6838395828920901,0.8694508382211932,-0.2347351263121534,1.8793424244484218,-1.269768586915114,0.5573369027699515,0.6817476354328097,-0.20346366467539387,0.21314857289525754,-0.30799604434693434,0.366574150799827,2.171757651011116,-0.8840881683355313,-0.1636449694274178,-1.266223369167309,-0.7745833709493388,0.6283851977513192,1.2378303894503486,0.5122696947240207,-0.9102284691228753,-0.619141770208701,1.0581714210855506,-1.7158268206733926,-1.3392909615359103,-0.1580198932356279,0.711646018189122,0.8383109344980673,-0.2850035136230021,0.007760260934558799,0.3489907751758173,0.06754387559919373,-1.6012150819873734,0.6283008119768948,-0.7677935023498129],\"type\":\"scatter\"}],                        {\"legend\":{\"bgcolor\":\"#F5F6F9\",\"font\":{\"color\":\"#4D5663\"}},\"paper_bgcolor\":\"#F5F6F9\",\"plot_bgcolor\":\"#F5F6F9\",\"template\":{\"data\":{\"barpolar\":[{\"marker\":{\"line\":{\"color\":\"#E5ECF6\",\"width\":0.5},\"pattern\":{\"fillmode\":\"overlay\",\"size\":10,\"solidity\":0.2}},\"type\":\"barpolar\"}],\"bar\":[{\"error_x\":{\"color\":\"#2a3f5f\"},\"error_y\":{\"color\":\"#2a3f5f\"},\"marker\":{\"line\":{\"color\":\"#E5ECF6\",\"width\":0.5},\"pattern\":{\"fillmode\":\"overlay\",\"size\":10,\"solidity\":0.2}},\"type\":\"bar\"}],\"carpet\":[{\"aaxis\":{\"endlinecolor\":\"#2a3f5f\",\"gridcolor\":\"white\",\"linecolor\":\"white\",\"minorgridcolor\":\"white\",\"startlinecolor\":\"#2a3f5f\"},\"baxis\":{\"endlinecolor\":\"#2a3f5f\",\"gridcolor\":\"white\",\"linecolor\":\"white\",\"minorgridcolor\":\"white\",\"startlinecolor\":\"#2a3f5f\"},\"type\":\"carpet\"}],\"choropleth\":[{\"colorbar\":{\"outlinewidth\":0,\"ticks\":\"\"},\"type\":\"choropleth\"}],\"contourcarpet\":[{\"colorbar\":{\"outlinewidth\":0,\"ticks\":\"\"},\"type\":\"contourcarpet\"}],\"contour\":[{\"colorbar\":{\"outlinewidth\":0,\"ticks\":\"\"},\"colorscale\":[[0.0,\"#0d0887\"],[0.1111111111111111,\"#46039f\"],[0.2222222222222222,\"#7201a8\"],[0.3333333333333333,\"#9c179e\"],[0.4444444444444444,\"#bd3786\"],[0.5555555555555556,\"#d8576b\"],[0.6666666666666666,\"#ed7953\"],[0.7777777777777778,\"#fb9f3a\"],[0.8888888888888888,\"#fdca26\"],[1.0,\"#f0f921\"]],\"type\":\"contour\"}],\"heatmapgl\":[{\"colorbar\":{\"outlinewidth\":0,\"ticks\":\"\"},\"colorscale\":[[0.0,\"#0d0887\"],[0.1111111111111111,\"#46039f\"],[0.2222222222222222,\"#7201a8\"],[0.3333333333333333,\"#9c179e\"],[0.4444444444444444,\"#bd3786\"],[0.5555555555555556,\"#d8576b\"],[0.6666666666666666,\"#ed7953\"],[0.7777777777777778,\"#fb9f3a\"],[0.8888888888888888,\"#fdca26\"],[1.0,\"#f0f921\"]],\"type\":\"heatmapgl\"}],\"heatmap\":[{\"colorbar\":{\"outlinewidth\":0,\"ticks\":\"\"},\"colorscale\":[[0.0,\"#0d0887\"],[0.1111111111111111,\"#46039f\"],[0.2222222222222222,\"#7201a8\"],[0.3333333333333333,\"#9c179e\"],[0.4444444444444444,\"#bd3786\"],[0.5555555555555556,\"#d8576b\"],[0.6666666666666666,\"#ed7953\"],[0.7777777777777778,\"#fb9f3a\"],[0.8888888888888888,\"#fdca26\"],[1.0,\"#f0f921\"]],\"type\":\"heatmap\"}],\"histogram2dcontour\":[{\"colorbar\":{\"outlinewidth\":0,\"ticks\":\"\"},\"colorscale\":[[0.0,\"#0d0887\"],[0.1111111111111111,\"#46039f\"],[0.2222222222222222,\"#7201a8\"],[0.3333333333333333,\"#9c179e\"],[0.4444444444444444,\"#bd3786\"],[0.5555555555555556,\"#d8576b\"],[0.6666666666666666,\"#ed7953\"],[0.7777777777777778,\"#fb9f3a\"],[0.8888888888888888,\"#fdca26\"],[1.0,\"#f0f921\"]],\"type\":\"histogram2dcontour\"}],\"histogram2d\":[{\"colorbar\":{\"outlinewidth\":0,\"ticks\":\"\"},\"colorscale\":[[0.0,\"#0d0887\"],[0.1111111111111111,\"#46039f\"],[0.2222222222222222,\"#7201a8\"],[0.3333333333333333,\"#9c179e\"],[0.4444444444444444,\"#bd3786\"],[0.5555555555555556,\"#d8576b\"],[0.6666666666666666,\"#ed7953\"],[0.7777777777777778,\"#fb9f3a\"],[0.8888888888888888,\"#fdca26\"],[1.0,\"#f0f921\"]],\"type\":\"histogram2d\"}],\"histogram\":[{\"marker\":{\"pattern\":{\"fillmode\":\"overlay\",\"size\":10,\"solidity\":0.2}},\"type\":\"histogram\"}],\"mesh3d\":[{\"colorbar\":{\"outlinewidth\":0,\"ticks\":\"\"},\"type\":\"mesh3d\"}],\"parcoords\":[{\"line\":{\"colorbar\":{\"outlinewidth\":0,\"ticks\":\"\"}},\"type\":\"parcoords\"}],\"pie\":[{\"automargin\":true,\"type\":\"pie\"}],\"scatter3d\":[{\"line\":{\"colorbar\":{\"outlinewidth\":0,\"ticks\":\"\"}},\"marker\":{\"colorbar\":{\"outlinewidth\":0,\"ticks\":\"\"}},\"type\":\"scatter3d\"}],\"scattercarpet\":[{\"marker\":{\"colorbar\":{\"outlinewidth\":0,\"ticks\":\"\"}},\"type\":\"scattercarpet\"}],\"scattergeo\":[{\"marker\":{\"colorbar\":{\"outlinewidth\":0,\"ticks\":\"\"}},\"type\":\"scattergeo\"}],\"scattergl\":[{\"marker\":{\"colorbar\":{\"outlinewidth\":0,\"ticks\":\"\"}},\"type\":\"scattergl\"}],\"scattermapbox\":[{\"marker\":{\"colorbar\":{\"outlinewidth\":0,\"ticks\":\"\"}},\"type\":\"scattermapbox\"}],\"scatterpolargl\":[{\"marker\":{\"colorbar\":{\"outlinewidth\":0,\"ticks\":\"\"}},\"type\":\"scatterpolargl\"}],\"scatterpolar\":[{\"marker\":{\"colorbar\":{\"outlinewidth\":0,\"ticks\":\"\"}},\"type\":\"scatterpolar\"}],\"scatter\":[{\"fillpattern\":{\"fillmode\":\"overlay\",\"size\":10,\"solidity\":0.2},\"type\":\"scatter\"}],\"scatterternary\":[{\"marker\":{\"colorbar\":{\"outlinewidth\":0,\"ticks\":\"\"}},\"type\":\"scatterternary\"}],\"surface\":[{\"colorbar\":{\"outlinewidth\":0,\"ticks\":\"\"},\"colorscale\":[[0.0,\"#0d0887\"],[0.1111111111111111,\"#46039f\"],[0.2222222222222222,\"#7201a8\"],[0.3333333333333333,\"#9c179e\"],[0.4444444444444444,\"#bd3786\"],[0.5555555555555556,\"#d8576b\"],[0.6666666666666666,\"#ed7953\"],[0.7777777777777778,\"#fb9f3a\"],[0.8888888888888888,\"#fdca26\"],[1.0,\"#f0f921\"]],\"type\":\"surface\"}],\"table\":[{\"cells\":{\"fill\":{\"color\":\"#EBF0F8\"},\"line\":{\"color\":\"white\"}},\"header\":{\"fill\":{\"color\":\"#C8D4E3\"},\"line\":{\"color\":\"white\"}},\"type\":\"table\"}]},\"layout\":{\"annotationdefaults\":{\"arrowcolor\":\"#2a3f5f\",\"arrowhead\":0,\"arrowwidth\":1},\"autotypenumbers\":\"strict\",\"coloraxis\":{\"colorbar\":{\"outlinewidth\":0,\"ticks\":\"\"}},\"colorscale\":{\"diverging\":[[0,\"#8e0152\"],[0.1,\"#c51b7d\"],[0.2,\"#de77ae\"],[0.3,\"#f1b6da\"],[0.4,\"#fde0ef\"],[0.5,\"#f7f7f7\"],[0.6,\"#e6f5d0\"],[0.7,\"#b8e186\"],[0.8,\"#7fbc41\"],[0.9,\"#4d9221\"],[1,\"#276419\"]],\"sequential\":[[0.0,\"#0d0887\"],[0.1111111111111111,\"#46039f\"],[0.2222222222222222,\"#7201a8\"],[0.3333333333333333,\"#9c179e\"],[0.4444444444444444,\"#bd3786\"],[0.5555555555555556,\"#d8576b\"],[0.6666666666666666,\"#ed7953\"],[0.7777777777777778,\"#fb9f3a\"],[0.8888888888888888,\"#fdca26\"],[1.0,\"#f0f921\"]],\"sequentialminus\":[[0.0,\"#0d0887\"],[0.1111111111111111,\"#46039f\"],[0.2222222222222222,\"#7201a8\"],[0.3333333333333333,\"#9c179e\"],[0.4444444444444444,\"#bd3786\"],[0.5555555555555556,\"#d8576b\"],[0.6666666666666666,\"#ed7953\"],[0.7777777777777778,\"#fb9f3a\"],[0.8888888888888888,\"#fdca26\"],[1.0,\"#f0f921\"]]},\"colorway\":[\"#636efa\",\"#EF553B\",\"#00cc96\",\"#ab63fa\",\"#FFA15A\",\"#19d3f3\",\"#FF6692\",\"#B6E880\",\"#FF97FF\",\"#FECB52\"],\"font\":{\"color\":\"#2a3f5f\"},\"geo\":{\"bgcolor\":\"white\",\"lakecolor\":\"white\",\"landcolor\":\"#E5ECF6\",\"showlakes\":true,\"showland\":true,\"subunitcolor\":\"white\"},\"hoverlabel\":{\"align\":\"left\"},\"hovermode\":\"closest\",\"mapbox\":{\"style\":\"light\"},\"paper_bgcolor\":\"white\",\"plot_bgcolor\":\"#E5ECF6\",\"polar\":{\"angularaxis\":{\"gridcolor\":\"white\",\"linecolor\":\"white\",\"ticks\":\"\"},\"bgcolor\":\"#E5ECF6\",\"radialaxis\":{\"gridcolor\":\"white\",\"linecolor\":\"white\",\"ticks\":\"\"}},\"scene\":{\"xaxis\":{\"backgroundcolor\":\"#E5ECF6\",\"gridcolor\":\"white\",\"gridwidth\":2,\"linecolor\":\"white\",\"showbackground\":true,\"ticks\":\"\",\"zerolinecolor\":\"white\"},\"yaxis\":{\"backgroundcolor\":\"#E5ECF6\",\"gridcolor\":\"white\",\"gridwidth\":2,\"linecolor\":\"white\",\"showbackground\":true,\"ticks\":\"\",\"zerolinecolor\":\"white\"},\"zaxis\":{\"backgroundcolor\":\"#E5ECF6\",\"gridcolor\":\"white\",\"gridwidth\":2,\"linecolor\":\"white\",\"showbackground\":true,\"ticks\":\"\",\"zerolinecolor\":\"white\"}},\"shapedefaults\":{\"line\":{\"color\":\"#2a3f5f\"}},\"ternary\":{\"aaxis\":{\"gridcolor\":\"white\",\"linecolor\":\"white\",\"ticks\":\"\"},\"baxis\":{\"gridcolor\":\"white\",\"linecolor\":\"white\",\"ticks\":\"\"},\"bgcolor\":\"#E5ECF6\",\"caxis\":{\"gridcolor\":\"white\",\"linecolor\":\"white\",\"ticks\":\"\"}},\"title\":{\"x\":0.05},\"xaxis\":{\"automargin\":true,\"gridcolor\":\"white\",\"linecolor\":\"white\",\"ticks\":\"\",\"title\":{\"standoff\":15},\"zerolinecolor\":\"white\",\"zerolinewidth\":2},\"yaxis\":{\"automargin\":true,\"gridcolor\":\"white\",\"linecolor\":\"white\",\"ticks\":\"\",\"title\":{\"standoff\":15},\"zerolinecolor\":\"white\",\"zerolinewidth\":2}}},\"title\":{\"font\":{\"color\":\"#4D5663\"}},\"xaxis\":{\"gridcolor\":\"#E1E5ED\",\"showgrid\":true,\"tickfont\":{\"color\":\"#4D5663\"},\"title\":{\"font\":{\"color\":\"#4D5663\"},\"text\":\"\"},\"zerolinecolor\":\"#E1E5ED\"},\"yaxis\":{\"gridcolor\":\"#E1E5ED\",\"showgrid\":true,\"tickfont\":{\"color\":\"#4D5663\"},\"title\":{\"font\":{\"color\":\"#4D5663\"},\"text\":\"\"},\"zerolinecolor\":\"#E1E5ED\"}},                        {\"showLink\": true, \"linkText\": \"Export to plot.ly\", \"plotlyServerURL\": \"https://plot.ly\", \"responsive\": true}                    ).then(function(){\n",
       "                            \n",
       "var gd = document.getElementById('6b31cc32-d802-4d72-a951-8bfefe7b7d72');\n",
       "var x = new MutationObserver(function (mutations, observer) {{\n",
       "        var display = window.getComputedStyle(gd).display;\n",
       "        if (!display || display === 'none') {{\n",
       "            console.log([gd, 'removed!']);\n",
       "            Plotly.purge(gd);\n",
       "            observer.disconnect();\n",
       "        }}\n",
       "}});\n",
       "\n",
       "// Listen for the removal of the full notebook cells\n",
       "var notebookContainer = gd.closest('#notebook-container');\n",
       "if (notebookContainer) {{\n",
       "    x.observe(notebookContainer, {childList: true});\n",
       "}}\n",
       "\n",
       "// Listen for the clearing of the current output cell\n",
       "var outputEl = gd.closest('.output');\n",
       "if (outputEl) {{\n",
       "    x.observe(outputEl, {childList: true});\n",
       "}}\n",
       "\n",
       "                        })                };                });            </script>        </div>"
      ]
     },
     "metadata": {},
     "output_type": "display_data"
    }
   ],
   "source": [
    "df.iplot(kind='bubble',x='A',y='B',size='C')"
   ]
  },
  {
   "cell_type": "markdown",
   "metadata": {},
   "source": [
    "## scatter_matrix()\n",
    "\n",
    "Similar to sns.pairplot()"
   ]
  },
  {
   "cell_type": "code",
   "execution_count": 18,
   "metadata": {},
   "outputs": [
    {
     "data": {
      "application/vnd.plotly.v1+json": {
       "config": {
        "linkText": "Export to plot.ly",
        "plotlyServerURL": "https://plot.ly",
        "showLink": true
       },
       "data": [
        {
         "histfunc": "count",
         "histnorm": "",
         "marker": {
          "color": "rgba(255, 153, 51, 1.0)",
          "line": {
           "color": "#4D5663",
           "width": 1.3
          }
         },
         "name": "A",
         "nbinsx": 10,
         "opacity": 0.8,
         "orientation": "v",
         "type": "histogram",
         "x": [
          0.9483710285820001,
          -0.16435447117281413,
          0.6477051568801235,
          -2.273255312123948,
          -0.19536853035988794,
          -0.2118342237334965,
          1.969900103972678,
          -0.1496270218197629,
          -0.007020860163975405,
          0.4772917949028792,
          -2.296838980325794,
          -0.37000166265522116,
          0.34406523866400957,
          -0.29030028397892893,
          0.6878914949832962,
          0.5433316282880948,
          -0.40987022829918446,
          -0.3508115673844667,
          -0.3559125754431757,
          -1.1483952719332804,
          -0.8767453817952463,
          1.92278265358688,
          0.5770428505914557,
          0.02435312488294865,
          1.4107386803936892,
          -0.06322763639530866,
          -0.01795897935142888,
          -0.18530147911972034,
          -0.3659190731162389,
          1.3165523507978518,
          -0.792171042599313,
          -0.1554692689441983,
          -1.8409931154929848,
          0.1764468915089469,
          -0.30909415815164737,
          1.0632814501247938,
          0.26234545224339956,
          -1.5873657519214601,
          -1.6473598175363953,
          -0.6318463303111566,
          1.0543085403294332,
          1.246304011828692,
          -0.21144922670508443,
          -0.23589096320737366,
          -0.09395250356688174,
          0.0707249247579655,
          -0.6400009901335901,
          1.351331165453697,
          -1.1313727968282254,
          -0.7647615927907178,
          -0.8079994094244998,
          1.5607430028744744,
          -0.3620125847729232,
          1.6051928605447752,
          -0.2644213070910263,
          0.15301454089392363,
          -1.384940783808886,
          0.9569667644612428,
          1.0098032757966096,
          0.05981939777514478,
          -0.4063321066711721,
          -0.10489950599416006,
          0.4405417746248789,
          1.5885797975649483,
          -0.2123877545633354,
          0.7896146361235454,
          -0.25786433842463086,
          1.1631727044468283,
          0.8893538473792952,
          -0.605977484901111,
          -2.2759457922899493,
          -0.30667550908424834,
          -0.8241615883865696,
          -0.812670431832529,
          0.33268905472604193,
          0.23563136424290237,
          0.4578026499023031,
          0.7315995846678012,
          -1.7286130927550594,
          -0.24475898061728274,
          0.04932267359327156,
          0.09850376427288944,
          0.886720450911329,
          -0.17577082586457415,
          1.6183992637484683,
          1.1184599011461407,
          1.0592831356401937,
          0.04909605784286992,
          0.0490338970942655,
          -1.5413799533062233,
          -0.6846783116080516,
          0.28934161302670924,
          -1.5812189138833908,
          -0.551058815311809,
          -0.14210452149120745,
          1.132681638282884,
          -1.4845447509762713,
          0.7275497759426459,
          -0.9247206532943602,
          -0.10781768148384203
         ],
         "xaxis": "x",
         "yaxis": "y"
        },
        {
         "line": {
          "color": "rgba(128, 128, 128, 1.0)",
          "dash": "solid",
          "shape": "linear",
          "width": 1.3
         },
         "marker": {
          "size": 2,
          "symbol": "circle"
         },
         "mode": "markers",
         "name": "A",
         "text": "",
         "type": "scatter",
         "x": [
          0.6951956068812144,
          0.49725417558382046,
          0.6087143272319379,
          0.10112467773010585,
          2.323613568869922,
          -0.24534012165281577,
          -1.588981039176941,
          0.5649426863896487,
          -1.061003385941566,
          1.046139137247561,
          -1.429030819194681,
          -0.6721985390439421,
          0.7446491237600207,
          -1.194499495828478,
          -0.22504824095902065,
          -0.3974007034506707,
          1.536542067477092,
          -0.39250064016403163,
          0.9523164329683868,
          -1.8573519129338643,
          1.3006210941603213,
          -0.5528283250328027,
          -0.6977698963321508,
          1.2942172706712607,
          -1.1549871293902265,
          0.25272725615392627,
          0.8445125936973771,
          -2.4699306276453563,
          -0.31190850791083896,
          1.2259265317416355,
          0.48418414451155,
          0.5649252815461252,
          0.14138713508186163,
          1.938355457479299,
          -1.0465970402655622,
          -1.3816713931096485,
          -0.8790836945117418,
          -0.8016568421156806,
          -0.03807425182074729,
          1.512011476372494,
          -0.358844527962155,
          1.7906226715812434,
          0.696488767895237,
          -0.2677337901158682,
          1.3042993099547446,
          -0.32026858309367945,
          -0.07720683218039519,
          -0.634742010310217,
          0.7603041907311168,
          1.5805588555198649,
          -0.1989611304897986,
          0.7220453059317153,
          0.5692340768872667,
          -0.25156765622962063,
          0.8092358452271889,
          1.0885470599932183,
          0.45062822224819526,
          -0.013762313193872652,
          0.5912886501401902,
          -0.7423096218981617,
          0.9382882421920437,
          0.08293536258955617,
          0.8345857880588031,
          -0.716795511109764,
          0.36263691765918415,
          -0.9270008736821341,
          -0.6838395828920901,
          0.8694508382211932,
          -0.2347351263121534,
          1.8793424244484218,
          -1.269768586915114,
          0.5573369027699515,
          0.6817476354328097,
          -0.20346366467539387,
          0.21314857289525754,
          -0.30799604434693434,
          0.366574150799827,
          2.171757651011116,
          -0.8840881683355313,
          -0.1636449694274178,
          -1.266223369167309,
          -0.7745833709493388,
          0.6283851977513192,
          1.2378303894503486,
          0.5122696947240207,
          -0.9102284691228753,
          -0.619141770208701,
          1.0581714210855506,
          -1.7158268206733926,
          -1.3392909615359103,
          -0.1580198932356279,
          0.711646018189122,
          0.8383109344980673,
          -0.2850035136230021,
          0.007760260934558799,
          0.3489907751758173,
          0.06754387559919373,
          -1.6012150819873734,
          0.6283008119768948,
          -0.7677935023498129
         ],
         "xaxis": "x2",
         "y": [
          0.9483710285820001,
          -0.16435447117281413,
          0.6477051568801235,
          -2.273255312123948,
          -0.19536853035988794,
          -0.2118342237334965,
          1.969900103972678,
          -0.1496270218197629,
          -0.007020860163975405,
          0.4772917949028792,
          -2.296838980325794,
          -0.37000166265522116,
          0.34406523866400957,
          -0.29030028397892893,
          0.6878914949832962,
          0.5433316282880948,
          -0.40987022829918446,
          -0.3508115673844667,
          -0.3559125754431757,
          -1.1483952719332804,
          -0.8767453817952463,
          1.92278265358688,
          0.5770428505914557,
          0.02435312488294865,
          1.4107386803936892,
          -0.06322763639530866,
          -0.01795897935142888,
          -0.18530147911972034,
          -0.3659190731162389,
          1.3165523507978518,
          -0.792171042599313,
          -0.1554692689441983,
          -1.8409931154929848,
          0.1764468915089469,
          -0.30909415815164737,
          1.0632814501247938,
          0.26234545224339956,
          -1.5873657519214601,
          -1.6473598175363953,
          -0.6318463303111566,
          1.0543085403294332,
          1.246304011828692,
          -0.21144922670508443,
          -0.23589096320737366,
          -0.09395250356688174,
          0.0707249247579655,
          -0.6400009901335901,
          1.351331165453697,
          -1.1313727968282254,
          -0.7647615927907178,
          -0.8079994094244998,
          1.5607430028744744,
          -0.3620125847729232,
          1.6051928605447752,
          -0.2644213070910263,
          0.15301454089392363,
          -1.384940783808886,
          0.9569667644612428,
          1.0098032757966096,
          0.05981939777514478,
          -0.4063321066711721,
          -0.10489950599416006,
          0.4405417746248789,
          1.5885797975649483,
          -0.2123877545633354,
          0.7896146361235454,
          -0.25786433842463086,
          1.1631727044468283,
          0.8893538473792952,
          -0.605977484901111,
          -2.2759457922899493,
          -0.30667550908424834,
          -0.8241615883865696,
          -0.812670431832529,
          0.33268905472604193,
          0.23563136424290237,
          0.4578026499023031,
          0.7315995846678012,
          -1.7286130927550594,
          -0.24475898061728274,
          0.04932267359327156,
          0.09850376427288944,
          0.886720450911329,
          -0.17577082586457415,
          1.6183992637484683,
          1.1184599011461407,
          1.0592831356401937,
          0.04909605784286992,
          0.0490338970942655,
          -1.5413799533062233,
          -0.6846783116080516,
          0.28934161302670924,
          -1.5812189138833908,
          -0.551058815311809,
          -0.14210452149120745,
          1.132681638282884,
          -1.4845447509762713,
          0.7275497759426459,
          -0.9247206532943602,
          -0.10781768148384203
         ],
         "yaxis": "y2"
        },
        {
         "line": {
          "color": "rgba(128, 128, 128, 1.0)",
          "dash": "solid",
          "shape": "linear",
          "width": 1.3
         },
         "marker": {
          "size": 2,
          "symbol": "circle"
         },
         "mode": "markers",
         "name": "A",
         "text": "",
         "type": "scatter",
         "x": [
          2.3120647498890845,
          -0.10844376718298135,
          0.49603694482045774,
          0.7029068935199622,
          0.33767586675516464,
          -0.3273942819094764,
          1.2910422644623754,
          -0.7280629942713662,
          -0.37948453567552576,
          -0.5075785585881247,
          0.7648412974132406,
          -0.34317556764828144,
          0.11167798409441208,
          1.2650984620862653,
          0.766761605724421,
          0.31955712666768243,
          -0.45891956640233755,
          -2.229721280031838,
          0.01375682566020346,
          -0.4184960839369062,
          -2.1354010328905866,
          -0.13595787316665328,
          -0.6074707709920614,
          0.23270802075036562,
          -0.8617204033782296,
          -1.1187483859844616,
          0.3655407036427369,
          1.3654646400459185,
          -0.5596958133724508,
          -0.20408541579895417,
          0.281380033365303,
          -0.9243321452113985,
          -1.2111859491646975,
          0.09379968704457334,
          -1.5012917548880185,
          -0.05862200358089037,
          -0.04718778502607619,
          -0.3242110428858523,
          -0.42527238807371115,
          -1.3679909676319204,
          1.8964567090068993,
          1.1885395823157534,
          -1.6920389323236837,
          1.3690654618438791,
          -1.6081745725857974,
          0.3808873876934197,
          1.5738398069809034,
          -0.16572277462275684,
          0.0717220500585075,
          0.33127683623696824,
          -0.5500698627042598,
          0.056776562191795034,
          1.1227764428347549,
          -0.7754774339956455,
          1.7504723294180942,
          -0.4018102332597638,
          -1.4640165953696878,
          -0.20503167430574165,
          -0.6365151172486725,
          1.3042113446387575,
          0.4603219669807841,
          0.23090188921472082,
          0.9700529693362641,
          0.16945282621225663,
          1.4802168937634455,
          0.0675260202312709,
          -0.1417359478016793,
          -0.23862574364672587,
          -0.2971032547170577,
          1.9106529557426482,
          -0.8743882521198557,
          -0.33819483933678207,
          -0.485591209095817,
          -0.5822230924675388,
          0.6659479730280735,
          -0.13675089264516105,
          -0.7035031932660262,
          -0.7071924291775493,
          0.9297246362993715,
          0.1126782792369145,
          0.5394383808318713,
          1.1745838261097399,
          -0.22509705230926447,
          -1.1797416296682188,
          -0.3237660238142024,
          1.7144677087925255,
          -0.6451368128462501,
          -1.486807554637661,
          0.152008246741144,
          -0.0042176350596296605,
          -1.0532979193695557,
          1.9416343610971065,
          -1.6342423293973727,
          -1.173615402945359,
          0.23446925202851698,
          -0.10348752353806556,
          0.44166541120995817,
          -1.754087775175577,
          0.5208903066785237,
          -0.9495706932847503
         ],
         "xaxis": "x3",
         "y": [
          0.9483710285820001,
          -0.16435447117281413,
          0.6477051568801235,
          -2.273255312123948,
          -0.19536853035988794,
          -0.2118342237334965,
          1.969900103972678,
          -0.1496270218197629,
          -0.007020860163975405,
          0.4772917949028792,
          -2.296838980325794,
          -0.37000166265522116,
          0.34406523866400957,
          -0.29030028397892893,
          0.6878914949832962,
          0.5433316282880948,
          -0.40987022829918446,
          -0.3508115673844667,
          -0.3559125754431757,
          -1.1483952719332804,
          -0.8767453817952463,
          1.92278265358688,
          0.5770428505914557,
          0.02435312488294865,
          1.4107386803936892,
          -0.06322763639530866,
          -0.01795897935142888,
          -0.18530147911972034,
          -0.3659190731162389,
          1.3165523507978518,
          -0.792171042599313,
          -0.1554692689441983,
          -1.8409931154929848,
          0.1764468915089469,
          -0.30909415815164737,
          1.0632814501247938,
          0.26234545224339956,
          -1.5873657519214601,
          -1.6473598175363953,
          -0.6318463303111566,
          1.0543085403294332,
          1.246304011828692,
          -0.21144922670508443,
          -0.23589096320737366,
          -0.09395250356688174,
          0.0707249247579655,
          -0.6400009901335901,
          1.351331165453697,
          -1.1313727968282254,
          -0.7647615927907178,
          -0.8079994094244998,
          1.5607430028744744,
          -0.3620125847729232,
          1.6051928605447752,
          -0.2644213070910263,
          0.15301454089392363,
          -1.384940783808886,
          0.9569667644612428,
          1.0098032757966096,
          0.05981939777514478,
          -0.4063321066711721,
          -0.10489950599416006,
          0.4405417746248789,
          1.5885797975649483,
          -0.2123877545633354,
          0.7896146361235454,
          -0.25786433842463086,
          1.1631727044468283,
          0.8893538473792952,
          -0.605977484901111,
          -2.2759457922899493,
          -0.30667550908424834,
          -0.8241615883865696,
          -0.812670431832529,
          0.33268905472604193,
          0.23563136424290237,
          0.4578026499023031,
          0.7315995846678012,
          -1.7286130927550594,
          -0.24475898061728274,
          0.04932267359327156,
          0.09850376427288944,
          0.886720450911329,
          -0.17577082586457415,
          1.6183992637484683,
          1.1184599011461407,
          1.0592831356401937,
          0.04909605784286992,
          0.0490338970942655,
          -1.5413799533062233,
          -0.6846783116080516,
          0.28934161302670924,
          -1.5812189138833908,
          -0.551058815311809,
          -0.14210452149120745,
          1.132681638282884,
          -1.4845447509762713,
          0.7275497759426459,
          -0.9247206532943602,
          -0.10781768148384203
         ],
         "yaxis": "y3"
        },
        {
         "line": {
          "color": "rgba(128, 128, 128, 1.0)",
          "dash": "solid",
          "shape": "linear",
          "width": 1.3
         },
         "marker": {
          "size": 2,
          "symbol": "circle"
         },
         "mode": "markers",
         "name": "A",
         "text": "",
         "type": "scatter",
         "x": [
          0.411724521970622,
          -0.8000732251239695,
          -0.5823566131410723,
          -0.5857337896662608,
          -0.4219711566665966,
          0.04283996998504896,
          -0.9855758156712042,
          2.9007985561812544,
          -1.1899520984503331,
          1.713676165776391,
          0.02619044992030263,
          0.542728988308099,
          0.017455810907856386,
          1.6737744863963797,
          0.25935713642881164,
          -0.13067253155400987,
          1.2032075496959809,
          0.035797859606884,
          -0.8220651724957111,
          -0.9560703164189802,
          1.9529022560668132,
          2.2604514000263505,
          1.1783937668792193,
          2.4632188038938496,
          -1.4696005411993347,
          -0.21461441752304578,
          -0.5777839915139291,
          -0.436639864934878,
          -0.24005658413034367,
          0.1423439476529609,
          -0.5076402080294065,
          -0.584785390156653,
          0.07035751168862707,
          -0.654351397812607,
          0.9920183607436488,
          -1.1458325135351948,
          -2.6811067773442097,
          -0.5099053666276699,
          -0.27901737525377746,
          -0.2743497170577263,
          -0.1052384592182562,
          0.37618284337287267,
          0.9748066051872398,
          1.182846746139367,
          0.17997186061687998,
          -0.7507440198460564,
          -0.17319629631470432,
          0.21279541901038748,
          0.21904064512408344,
          1.8524652487363291,
          1.2241602234226943,
          -0.0391277899166953,
          -1.5553823166836684,
          -2.316853271122791,
          -0.048747490727946215,
          -1.0766380525460097,
          0.999525107605847,
          0.6820761261078453,
          -0.47729960705370694,
          -0.6643026213103974,
          -0.4421862122976522,
          -0.2271913441358957,
          0.38321953406222414,
          1.551597294216807,
          0.8722300079950615,
          0.7278991410642184,
          -0.8480850852140075,
          -1.0223627185995299,
          -0.07655486975424775,
          -0.028389663719147775,
          -1.1826913046514616,
          0.49908994479823143,
          0.23501381663109017,
          0.7095194483139694,
          0.355061427532842,
          -0.38317592356798463,
          0.5526545544398631,
          -0.913168920346793,
          -0.5313266299059057,
          -1.0610130851841248,
          -0.1356154941327158,
          0.19815912084389403,
          -0.861274657399313,
          -0.15579630846333647,
          0.15760047931045323,
          0.5524226332574209,
          -0.7784323195400733,
          0.5500019167958924,
          -0.5474402807398899,
          -0.5783469759331317,
          -0.0378719346451878,
          2.031122211931684,
          0.3133891650163439,
          -2.9298125318930857,
          -1.6153514669178302,
          -0.23648859478273493,
          -1.3995052532076473,
          0.2887587059717741,
          0.07542297746214613,
          -2.8010769123215984
         ],
         "xaxis": "x4",
         "y": [
          0.9483710285820001,
          -0.16435447117281413,
          0.6477051568801235,
          -2.273255312123948,
          -0.19536853035988794,
          -0.2118342237334965,
          1.969900103972678,
          -0.1496270218197629,
          -0.007020860163975405,
          0.4772917949028792,
          -2.296838980325794,
          -0.37000166265522116,
          0.34406523866400957,
          -0.29030028397892893,
          0.6878914949832962,
          0.5433316282880948,
          -0.40987022829918446,
          -0.3508115673844667,
          -0.3559125754431757,
          -1.1483952719332804,
          -0.8767453817952463,
          1.92278265358688,
          0.5770428505914557,
          0.02435312488294865,
          1.4107386803936892,
          -0.06322763639530866,
          -0.01795897935142888,
          -0.18530147911972034,
          -0.3659190731162389,
          1.3165523507978518,
          -0.792171042599313,
          -0.1554692689441983,
          -1.8409931154929848,
          0.1764468915089469,
          -0.30909415815164737,
          1.0632814501247938,
          0.26234545224339956,
          -1.5873657519214601,
          -1.6473598175363953,
          -0.6318463303111566,
          1.0543085403294332,
          1.246304011828692,
          -0.21144922670508443,
          -0.23589096320737366,
          -0.09395250356688174,
          0.0707249247579655,
          -0.6400009901335901,
          1.351331165453697,
          -1.1313727968282254,
          -0.7647615927907178,
          -0.8079994094244998,
          1.5607430028744744,
          -0.3620125847729232,
          1.6051928605447752,
          -0.2644213070910263,
          0.15301454089392363,
          -1.384940783808886,
          0.9569667644612428,
          1.0098032757966096,
          0.05981939777514478,
          -0.4063321066711721,
          -0.10489950599416006,
          0.4405417746248789,
          1.5885797975649483,
          -0.2123877545633354,
          0.7896146361235454,
          -0.25786433842463086,
          1.1631727044468283,
          0.8893538473792952,
          -0.605977484901111,
          -2.2759457922899493,
          -0.30667550908424834,
          -0.8241615883865696,
          -0.812670431832529,
          0.33268905472604193,
          0.23563136424290237,
          0.4578026499023031,
          0.7315995846678012,
          -1.7286130927550594,
          -0.24475898061728274,
          0.04932267359327156,
          0.09850376427288944,
          0.886720450911329,
          -0.17577082586457415,
          1.6183992637484683,
          1.1184599011461407,
          1.0592831356401937,
          0.04909605784286992,
          0.0490338970942655,
          -1.5413799533062233,
          -0.6846783116080516,
          0.28934161302670924,
          -1.5812189138833908,
          -0.551058815311809,
          -0.14210452149120745,
          1.132681638282884,
          -1.4845447509762713,
          0.7275497759426459,
          -0.9247206532943602,
          -0.10781768148384203
         ],
         "yaxis": "y4"
        },
        {
         "line": {
          "color": "rgba(128, 128, 128, 1.0)",
          "dash": "solid",
          "shape": "linear",
          "width": 1.3
         },
         "marker": {
          "size": 2,
          "symbol": "circle"
         },
         "mode": "markers",
         "name": "B",
         "text": "",
         "type": "scatter",
         "x": [
          0.9483710285820001,
          -0.16435447117281413,
          0.6477051568801235,
          -2.273255312123948,
          -0.19536853035988794,
          -0.2118342237334965,
          1.969900103972678,
          -0.1496270218197629,
          -0.007020860163975405,
          0.4772917949028792,
          -2.296838980325794,
          -0.37000166265522116,
          0.34406523866400957,
          -0.29030028397892893,
          0.6878914949832962,
          0.5433316282880948,
          -0.40987022829918446,
          -0.3508115673844667,
          -0.3559125754431757,
          -1.1483952719332804,
          -0.8767453817952463,
          1.92278265358688,
          0.5770428505914557,
          0.02435312488294865,
          1.4107386803936892,
          -0.06322763639530866,
          -0.01795897935142888,
          -0.18530147911972034,
          -0.3659190731162389,
          1.3165523507978518,
          -0.792171042599313,
          -0.1554692689441983,
          -1.8409931154929848,
          0.1764468915089469,
          -0.30909415815164737,
          1.0632814501247938,
          0.26234545224339956,
          -1.5873657519214601,
          -1.6473598175363953,
          -0.6318463303111566,
          1.0543085403294332,
          1.246304011828692,
          -0.21144922670508443,
          -0.23589096320737366,
          -0.09395250356688174,
          0.0707249247579655,
          -0.6400009901335901,
          1.351331165453697,
          -1.1313727968282254,
          -0.7647615927907178,
          -0.8079994094244998,
          1.5607430028744744,
          -0.3620125847729232,
          1.6051928605447752,
          -0.2644213070910263,
          0.15301454089392363,
          -1.384940783808886,
          0.9569667644612428,
          1.0098032757966096,
          0.05981939777514478,
          -0.4063321066711721,
          -0.10489950599416006,
          0.4405417746248789,
          1.5885797975649483,
          -0.2123877545633354,
          0.7896146361235454,
          -0.25786433842463086,
          1.1631727044468283,
          0.8893538473792952,
          -0.605977484901111,
          -2.2759457922899493,
          -0.30667550908424834,
          -0.8241615883865696,
          -0.812670431832529,
          0.33268905472604193,
          0.23563136424290237,
          0.4578026499023031,
          0.7315995846678012,
          -1.7286130927550594,
          -0.24475898061728274,
          0.04932267359327156,
          0.09850376427288944,
          0.886720450911329,
          -0.17577082586457415,
          1.6183992637484683,
          1.1184599011461407,
          1.0592831356401937,
          0.04909605784286992,
          0.0490338970942655,
          -1.5413799533062233,
          -0.6846783116080516,
          0.28934161302670924,
          -1.5812189138833908,
          -0.551058815311809,
          -0.14210452149120745,
          1.132681638282884,
          -1.4845447509762713,
          0.7275497759426459,
          -0.9247206532943602,
          -0.10781768148384203
         ],
         "xaxis": "x5",
         "y": [
          0.6951956068812144,
          0.49725417558382046,
          0.6087143272319379,
          0.10112467773010585,
          2.323613568869922,
          -0.24534012165281577,
          -1.588981039176941,
          0.5649426863896487,
          -1.061003385941566,
          1.046139137247561,
          -1.429030819194681,
          -0.6721985390439421,
          0.7446491237600207,
          -1.194499495828478,
          -0.22504824095902065,
          -0.3974007034506707,
          1.536542067477092,
          -0.39250064016403163,
          0.9523164329683868,
          -1.8573519129338643,
          1.3006210941603213,
          -0.5528283250328027,
          -0.6977698963321508,
          1.2942172706712607,
          -1.1549871293902265,
          0.25272725615392627,
          0.8445125936973771,
          -2.4699306276453563,
          -0.31190850791083896,
          1.2259265317416355,
          0.48418414451155,
          0.5649252815461252,
          0.14138713508186163,
          1.938355457479299,
          -1.0465970402655622,
          -1.3816713931096485,
          -0.8790836945117418,
          -0.8016568421156806,
          -0.03807425182074729,
          1.512011476372494,
          -0.358844527962155,
          1.7906226715812434,
          0.696488767895237,
          -0.2677337901158682,
          1.3042993099547446,
          -0.32026858309367945,
          -0.07720683218039519,
          -0.634742010310217,
          0.7603041907311168,
          1.5805588555198649,
          -0.1989611304897986,
          0.7220453059317153,
          0.5692340768872667,
          -0.25156765622962063,
          0.8092358452271889,
          1.0885470599932183,
          0.45062822224819526,
          -0.013762313193872652,
          0.5912886501401902,
          -0.7423096218981617,
          0.9382882421920437,
          0.08293536258955617,
          0.8345857880588031,
          -0.716795511109764,
          0.36263691765918415,
          -0.9270008736821341,
          -0.6838395828920901,
          0.8694508382211932,
          -0.2347351263121534,
          1.8793424244484218,
          -1.269768586915114,
          0.5573369027699515,
          0.6817476354328097,
          -0.20346366467539387,
          0.21314857289525754,
          -0.30799604434693434,
          0.366574150799827,
          2.171757651011116,
          -0.8840881683355313,
          -0.1636449694274178,
          -1.266223369167309,
          -0.7745833709493388,
          0.6283851977513192,
          1.2378303894503486,
          0.5122696947240207,
          -0.9102284691228753,
          -0.619141770208701,
          1.0581714210855506,
          -1.7158268206733926,
          -1.3392909615359103,
          -0.1580198932356279,
          0.711646018189122,
          0.8383109344980673,
          -0.2850035136230021,
          0.007760260934558799,
          0.3489907751758173,
          0.06754387559919373,
          -1.6012150819873734,
          0.6283008119768948,
          -0.7677935023498129
         ],
         "yaxis": "y5"
        },
        {
         "histfunc": "count",
         "histnorm": "",
         "marker": {
          "color": "rgba(55, 128, 191, 1.0)",
          "line": {
           "color": "#4D5663",
           "width": 1.3
          }
         },
         "name": "B",
         "nbinsx": 10,
         "opacity": 0.8,
         "orientation": "v",
         "type": "histogram",
         "x": [
          0.6951956068812144,
          0.49725417558382046,
          0.6087143272319379,
          0.10112467773010585,
          2.323613568869922,
          -0.24534012165281577,
          -1.588981039176941,
          0.5649426863896487,
          -1.061003385941566,
          1.046139137247561,
          -1.429030819194681,
          -0.6721985390439421,
          0.7446491237600207,
          -1.194499495828478,
          -0.22504824095902065,
          -0.3974007034506707,
          1.536542067477092,
          -0.39250064016403163,
          0.9523164329683868,
          -1.8573519129338643,
          1.3006210941603213,
          -0.5528283250328027,
          -0.6977698963321508,
          1.2942172706712607,
          -1.1549871293902265,
          0.25272725615392627,
          0.8445125936973771,
          -2.4699306276453563,
          -0.31190850791083896,
          1.2259265317416355,
          0.48418414451155,
          0.5649252815461252,
          0.14138713508186163,
          1.938355457479299,
          -1.0465970402655622,
          -1.3816713931096485,
          -0.8790836945117418,
          -0.8016568421156806,
          -0.03807425182074729,
          1.512011476372494,
          -0.358844527962155,
          1.7906226715812434,
          0.696488767895237,
          -0.2677337901158682,
          1.3042993099547446,
          -0.32026858309367945,
          -0.07720683218039519,
          -0.634742010310217,
          0.7603041907311168,
          1.5805588555198649,
          -0.1989611304897986,
          0.7220453059317153,
          0.5692340768872667,
          -0.25156765622962063,
          0.8092358452271889,
          1.0885470599932183,
          0.45062822224819526,
          -0.013762313193872652,
          0.5912886501401902,
          -0.7423096218981617,
          0.9382882421920437,
          0.08293536258955617,
          0.8345857880588031,
          -0.716795511109764,
          0.36263691765918415,
          -0.9270008736821341,
          -0.6838395828920901,
          0.8694508382211932,
          -0.2347351263121534,
          1.8793424244484218,
          -1.269768586915114,
          0.5573369027699515,
          0.6817476354328097,
          -0.20346366467539387,
          0.21314857289525754,
          -0.30799604434693434,
          0.366574150799827,
          2.171757651011116,
          -0.8840881683355313,
          -0.1636449694274178,
          -1.266223369167309,
          -0.7745833709493388,
          0.6283851977513192,
          1.2378303894503486,
          0.5122696947240207,
          -0.9102284691228753,
          -0.619141770208701,
          1.0581714210855506,
          -1.7158268206733926,
          -1.3392909615359103,
          -0.1580198932356279,
          0.711646018189122,
          0.8383109344980673,
          -0.2850035136230021,
          0.007760260934558799,
          0.3489907751758173,
          0.06754387559919373,
          -1.6012150819873734,
          0.6283008119768948,
          -0.7677935023498129
         ],
         "xaxis": "x6",
         "yaxis": "y6"
        },
        {
         "line": {
          "color": "rgba(128, 128, 128, 1.0)",
          "dash": "solid",
          "shape": "linear",
          "width": 1.3
         },
         "marker": {
          "size": 2,
          "symbol": "circle"
         },
         "mode": "markers",
         "name": "B",
         "text": "",
         "type": "scatter",
         "x": [
          2.3120647498890845,
          -0.10844376718298135,
          0.49603694482045774,
          0.7029068935199622,
          0.33767586675516464,
          -0.3273942819094764,
          1.2910422644623754,
          -0.7280629942713662,
          -0.37948453567552576,
          -0.5075785585881247,
          0.7648412974132406,
          -0.34317556764828144,
          0.11167798409441208,
          1.2650984620862653,
          0.766761605724421,
          0.31955712666768243,
          -0.45891956640233755,
          -2.229721280031838,
          0.01375682566020346,
          -0.4184960839369062,
          -2.1354010328905866,
          -0.13595787316665328,
          -0.6074707709920614,
          0.23270802075036562,
          -0.8617204033782296,
          -1.1187483859844616,
          0.3655407036427369,
          1.3654646400459185,
          -0.5596958133724508,
          -0.20408541579895417,
          0.281380033365303,
          -0.9243321452113985,
          -1.2111859491646975,
          0.09379968704457334,
          -1.5012917548880185,
          -0.05862200358089037,
          -0.04718778502607619,
          -0.3242110428858523,
          -0.42527238807371115,
          -1.3679909676319204,
          1.8964567090068993,
          1.1885395823157534,
          -1.6920389323236837,
          1.3690654618438791,
          -1.6081745725857974,
          0.3808873876934197,
          1.5738398069809034,
          -0.16572277462275684,
          0.0717220500585075,
          0.33127683623696824,
          -0.5500698627042598,
          0.056776562191795034,
          1.1227764428347549,
          -0.7754774339956455,
          1.7504723294180942,
          -0.4018102332597638,
          -1.4640165953696878,
          -0.20503167430574165,
          -0.6365151172486725,
          1.3042113446387575,
          0.4603219669807841,
          0.23090188921472082,
          0.9700529693362641,
          0.16945282621225663,
          1.4802168937634455,
          0.0675260202312709,
          -0.1417359478016793,
          -0.23862574364672587,
          -0.2971032547170577,
          1.9106529557426482,
          -0.8743882521198557,
          -0.33819483933678207,
          -0.485591209095817,
          -0.5822230924675388,
          0.6659479730280735,
          -0.13675089264516105,
          -0.7035031932660262,
          -0.7071924291775493,
          0.9297246362993715,
          0.1126782792369145,
          0.5394383808318713,
          1.1745838261097399,
          -0.22509705230926447,
          -1.1797416296682188,
          -0.3237660238142024,
          1.7144677087925255,
          -0.6451368128462501,
          -1.486807554637661,
          0.152008246741144,
          -0.0042176350596296605,
          -1.0532979193695557,
          1.9416343610971065,
          -1.6342423293973727,
          -1.173615402945359,
          0.23446925202851698,
          -0.10348752353806556,
          0.44166541120995817,
          -1.754087775175577,
          0.5208903066785237,
          -0.9495706932847503
         ],
         "xaxis": "x7",
         "y": [
          0.6951956068812144,
          0.49725417558382046,
          0.6087143272319379,
          0.10112467773010585,
          2.323613568869922,
          -0.24534012165281577,
          -1.588981039176941,
          0.5649426863896487,
          -1.061003385941566,
          1.046139137247561,
          -1.429030819194681,
          -0.6721985390439421,
          0.7446491237600207,
          -1.194499495828478,
          -0.22504824095902065,
          -0.3974007034506707,
          1.536542067477092,
          -0.39250064016403163,
          0.9523164329683868,
          -1.8573519129338643,
          1.3006210941603213,
          -0.5528283250328027,
          -0.6977698963321508,
          1.2942172706712607,
          -1.1549871293902265,
          0.25272725615392627,
          0.8445125936973771,
          -2.4699306276453563,
          -0.31190850791083896,
          1.2259265317416355,
          0.48418414451155,
          0.5649252815461252,
          0.14138713508186163,
          1.938355457479299,
          -1.0465970402655622,
          -1.3816713931096485,
          -0.8790836945117418,
          -0.8016568421156806,
          -0.03807425182074729,
          1.512011476372494,
          -0.358844527962155,
          1.7906226715812434,
          0.696488767895237,
          -0.2677337901158682,
          1.3042993099547446,
          -0.32026858309367945,
          -0.07720683218039519,
          -0.634742010310217,
          0.7603041907311168,
          1.5805588555198649,
          -0.1989611304897986,
          0.7220453059317153,
          0.5692340768872667,
          -0.25156765622962063,
          0.8092358452271889,
          1.0885470599932183,
          0.45062822224819526,
          -0.013762313193872652,
          0.5912886501401902,
          -0.7423096218981617,
          0.9382882421920437,
          0.08293536258955617,
          0.8345857880588031,
          -0.716795511109764,
          0.36263691765918415,
          -0.9270008736821341,
          -0.6838395828920901,
          0.8694508382211932,
          -0.2347351263121534,
          1.8793424244484218,
          -1.269768586915114,
          0.5573369027699515,
          0.6817476354328097,
          -0.20346366467539387,
          0.21314857289525754,
          -0.30799604434693434,
          0.366574150799827,
          2.171757651011116,
          -0.8840881683355313,
          -0.1636449694274178,
          -1.266223369167309,
          -0.7745833709493388,
          0.6283851977513192,
          1.2378303894503486,
          0.5122696947240207,
          -0.9102284691228753,
          -0.619141770208701,
          1.0581714210855506,
          -1.7158268206733926,
          -1.3392909615359103,
          -0.1580198932356279,
          0.711646018189122,
          0.8383109344980673,
          -0.2850035136230021,
          0.007760260934558799,
          0.3489907751758173,
          0.06754387559919373,
          -1.6012150819873734,
          0.6283008119768948,
          -0.7677935023498129
         ],
         "yaxis": "y7"
        },
        {
         "line": {
          "color": "rgba(128, 128, 128, 1.0)",
          "dash": "solid",
          "shape": "linear",
          "width": 1.3
         },
         "marker": {
          "size": 2,
          "symbol": "circle"
         },
         "mode": "markers",
         "name": "B",
         "text": "",
         "type": "scatter",
         "x": [
          0.411724521970622,
          -0.8000732251239695,
          -0.5823566131410723,
          -0.5857337896662608,
          -0.4219711566665966,
          0.04283996998504896,
          -0.9855758156712042,
          2.9007985561812544,
          -1.1899520984503331,
          1.713676165776391,
          0.02619044992030263,
          0.542728988308099,
          0.017455810907856386,
          1.6737744863963797,
          0.25935713642881164,
          -0.13067253155400987,
          1.2032075496959809,
          0.035797859606884,
          -0.8220651724957111,
          -0.9560703164189802,
          1.9529022560668132,
          2.2604514000263505,
          1.1783937668792193,
          2.4632188038938496,
          -1.4696005411993347,
          -0.21461441752304578,
          -0.5777839915139291,
          -0.436639864934878,
          -0.24005658413034367,
          0.1423439476529609,
          -0.5076402080294065,
          -0.584785390156653,
          0.07035751168862707,
          -0.654351397812607,
          0.9920183607436488,
          -1.1458325135351948,
          -2.6811067773442097,
          -0.5099053666276699,
          -0.27901737525377746,
          -0.2743497170577263,
          -0.1052384592182562,
          0.37618284337287267,
          0.9748066051872398,
          1.182846746139367,
          0.17997186061687998,
          -0.7507440198460564,
          -0.17319629631470432,
          0.21279541901038748,
          0.21904064512408344,
          1.8524652487363291,
          1.2241602234226943,
          -0.0391277899166953,
          -1.5553823166836684,
          -2.316853271122791,
          -0.048747490727946215,
          -1.0766380525460097,
          0.999525107605847,
          0.6820761261078453,
          -0.47729960705370694,
          -0.6643026213103974,
          -0.4421862122976522,
          -0.2271913441358957,
          0.38321953406222414,
          1.551597294216807,
          0.8722300079950615,
          0.7278991410642184,
          -0.8480850852140075,
          -1.0223627185995299,
          -0.07655486975424775,
          -0.028389663719147775,
          -1.1826913046514616,
          0.49908994479823143,
          0.23501381663109017,
          0.7095194483139694,
          0.355061427532842,
          -0.38317592356798463,
          0.5526545544398631,
          -0.913168920346793,
          -0.5313266299059057,
          -1.0610130851841248,
          -0.1356154941327158,
          0.19815912084389403,
          -0.861274657399313,
          -0.15579630846333647,
          0.15760047931045323,
          0.5524226332574209,
          -0.7784323195400733,
          0.5500019167958924,
          -0.5474402807398899,
          -0.5783469759331317,
          -0.0378719346451878,
          2.031122211931684,
          0.3133891650163439,
          -2.9298125318930857,
          -1.6153514669178302,
          -0.23648859478273493,
          -1.3995052532076473,
          0.2887587059717741,
          0.07542297746214613,
          -2.8010769123215984
         ],
         "xaxis": "x8",
         "y": [
          0.6951956068812144,
          0.49725417558382046,
          0.6087143272319379,
          0.10112467773010585,
          2.323613568869922,
          -0.24534012165281577,
          -1.588981039176941,
          0.5649426863896487,
          -1.061003385941566,
          1.046139137247561,
          -1.429030819194681,
          -0.6721985390439421,
          0.7446491237600207,
          -1.194499495828478,
          -0.22504824095902065,
          -0.3974007034506707,
          1.536542067477092,
          -0.39250064016403163,
          0.9523164329683868,
          -1.8573519129338643,
          1.3006210941603213,
          -0.5528283250328027,
          -0.6977698963321508,
          1.2942172706712607,
          -1.1549871293902265,
          0.25272725615392627,
          0.8445125936973771,
          -2.4699306276453563,
          -0.31190850791083896,
          1.2259265317416355,
          0.48418414451155,
          0.5649252815461252,
          0.14138713508186163,
          1.938355457479299,
          -1.0465970402655622,
          -1.3816713931096485,
          -0.8790836945117418,
          -0.8016568421156806,
          -0.03807425182074729,
          1.512011476372494,
          -0.358844527962155,
          1.7906226715812434,
          0.696488767895237,
          -0.2677337901158682,
          1.3042993099547446,
          -0.32026858309367945,
          -0.07720683218039519,
          -0.634742010310217,
          0.7603041907311168,
          1.5805588555198649,
          -0.1989611304897986,
          0.7220453059317153,
          0.5692340768872667,
          -0.25156765622962063,
          0.8092358452271889,
          1.0885470599932183,
          0.45062822224819526,
          -0.013762313193872652,
          0.5912886501401902,
          -0.7423096218981617,
          0.9382882421920437,
          0.08293536258955617,
          0.8345857880588031,
          -0.716795511109764,
          0.36263691765918415,
          -0.9270008736821341,
          -0.6838395828920901,
          0.8694508382211932,
          -0.2347351263121534,
          1.8793424244484218,
          -1.269768586915114,
          0.5573369027699515,
          0.6817476354328097,
          -0.20346366467539387,
          0.21314857289525754,
          -0.30799604434693434,
          0.366574150799827,
          2.171757651011116,
          -0.8840881683355313,
          -0.1636449694274178,
          -1.266223369167309,
          -0.7745833709493388,
          0.6283851977513192,
          1.2378303894503486,
          0.5122696947240207,
          -0.9102284691228753,
          -0.619141770208701,
          1.0581714210855506,
          -1.7158268206733926,
          -1.3392909615359103,
          -0.1580198932356279,
          0.711646018189122,
          0.8383109344980673,
          -0.2850035136230021,
          0.007760260934558799,
          0.3489907751758173,
          0.06754387559919373,
          -1.6012150819873734,
          0.6283008119768948,
          -0.7677935023498129
         ],
         "yaxis": "y8"
        },
        {
         "line": {
          "color": "rgba(128, 128, 128, 1.0)",
          "dash": "solid",
          "shape": "linear",
          "width": 1.3
         },
         "marker": {
          "size": 2,
          "symbol": "circle"
         },
         "mode": "markers",
         "name": "C",
         "text": "",
         "type": "scatter",
         "x": [
          0.9483710285820001,
          -0.16435447117281413,
          0.6477051568801235,
          -2.273255312123948,
          -0.19536853035988794,
          -0.2118342237334965,
          1.969900103972678,
          -0.1496270218197629,
          -0.007020860163975405,
          0.4772917949028792,
          -2.296838980325794,
          -0.37000166265522116,
          0.34406523866400957,
          -0.29030028397892893,
          0.6878914949832962,
          0.5433316282880948,
          -0.40987022829918446,
          -0.3508115673844667,
          -0.3559125754431757,
          -1.1483952719332804,
          -0.8767453817952463,
          1.92278265358688,
          0.5770428505914557,
          0.02435312488294865,
          1.4107386803936892,
          -0.06322763639530866,
          -0.01795897935142888,
          -0.18530147911972034,
          -0.3659190731162389,
          1.3165523507978518,
          -0.792171042599313,
          -0.1554692689441983,
          -1.8409931154929848,
          0.1764468915089469,
          -0.30909415815164737,
          1.0632814501247938,
          0.26234545224339956,
          -1.5873657519214601,
          -1.6473598175363953,
          -0.6318463303111566,
          1.0543085403294332,
          1.246304011828692,
          -0.21144922670508443,
          -0.23589096320737366,
          -0.09395250356688174,
          0.0707249247579655,
          -0.6400009901335901,
          1.351331165453697,
          -1.1313727968282254,
          -0.7647615927907178,
          -0.8079994094244998,
          1.5607430028744744,
          -0.3620125847729232,
          1.6051928605447752,
          -0.2644213070910263,
          0.15301454089392363,
          -1.384940783808886,
          0.9569667644612428,
          1.0098032757966096,
          0.05981939777514478,
          -0.4063321066711721,
          -0.10489950599416006,
          0.4405417746248789,
          1.5885797975649483,
          -0.2123877545633354,
          0.7896146361235454,
          -0.25786433842463086,
          1.1631727044468283,
          0.8893538473792952,
          -0.605977484901111,
          -2.2759457922899493,
          -0.30667550908424834,
          -0.8241615883865696,
          -0.812670431832529,
          0.33268905472604193,
          0.23563136424290237,
          0.4578026499023031,
          0.7315995846678012,
          -1.7286130927550594,
          -0.24475898061728274,
          0.04932267359327156,
          0.09850376427288944,
          0.886720450911329,
          -0.17577082586457415,
          1.6183992637484683,
          1.1184599011461407,
          1.0592831356401937,
          0.04909605784286992,
          0.0490338970942655,
          -1.5413799533062233,
          -0.6846783116080516,
          0.28934161302670924,
          -1.5812189138833908,
          -0.551058815311809,
          -0.14210452149120745,
          1.132681638282884,
          -1.4845447509762713,
          0.7275497759426459,
          -0.9247206532943602,
          -0.10781768148384203
         ],
         "xaxis": "x9",
         "y": [
          2.3120647498890845,
          -0.10844376718298135,
          0.49603694482045774,
          0.7029068935199622,
          0.33767586675516464,
          -0.3273942819094764,
          1.2910422644623754,
          -0.7280629942713662,
          -0.37948453567552576,
          -0.5075785585881247,
          0.7648412974132406,
          -0.34317556764828144,
          0.11167798409441208,
          1.2650984620862653,
          0.766761605724421,
          0.31955712666768243,
          -0.45891956640233755,
          -2.229721280031838,
          0.01375682566020346,
          -0.4184960839369062,
          -2.1354010328905866,
          -0.13595787316665328,
          -0.6074707709920614,
          0.23270802075036562,
          -0.8617204033782296,
          -1.1187483859844616,
          0.3655407036427369,
          1.3654646400459185,
          -0.5596958133724508,
          -0.20408541579895417,
          0.281380033365303,
          -0.9243321452113985,
          -1.2111859491646975,
          0.09379968704457334,
          -1.5012917548880185,
          -0.05862200358089037,
          -0.04718778502607619,
          -0.3242110428858523,
          -0.42527238807371115,
          -1.3679909676319204,
          1.8964567090068993,
          1.1885395823157534,
          -1.6920389323236837,
          1.3690654618438791,
          -1.6081745725857974,
          0.3808873876934197,
          1.5738398069809034,
          -0.16572277462275684,
          0.0717220500585075,
          0.33127683623696824,
          -0.5500698627042598,
          0.056776562191795034,
          1.1227764428347549,
          -0.7754774339956455,
          1.7504723294180942,
          -0.4018102332597638,
          -1.4640165953696878,
          -0.20503167430574165,
          -0.6365151172486725,
          1.3042113446387575,
          0.4603219669807841,
          0.23090188921472082,
          0.9700529693362641,
          0.16945282621225663,
          1.4802168937634455,
          0.0675260202312709,
          -0.1417359478016793,
          -0.23862574364672587,
          -0.2971032547170577,
          1.9106529557426482,
          -0.8743882521198557,
          -0.33819483933678207,
          -0.485591209095817,
          -0.5822230924675388,
          0.6659479730280735,
          -0.13675089264516105,
          -0.7035031932660262,
          -0.7071924291775493,
          0.9297246362993715,
          0.1126782792369145,
          0.5394383808318713,
          1.1745838261097399,
          -0.22509705230926447,
          -1.1797416296682188,
          -0.3237660238142024,
          1.7144677087925255,
          -0.6451368128462501,
          -1.486807554637661,
          0.152008246741144,
          -0.0042176350596296605,
          -1.0532979193695557,
          1.9416343610971065,
          -1.6342423293973727,
          -1.173615402945359,
          0.23446925202851698,
          -0.10348752353806556,
          0.44166541120995817,
          -1.754087775175577,
          0.5208903066785237,
          -0.9495706932847503
         ],
         "yaxis": "y9"
        },
        {
         "line": {
          "color": "rgba(128, 128, 128, 1.0)",
          "dash": "solid",
          "shape": "linear",
          "width": 1.3
         },
         "marker": {
          "size": 2,
          "symbol": "circle"
         },
         "mode": "markers",
         "name": "C",
         "text": "",
         "type": "scatter",
         "x": [
          0.6951956068812144,
          0.49725417558382046,
          0.6087143272319379,
          0.10112467773010585,
          2.323613568869922,
          -0.24534012165281577,
          -1.588981039176941,
          0.5649426863896487,
          -1.061003385941566,
          1.046139137247561,
          -1.429030819194681,
          -0.6721985390439421,
          0.7446491237600207,
          -1.194499495828478,
          -0.22504824095902065,
          -0.3974007034506707,
          1.536542067477092,
          -0.39250064016403163,
          0.9523164329683868,
          -1.8573519129338643,
          1.3006210941603213,
          -0.5528283250328027,
          -0.6977698963321508,
          1.2942172706712607,
          -1.1549871293902265,
          0.25272725615392627,
          0.8445125936973771,
          -2.4699306276453563,
          -0.31190850791083896,
          1.2259265317416355,
          0.48418414451155,
          0.5649252815461252,
          0.14138713508186163,
          1.938355457479299,
          -1.0465970402655622,
          -1.3816713931096485,
          -0.8790836945117418,
          -0.8016568421156806,
          -0.03807425182074729,
          1.512011476372494,
          -0.358844527962155,
          1.7906226715812434,
          0.696488767895237,
          -0.2677337901158682,
          1.3042993099547446,
          -0.32026858309367945,
          -0.07720683218039519,
          -0.634742010310217,
          0.7603041907311168,
          1.5805588555198649,
          -0.1989611304897986,
          0.7220453059317153,
          0.5692340768872667,
          -0.25156765622962063,
          0.8092358452271889,
          1.0885470599932183,
          0.45062822224819526,
          -0.013762313193872652,
          0.5912886501401902,
          -0.7423096218981617,
          0.9382882421920437,
          0.08293536258955617,
          0.8345857880588031,
          -0.716795511109764,
          0.36263691765918415,
          -0.9270008736821341,
          -0.6838395828920901,
          0.8694508382211932,
          -0.2347351263121534,
          1.8793424244484218,
          -1.269768586915114,
          0.5573369027699515,
          0.6817476354328097,
          -0.20346366467539387,
          0.21314857289525754,
          -0.30799604434693434,
          0.366574150799827,
          2.171757651011116,
          -0.8840881683355313,
          -0.1636449694274178,
          -1.266223369167309,
          -0.7745833709493388,
          0.6283851977513192,
          1.2378303894503486,
          0.5122696947240207,
          -0.9102284691228753,
          -0.619141770208701,
          1.0581714210855506,
          -1.7158268206733926,
          -1.3392909615359103,
          -0.1580198932356279,
          0.711646018189122,
          0.8383109344980673,
          -0.2850035136230021,
          0.007760260934558799,
          0.3489907751758173,
          0.06754387559919373,
          -1.6012150819873734,
          0.6283008119768948,
          -0.7677935023498129
         ],
         "xaxis": "x10",
         "y": [
          2.3120647498890845,
          -0.10844376718298135,
          0.49603694482045774,
          0.7029068935199622,
          0.33767586675516464,
          -0.3273942819094764,
          1.2910422644623754,
          -0.7280629942713662,
          -0.37948453567552576,
          -0.5075785585881247,
          0.7648412974132406,
          -0.34317556764828144,
          0.11167798409441208,
          1.2650984620862653,
          0.766761605724421,
          0.31955712666768243,
          -0.45891956640233755,
          -2.229721280031838,
          0.01375682566020346,
          -0.4184960839369062,
          -2.1354010328905866,
          -0.13595787316665328,
          -0.6074707709920614,
          0.23270802075036562,
          -0.8617204033782296,
          -1.1187483859844616,
          0.3655407036427369,
          1.3654646400459185,
          -0.5596958133724508,
          -0.20408541579895417,
          0.281380033365303,
          -0.9243321452113985,
          -1.2111859491646975,
          0.09379968704457334,
          -1.5012917548880185,
          -0.05862200358089037,
          -0.04718778502607619,
          -0.3242110428858523,
          -0.42527238807371115,
          -1.3679909676319204,
          1.8964567090068993,
          1.1885395823157534,
          -1.6920389323236837,
          1.3690654618438791,
          -1.6081745725857974,
          0.3808873876934197,
          1.5738398069809034,
          -0.16572277462275684,
          0.0717220500585075,
          0.33127683623696824,
          -0.5500698627042598,
          0.056776562191795034,
          1.1227764428347549,
          -0.7754774339956455,
          1.7504723294180942,
          -0.4018102332597638,
          -1.4640165953696878,
          -0.20503167430574165,
          -0.6365151172486725,
          1.3042113446387575,
          0.4603219669807841,
          0.23090188921472082,
          0.9700529693362641,
          0.16945282621225663,
          1.4802168937634455,
          0.0675260202312709,
          -0.1417359478016793,
          -0.23862574364672587,
          -0.2971032547170577,
          1.9106529557426482,
          -0.8743882521198557,
          -0.33819483933678207,
          -0.485591209095817,
          -0.5822230924675388,
          0.6659479730280735,
          -0.13675089264516105,
          -0.7035031932660262,
          -0.7071924291775493,
          0.9297246362993715,
          0.1126782792369145,
          0.5394383808318713,
          1.1745838261097399,
          -0.22509705230926447,
          -1.1797416296682188,
          -0.3237660238142024,
          1.7144677087925255,
          -0.6451368128462501,
          -1.486807554637661,
          0.152008246741144,
          -0.0042176350596296605,
          -1.0532979193695557,
          1.9416343610971065,
          -1.6342423293973727,
          -1.173615402945359,
          0.23446925202851698,
          -0.10348752353806556,
          0.44166541120995817,
          -1.754087775175577,
          0.5208903066785237,
          -0.9495706932847503
         ],
         "yaxis": "y10"
        },
        {
         "histfunc": "count",
         "histnorm": "",
         "marker": {
          "color": "rgba(50, 171, 96, 1.0)",
          "line": {
           "color": "#4D5663",
           "width": 1.3
          }
         },
         "name": "C",
         "nbinsx": 10,
         "opacity": 0.8,
         "orientation": "v",
         "type": "histogram",
         "x": [
          2.3120647498890845,
          -0.10844376718298135,
          0.49603694482045774,
          0.7029068935199622,
          0.33767586675516464,
          -0.3273942819094764,
          1.2910422644623754,
          -0.7280629942713662,
          -0.37948453567552576,
          -0.5075785585881247,
          0.7648412974132406,
          -0.34317556764828144,
          0.11167798409441208,
          1.2650984620862653,
          0.766761605724421,
          0.31955712666768243,
          -0.45891956640233755,
          -2.229721280031838,
          0.01375682566020346,
          -0.4184960839369062,
          -2.1354010328905866,
          -0.13595787316665328,
          -0.6074707709920614,
          0.23270802075036562,
          -0.8617204033782296,
          -1.1187483859844616,
          0.3655407036427369,
          1.3654646400459185,
          -0.5596958133724508,
          -0.20408541579895417,
          0.281380033365303,
          -0.9243321452113985,
          -1.2111859491646975,
          0.09379968704457334,
          -1.5012917548880185,
          -0.05862200358089037,
          -0.04718778502607619,
          -0.3242110428858523,
          -0.42527238807371115,
          -1.3679909676319204,
          1.8964567090068993,
          1.1885395823157534,
          -1.6920389323236837,
          1.3690654618438791,
          -1.6081745725857974,
          0.3808873876934197,
          1.5738398069809034,
          -0.16572277462275684,
          0.0717220500585075,
          0.33127683623696824,
          -0.5500698627042598,
          0.056776562191795034,
          1.1227764428347549,
          -0.7754774339956455,
          1.7504723294180942,
          -0.4018102332597638,
          -1.4640165953696878,
          -0.20503167430574165,
          -0.6365151172486725,
          1.3042113446387575,
          0.4603219669807841,
          0.23090188921472082,
          0.9700529693362641,
          0.16945282621225663,
          1.4802168937634455,
          0.0675260202312709,
          -0.1417359478016793,
          -0.23862574364672587,
          -0.2971032547170577,
          1.9106529557426482,
          -0.8743882521198557,
          -0.33819483933678207,
          -0.485591209095817,
          -0.5822230924675388,
          0.6659479730280735,
          -0.13675089264516105,
          -0.7035031932660262,
          -0.7071924291775493,
          0.9297246362993715,
          0.1126782792369145,
          0.5394383808318713,
          1.1745838261097399,
          -0.22509705230926447,
          -1.1797416296682188,
          -0.3237660238142024,
          1.7144677087925255,
          -0.6451368128462501,
          -1.486807554637661,
          0.152008246741144,
          -0.0042176350596296605,
          -1.0532979193695557,
          1.9416343610971065,
          -1.6342423293973727,
          -1.173615402945359,
          0.23446925202851698,
          -0.10348752353806556,
          0.44166541120995817,
          -1.754087775175577,
          0.5208903066785237,
          -0.9495706932847503
         ],
         "xaxis": "x11",
         "yaxis": "y11"
        },
        {
         "line": {
          "color": "rgba(128, 128, 128, 1.0)",
          "dash": "solid",
          "shape": "linear",
          "width": 1.3
         },
         "marker": {
          "size": 2,
          "symbol": "circle"
         },
         "mode": "markers",
         "name": "C",
         "text": "",
         "type": "scatter",
         "x": [
          0.411724521970622,
          -0.8000732251239695,
          -0.5823566131410723,
          -0.5857337896662608,
          -0.4219711566665966,
          0.04283996998504896,
          -0.9855758156712042,
          2.9007985561812544,
          -1.1899520984503331,
          1.713676165776391,
          0.02619044992030263,
          0.542728988308099,
          0.017455810907856386,
          1.6737744863963797,
          0.25935713642881164,
          -0.13067253155400987,
          1.2032075496959809,
          0.035797859606884,
          -0.8220651724957111,
          -0.9560703164189802,
          1.9529022560668132,
          2.2604514000263505,
          1.1783937668792193,
          2.4632188038938496,
          -1.4696005411993347,
          -0.21461441752304578,
          -0.5777839915139291,
          -0.436639864934878,
          -0.24005658413034367,
          0.1423439476529609,
          -0.5076402080294065,
          -0.584785390156653,
          0.07035751168862707,
          -0.654351397812607,
          0.9920183607436488,
          -1.1458325135351948,
          -2.6811067773442097,
          -0.5099053666276699,
          -0.27901737525377746,
          -0.2743497170577263,
          -0.1052384592182562,
          0.37618284337287267,
          0.9748066051872398,
          1.182846746139367,
          0.17997186061687998,
          -0.7507440198460564,
          -0.17319629631470432,
          0.21279541901038748,
          0.21904064512408344,
          1.8524652487363291,
          1.2241602234226943,
          -0.0391277899166953,
          -1.5553823166836684,
          -2.316853271122791,
          -0.048747490727946215,
          -1.0766380525460097,
          0.999525107605847,
          0.6820761261078453,
          -0.47729960705370694,
          -0.6643026213103974,
          -0.4421862122976522,
          -0.2271913441358957,
          0.38321953406222414,
          1.551597294216807,
          0.8722300079950615,
          0.7278991410642184,
          -0.8480850852140075,
          -1.0223627185995299,
          -0.07655486975424775,
          -0.028389663719147775,
          -1.1826913046514616,
          0.49908994479823143,
          0.23501381663109017,
          0.7095194483139694,
          0.355061427532842,
          -0.38317592356798463,
          0.5526545544398631,
          -0.913168920346793,
          -0.5313266299059057,
          -1.0610130851841248,
          -0.1356154941327158,
          0.19815912084389403,
          -0.861274657399313,
          -0.15579630846333647,
          0.15760047931045323,
          0.5524226332574209,
          -0.7784323195400733,
          0.5500019167958924,
          -0.5474402807398899,
          -0.5783469759331317,
          -0.0378719346451878,
          2.031122211931684,
          0.3133891650163439,
          -2.9298125318930857,
          -1.6153514669178302,
          -0.23648859478273493,
          -1.3995052532076473,
          0.2887587059717741,
          0.07542297746214613,
          -2.8010769123215984
         ],
         "xaxis": "x12",
         "y": [
          2.3120647498890845,
          -0.10844376718298135,
          0.49603694482045774,
          0.7029068935199622,
          0.33767586675516464,
          -0.3273942819094764,
          1.2910422644623754,
          -0.7280629942713662,
          -0.37948453567552576,
          -0.5075785585881247,
          0.7648412974132406,
          -0.34317556764828144,
          0.11167798409441208,
          1.2650984620862653,
          0.766761605724421,
          0.31955712666768243,
          -0.45891956640233755,
          -2.229721280031838,
          0.01375682566020346,
          -0.4184960839369062,
          -2.1354010328905866,
          -0.13595787316665328,
          -0.6074707709920614,
          0.23270802075036562,
          -0.8617204033782296,
          -1.1187483859844616,
          0.3655407036427369,
          1.3654646400459185,
          -0.5596958133724508,
          -0.20408541579895417,
          0.281380033365303,
          -0.9243321452113985,
          -1.2111859491646975,
          0.09379968704457334,
          -1.5012917548880185,
          -0.05862200358089037,
          -0.04718778502607619,
          -0.3242110428858523,
          -0.42527238807371115,
          -1.3679909676319204,
          1.8964567090068993,
          1.1885395823157534,
          -1.6920389323236837,
          1.3690654618438791,
          -1.6081745725857974,
          0.3808873876934197,
          1.5738398069809034,
          -0.16572277462275684,
          0.0717220500585075,
          0.33127683623696824,
          -0.5500698627042598,
          0.056776562191795034,
          1.1227764428347549,
          -0.7754774339956455,
          1.7504723294180942,
          -0.4018102332597638,
          -1.4640165953696878,
          -0.20503167430574165,
          -0.6365151172486725,
          1.3042113446387575,
          0.4603219669807841,
          0.23090188921472082,
          0.9700529693362641,
          0.16945282621225663,
          1.4802168937634455,
          0.0675260202312709,
          -0.1417359478016793,
          -0.23862574364672587,
          -0.2971032547170577,
          1.9106529557426482,
          -0.8743882521198557,
          -0.33819483933678207,
          -0.485591209095817,
          -0.5822230924675388,
          0.6659479730280735,
          -0.13675089264516105,
          -0.7035031932660262,
          -0.7071924291775493,
          0.9297246362993715,
          0.1126782792369145,
          0.5394383808318713,
          1.1745838261097399,
          -0.22509705230926447,
          -1.1797416296682188,
          -0.3237660238142024,
          1.7144677087925255,
          -0.6451368128462501,
          -1.486807554637661,
          0.152008246741144,
          -0.0042176350596296605,
          -1.0532979193695557,
          1.9416343610971065,
          -1.6342423293973727,
          -1.173615402945359,
          0.23446925202851698,
          -0.10348752353806556,
          0.44166541120995817,
          -1.754087775175577,
          0.5208903066785237,
          -0.9495706932847503
         ],
         "yaxis": "y12"
        },
        {
         "line": {
          "color": "rgba(128, 128, 128, 1.0)",
          "dash": "solid",
          "shape": "linear",
          "width": 1.3
         },
         "marker": {
          "size": 2,
          "symbol": "circle"
         },
         "mode": "markers",
         "name": "D",
         "text": "",
         "type": "scatter",
         "x": [
          0.9483710285820001,
          -0.16435447117281413,
          0.6477051568801235,
          -2.273255312123948,
          -0.19536853035988794,
          -0.2118342237334965,
          1.969900103972678,
          -0.1496270218197629,
          -0.007020860163975405,
          0.4772917949028792,
          -2.296838980325794,
          -0.37000166265522116,
          0.34406523866400957,
          -0.29030028397892893,
          0.6878914949832962,
          0.5433316282880948,
          -0.40987022829918446,
          -0.3508115673844667,
          -0.3559125754431757,
          -1.1483952719332804,
          -0.8767453817952463,
          1.92278265358688,
          0.5770428505914557,
          0.02435312488294865,
          1.4107386803936892,
          -0.06322763639530866,
          -0.01795897935142888,
          -0.18530147911972034,
          -0.3659190731162389,
          1.3165523507978518,
          -0.792171042599313,
          -0.1554692689441983,
          -1.8409931154929848,
          0.1764468915089469,
          -0.30909415815164737,
          1.0632814501247938,
          0.26234545224339956,
          -1.5873657519214601,
          -1.6473598175363953,
          -0.6318463303111566,
          1.0543085403294332,
          1.246304011828692,
          -0.21144922670508443,
          -0.23589096320737366,
          -0.09395250356688174,
          0.0707249247579655,
          -0.6400009901335901,
          1.351331165453697,
          -1.1313727968282254,
          -0.7647615927907178,
          -0.8079994094244998,
          1.5607430028744744,
          -0.3620125847729232,
          1.6051928605447752,
          -0.2644213070910263,
          0.15301454089392363,
          -1.384940783808886,
          0.9569667644612428,
          1.0098032757966096,
          0.05981939777514478,
          -0.4063321066711721,
          -0.10489950599416006,
          0.4405417746248789,
          1.5885797975649483,
          -0.2123877545633354,
          0.7896146361235454,
          -0.25786433842463086,
          1.1631727044468283,
          0.8893538473792952,
          -0.605977484901111,
          -2.2759457922899493,
          -0.30667550908424834,
          -0.8241615883865696,
          -0.812670431832529,
          0.33268905472604193,
          0.23563136424290237,
          0.4578026499023031,
          0.7315995846678012,
          -1.7286130927550594,
          -0.24475898061728274,
          0.04932267359327156,
          0.09850376427288944,
          0.886720450911329,
          -0.17577082586457415,
          1.6183992637484683,
          1.1184599011461407,
          1.0592831356401937,
          0.04909605784286992,
          0.0490338970942655,
          -1.5413799533062233,
          -0.6846783116080516,
          0.28934161302670924,
          -1.5812189138833908,
          -0.551058815311809,
          -0.14210452149120745,
          1.132681638282884,
          -1.4845447509762713,
          0.7275497759426459,
          -0.9247206532943602,
          -0.10781768148384203
         ],
         "xaxis": "x13",
         "y": [
          0.411724521970622,
          -0.8000732251239695,
          -0.5823566131410723,
          -0.5857337896662608,
          -0.4219711566665966,
          0.04283996998504896,
          -0.9855758156712042,
          2.9007985561812544,
          -1.1899520984503331,
          1.713676165776391,
          0.02619044992030263,
          0.542728988308099,
          0.017455810907856386,
          1.6737744863963797,
          0.25935713642881164,
          -0.13067253155400987,
          1.2032075496959809,
          0.035797859606884,
          -0.8220651724957111,
          -0.9560703164189802,
          1.9529022560668132,
          2.2604514000263505,
          1.1783937668792193,
          2.4632188038938496,
          -1.4696005411993347,
          -0.21461441752304578,
          -0.5777839915139291,
          -0.436639864934878,
          -0.24005658413034367,
          0.1423439476529609,
          -0.5076402080294065,
          -0.584785390156653,
          0.07035751168862707,
          -0.654351397812607,
          0.9920183607436488,
          -1.1458325135351948,
          -2.6811067773442097,
          -0.5099053666276699,
          -0.27901737525377746,
          -0.2743497170577263,
          -0.1052384592182562,
          0.37618284337287267,
          0.9748066051872398,
          1.182846746139367,
          0.17997186061687998,
          -0.7507440198460564,
          -0.17319629631470432,
          0.21279541901038748,
          0.21904064512408344,
          1.8524652487363291,
          1.2241602234226943,
          -0.0391277899166953,
          -1.5553823166836684,
          -2.316853271122791,
          -0.048747490727946215,
          -1.0766380525460097,
          0.999525107605847,
          0.6820761261078453,
          -0.47729960705370694,
          -0.6643026213103974,
          -0.4421862122976522,
          -0.2271913441358957,
          0.38321953406222414,
          1.551597294216807,
          0.8722300079950615,
          0.7278991410642184,
          -0.8480850852140075,
          -1.0223627185995299,
          -0.07655486975424775,
          -0.028389663719147775,
          -1.1826913046514616,
          0.49908994479823143,
          0.23501381663109017,
          0.7095194483139694,
          0.355061427532842,
          -0.38317592356798463,
          0.5526545544398631,
          -0.913168920346793,
          -0.5313266299059057,
          -1.0610130851841248,
          -0.1356154941327158,
          0.19815912084389403,
          -0.861274657399313,
          -0.15579630846333647,
          0.15760047931045323,
          0.5524226332574209,
          -0.7784323195400733,
          0.5500019167958924,
          -0.5474402807398899,
          -0.5783469759331317,
          -0.0378719346451878,
          2.031122211931684,
          0.3133891650163439,
          -2.9298125318930857,
          -1.6153514669178302,
          -0.23648859478273493,
          -1.3995052532076473,
          0.2887587059717741,
          0.07542297746214613,
          -2.8010769123215984
         ],
         "yaxis": "y13"
        },
        {
         "line": {
          "color": "rgba(128, 128, 128, 1.0)",
          "dash": "solid",
          "shape": "linear",
          "width": 1.3
         },
         "marker": {
          "size": 2,
          "symbol": "circle"
         },
         "mode": "markers",
         "name": "D",
         "text": "",
         "type": "scatter",
         "x": [
          0.6951956068812144,
          0.49725417558382046,
          0.6087143272319379,
          0.10112467773010585,
          2.323613568869922,
          -0.24534012165281577,
          -1.588981039176941,
          0.5649426863896487,
          -1.061003385941566,
          1.046139137247561,
          -1.429030819194681,
          -0.6721985390439421,
          0.7446491237600207,
          -1.194499495828478,
          -0.22504824095902065,
          -0.3974007034506707,
          1.536542067477092,
          -0.39250064016403163,
          0.9523164329683868,
          -1.8573519129338643,
          1.3006210941603213,
          -0.5528283250328027,
          -0.6977698963321508,
          1.2942172706712607,
          -1.1549871293902265,
          0.25272725615392627,
          0.8445125936973771,
          -2.4699306276453563,
          -0.31190850791083896,
          1.2259265317416355,
          0.48418414451155,
          0.5649252815461252,
          0.14138713508186163,
          1.938355457479299,
          -1.0465970402655622,
          -1.3816713931096485,
          -0.8790836945117418,
          -0.8016568421156806,
          -0.03807425182074729,
          1.512011476372494,
          -0.358844527962155,
          1.7906226715812434,
          0.696488767895237,
          -0.2677337901158682,
          1.3042993099547446,
          -0.32026858309367945,
          -0.07720683218039519,
          -0.634742010310217,
          0.7603041907311168,
          1.5805588555198649,
          -0.1989611304897986,
          0.7220453059317153,
          0.5692340768872667,
          -0.25156765622962063,
          0.8092358452271889,
          1.0885470599932183,
          0.45062822224819526,
          -0.013762313193872652,
          0.5912886501401902,
          -0.7423096218981617,
          0.9382882421920437,
          0.08293536258955617,
          0.8345857880588031,
          -0.716795511109764,
          0.36263691765918415,
          -0.9270008736821341,
          -0.6838395828920901,
          0.8694508382211932,
          -0.2347351263121534,
          1.8793424244484218,
          -1.269768586915114,
          0.5573369027699515,
          0.6817476354328097,
          -0.20346366467539387,
          0.21314857289525754,
          -0.30799604434693434,
          0.366574150799827,
          2.171757651011116,
          -0.8840881683355313,
          -0.1636449694274178,
          -1.266223369167309,
          -0.7745833709493388,
          0.6283851977513192,
          1.2378303894503486,
          0.5122696947240207,
          -0.9102284691228753,
          -0.619141770208701,
          1.0581714210855506,
          -1.7158268206733926,
          -1.3392909615359103,
          -0.1580198932356279,
          0.711646018189122,
          0.8383109344980673,
          -0.2850035136230021,
          0.007760260934558799,
          0.3489907751758173,
          0.06754387559919373,
          -1.6012150819873734,
          0.6283008119768948,
          -0.7677935023498129
         ],
         "xaxis": "x14",
         "y": [
          0.411724521970622,
          -0.8000732251239695,
          -0.5823566131410723,
          -0.5857337896662608,
          -0.4219711566665966,
          0.04283996998504896,
          -0.9855758156712042,
          2.9007985561812544,
          -1.1899520984503331,
          1.713676165776391,
          0.02619044992030263,
          0.542728988308099,
          0.017455810907856386,
          1.6737744863963797,
          0.25935713642881164,
          -0.13067253155400987,
          1.2032075496959809,
          0.035797859606884,
          -0.8220651724957111,
          -0.9560703164189802,
          1.9529022560668132,
          2.2604514000263505,
          1.1783937668792193,
          2.4632188038938496,
          -1.4696005411993347,
          -0.21461441752304578,
          -0.5777839915139291,
          -0.436639864934878,
          -0.24005658413034367,
          0.1423439476529609,
          -0.5076402080294065,
          -0.584785390156653,
          0.07035751168862707,
          -0.654351397812607,
          0.9920183607436488,
          -1.1458325135351948,
          -2.6811067773442097,
          -0.5099053666276699,
          -0.27901737525377746,
          -0.2743497170577263,
          -0.1052384592182562,
          0.37618284337287267,
          0.9748066051872398,
          1.182846746139367,
          0.17997186061687998,
          -0.7507440198460564,
          -0.17319629631470432,
          0.21279541901038748,
          0.21904064512408344,
          1.8524652487363291,
          1.2241602234226943,
          -0.0391277899166953,
          -1.5553823166836684,
          -2.316853271122791,
          -0.048747490727946215,
          -1.0766380525460097,
          0.999525107605847,
          0.6820761261078453,
          -0.47729960705370694,
          -0.6643026213103974,
          -0.4421862122976522,
          -0.2271913441358957,
          0.38321953406222414,
          1.551597294216807,
          0.8722300079950615,
          0.7278991410642184,
          -0.8480850852140075,
          -1.0223627185995299,
          -0.07655486975424775,
          -0.028389663719147775,
          -1.1826913046514616,
          0.49908994479823143,
          0.23501381663109017,
          0.7095194483139694,
          0.355061427532842,
          -0.38317592356798463,
          0.5526545544398631,
          -0.913168920346793,
          -0.5313266299059057,
          -1.0610130851841248,
          -0.1356154941327158,
          0.19815912084389403,
          -0.861274657399313,
          -0.15579630846333647,
          0.15760047931045323,
          0.5524226332574209,
          -0.7784323195400733,
          0.5500019167958924,
          -0.5474402807398899,
          -0.5783469759331317,
          -0.0378719346451878,
          2.031122211931684,
          0.3133891650163439,
          -2.9298125318930857,
          -1.6153514669178302,
          -0.23648859478273493,
          -1.3995052532076473,
          0.2887587059717741,
          0.07542297746214613,
          -2.8010769123215984
         ],
         "yaxis": "y14"
        },
        {
         "line": {
          "color": "rgba(128, 128, 128, 1.0)",
          "dash": "solid",
          "shape": "linear",
          "width": 1.3
         },
         "marker": {
          "size": 2,
          "symbol": "circle"
         },
         "mode": "markers",
         "name": "D",
         "text": "",
         "type": "scatter",
         "x": [
          2.3120647498890845,
          -0.10844376718298135,
          0.49603694482045774,
          0.7029068935199622,
          0.33767586675516464,
          -0.3273942819094764,
          1.2910422644623754,
          -0.7280629942713662,
          -0.37948453567552576,
          -0.5075785585881247,
          0.7648412974132406,
          -0.34317556764828144,
          0.11167798409441208,
          1.2650984620862653,
          0.766761605724421,
          0.31955712666768243,
          -0.45891956640233755,
          -2.229721280031838,
          0.01375682566020346,
          -0.4184960839369062,
          -2.1354010328905866,
          -0.13595787316665328,
          -0.6074707709920614,
          0.23270802075036562,
          -0.8617204033782296,
          -1.1187483859844616,
          0.3655407036427369,
          1.3654646400459185,
          -0.5596958133724508,
          -0.20408541579895417,
          0.281380033365303,
          -0.9243321452113985,
          -1.2111859491646975,
          0.09379968704457334,
          -1.5012917548880185,
          -0.05862200358089037,
          -0.04718778502607619,
          -0.3242110428858523,
          -0.42527238807371115,
          -1.3679909676319204,
          1.8964567090068993,
          1.1885395823157534,
          -1.6920389323236837,
          1.3690654618438791,
          -1.6081745725857974,
          0.3808873876934197,
          1.5738398069809034,
          -0.16572277462275684,
          0.0717220500585075,
          0.33127683623696824,
          -0.5500698627042598,
          0.056776562191795034,
          1.1227764428347549,
          -0.7754774339956455,
          1.7504723294180942,
          -0.4018102332597638,
          -1.4640165953696878,
          -0.20503167430574165,
          -0.6365151172486725,
          1.3042113446387575,
          0.4603219669807841,
          0.23090188921472082,
          0.9700529693362641,
          0.16945282621225663,
          1.4802168937634455,
          0.0675260202312709,
          -0.1417359478016793,
          -0.23862574364672587,
          -0.2971032547170577,
          1.9106529557426482,
          -0.8743882521198557,
          -0.33819483933678207,
          -0.485591209095817,
          -0.5822230924675388,
          0.6659479730280735,
          -0.13675089264516105,
          -0.7035031932660262,
          -0.7071924291775493,
          0.9297246362993715,
          0.1126782792369145,
          0.5394383808318713,
          1.1745838261097399,
          -0.22509705230926447,
          -1.1797416296682188,
          -0.3237660238142024,
          1.7144677087925255,
          -0.6451368128462501,
          -1.486807554637661,
          0.152008246741144,
          -0.0042176350596296605,
          -1.0532979193695557,
          1.9416343610971065,
          -1.6342423293973727,
          -1.173615402945359,
          0.23446925202851698,
          -0.10348752353806556,
          0.44166541120995817,
          -1.754087775175577,
          0.5208903066785237,
          -0.9495706932847503
         ],
         "xaxis": "x15",
         "y": [
          0.411724521970622,
          -0.8000732251239695,
          -0.5823566131410723,
          -0.5857337896662608,
          -0.4219711566665966,
          0.04283996998504896,
          -0.9855758156712042,
          2.9007985561812544,
          -1.1899520984503331,
          1.713676165776391,
          0.02619044992030263,
          0.542728988308099,
          0.017455810907856386,
          1.6737744863963797,
          0.25935713642881164,
          -0.13067253155400987,
          1.2032075496959809,
          0.035797859606884,
          -0.8220651724957111,
          -0.9560703164189802,
          1.9529022560668132,
          2.2604514000263505,
          1.1783937668792193,
          2.4632188038938496,
          -1.4696005411993347,
          -0.21461441752304578,
          -0.5777839915139291,
          -0.436639864934878,
          -0.24005658413034367,
          0.1423439476529609,
          -0.5076402080294065,
          -0.584785390156653,
          0.07035751168862707,
          -0.654351397812607,
          0.9920183607436488,
          -1.1458325135351948,
          -2.6811067773442097,
          -0.5099053666276699,
          -0.27901737525377746,
          -0.2743497170577263,
          -0.1052384592182562,
          0.37618284337287267,
          0.9748066051872398,
          1.182846746139367,
          0.17997186061687998,
          -0.7507440198460564,
          -0.17319629631470432,
          0.21279541901038748,
          0.21904064512408344,
          1.8524652487363291,
          1.2241602234226943,
          -0.0391277899166953,
          -1.5553823166836684,
          -2.316853271122791,
          -0.048747490727946215,
          -1.0766380525460097,
          0.999525107605847,
          0.6820761261078453,
          -0.47729960705370694,
          -0.6643026213103974,
          -0.4421862122976522,
          -0.2271913441358957,
          0.38321953406222414,
          1.551597294216807,
          0.8722300079950615,
          0.7278991410642184,
          -0.8480850852140075,
          -1.0223627185995299,
          -0.07655486975424775,
          -0.028389663719147775,
          -1.1826913046514616,
          0.49908994479823143,
          0.23501381663109017,
          0.7095194483139694,
          0.355061427532842,
          -0.38317592356798463,
          0.5526545544398631,
          -0.913168920346793,
          -0.5313266299059057,
          -1.0610130851841248,
          -0.1356154941327158,
          0.19815912084389403,
          -0.861274657399313,
          -0.15579630846333647,
          0.15760047931045323,
          0.5524226332574209,
          -0.7784323195400733,
          0.5500019167958924,
          -0.5474402807398899,
          -0.5783469759331317,
          -0.0378719346451878,
          2.031122211931684,
          0.3133891650163439,
          -2.9298125318930857,
          -1.6153514669178302,
          -0.23648859478273493,
          -1.3995052532076473,
          0.2887587059717741,
          0.07542297746214613,
          -2.8010769123215984
         ],
         "yaxis": "y15"
        },
        {
         "histfunc": "count",
         "histnorm": "",
         "marker": {
          "color": "rgba(128, 0, 128, 1.0)",
          "line": {
           "color": "#4D5663",
           "width": 1.3
          }
         },
         "name": "D",
         "nbinsx": 10,
         "opacity": 0.8,
         "orientation": "v",
         "type": "histogram",
         "x": [
          0.411724521970622,
          -0.8000732251239695,
          -0.5823566131410723,
          -0.5857337896662608,
          -0.4219711566665966,
          0.04283996998504896,
          -0.9855758156712042,
          2.9007985561812544,
          -1.1899520984503331,
          1.713676165776391,
          0.02619044992030263,
          0.542728988308099,
          0.017455810907856386,
          1.6737744863963797,
          0.25935713642881164,
          -0.13067253155400987,
          1.2032075496959809,
          0.035797859606884,
          -0.8220651724957111,
          -0.9560703164189802,
          1.9529022560668132,
          2.2604514000263505,
          1.1783937668792193,
          2.4632188038938496,
          -1.4696005411993347,
          -0.21461441752304578,
          -0.5777839915139291,
          -0.436639864934878,
          -0.24005658413034367,
          0.1423439476529609,
          -0.5076402080294065,
          -0.584785390156653,
          0.07035751168862707,
          -0.654351397812607,
          0.9920183607436488,
          -1.1458325135351948,
          -2.6811067773442097,
          -0.5099053666276699,
          -0.27901737525377746,
          -0.2743497170577263,
          -0.1052384592182562,
          0.37618284337287267,
          0.9748066051872398,
          1.182846746139367,
          0.17997186061687998,
          -0.7507440198460564,
          -0.17319629631470432,
          0.21279541901038748,
          0.21904064512408344,
          1.8524652487363291,
          1.2241602234226943,
          -0.0391277899166953,
          -1.5553823166836684,
          -2.316853271122791,
          -0.048747490727946215,
          -1.0766380525460097,
          0.999525107605847,
          0.6820761261078453,
          -0.47729960705370694,
          -0.6643026213103974,
          -0.4421862122976522,
          -0.2271913441358957,
          0.38321953406222414,
          1.551597294216807,
          0.8722300079950615,
          0.7278991410642184,
          -0.8480850852140075,
          -1.0223627185995299,
          -0.07655486975424775,
          -0.028389663719147775,
          -1.1826913046514616,
          0.49908994479823143,
          0.23501381663109017,
          0.7095194483139694,
          0.355061427532842,
          -0.38317592356798463,
          0.5526545544398631,
          -0.913168920346793,
          -0.5313266299059057,
          -1.0610130851841248,
          -0.1356154941327158,
          0.19815912084389403,
          -0.861274657399313,
          -0.15579630846333647,
          0.15760047931045323,
          0.5524226332574209,
          -0.7784323195400733,
          0.5500019167958924,
          -0.5474402807398899,
          -0.5783469759331317,
          -0.0378719346451878,
          2.031122211931684,
          0.3133891650163439,
          -2.9298125318930857,
          -1.6153514669178302,
          -0.23648859478273493,
          -1.3995052532076473,
          0.2887587059717741,
          0.07542297746214613,
          -2.8010769123215984
         ],
         "xaxis": "x16",
         "yaxis": "y16"
        }
       ],
       "layout": {
        "bargap": 0.02,
        "legend": {
         "bgcolor": "#F5F6F9",
         "font": {
          "color": "#4D5663"
         }
        },
        "paper_bgcolor": "#F5F6F9",
        "plot_bgcolor": "#F5F6F9",
        "showlegend": false,
        "template": {
         "data": {
          "bar": [
           {
            "error_x": {
             "color": "#2a3f5f"
            },
            "error_y": {
             "color": "#2a3f5f"
            },
            "marker": {
             "line": {
              "color": "#E5ECF6",
              "width": 0.5
             },
             "pattern": {
              "fillmode": "overlay",
              "size": 10,
              "solidity": 0.2
             }
            },
            "type": "bar"
           }
          ],
          "barpolar": [
           {
            "marker": {
             "line": {
              "color": "#E5ECF6",
              "width": 0.5
             },
             "pattern": {
              "fillmode": "overlay",
              "size": 10,
              "solidity": 0.2
             }
            },
            "type": "barpolar"
           }
          ],
          "carpet": [
           {
            "aaxis": {
             "endlinecolor": "#2a3f5f",
             "gridcolor": "white",
             "linecolor": "white",
             "minorgridcolor": "white",
             "startlinecolor": "#2a3f5f"
            },
            "baxis": {
             "endlinecolor": "#2a3f5f",
             "gridcolor": "white",
             "linecolor": "white",
             "minorgridcolor": "white",
             "startlinecolor": "#2a3f5f"
            },
            "type": "carpet"
           }
          ],
          "choropleth": [
           {
            "colorbar": {
             "outlinewidth": 0,
             "ticks": ""
            },
            "type": "choropleth"
           }
          ],
          "contour": [
           {
            "colorbar": {
             "outlinewidth": 0,
             "ticks": ""
            },
            "colorscale": [
             [
              0,
              "#0d0887"
             ],
             [
              0.1111111111111111,
              "#46039f"
             ],
             [
              0.2222222222222222,
              "#7201a8"
             ],
             [
              0.3333333333333333,
              "#9c179e"
             ],
             [
              0.4444444444444444,
              "#bd3786"
             ],
             [
              0.5555555555555556,
              "#d8576b"
             ],
             [
              0.6666666666666666,
              "#ed7953"
             ],
             [
              0.7777777777777778,
              "#fb9f3a"
             ],
             [
              0.8888888888888888,
              "#fdca26"
             ],
             [
              1,
              "#f0f921"
             ]
            ],
            "type": "contour"
           }
          ],
          "contourcarpet": [
           {
            "colorbar": {
             "outlinewidth": 0,
             "ticks": ""
            },
            "type": "contourcarpet"
           }
          ],
          "heatmap": [
           {
            "colorbar": {
             "outlinewidth": 0,
             "ticks": ""
            },
            "colorscale": [
             [
              0,
              "#0d0887"
             ],
             [
              0.1111111111111111,
              "#46039f"
             ],
             [
              0.2222222222222222,
              "#7201a8"
             ],
             [
              0.3333333333333333,
              "#9c179e"
             ],
             [
              0.4444444444444444,
              "#bd3786"
             ],
             [
              0.5555555555555556,
              "#d8576b"
             ],
             [
              0.6666666666666666,
              "#ed7953"
             ],
             [
              0.7777777777777778,
              "#fb9f3a"
             ],
             [
              0.8888888888888888,
              "#fdca26"
             ],
             [
              1,
              "#f0f921"
             ]
            ],
            "type": "heatmap"
           }
          ],
          "heatmapgl": [
           {
            "colorbar": {
             "outlinewidth": 0,
             "ticks": ""
            },
            "colorscale": [
             [
              0,
              "#0d0887"
             ],
             [
              0.1111111111111111,
              "#46039f"
             ],
             [
              0.2222222222222222,
              "#7201a8"
             ],
             [
              0.3333333333333333,
              "#9c179e"
             ],
             [
              0.4444444444444444,
              "#bd3786"
             ],
             [
              0.5555555555555556,
              "#d8576b"
             ],
             [
              0.6666666666666666,
              "#ed7953"
             ],
             [
              0.7777777777777778,
              "#fb9f3a"
             ],
             [
              0.8888888888888888,
              "#fdca26"
             ],
             [
              1,
              "#f0f921"
             ]
            ],
            "type": "heatmapgl"
           }
          ],
          "histogram": [
           {
            "marker": {
             "pattern": {
              "fillmode": "overlay",
              "size": 10,
              "solidity": 0.2
             }
            },
            "type": "histogram"
           }
          ],
          "histogram2d": [
           {
            "colorbar": {
             "outlinewidth": 0,
             "ticks": ""
            },
            "colorscale": [
             [
              0,
              "#0d0887"
             ],
             [
              0.1111111111111111,
              "#46039f"
             ],
             [
              0.2222222222222222,
              "#7201a8"
             ],
             [
              0.3333333333333333,
              "#9c179e"
             ],
             [
              0.4444444444444444,
              "#bd3786"
             ],
             [
              0.5555555555555556,
              "#d8576b"
             ],
             [
              0.6666666666666666,
              "#ed7953"
             ],
             [
              0.7777777777777778,
              "#fb9f3a"
             ],
             [
              0.8888888888888888,
              "#fdca26"
             ],
             [
              1,
              "#f0f921"
             ]
            ],
            "type": "histogram2d"
           }
          ],
          "histogram2dcontour": [
           {
            "colorbar": {
             "outlinewidth": 0,
             "ticks": ""
            },
            "colorscale": [
             [
              0,
              "#0d0887"
             ],
             [
              0.1111111111111111,
              "#46039f"
             ],
             [
              0.2222222222222222,
              "#7201a8"
             ],
             [
              0.3333333333333333,
              "#9c179e"
             ],
             [
              0.4444444444444444,
              "#bd3786"
             ],
             [
              0.5555555555555556,
              "#d8576b"
             ],
             [
              0.6666666666666666,
              "#ed7953"
             ],
             [
              0.7777777777777778,
              "#fb9f3a"
             ],
             [
              0.8888888888888888,
              "#fdca26"
             ],
             [
              1,
              "#f0f921"
             ]
            ],
            "type": "histogram2dcontour"
           }
          ],
          "mesh3d": [
           {
            "colorbar": {
             "outlinewidth": 0,
             "ticks": ""
            },
            "type": "mesh3d"
           }
          ],
          "parcoords": [
           {
            "line": {
             "colorbar": {
              "outlinewidth": 0,
              "ticks": ""
             }
            },
            "type": "parcoords"
           }
          ],
          "pie": [
           {
            "automargin": true,
            "type": "pie"
           }
          ],
          "scatter": [
           {
            "fillpattern": {
             "fillmode": "overlay",
             "size": 10,
             "solidity": 0.2
            },
            "type": "scatter"
           }
          ],
          "scatter3d": [
           {
            "line": {
             "colorbar": {
              "outlinewidth": 0,
              "ticks": ""
             }
            },
            "marker": {
             "colorbar": {
              "outlinewidth": 0,
              "ticks": ""
             }
            },
            "type": "scatter3d"
           }
          ],
          "scattercarpet": [
           {
            "marker": {
             "colorbar": {
              "outlinewidth": 0,
              "ticks": ""
             }
            },
            "type": "scattercarpet"
           }
          ],
          "scattergeo": [
           {
            "marker": {
             "colorbar": {
              "outlinewidth": 0,
              "ticks": ""
             }
            },
            "type": "scattergeo"
           }
          ],
          "scattergl": [
           {
            "marker": {
             "colorbar": {
              "outlinewidth": 0,
              "ticks": ""
             }
            },
            "type": "scattergl"
           }
          ],
          "scattermapbox": [
           {
            "marker": {
             "colorbar": {
              "outlinewidth": 0,
              "ticks": ""
             }
            },
            "type": "scattermapbox"
           }
          ],
          "scatterpolar": [
           {
            "marker": {
             "colorbar": {
              "outlinewidth": 0,
              "ticks": ""
             }
            },
            "type": "scatterpolar"
           }
          ],
          "scatterpolargl": [
           {
            "marker": {
             "colorbar": {
              "outlinewidth": 0,
              "ticks": ""
             }
            },
            "type": "scatterpolargl"
           }
          ],
          "scatterternary": [
           {
            "marker": {
             "colorbar": {
              "outlinewidth": 0,
              "ticks": ""
             }
            },
            "type": "scatterternary"
           }
          ],
          "surface": [
           {
            "colorbar": {
             "outlinewidth": 0,
             "ticks": ""
            },
            "colorscale": [
             [
              0,
              "#0d0887"
             ],
             [
              0.1111111111111111,
              "#46039f"
             ],
             [
              0.2222222222222222,
              "#7201a8"
             ],
             [
              0.3333333333333333,
              "#9c179e"
             ],
             [
              0.4444444444444444,
              "#bd3786"
             ],
             [
              0.5555555555555556,
              "#d8576b"
             ],
             [
              0.6666666666666666,
              "#ed7953"
             ],
             [
              0.7777777777777778,
              "#fb9f3a"
             ],
             [
              0.8888888888888888,
              "#fdca26"
             ],
             [
              1,
              "#f0f921"
             ]
            ],
            "type": "surface"
           }
          ],
          "table": [
           {
            "cells": {
             "fill": {
              "color": "#EBF0F8"
             },
             "line": {
              "color": "white"
             }
            },
            "header": {
             "fill": {
              "color": "#C8D4E3"
             },
             "line": {
              "color": "white"
             }
            },
            "type": "table"
           }
          ]
         },
         "layout": {
          "annotationdefaults": {
           "arrowcolor": "#2a3f5f",
           "arrowhead": 0,
           "arrowwidth": 1
          },
          "autotypenumbers": "strict",
          "coloraxis": {
           "colorbar": {
            "outlinewidth": 0,
            "ticks": ""
           }
          },
          "colorscale": {
           "diverging": [
            [
             0,
             "#8e0152"
            ],
            [
             0.1,
             "#c51b7d"
            ],
            [
             0.2,
             "#de77ae"
            ],
            [
             0.3,
             "#f1b6da"
            ],
            [
             0.4,
             "#fde0ef"
            ],
            [
             0.5,
             "#f7f7f7"
            ],
            [
             0.6,
             "#e6f5d0"
            ],
            [
             0.7,
             "#b8e186"
            ],
            [
             0.8,
             "#7fbc41"
            ],
            [
             0.9,
             "#4d9221"
            ],
            [
             1,
             "#276419"
            ]
           ],
           "sequential": [
            [
             0,
             "#0d0887"
            ],
            [
             0.1111111111111111,
             "#46039f"
            ],
            [
             0.2222222222222222,
             "#7201a8"
            ],
            [
             0.3333333333333333,
             "#9c179e"
            ],
            [
             0.4444444444444444,
             "#bd3786"
            ],
            [
             0.5555555555555556,
             "#d8576b"
            ],
            [
             0.6666666666666666,
             "#ed7953"
            ],
            [
             0.7777777777777778,
             "#fb9f3a"
            ],
            [
             0.8888888888888888,
             "#fdca26"
            ],
            [
             1,
             "#f0f921"
            ]
           ],
           "sequentialminus": [
            [
             0,
             "#0d0887"
            ],
            [
             0.1111111111111111,
             "#46039f"
            ],
            [
             0.2222222222222222,
             "#7201a8"
            ],
            [
             0.3333333333333333,
             "#9c179e"
            ],
            [
             0.4444444444444444,
             "#bd3786"
            ],
            [
             0.5555555555555556,
             "#d8576b"
            ],
            [
             0.6666666666666666,
             "#ed7953"
            ],
            [
             0.7777777777777778,
             "#fb9f3a"
            ],
            [
             0.8888888888888888,
             "#fdca26"
            ],
            [
             1,
             "#f0f921"
            ]
           ]
          },
          "colorway": [
           "#636efa",
           "#EF553B",
           "#00cc96",
           "#ab63fa",
           "#FFA15A",
           "#19d3f3",
           "#FF6692",
           "#B6E880",
           "#FF97FF",
           "#FECB52"
          ],
          "font": {
           "color": "#2a3f5f"
          },
          "geo": {
           "bgcolor": "white",
           "lakecolor": "white",
           "landcolor": "#E5ECF6",
           "showlakes": true,
           "showland": true,
           "subunitcolor": "white"
          },
          "hoverlabel": {
           "align": "left"
          },
          "hovermode": "closest",
          "mapbox": {
           "style": "light"
          },
          "paper_bgcolor": "white",
          "plot_bgcolor": "#E5ECF6",
          "polar": {
           "angularaxis": {
            "gridcolor": "white",
            "linecolor": "white",
            "ticks": ""
           },
           "bgcolor": "#E5ECF6",
           "radialaxis": {
            "gridcolor": "white",
            "linecolor": "white",
            "ticks": ""
           }
          },
          "scene": {
           "xaxis": {
            "backgroundcolor": "#E5ECF6",
            "gridcolor": "white",
            "gridwidth": 2,
            "linecolor": "white",
            "showbackground": true,
            "ticks": "",
            "zerolinecolor": "white"
           },
           "yaxis": {
            "backgroundcolor": "#E5ECF6",
            "gridcolor": "white",
            "gridwidth": 2,
            "linecolor": "white",
            "showbackground": true,
            "ticks": "",
            "zerolinecolor": "white"
           },
           "zaxis": {
            "backgroundcolor": "#E5ECF6",
            "gridcolor": "white",
            "gridwidth": 2,
            "linecolor": "white",
            "showbackground": true,
            "ticks": "",
            "zerolinecolor": "white"
           }
          },
          "shapedefaults": {
           "line": {
            "color": "#2a3f5f"
           }
          },
          "ternary": {
           "aaxis": {
            "gridcolor": "white",
            "linecolor": "white",
            "ticks": ""
           },
           "baxis": {
            "gridcolor": "white",
            "linecolor": "white",
            "ticks": ""
           },
           "bgcolor": "#E5ECF6",
           "caxis": {
            "gridcolor": "white",
            "linecolor": "white",
            "ticks": ""
           }
          },
          "title": {
           "x": 0.05
          },
          "xaxis": {
           "automargin": true,
           "gridcolor": "white",
           "linecolor": "white",
           "ticks": "",
           "title": {
            "standoff": 15
           },
           "zerolinecolor": "white",
           "zerolinewidth": 2
          },
          "yaxis": {
           "automargin": true,
           "gridcolor": "white",
           "linecolor": "white",
           "ticks": "",
           "title": {
            "standoff": 15
           },
           "zerolinecolor": "white",
           "zerolinewidth": 2
          }
         }
        },
        "title": {
         "font": {
          "color": "#4D5663"
         }
        },
        "xaxis": {
         "anchor": "y",
         "domain": [
          0,
          0.2125
         ],
         "gridcolor": "#E1E5ED",
         "showgrid": false,
         "tickfont": {
          "color": "#4D5663"
         },
         "title": {
          "font": {
           "color": "#4D5663"
          },
          "text": ""
         },
         "zerolinecolor": "#E1E5ED"
        },
        "xaxis10": {
         "anchor": "y10",
         "domain": [
          0.2625,
          0.475
         ],
         "gridcolor": "#E1E5ED",
         "showgrid": false,
         "tickfont": {
          "color": "#4D5663"
         },
         "title": {
          "font": {
           "color": "#4D5663"
          },
          "text": ""
         },
         "zerolinecolor": "#E1E5ED"
        },
        "xaxis11": {
         "anchor": "y11",
         "domain": [
          0.525,
          0.7375
         ],
         "gridcolor": "#E1E5ED",
         "showgrid": false,
         "tickfont": {
          "color": "#4D5663"
         },
         "title": {
          "font": {
           "color": "#4D5663"
          },
          "text": ""
         },
         "zerolinecolor": "#E1E5ED"
        },
        "xaxis12": {
         "anchor": "y12",
         "domain": [
          0.7875,
          1
         ],
         "gridcolor": "#E1E5ED",
         "showgrid": false,
         "tickfont": {
          "color": "#4D5663"
         },
         "title": {
          "font": {
           "color": "#4D5663"
          },
          "text": ""
         },
         "zerolinecolor": "#E1E5ED"
        },
        "xaxis13": {
         "anchor": "y13",
         "domain": [
          0,
          0.2125
         ],
         "gridcolor": "#E1E5ED",
         "showgrid": false,
         "tickfont": {
          "color": "#4D5663"
         },
         "title": {
          "font": {
           "color": "#4D5663"
          },
          "text": ""
         },
         "zerolinecolor": "#E1E5ED"
        },
        "xaxis14": {
         "anchor": "y14",
         "domain": [
          0.2625,
          0.475
         ],
         "gridcolor": "#E1E5ED",
         "showgrid": false,
         "tickfont": {
          "color": "#4D5663"
         },
         "title": {
          "font": {
           "color": "#4D5663"
          },
          "text": ""
         },
         "zerolinecolor": "#E1E5ED"
        },
        "xaxis15": {
         "anchor": "y15",
         "domain": [
          0.525,
          0.7375
         ],
         "gridcolor": "#E1E5ED",
         "showgrid": false,
         "tickfont": {
          "color": "#4D5663"
         },
         "title": {
          "font": {
           "color": "#4D5663"
          },
          "text": ""
         },
         "zerolinecolor": "#E1E5ED"
        },
        "xaxis16": {
         "anchor": "y16",
         "domain": [
          0.7875,
          1
         ],
         "gridcolor": "#E1E5ED",
         "showgrid": false,
         "tickfont": {
          "color": "#4D5663"
         },
         "title": {
          "font": {
           "color": "#4D5663"
          },
          "text": ""
         },
         "zerolinecolor": "#E1E5ED"
        },
        "xaxis2": {
         "anchor": "y2",
         "domain": [
          0.2625,
          0.475
         ],
         "gridcolor": "#E1E5ED",
         "showgrid": false,
         "tickfont": {
          "color": "#4D5663"
         },
         "title": {
          "font": {
           "color": "#4D5663"
          },
          "text": ""
         },
         "zerolinecolor": "#E1E5ED"
        },
        "xaxis3": {
         "anchor": "y3",
         "domain": [
          0.525,
          0.7375
         ],
         "gridcolor": "#E1E5ED",
         "showgrid": false,
         "tickfont": {
          "color": "#4D5663"
         },
         "title": {
          "font": {
           "color": "#4D5663"
          },
          "text": ""
         },
         "zerolinecolor": "#E1E5ED"
        },
        "xaxis4": {
         "anchor": "y4",
         "domain": [
          0.7875,
          1
         ],
         "gridcolor": "#E1E5ED",
         "showgrid": false,
         "tickfont": {
          "color": "#4D5663"
         },
         "title": {
          "font": {
           "color": "#4D5663"
          },
          "text": ""
         },
         "zerolinecolor": "#E1E5ED"
        },
        "xaxis5": {
         "anchor": "y5",
         "domain": [
          0,
          0.2125
         ],
         "gridcolor": "#E1E5ED",
         "showgrid": false,
         "tickfont": {
          "color": "#4D5663"
         },
         "title": {
          "font": {
           "color": "#4D5663"
          },
          "text": ""
         },
         "zerolinecolor": "#E1E5ED"
        },
        "xaxis6": {
         "anchor": "y6",
         "domain": [
          0.2625,
          0.475
         ],
         "gridcolor": "#E1E5ED",
         "showgrid": false,
         "tickfont": {
          "color": "#4D5663"
         },
         "title": {
          "font": {
           "color": "#4D5663"
          },
          "text": ""
         },
         "zerolinecolor": "#E1E5ED"
        },
        "xaxis7": {
         "anchor": "y7",
         "domain": [
          0.525,
          0.7375
         ],
         "gridcolor": "#E1E5ED",
         "showgrid": false,
         "tickfont": {
          "color": "#4D5663"
         },
         "title": {
          "font": {
           "color": "#4D5663"
          },
          "text": ""
         },
         "zerolinecolor": "#E1E5ED"
        },
        "xaxis8": {
         "anchor": "y8",
         "domain": [
          0.7875,
          1
         ],
         "gridcolor": "#E1E5ED",
         "showgrid": false,
         "tickfont": {
          "color": "#4D5663"
         },
         "title": {
          "font": {
           "color": "#4D5663"
          },
          "text": ""
         },
         "zerolinecolor": "#E1E5ED"
        },
        "xaxis9": {
         "anchor": "y9",
         "domain": [
          0,
          0.2125
         ],
         "gridcolor": "#E1E5ED",
         "showgrid": false,
         "tickfont": {
          "color": "#4D5663"
         },
         "title": {
          "font": {
           "color": "#4D5663"
          },
          "text": ""
         },
         "zerolinecolor": "#E1E5ED"
        },
        "yaxis": {
         "anchor": "x",
         "domain": [
          0.8025,
          1
         ],
         "gridcolor": "#E1E5ED",
         "showgrid": false,
         "tickfont": {
          "color": "#4D5663"
         },
         "title": {
          "font": {
           "color": "#4D5663"
          },
          "text": ""
         },
         "zerolinecolor": "#E1E5ED"
        },
        "yaxis10": {
         "anchor": "x10",
         "domain": [
          0.2675,
          0.465
         ],
         "gridcolor": "#E1E5ED",
         "showgrid": false,
         "tickfont": {
          "color": "#4D5663"
         },
         "title": {
          "font": {
           "color": "#4D5663"
          },
          "text": ""
         },
         "zerolinecolor": "#E1E5ED"
        },
        "yaxis11": {
         "anchor": "x11",
         "domain": [
          0.2675,
          0.465
         ],
         "gridcolor": "#E1E5ED",
         "showgrid": false,
         "tickfont": {
          "color": "#4D5663"
         },
         "title": {
          "font": {
           "color": "#4D5663"
          },
          "text": ""
         },
         "zerolinecolor": "#E1E5ED"
        },
        "yaxis12": {
         "anchor": "x12",
         "domain": [
          0.2675,
          0.465
         ],
         "gridcolor": "#E1E5ED",
         "showgrid": false,
         "tickfont": {
          "color": "#4D5663"
         },
         "title": {
          "font": {
           "color": "#4D5663"
          },
          "text": ""
         },
         "zerolinecolor": "#E1E5ED"
        },
        "yaxis13": {
         "anchor": "x13",
         "domain": [
          0,
          0.1975
         ],
         "gridcolor": "#E1E5ED",
         "showgrid": false,
         "tickfont": {
          "color": "#4D5663"
         },
         "title": {
          "font": {
           "color": "#4D5663"
          },
          "text": ""
         },
         "zerolinecolor": "#E1E5ED"
        },
        "yaxis14": {
         "anchor": "x14",
         "domain": [
          0,
          0.1975
         ],
         "gridcolor": "#E1E5ED",
         "showgrid": false,
         "tickfont": {
          "color": "#4D5663"
         },
         "title": {
          "font": {
           "color": "#4D5663"
          },
          "text": ""
         },
         "zerolinecolor": "#E1E5ED"
        },
        "yaxis15": {
         "anchor": "x15",
         "domain": [
          0,
          0.1975
         ],
         "gridcolor": "#E1E5ED",
         "showgrid": false,
         "tickfont": {
          "color": "#4D5663"
         },
         "title": {
          "font": {
           "color": "#4D5663"
          },
          "text": ""
         },
         "zerolinecolor": "#E1E5ED"
        },
        "yaxis16": {
         "anchor": "x16",
         "domain": [
          0,
          0.1975
         ],
         "gridcolor": "#E1E5ED",
         "showgrid": false,
         "tickfont": {
          "color": "#4D5663"
         },
         "title": {
          "font": {
           "color": "#4D5663"
          },
          "text": ""
         },
         "zerolinecolor": "#E1E5ED"
        },
        "yaxis2": {
         "anchor": "x2",
         "domain": [
          0.8025,
          1
         ],
         "gridcolor": "#E1E5ED",
         "showgrid": false,
         "tickfont": {
          "color": "#4D5663"
         },
         "title": {
          "font": {
           "color": "#4D5663"
          },
          "text": ""
         },
         "zerolinecolor": "#E1E5ED"
        },
        "yaxis3": {
         "anchor": "x3",
         "domain": [
          0.8025,
          1
         ],
         "gridcolor": "#E1E5ED",
         "showgrid": false,
         "tickfont": {
          "color": "#4D5663"
         },
         "title": {
          "font": {
           "color": "#4D5663"
          },
          "text": ""
         },
         "zerolinecolor": "#E1E5ED"
        },
        "yaxis4": {
         "anchor": "x4",
         "domain": [
          0.8025,
          1
         ],
         "gridcolor": "#E1E5ED",
         "showgrid": false,
         "tickfont": {
          "color": "#4D5663"
         },
         "title": {
          "font": {
           "color": "#4D5663"
          },
          "text": ""
         },
         "zerolinecolor": "#E1E5ED"
        },
        "yaxis5": {
         "anchor": "x5",
         "domain": [
          0.535,
          0.7325
         ],
         "gridcolor": "#E1E5ED",
         "showgrid": false,
         "tickfont": {
          "color": "#4D5663"
         },
         "title": {
          "font": {
           "color": "#4D5663"
          },
          "text": ""
         },
         "zerolinecolor": "#E1E5ED"
        },
        "yaxis6": {
         "anchor": "x6",
         "domain": [
          0.535,
          0.7325
         ],
         "gridcolor": "#E1E5ED",
         "showgrid": false,
         "tickfont": {
          "color": "#4D5663"
         },
         "title": {
          "font": {
           "color": "#4D5663"
          },
          "text": ""
         },
         "zerolinecolor": "#E1E5ED"
        },
        "yaxis7": {
         "anchor": "x7",
         "domain": [
          0.535,
          0.7325
         ],
         "gridcolor": "#E1E5ED",
         "showgrid": false,
         "tickfont": {
          "color": "#4D5663"
         },
         "title": {
          "font": {
           "color": "#4D5663"
          },
          "text": ""
         },
         "zerolinecolor": "#E1E5ED"
        },
        "yaxis8": {
         "anchor": "x8",
         "domain": [
          0.535,
          0.7325
         ],
         "gridcolor": "#E1E5ED",
         "showgrid": false,
         "tickfont": {
          "color": "#4D5663"
         },
         "title": {
          "font": {
           "color": "#4D5663"
          },
          "text": ""
         },
         "zerolinecolor": "#E1E5ED"
        },
        "yaxis9": {
         "anchor": "x9",
         "domain": [
          0.2675,
          0.465
         ],
         "gridcolor": "#E1E5ED",
         "showgrid": false,
         "tickfont": {
          "color": "#4D5663"
         },
         "title": {
          "font": {
           "color": "#4D5663"
          },
          "text": ""
         },
         "zerolinecolor": "#E1E5ED"
        }
       }
      },
      "text/html": [
       "<div>                            <div id=\"ecda569f-ac3a-4e33-bec5-6a20b1af8a03\" class=\"plotly-graph-div\" style=\"height:525px; width:100%;\"></div>            <script type=\"text/javascript\">                require([\"plotly\"], function(Plotly) {                    window.PLOTLYENV=window.PLOTLYENV || {};\n",
       "                    window.PLOTLYENV.BASE_URL='https://plot.ly';                                    if (document.getElementById(\"ecda569f-ac3a-4e33-bec5-6a20b1af8a03\")) {                    Plotly.newPlot(                        \"ecda569f-ac3a-4e33-bec5-6a20b1af8a03\",                        [{\"histfunc\":\"count\",\"histnorm\":\"\",\"marker\":{\"color\":\"rgba(255, 153, 51, 1.0)\",\"line\":{\"color\":\"#4D5663\",\"width\":1.3}},\"name\":\"A\",\"nbinsx\":10,\"opacity\":0.8,\"orientation\":\"v\",\"x\":[0.9483710285820001,-0.16435447117281413,0.6477051568801235,-2.273255312123948,-0.19536853035988794,-0.2118342237334965,1.969900103972678,-0.1496270218197629,-0.007020860163975405,0.4772917949028792,-2.296838980325794,-0.37000166265522116,0.34406523866400957,-0.29030028397892893,0.6878914949832962,0.5433316282880948,-0.40987022829918446,-0.3508115673844667,-0.3559125754431757,-1.1483952719332804,-0.8767453817952463,1.92278265358688,0.5770428505914557,0.02435312488294865,1.4107386803936892,-0.06322763639530866,-0.01795897935142888,-0.18530147911972034,-0.3659190731162389,1.3165523507978518,-0.792171042599313,-0.1554692689441983,-1.8409931154929848,0.1764468915089469,-0.30909415815164737,1.0632814501247938,0.26234545224339956,-1.5873657519214601,-1.6473598175363953,-0.6318463303111566,1.0543085403294332,1.246304011828692,-0.21144922670508443,-0.23589096320737366,-0.09395250356688174,0.0707249247579655,-0.6400009901335901,1.351331165453697,-1.1313727968282254,-0.7647615927907178,-0.8079994094244998,1.5607430028744744,-0.3620125847729232,1.6051928605447752,-0.2644213070910263,0.15301454089392363,-1.384940783808886,0.9569667644612428,1.0098032757966096,0.05981939777514478,-0.4063321066711721,-0.10489950599416006,0.4405417746248789,1.5885797975649483,-0.2123877545633354,0.7896146361235454,-0.25786433842463086,1.1631727044468283,0.8893538473792952,-0.605977484901111,-2.2759457922899493,-0.30667550908424834,-0.8241615883865696,-0.812670431832529,0.33268905472604193,0.23563136424290237,0.4578026499023031,0.7315995846678012,-1.7286130927550594,-0.24475898061728274,0.04932267359327156,0.09850376427288944,0.886720450911329,-0.17577082586457415,1.6183992637484683,1.1184599011461407,1.0592831356401937,0.04909605784286992,0.0490338970942655,-1.5413799533062233,-0.6846783116080516,0.28934161302670924,-1.5812189138833908,-0.551058815311809,-0.14210452149120745,1.132681638282884,-1.4845447509762713,0.7275497759426459,-0.9247206532943602,-0.10781768148384203],\"xaxis\":\"x\",\"yaxis\":\"y\",\"type\":\"histogram\"},{\"line\":{\"color\":\"rgba(128, 128, 128, 1.0)\",\"dash\":\"solid\",\"shape\":\"linear\",\"width\":1.3},\"marker\":{\"size\":2,\"symbol\":\"circle\"},\"mode\":\"markers\",\"name\":\"A\",\"text\":\"\",\"x\":[0.6951956068812144,0.49725417558382046,0.6087143272319379,0.10112467773010585,2.323613568869922,-0.24534012165281577,-1.588981039176941,0.5649426863896487,-1.061003385941566,1.046139137247561,-1.429030819194681,-0.6721985390439421,0.7446491237600207,-1.194499495828478,-0.22504824095902065,-0.3974007034506707,1.536542067477092,-0.39250064016403163,0.9523164329683868,-1.8573519129338643,1.3006210941603213,-0.5528283250328027,-0.6977698963321508,1.2942172706712607,-1.1549871293902265,0.25272725615392627,0.8445125936973771,-2.4699306276453563,-0.31190850791083896,1.2259265317416355,0.48418414451155,0.5649252815461252,0.14138713508186163,1.938355457479299,-1.0465970402655622,-1.3816713931096485,-0.8790836945117418,-0.8016568421156806,-0.03807425182074729,1.512011476372494,-0.358844527962155,1.7906226715812434,0.696488767895237,-0.2677337901158682,1.3042993099547446,-0.32026858309367945,-0.07720683218039519,-0.634742010310217,0.7603041907311168,1.5805588555198649,-0.1989611304897986,0.7220453059317153,0.5692340768872667,-0.25156765622962063,0.8092358452271889,1.0885470599932183,0.45062822224819526,-0.013762313193872652,0.5912886501401902,-0.7423096218981617,0.9382882421920437,0.08293536258955617,0.8345857880588031,-0.716795511109764,0.36263691765918415,-0.9270008736821341,-0.6838395828920901,0.8694508382211932,-0.2347351263121534,1.8793424244484218,-1.269768586915114,0.5573369027699515,0.6817476354328097,-0.20346366467539387,0.21314857289525754,-0.30799604434693434,0.366574150799827,2.171757651011116,-0.8840881683355313,-0.1636449694274178,-1.266223369167309,-0.7745833709493388,0.6283851977513192,1.2378303894503486,0.5122696947240207,-0.9102284691228753,-0.619141770208701,1.0581714210855506,-1.7158268206733926,-1.3392909615359103,-0.1580198932356279,0.711646018189122,0.8383109344980673,-0.2850035136230021,0.007760260934558799,0.3489907751758173,0.06754387559919373,-1.6012150819873734,0.6283008119768948,-0.7677935023498129],\"xaxis\":\"x2\",\"y\":[0.9483710285820001,-0.16435447117281413,0.6477051568801235,-2.273255312123948,-0.19536853035988794,-0.2118342237334965,1.969900103972678,-0.1496270218197629,-0.007020860163975405,0.4772917949028792,-2.296838980325794,-0.37000166265522116,0.34406523866400957,-0.29030028397892893,0.6878914949832962,0.5433316282880948,-0.40987022829918446,-0.3508115673844667,-0.3559125754431757,-1.1483952719332804,-0.8767453817952463,1.92278265358688,0.5770428505914557,0.02435312488294865,1.4107386803936892,-0.06322763639530866,-0.01795897935142888,-0.18530147911972034,-0.3659190731162389,1.3165523507978518,-0.792171042599313,-0.1554692689441983,-1.8409931154929848,0.1764468915089469,-0.30909415815164737,1.0632814501247938,0.26234545224339956,-1.5873657519214601,-1.6473598175363953,-0.6318463303111566,1.0543085403294332,1.246304011828692,-0.21144922670508443,-0.23589096320737366,-0.09395250356688174,0.0707249247579655,-0.6400009901335901,1.351331165453697,-1.1313727968282254,-0.7647615927907178,-0.8079994094244998,1.5607430028744744,-0.3620125847729232,1.6051928605447752,-0.2644213070910263,0.15301454089392363,-1.384940783808886,0.9569667644612428,1.0098032757966096,0.05981939777514478,-0.4063321066711721,-0.10489950599416006,0.4405417746248789,1.5885797975649483,-0.2123877545633354,0.7896146361235454,-0.25786433842463086,1.1631727044468283,0.8893538473792952,-0.605977484901111,-2.2759457922899493,-0.30667550908424834,-0.8241615883865696,-0.812670431832529,0.33268905472604193,0.23563136424290237,0.4578026499023031,0.7315995846678012,-1.7286130927550594,-0.24475898061728274,0.04932267359327156,0.09850376427288944,0.886720450911329,-0.17577082586457415,1.6183992637484683,1.1184599011461407,1.0592831356401937,0.04909605784286992,0.0490338970942655,-1.5413799533062233,-0.6846783116080516,0.28934161302670924,-1.5812189138833908,-0.551058815311809,-0.14210452149120745,1.132681638282884,-1.4845447509762713,0.7275497759426459,-0.9247206532943602,-0.10781768148384203],\"yaxis\":\"y2\",\"type\":\"scatter\"},{\"line\":{\"color\":\"rgba(128, 128, 128, 1.0)\",\"dash\":\"solid\",\"shape\":\"linear\",\"width\":1.3},\"marker\":{\"size\":2,\"symbol\":\"circle\"},\"mode\":\"markers\",\"name\":\"A\",\"text\":\"\",\"x\":[2.3120647498890845,-0.10844376718298135,0.49603694482045774,0.7029068935199622,0.33767586675516464,-0.3273942819094764,1.2910422644623754,-0.7280629942713662,-0.37948453567552576,-0.5075785585881247,0.7648412974132406,-0.34317556764828144,0.11167798409441208,1.2650984620862653,0.766761605724421,0.31955712666768243,-0.45891956640233755,-2.229721280031838,0.01375682566020346,-0.4184960839369062,-2.1354010328905866,-0.13595787316665328,-0.6074707709920614,0.23270802075036562,-0.8617204033782296,-1.1187483859844616,0.3655407036427369,1.3654646400459185,-0.5596958133724508,-0.20408541579895417,0.281380033365303,-0.9243321452113985,-1.2111859491646975,0.09379968704457334,-1.5012917548880185,-0.05862200358089037,-0.04718778502607619,-0.3242110428858523,-0.42527238807371115,-1.3679909676319204,1.8964567090068993,1.1885395823157534,-1.6920389323236837,1.3690654618438791,-1.6081745725857974,0.3808873876934197,1.5738398069809034,-0.16572277462275684,0.0717220500585075,0.33127683623696824,-0.5500698627042598,0.056776562191795034,1.1227764428347549,-0.7754774339956455,1.7504723294180942,-0.4018102332597638,-1.4640165953696878,-0.20503167430574165,-0.6365151172486725,1.3042113446387575,0.4603219669807841,0.23090188921472082,0.9700529693362641,0.16945282621225663,1.4802168937634455,0.0675260202312709,-0.1417359478016793,-0.23862574364672587,-0.2971032547170577,1.9106529557426482,-0.8743882521198557,-0.33819483933678207,-0.485591209095817,-0.5822230924675388,0.6659479730280735,-0.13675089264516105,-0.7035031932660262,-0.7071924291775493,0.9297246362993715,0.1126782792369145,0.5394383808318713,1.1745838261097399,-0.22509705230926447,-1.1797416296682188,-0.3237660238142024,1.7144677087925255,-0.6451368128462501,-1.486807554637661,0.152008246741144,-0.0042176350596296605,-1.0532979193695557,1.9416343610971065,-1.6342423293973727,-1.173615402945359,0.23446925202851698,-0.10348752353806556,0.44166541120995817,-1.754087775175577,0.5208903066785237,-0.9495706932847503],\"xaxis\":\"x3\",\"y\":[0.9483710285820001,-0.16435447117281413,0.6477051568801235,-2.273255312123948,-0.19536853035988794,-0.2118342237334965,1.969900103972678,-0.1496270218197629,-0.007020860163975405,0.4772917949028792,-2.296838980325794,-0.37000166265522116,0.34406523866400957,-0.29030028397892893,0.6878914949832962,0.5433316282880948,-0.40987022829918446,-0.3508115673844667,-0.3559125754431757,-1.1483952719332804,-0.8767453817952463,1.92278265358688,0.5770428505914557,0.02435312488294865,1.4107386803936892,-0.06322763639530866,-0.01795897935142888,-0.18530147911972034,-0.3659190731162389,1.3165523507978518,-0.792171042599313,-0.1554692689441983,-1.8409931154929848,0.1764468915089469,-0.30909415815164737,1.0632814501247938,0.26234545224339956,-1.5873657519214601,-1.6473598175363953,-0.6318463303111566,1.0543085403294332,1.246304011828692,-0.21144922670508443,-0.23589096320737366,-0.09395250356688174,0.0707249247579655,-0.6400009901335901,1.351331165453697,-1.1313727968282254,-0.7647615927907178,-0.8079994094244998,1.5607430028744744,-0.3620125847729232,1.6051928605447752,-0.2644213070910263,0.15301454089392363,-1.384940783808886,0.9569667644612428,1.0098032757966096,0.05981939777514478,-0.4063321066711721,-0.10489950599416006,0.4405417746248789,1.5885797975649483,-0.2123877545633354,0.7896146361235454,-0.25786433842463086,1.1631727044468283,0.8893538473792952,-0.605977484901111,-2.2759457922899493,-0.30667550908424834,-0.8241615883865696,-0.812670431832529,0.33268905472604193,0.23563136424290237,0.4578026499023031,0.7315995846678012,-1.7286130927550594,-0.24475898061728274,0.04932267359327156,0.09850376427288944,0.886720450911329,-0.17577082586457415,1.6183992637484683,1.1184599011461407,1.0592831356401937,0.04909605784286992,0.0490338970942655,-1.5413799533062233,-0.6846783116080516,0.28934161302670924,-1.5812189138833908,-0.551058815311809,-0.14210452149120745,1.132681638282884,-1.4845447509762713,0.7275497759426459,-0.9247206532943602,-0.10781768148384203],\"yaxis\":\"y3\",\"type\":\"scatter\"},{\"line\":{\"color\":\"rgba(128, 128, 128, 1.0)\",\"dash\":\"solid\",\"shape\":\"linear\",\"width\":1.3},\"marker\":{\"size\":2,\"symbol\":\"circle\"},\"mode\":\"markers\",\"name\":\"A\",\"text\":\"\",\"x\":[0.411724521970622,-0.8000732251239695,-0.5823566131410723,-0.5857337896662608,-0.4219711566665966,0.04283996998504896,-0.9855758156712042,2.9007985561812544,-1.1899520984503331,1.713676165776391,0.02619044992030263,0.542728988308099,0.017455810907856386,1.6737744863963797,0.25935713642881164,-0.13067253155400987,1.2032075496959809,0.035797859606884,-0.8220651724957111,-0.9560703164189802,1.9529022560668132,2.2604514000263505,1.1783937668792193,2.4632188038938496,-1.4696005411993347,-0.21461441752304578,-0.5777839915139291,-0.436639864934878,-0.24005658413034367,0.1423439476529609,-0.5076402080294065,-0.584785390156653,0.07035751168862707,-0.654351397812607,0.9920183607436488,-1.1458325135351948,-2.6811067773442097,-0.5099053666276699,-0.27901737525377746,-0.2743497170577263,-0.1052384592182562,0.37618284337287267,0.9748066051872398,1.182846746139367,0.17997186061687998,-0.7507440198460564,-0.17319629631470432,0.21279541901038748,0.21904064512408344,1.8524652487363291,1.2241602234226943,-0.0391277899166953,-1.5553823166836684,-2.316853271122791,-0.048747490727946215,-1.0766380525460097,0.999525107605847,0.6820761261078453,-0.47729960705370694,-0.6643026213103974,-0.4421862122976522,-0.2271913441358957,0.38321953406222414,1.551597294216807,0.8722300079950615,0.7278991410642184,-0.8480850852140075,-1.0223627185995299,-0.07655486975424775,-0.028389663719147775,-1.1826913046514616,0.49908994479823143,0.23501381663109017,0.7095194483139694,0.355061427532842,-0.38317592356798463,0.5526545544398631,-0.913168920346793,-0.5313266299059057,-1.0610130851841248,-0.1356154941327158,0.19815912084389403,-0.861274657399313,-0.15579630846333647,0.15760047931045323,0.5524226332574209,-0.7784323195400733,0.5500019167958924,-0.5474402807398899,-0.5783469759331317,-0.0378719346451878,2.031122211931684,0.3133891650163439,-2.9298125318930857,-1.6153514669178302,-0.23648859478273493,-1.3995052532076473,0.2887587059717741,0.07542297746214613,-2.8010769123215984],\"xaxis\":\"x4\",\"y\":[0.9483710285820001,-0.16435447117281413,0.6477051568801235,-2.273255312123948,-0.19536853035988794,-0.2118342237334965,1.969900103972678,-0.1496270218197629,-0.007020860163975405,0.4772917949028792,-2.296838980325794,-0.37000166265522116,0.34406523866400957,-0.29030028397892893,0.6878914949832962,0.5433316282880948,-0.40987022829918446,-0.3508115673844667,-0.3559125754431757,-1.1483952719332804,-0.8767453817952463,1.92278265358688,0.5770428505914557,0.02435312488294865,1.4107386803936892,-0.06322763639530866,-0.01795897935142888,-0.18530147911972034,-0.3659190731162389,1.3165523507978518,-0.792171042599313,-0.1554692689441983,-1.8409931154929848,0.1764468915089469,-0.30909415815164737,1.0632814501247938,0.26234545224339956,-1.5873657519214601,-1.6473598175363953,-0.6318463303111566,1.0543085403294332,1.246304011828692,-0.21144922670508443,-0.23589096320737366,-0.09395250356688174,0.0707249247579655,-0.6400009901335901,1.351331165453697,-1.1313727968282254,-0.7647615927907178,-0.8079994094244998,1.5607430028744744,-0.3620125847729232,1.6051928605447752,-0.2644213070910263,0.15301454089392363,-1.384940783808886,0.9569667644612428,1.0098032757966096,0.05981939777514478,-0.4063321066711721,-0.10489950599416006,0.4405417746248789,1.5885797975649483,-0.2123877545633354,0.7896146361235454,-0.25786433842463086,1.1631727044468283,0.8893538473792952,-0.605977484901111,-2.2759457922899493,-0.30667550908424834,-0.8241615883865696,-0.812670431832529,0.33268905472604193,0.23563136424290237,0.4578026499023031,0.7315995846678012,-1.7286130927550594,-0.24475898061728274,0.04932267359327156,0.09850376427288944,0.886720450911329,-0.17577082586457415,1.6183992637484683,1.1184599011461407,1.0592831356401937,0.04909605784286992,0.0490338970942655,-1.5413799533062233,-0.6846783116080516,0.28934161302670924,-1.5812189138833908,-0.551058815311809,-0.14210452149120745,1.132681638282884,-1.4845447509762713,0.7275497759426459,-0.9247206532943602,-0.10781768148384203],\"yaxis\":\"y4\",\"type\":\"scatter\"},{\"line\":{\"color\":\"rgba(128, 128, 128, 1.0)\",\"dash\":\"solid\",\"shape\":\"linear\",\"width\":1.3},\"marker\":{\"size\":2,\"symbol\":\"circle\"},\"mode\":\"markers\",\"name\":\"B\",\"text\":\"\",\"x\":[0.9483710285820001,-0.16435447117281413,0.6477051568801235,-2.273255312123948,-0.19536853035988794,-0.2118342237334965,1.969900103972678,-0.1496270218197629,-0.007020860163975405,0.4772917949028792,-2.296838980325794,-0.37000166265522116,0.34406523866400957,-0.29030028397892893,0.6878914949832962,0.5433316282880948,-0.40987022829918446,-0.3508115673844667,-0.3559125754431757,-1.1483952719332804,-0.8767453817952463,1.92278265358688,0.5770428505914557,0.02435312488294865,1.4107386803936892,-0.06322763639530866,-0.01795897935142888,-0.18530147911972034,-0.3659190731162389,1.3165523507978518,-0.792171042599313,-0.1554692689441983,-1.8409931154929848,0.1764468915089469,-0.30909415815164737,1.0632814501247938,0.26234545224339956,-1.5873657519214601,-1.6473598175363953,-0.6318463303111566,1.0543085403294332,1.246304011828692,-0.21144922670508443,-0.23589096320737366,-0.09395250356688174,0.0707249247579655,-0.6400009901335901,1.351331165453697,-1.1313727968282254,-0.7647615927907178,-0.8079994094244998,1.5607430028744744,-0.3620125847729232,1.6051928605447752,-0.2644213070910263,0.15301454089392363,-1.384940783808886,0.9569667644612428,1.0098032757966096,0.05981939777514478,-0.4063321066711721,-0.10489950599416006,0.4405417746248789,1.5885797975649483,-0.2123877545633354,0.7896146361235454,-0.25786433842463086,1.1631727044468283,0.8893538473792952,-0.605977484901111,-2.2759457922899493,-0.30667550908424834,-0.8241615883865696,-0.812670431832529,0.33268905472604193,0.23563136424290237,0.4578026499023031,0.7315995846678012,-1.7286130927550594,-0.24475898061728274,0.04932267359327156,0.09850376427288944,0.886720450911329,-0.17577082586457415,1.6183992637484683,1.1184599011461407,1.0592831356401937,0.04909605784286992,0.0490338970942655,-1.5413799533062233,-0.6846783116080516,0.28934161302670924,-1.5812189138833908,-0.551058815311809,-0.14210452149120745,1.132681638282884,-1.4845447509762713,0.7275497759426459,-0.9247206532943602,-0.10781768148384203],\"xaxis\":\"x5\",\"y\":[0.6951956068812144,0.49725417558382046,0.6087143272319379,0.10112467773010585,2.323613568869922,-0.24534012165281577,-1.588981039176941,0.5649426863896487,-1.061003385941566,1.046139137247561,-1.429030819194681,-0.6721985390439421,0.7446491237600207,-1.194499495828478,-0.22504824095902065,-0.3974007034506707,1.536542067477092,-0.39250064016403163,0.9523164329683868,-1.8573519129338643,1.3006210941603213,-0.5528283250328027,-0.6977698963321508,1.2942172706712607,-1.1549871293902265,0.25272725615392627,0.8445125936973771,-2.4699306276453563,-0.31190850791083896,1.2259265317416355,0.48418414451155,0.5649252815461252,0.14138713508186163,1.938355457479299,-1.0465970402655622,-1.3816713931096485,-0.8790836945117418,-0.8016568421156806,-0.03807425182074729,1.512011476372494,-0.358844527962155,1.7906226715812434,0.696488767895237,-0.2677337901158682,1.3042993099547446,-0.32026858309367945,-0.07720683218039519,-0.634742010310217,0.7603041907311168,1.5805588555198649,-0.1989611304897986,0.7220453059317153,0.5692340768872667,-0.25156765622962063,0.8092358452271889,1.0885470599932183,0.45062822224819526,-0.013762313193872652,0.5912886501401902,-0.7423096218981617,0.9382882421920437,0.08293536258955617,0.8345857880588031,-0.716795511109764,0.36263691765918415,-0.9270008736821341,-0.6838395828920901,0.8694508382211932,-0.2347351263121534,1.8793424244484218,-1.269768586915114,0.5573369027699515,0.6817476354328097,-0.20346366467539387,0.21314857289525754,-0.30799604434693434,0.366574150799827,2.171757651011116,-0.8840881683355313,-0.1636449694274178,-1.266223369167309,-0.7745833709493388,0.6283851977513192,1.2378303894503486,0.5122696947240207,-0.9102284691228753,-0.619141770208701,1.0581714210855506,-1.7158268206733926,-1.3392909615359103,-0.1580198932356279,0.711646018189122,0.8383109344980673,-0.2850035136230021,0.007760260934558799,0.3489907751758173,0.06754387559919373,-1.6012150819873734,0.6283008119768948,-0.7677935023498129],\"yaxis\":\"y5\",\"type\":\"scatter\"},{\"histfunc\":\"count\",\"histnorm\":\"\",\"marker\":{\"color\":\"rgba(55, 128, 191, 1.0)\",\"line\":{\"color\":\"#4D5663\",\"width\":1.3}},\"name\":\"B\",\"nbinsx\":10,\"opacity\":0.8,\"orientation\":\"v\",\"x\":[0.6951956068812144,0.49725417558382046,0.6087143272319379,0.10112467773010585,2.323613568869922,-0.24534012165281577,-1.588981039176941,0.5649426863896487,-1.061003385941566,1.046139137247561,-1.429030819194681,-0.6721985390439421,0.7446491237600207,-1.194499495828478,-0.22504824095902065,-0.3974007034506707,1.536542067477092,-0.39250064016403163,0.9523164329683868,-1.8573519129338643,1.3006210941603213,-0.5528283250328027,-0.6977698963321508,1.2942172706712607,-1.1549871293902265,0.25272725615392627,0.8445125936973771,-2.4699306276453563,-0.31190850791083896,1.2259265317416355,0.48418414451155,0.5649252815461252,0.14138713508186163,1.938355457479299,-1.0465970402655622,-1.3816713931096485,-0.8790836945117418,-0.8016568421156806,-0.03807425182074729,1.512011476372494,-0.358844527962155,1.7906226715812434,0.696488767895237,-0.2677337901158682,1.3042993099547446,-0.32026858309367945,-0.07720683218039519,-0.634742010310217,0.7603041907311168,1.5805588555198649,-0.1989611304897986,0.7220453059317153,0.5692340768872667,-0.25156765622962063,0.8092358452271889,1.0885470599932183,0.45062822224819526,-0.013762313193872652,0.5912886501401902,-0.7423096218981617,0.9382882421920437,0.08293536258955617,0.8345857880588031,-0.716795511109764,0.36263691765918415,-0.9270008736821341,-0.6838395828920901,0.8694508382211932,-0.2347351263121534,1.8793424244484218,-1.269768586915114,0.5573369027699515,0.6817476354328097,-0.20346366467539387,0.21314857289525754,-0.30799604434693434,0.366574150799827,2.171757651011116,-0.8840881683355313,-0.1636449694274178,-1.266223369167309,-0.7745833709493388,0.6283851977513192,1.2378303894503486,0.5122696947240207,-0.9102284691228753,-0.619141770208701,1.0581714210855506,-1.7158268206733926,-1.3392909615359103,-0.1580198932356279,0.711646018189122,0.8383109344980673,-0.2850035136230021,0.007760260934558799,0.3489907751758173,0.06754387559919373,-1.6012150819873734,0.6283008119768948,-0.7677935023498129],\"xaxis\":\"x6\",\"yaxis\":\"y6\",\"type\":\"histogram\"},{\"line\":{\"color\":\"rgba(128, 128, 128, 1.0)\",\"dash\":\"solid\",\"shape\":\"linear\",\"width\":1.3},\"marker\":{\"size\":2,\"symbol\":\"circle\"},\"mode\":\"markers\",\"name\":\"B\",\"text\":\"\",\"x\":[2.3120647498890845,-0.10844376718298135,0.49603694482045774,0.7029068935199622,0.33767586675516464,-0.3273942819094764,1.2910422644623754,-0.7280629942713662,-0.37948453567552576,-0.5075785585881247,0.7648412974132406,-0.34317556764828144,0.11167798409441208,1.2650984620862653,0.766761605724421,0.31955712666768243,-0.45891956640233755,-2.229721280031838,0.01375682566020346,-0.4184960839369062,-2.1354010328905866,-0.13595787316665328,-0.6074707709920614,0.23270802075036562,-0.8617204033782296,-1.1187483859844616,0.3655407036427369,1.3654646400459185,-0.5596958133724508,-0.20408541579895417,0.281380033365303,-0.9243321452113985,-1.2111859491646975,0.09379968704457334,-1.5012917548880185,-0.05862200358089037,-0.04718778502607619,-0.3242110428858523,-0.42527238807371115,-1.3679909676319204,1.8964567090068993,1.1885395823157534,-1.6920389323236837,1.3690654618438791,-1.6081745725857974,0.3808873876934197,1.5738398069809034,-0.16572277462275684,0.0717220500585075,0.33127683623696824,-0.5500698627042598,0.056776562191795034,1.1227764428347549,-0.7754774339956455,1.7504723294180942,-0.4018102332597638,-1.4640165953696878,-0.20503167430574165,-0.6365151172486725,1.3042113446387575,0.4603219669807841,0.23090188921472082,0.9700529693362641,0.16945282621225663,1.4802168937634455,0.0675260202312709,-0.1417359478016793,-0.23862574364672587,-0.2971032547170577,1.9106529557426482,-0.8743882521198557,-0.33819483933678207,-0.485591209095817,-0.5822230924675388,0.6659479730280735,-0.13675089264516105,-0.7035031932660262,-0.7071924291775493,0.9297246362993715,0.1126782792369145,0.5394383808318713,1.1745838261097399,-0.22509705230926447,-1.1797416296682188,-0.3237660238142024,1.7144677087925255,-0.6451368128462501,-1.486807554637661,0.152008246741144,-0.0042176350596296605,-1.0532979193695557,1.9416343610971065,-1.6342423293973727,-1.173615402945359,0.23446925202851698,-0.10348752353806556,0.44166541120995817,-1.754087775175577,0.5208903066785237,-0.9495706932847503],\"xaxis\":\"x7\",\"y\":[0.6951956068812144,0.49725417558382046,0.6087143272319379,0.10112467773010585,2.323613568869922,-0.24534012165281577,-1.588981039176941,0.5649426863896487,-1.061003385941566,1.046139137247561,-1.429030819194681,-0.6721985390439421,0.7446491237600207,-1.194499495828478,-0.22504824095902065,-0.3974007034506707,1.536542067477092,-0.39250064016403163,0.9523164329683868,-1.8573519129338643,1.3006210941603213,-0.5528283250328027,-0.6977698963321508,1.2942172706712607,-1.1549871293902265,0.25272725615392627,0.8445125936973771,-2.4699306276453563,-0.31190850791083896,1.2259265317416355,0.48418414451155,0.5649252815461252,0.14138713508186163,1.938355457479299,-1.0465970402655622,-1.3816713931096485,-0.8790836945117418,-0.8016568421156806,-0.03807425182074729,1.512011476372494,-0.358844527962155,1.7906226715812434,0.696488767895237,-0.2677337901158682,1.3042993099547446,-0.32026858309367945,-0.07720683218039519,-0.634742010310217,0.7603041907311168,1.5805588555198649,-0.1989611304897986,0.7220453059317153,0.5692340768872667,-0.25156765622962063,0.8092358452271889,1.0885470599932183,0.45062822224819526,-0.013762313193872652,0.5912886501401902,-0.7423096218981617,0.9382882421920437,0.08293536258955617,0.8345857880588031,-0.716795511109764,0.36263691765918415,-0.9270008736821341,-0.6838395828920901,0.8694508382211932,-0.2347351263121534,1.8793424244484218,-1.269768586915114,0.5573369027699515,0.6817476354328097,-0.20346366467539387,0.21314857289525754,-0.30799604434693434,0.366574150799827,2.171757651011116,-0.8840881683355313,-0.1636449694274178,-1.266223369167309,-0.7745833709493388,0.6283851977513192,1.2378303894503486,0.5122696947240207,-0.9102284691228753,-0.619141770208701,1.0581714210855506,-1.7158268206733926,-1.3392909615359103,-0.1580198932356279,0.711646018189122,0.8383109344980673,-0.2850035136230021,0.007760260934558799,0.3489907751758173,0.06754387559919373,-1.6012150819873734,0.6283008119768948,-0.7677935023498129],\"yaxis\":\"y7\",\"type\":\"scatter\"},{\"line\":{\"color\":\"rgba(128, 128, 128, 1.0)\",\"dash\":\"solid\",\"shape\":\"linear\",\"width\":1.3},\"marker\":{\"size\":2,\"symbol\":\"circle\"},\"mode\":\"markers\",\"name\":\"B\",\"text\":\"\",\"x\":[0.411724521970622,-0.8000732251239695,-0.5823566131410723,-0.5857337896662608,-0.4219711566665966,0.04283996998504896,-0.9855758156712042,2.9007985561812544,-1.1899520984503331,1.713676165776391,0.02619044992030263,0.542728988308099,0.017455810907856386,1.6737744863963797,0.25935713642881164,-0.13067253155400987,1.2032075496959809,0.035797859606884,-0.8220651724957111,-0.9560703164189802,1.9529022560668132,2.2604514000263505,1.1783937668792193,2.4632188038938496,-1.4696005411993347,-0.21461441752304578,-0.5777839915139291,-0.436639864934878,-0.24005658413034367,0.1423439476529609,-0.5076402080294065,-0.584785390156653,0.07035751168862707,-0.654351397812607,0.9920183607436488,-1.1458325135351948,-2.6811067773442097,-0.5099053666276699,-0.27901737525377746,-0.2743497170577263,-0.1052384592182562,0.37618284337287267,0.9748066051872398,1.182846746139367,0.17997186061687998,-0.7507440198460564,-0.17319629631470432,0.21279541901038748,0.21904064512408344,1.8524652487363291,1.2241602234226943,-0.0391277899166953,-1.5553823166836684,-2.316853271122791,-0.048747490727946215,-1.0766380525460097,0.999525107605847,0.6820761261078453,-0.47729960705370694,-0.6643026213103974,-0.4421862122976522,-0.2271913441358957,0.38321953406222414,1.551597294216807,0.8722300079950615,0.7278991410642184,-0.8480850852140075,-1.0223627185995299,-0.07655486975424775,-0.028389663719147775,-1.1826913046514616,0.49908994479823143,0.23501381663109017,0.7095194483139694,0.355061427532842,-0.38317592356798463,0.5526545544398631,-0.913168920346793,-0.5313266299059057,-1.0610130851841248,-0.1356154941327158,0.19815912084389403,-0.861274657399313,-0.15579630846333647,0.15760047931045323,0.5524226332574209,-0.7784323195400733,0.5500019167958924,-0.5474402807398899,-0.5783469759331317,-0.0378719346451878,2.031122211931684,0.3133891650163439,-2.9298125318930857,-1.6153514669178302,-0.23648859478273493,-1.3995052532076473,0.2887587059717741,0.07542297746214613,-2.8010769123215984],\"xaxis\":\"x8\",\"y\":[0.6951956068812144,0.49725417558382046,0.6087143272319379,0.10112467773010585,2.323613568869922,-0.24534012165281577,-1.588981039176941,0.5649426863896487,-1.061003385941566,1.046139137247561,-1.429030819194681,-0.6721985390439421,0.7446491237600207,-1.194499495828478,-0.22504824095902065,-0.3974007034506707,1.536542067477092,-0.39250064016403163,0.9523164329683868,-1.8573519129338643,1.3006210941603213,-0.5528283250328027,-0.6977698963321508,1.2942172706712607,-1.1549871293902265,0.25272725615392627,0.8445125936973771,-2.4699306276453563,-0.31190850791083896,1.2259265317416355,0.48418414451155,0.5649252815461252,0.14138713508186163,1.938355457479299,-1.0465970402655622,-1.3816713931096485,-0.8790836945117418,-0.8016568421156806,-0.03807425182074729,1.512011476372494,-0.358844527962155,1.7906226715812434,0.696488767895237,-0.2677337901158682,1.3042993099547446,-0.32026858309367945,-0.07720683218039519,-0.634742010310217,0.7603041907311168,1.5805588555198649,-0.1989611304897986,0.7220453059317153,0.5692340768872667,-0.25156765622962063,0.8092358452271889,1.0885470599932183,0.45062822224819526,-0.013762313193872652,0.5912886501401902,-0.7423096218981617,0.9382882421920437,0.08293536258955617,0.8345857880588031,-0.716795511109764,0.36263691765918415,-0.9270008736821341,-0.6838395828920901,0.8694508382211932,-0.2347351263121534,1.8793424244484218,-1.269768586915114,0.5573369027699515,0.6817476354328097,-0.20346366467539387,0.21314857289525754,-0.30799604434693434,0.366574150799827,2.171757651011116,-0.8840881683355313,-0.1636449694274178,-1.266223369167309,-0.7745833709493388,0.6283851977513192,1.2378303894503486,0.5122696947240207,-0.9102284691228753,-0.619141770208701,1.0581714210855506,-1.7158268206733926,-1.3392909615359103,-0.1580198932356279,0.711646018189122,0.8383109344980673,-0.2850035136230021,0.007760260934558799,0.3489907751758173,0.06754387559919373,-1.6012150819873734,0.6283008119768948,-0.7677935023498129],\"yaxis\":\"y8\",\"type\":\"scatter\"},{\"line\":{\"color\":\"rgba(128, 128, 128, 1.0)\",\"dash\":\"solid\",\"shape\":\"linear\",\"width\":1.3},\"marker\":{\"size\":2,\"symbol\":\"circle\"},\"mode\":\"markers\",\"name\":\"C\",\"text\":\"\",\"x\":[0.9483710285820001,-0.16435447117281413,0.6477051568801235,-2.273255312123948,-0.19536853035988794,-0.2118342237334965,1.969900103972678,-0.1496270218197629,-0.007020860163975405,0.4772917949028792,-2.296838980325794,-0.37000166265522116,0.34406523866400957,-0.29030028397892893,0.6878914949832962,0.5433316282880948,-0.40987022829918446,-0.3508115673844667,-0.3559125754431757,-1.1483952719332804,-0.8767453817952463,1.92278265358688,0.5770428505914557,0.02435312488294865,1.4107386803936892,-0.06322763639530866,-0.01795897935142888,-0.18530147911972034,-0.3659190731162389,1.3165523507978518,-0.792171042599313,-0.1554692689441983,-1.8409931154929848,0.1764468915089469,-0.30909415815164737,1.0632814501247938,0.26234545224339956,-1.5873657519214601,-1.6473598175363953,-0.6318463303111566,1.0543085403294332,1.246304011828692,-0.21144922670508443,-0.23589096320737366,-0.09395250356688174,0.0707249247579655,-0.6400009901335901,1.351331165453697,-1.1313727968282254,-0.7647615927907178,-0.8079994094244998,1.5607430028744744,-0.3620125847729232,1.6051928605447752,-0.2644213070910263,0.15301454089392363,-1.384940783808886,0.9569667644612428,1.0098032757966096,0.05981939777514478,-0.4063321066711721,-0.10489950599416006,0.4405417746248789,1.5885797975649483,-0.2123877545633354,0.7896146361235454,-0.25786433842463086,1.1631727044468283,0.8893538473792952,-0.605977484901111,-2.2759457922899493,-0.30667550908424834,-0.8241615883865696,-0.812670431832529,0.33268905472604193,0.23563136424290237,0.4578026499023031,0.7315995846678012,-1.7286130927550594,-0.24475898061728274,0.04932267359327156,0.09850376427288944,0.886720450911329,-0.17577082586457415,1.6183992637484683,1.1184599011461407,1.0592831356401937,0.04909605784286992,0.0490338970942655,-1.5413799533062233,-0.6846783116080516,0.28934161302670924,-1.5812189138833908,-0.551058815311809,-0.14210452149120745,1.132681638282884,-1.4845447509762713,0.7275497759426459,-0.9247206532943602,-0.10781768148384203],\"xaxis\":\"x9\",\"y\":[2.3120647498890845,-0.10844376718298135,0.49603694482045774,0.7029068935199622,0.33767586675516464,-0.3273942819094764,1.2910422644623754,-0.7280629942713662,-0.37948453567552576,-0.5075785585881247,0.7648412974132406,-0.34317556764828144,0.11167798409441208,1.2650984620862653,0.766761605724421,0.31955712666768243,-0.45891956640233755,-2.229721280031838,0.01375682566020346,-0.4184960839369062,-2.1354010328905866,-0.13595787316665328,-0.6074707709920614,0.23270802075036562,-0.8617204033782296,-1.1187483859844616,0.3655407036427369,1.3654646400459185,-0.5596958133724508,-0.20408541579895417,0.281380033365303,-0.9243321452113985,-1.2111859491646975,0.09379968704457334,-1.5012917548880185,-0.05862200358089037,-0.04718778502607619,-0.3242110428858523,-0.42527238807371115,-1.3679909676319204,1.8964567090068993,1.1885395823157534,-1.6920389323236837,1.3690654618438791,-1.6081745725857974,0.3808873876934197,1.5738398069809034,-0.16572277462275684,0.0717220500585075,0.33127683623696824,-0.5500698627042598,0.056776562191795034,1.1227764428347549,-0.7754774339956455,1.7504723294180942,-0.4018102332597638,-1.4640165953696878,-0.20503167430574165,-0.6365151172486725,1.3042113446387575,0.4603219669807841,0.23090188921472082,0.9700529693362641,0.16945282621225663,1.4802168937634455,0.0675260202312709,-0.1417359478016793,-0.23862574364672587,-0.2971032547170577,1.9106529557426482,-0.8743882521198557,-0.33819483933678207,-0.485591209095817,-0.5822230924675388,0.6659479730280735,-0.13675089264516105,-0.7035031932660262,-0.7071924291775493,0.9297246362993715,0.1126782792369145,0.5394383808318713,1.1745838261097399,-0.22509705230926447,-1.1797416296682188,-0.3237660238142024,1.7144677087925255,-0.6451368128462501,-1.486807554637661,0.152008246741144,-0.0042176350596296605,-1.0532979193695557,1.9416343610971065,-1.6342423293973727,-1.173615402945359,0.23446925202851698,-0.10348752353806556,0.44166541120995817,-1.754087775175577,0.5208903066785237,-0.9495706932847503],\"yaxis\":\"y9\",\"type\":\"scatter\"},{\"line\":{\"color\":\"rgba(128, 128, 128, 1.0)\",\"dash\":\"solid\",\"shape\":\"linear\",\"width\":1.3},\"marker\":{\"size\":2,\"symbol\":\"circle\"},\"mode\":\"markers\",\"name\":\"C\",\"text\":\"\",\"x\":[0.6951956068812144,0.49725417558382046,0.6087143272319379,0.10112467773010585,2.323613568869922,-0.24534012165281577,-1.588981039176941,0.5649426863896487,-1.061003385941566,1.046139137247561,-1.429030819194681,-0.6721985390439421,0.7446491237600207,-1.194499495828478,-0.22504824095902065,-0.3974007034506707,1.536542067477092,-0.39250064016403163,0.9523164329683868,-1.8573519129338643,1.3006210941603213,-0.5528283250328027,-0.6977698963321508,1.2942172706712607,-1.1549871293902265,0.25272725615392627,0.8445125936973771,-2.4699306276453563,-0.31190850791083896,1.2259265317416355,0.48418414451155,0.5649252815461252,0.14138713508186163,1.938355457479299,-1.0465970402655622,-1.3816713931096485,-0.8790836945117418,-0.8016568421156806,-0.03807425182074729,1.512011476372494,-0.358844527962155,1.7906226715812434,0.696488767895237,-0.2677337901158682,1.3042993099547446,-0.32026858309367945,-0.07720683218039519,-0.634742010310217,0.7603041907311168,1.5805588555198649,-0.1989611304897986,0.7220453059317153,0.5692340768872667,-0.25156765622962063,0.8092358452271889,1.0885470599932183,0.45062822224819526,-0.013762313193872652,0.5912886501401902,-0.7423096218981617,0.9382882421920437,0.08293536258955617,0.8345857880588031,-0.716795511109764,0.36263691765918415,-0.9270008736821341,-0.6838395828920901,0.8694508382211932,-0.2347351263121534,1.8793424244484218,-1.269768586915114,0.5573369027699515,0.6817476354328097,-0.20346366467539387,0.21314857289525754,-0.30799604434693434,0.366574150799827,2.171757651011116,-0.8840881683355313,-0.1636449694274178,-1.266223369167309,-0.7745833709493388,0.6283851977513192,1.2378303894503486,0.5122696947240207,-0.9102284691228753,-0.619141770208701,1.0581714210855506,-1.7158268206733926,-1.3392909615359103,-0.1580198932356279,0.711646018189122,0.8383109344980673,-0.2850035136230021,0.007760260934558799,0.3489907751758173,0.06754387559919373,-1.6012150819873734,0.6283008119768948,-0.7677935023498129],\"xaxis\":\"x10\",\"y\":[2.3120647498890845,-0.10844376718298135,0.49603694482045774,0.7029068935199622,0.33767586675516464,-0.3273942819094764,1.2910422644623754,-0.7280629942713662,-0.37948453567552576,-0.5075785585881247,0.7648412974132406,-0.34317556764828144,0.11167798409441208,1.2650984620862653,0.766761605724421,0.31955712666768243,-0.45891956640233755,-2.229721280031838,0.01375682566020346,-0.4184960839369062,-2.1354010328905866,-0.13595787316665328,-0.6074707709920614,0.23270802075036562,-0.8617204033782296,-1.1187483859844616,0.3655407036427369,1.3654646400459185,-0.5596958133724508,-0.20408541579895417,0.281380033365303,-0.9243321452113985,-1.2111859491646975,0.09379968704457334,-1.5012917548880185,-0.05862200358089037,-0.04718778502607619,-0.3242110428858523,-0.42527238807371115,-1.3679909676319204,1.8964567090068993,1.1885395823157534,-1.6920389323236837,1.3690654618438791,-1.6081745725857974,0.3808873876934197,1.5738398069809034,-0.16572277462275684,0.0717220500585075,0.33127683623696824,-0.5500698627042598,0.056776562191795034,1.1227764428347549,-0.7754774339956455,1.7504723294180942,-0.4018102332597638,-1.4640165953696878,-0.20503167430574165,-0.6365151172486725,1.3042113446387575,0.4603219669807841,0.23090188921472082,0.9700529693362641,0.16945282621225663,1.4802168937634455,0.0675260202312709,-0.1417359478016793,-0.23862574364672587,-0.2971032547170577,1.9106529557426482,-0.8743882521198557,-0.33819483933678207,-0.485591209095817,-0.5822230924675388,0.6659479730280735,-0.13675089264516105,-0.7035031932660262,-0.7071924291775493,0.9297246362993715,0.1126782792369145,0.5394383808318713,1.1745838261097399,-0.22509705230926447,-1.1797416296682188,-0.3237660238142024,1.7144677087925255,-0.6451368128462501,-1.486807554637661,0.152008246741144,-0.0042176350596296605,-1.0532979193695557,1.9416343610971065,-1.6342423293973727,-1.173615402945359,0.23446925202851698,-0.10348752353806556,0.44166541120995817,-1.754087775175577,0.5208903066785237,-0.9495706932847503],\"yaxis\":\"y10\",\"type\":\"scatter\"},{\"histfunc\":\"count\",\"histnorm\":\"\",\"marker\":{\"color\":\"rgba(50, 171, 96, 1.0)\",\"line\":{\"color\":\"#4D5663\",\"width\":1.3}},\"name\":\"C\",\"nbinsx\":10,\"opacity\":0.8,\"orientation\":\"v\",\"x\":[2.3120647498890845,-0.10844376718298135,0.49603694482045774,0.7029068935199622,0.33767586675516464,-0.3273942819094764,1.2910422644623754,-0.7280629942713662,-0.37948453567552576,-0.5075785585881247,0.7648412974132406,-0.34317556764828144,0.11167798409441208,1.2650984620862653,0.766761605724421,0.31955712666768243,-0.45891956640233755,-2.229721280031838,0.01375682566020346,-0.4184960839369062,-2.1354010328905866,-0.13595787316665328,-0.6074707709920614,0.23270802075036562,-0.8617204033782296,-1.1187483859844616,0.3655407036427369,1.3654646400459185,-0.5596958133724508,-0.20408541579895417,0.281380033365303,-0.9243321452113985,-1.2111859491646975,0.09379968704457334,-1.5012917548880185,-0.05862200358089037,-0.04718778502607619,-0.3242110428858523,-0.42527238807371115,-1.3679909676319204,1.8964567090068993,1.1885395823157534,-1.6920389323236837,1.3690654618438791,-1.6081745725857974,0.3808873876934197,1.5738398069809034,-0.16572277462275684,0.0717220500585075,0.33127683623696824,-0.5500698627042598,0.056776562191795034,1.1227764428347549,-0.7754774339956455,1.7504723294180942,-0.4018102332597638,-1.4640165953696878,-0.20503167430574165,-0.6365151172486725,1.3042113446387575,0.4603219669807841,0.23090188921472082,0.9700529693362641,0.16945282621225663,1.4802168937634455,0.0675260202312709,-0.1417359478016793,-0.23862574364672587,-0.2971032547170577,1.9106529557426482,-0.8743882521198557,-0.33819483933678207,-0.485591209095817,-0.5822230924675388,0.6659479730280735,-0.13675089264516105,-0.7035031932660262,-0.7071924291775493,0.9297246362993715,0.1126782792369145,0.5394383808318713,1.1745838261097399,-0.22509705230926447,-1.1797416296682188,-0.3237660238142024,1.7144677087925255,-0.6451368128462501,-1.486807554637661,0.152008246741144,-0.0042176350596296605,-1.0532979193695557,1.9416343610971065,-1.6342423293973727,-1.173615402945359,0.23446925202851698,-0.10348752353806556,0.44166541120995817,-1.754087775175577,0.5208903066785237,-0.9495706932847503],\"xaxis\":\"x11\",\"yaxis\":\"y11\",\"type\":\"histogram\"},{\"line\":{\"color\":\"rgba(128, 128, 128, 1.0)\",\"dash\":\"solid\",\"shape\":\"linear\",\"width\":1.3},\"marker\":{\"size\":2,\"symbol\":\"circle\"},\"mode\":\"markers\",\"name\":\"C\",\"text\":\"\",\"x\":[0.411724521970622,-0.8000732251239695,-0.5823566131410723,-0.5857337896662608,-0.4219711566665966,0.04283996998504896,-0.9855758156712042,2.9007985561812544,-1.1899520984503331,1.713676165776391,0.02619044992030263,0.542728988308099,0.017455810907856386,1.6737744863963797,0.25935713642881164,-0.13067253155400987,1.2032075496959809,0.035797859606884,-0.8220651724957111,-0.9560703164189802,1.9529022560668132,2.2604514000263505,1.1783937668792193,2.4632188038938496,-1.4696005411993347,-0.21461441752304578,-0.5777839915139291,-0.436639864934878,-0.24005658413034367,0.1423439476529609,-0.5076402080294065,-0.584785390156653,0.07035751168862707,-0.654351397812607,0.9920183607436488,-1.1458325135351948,-2.6811067773442097,-0.5099053666276699,-0.27901737525377746,-0.2743497170577263,-0.1052384592182562,0.37618284337287267,0.9748066051872398,1.182846746139367,0.17997186061687998,-0.7507440198460564,-0.17319629631470432,0.21279541901038748,0.21904064512408344,1.8524652487363291,1.2241602234226943,-0.0391277899166953,-1.5553823166836684,-2.316853271122791,-0.048747490727946215,-1.0766380525460097,0.999525107605847,0.6820761261078453,-0.47729960705370694,-0.6643026213103974,-0.4421862122976522,-0.2271913441358957,0.38321953406222414,1.551597294216807,0.8722300079950615,0.7278991410642184,-0.8480850852140075,-1.0223627185995299,-0.07655486975424775,-0.028389663719147775,-1.1826913046514616,0.49908994479823143,0.23501381663109017,0.7095194483139694,0.355061427532842,-0.38317592356798463,0.5526545544398631,-0.913168920346793,-0.5313266299059057,-1.0610130851841248,-0.1356154941327158,0.19815912084389403,-0.861274657399313,-0.15579630846333647,0.15760047931045323,0.5524226332574209,-0.7784323195400733,0.5500019167958924,-0.5474402807398899,-0.5783469759331317,-0.0378719346451878,2.031122211931684,0.3133891650163439,-2.9298125318930857,-1.6153514669178302,-0.23648859478273493,-1.3995052532076473,0.2887587059717741,0.07542297746214613,-2.8010769123215984],\"xaxis\":\"x12\",\"y\":[2.3120647498890845,-0.10844376718298135,0.49603694482045774,0.7029068935199622,0.33767586675516464,-0.3273942819094764,1.2910422644623754,-0.7280629942713662,-0.37948453567552576,-0.5075785585881247,0.7648412974132406,-0.34317556764828144,0.11167798409441208,1.2650984620862653,0.766761605724421,0.31955712666768243,-0.45891956640233755,-2.229721280031838,0.01375682566020346,-0.4184960839369062,-2.1354010328905866,-0.13595787316665328,-0.6074707709920614,0.23270802075036562,-0.8617204033782296,-1.1187483859844616,0.3655407036427369,1.3654646400459185,-0.5596958133724508,-0.20408541579895417,0.281380033365303,-0.9243321452113985,-1.2111859491646975,0.09379968704457334,-1.5012917548880185,-0.05862200358089037,-0.04718778502607619,-0.3242110428858523,-0.42527238807371115,-1.3679909676319204,1.8964567090068993,1.1885395823157534,-1.6920389323236837,1.3690654618438791,-1.6081745725857974,0.3808873876934197,1.5738398069809034,-0.16572277462275684,0.0717220500585075,0.33127683623696824,-0.5500698627042598,0.056776562191795034,1.1227764428347549,-0.7754774339956455,1.7504723294180942,-0.4018102332597638,-1.4640165953696878,-0.20503167430574165,-0.6365151172486725,1.3042113446387575,0.4603219669807841,0.23090188921472082,0.9700529693362641,0.16945282621225663,1.4802168937634455,0.0675260202312709,-0.1417359478016793,-0.23862574364672587,-0.2971032547170577,1.9106529557426482,-0.8743882521198557,-0.33819483933678207,-0.485591209095817,-0.5822230924675388,0.6659479730280735,-0.13675089264516105,-0.7035031932660262,-0.7071924291775493,0.9297246362993715,0.1126782792369145,0.5394383808318713,1.1745838261097399,-0.22509705230926447,-1.1797416296682188,-0.3237660238142024,1.7144677087925255,-0.6451368128462501,-1.486807554637661,0.152008246741144,-0.0042176350596296605,-1.0532979193695557,1.9416343610971065,-1.6342423293973727,-1.173615402945359,0.23446925202851698,-0.10348752353806556,0.44166541120995817,-1.754087775175577,0.5208903066785237,-0.9495706932847503],\"yaxis\":\"y12\",\"type\":\"scatter\"},{\"line\":{\"color\":\"rgba(128, 128, 128, 1.0)\",\"dash\":\"solid\",\"shape\":\"linear\",\"width\":1.3},\"marker\":{\"size\":2,\"symbol\":\"circle\"},\"mode\":\"markers\",\"name\":\"D\",\"text\":\"\",\"x\":[0.9483710285820001,-0.16435447117281413,0.6477051568801235,-2.273255312123948,-0.19536853035988794,-0.2118342237334965,1.969900103972678,-0.1496270218197629,-0.007020860163975405,0.4772917949028792,-2.296838980325794,-0.37000166265522116,0.34406523866400957,-0.29030028397892893,0.6878914949832962,0.5433316282880948,-0.40987022829918446,-0.3508115673844667,-0.3559125754431757,-1.1483952719332804,-0.8767453817952463,1.92278265358688,0.5770428505914557,0.02435312488294865,1.4107386803936892,-0.06322763639530866,-0.01795897935142888,-0.18530147911972034,-0.3659190731162389,1.3165523507978518,-0.792171042599313,-0.1554692689441983,-1.8409931154929848,0.1764468915089469,-0.30909415815164737,1.0632814501247938,0.26234545224339956,-1.5873657519214601,-1.6473598175363953,-0.6318463303111566,1.0543085403294332,1.246304011828692,-0.21144922670508443,-0.23589096320737366,-0.09395250356688174,0.0707249247579655,-0.6400009901335901,1.351331165453697,-1.1313727968282254,-0.7647615927907178,-0.8079994094244998,1.5607430028744744,-0.3620125847729232,1.6051928605447752,-0.2644213070910263,0.15301454089392363,-1.384940783808886,0.9569667644612428,1.0098032757966096,0.05981939777514478,-0.4063321066711721,-0.10489950599416006,0.4405417746248789,1.5885797975649483,-0.2123877545633354,0.7896146361235454,-0.25786433842463086,1.1631727044468283,0.8893538473792952,-0.605977484901111,-2.2759457922899493,-0.30667550908424834,-0.8241615883865696,-0.812670431832529,0.33268905472604193,0.23563136424290237,0.4578026499023031,0.7315995846678012,-1.7286130927550594,-0.24475898061728274,0.04932267359327156,0.09850376427288944,0.886720450911329,-0.17577082586457415,1.6183992637484683,1.1184599011461407,1.0592831356401937,0.04909605784286992,0.0490338970942655,-1.5413799533062233,-0.6846783116080516,0.28934161302670924,-1.5812189138833908,-0.551058815311809,-0.14210452149120745,1.132681638282884,-1.4845447509762713,0.7275497759426459,-0.9247206532943602,-0.10781768148384203],\"xaxis\":\"x13\",\"y\":[0.411724521970622,-0.8000732251239695,-0.5823566131410723,-0.5857337896662608,-0.4219711566665966,0.04283996998504896,-0.9855758156712042,2.9007985561812544,-1.1899520984503331,1.713676165776391,0.02619044992030263,0.542728988308099,0.017455810907856386,1.6737744863963797,0.25935713642881164,-0.13067253155400987,1.2032075496959809,0.035797859606884,-0.8220651724957111,-0.9560703164189802,1.9529022560668132,2.2604514000263505,1.1783937668792193,2.4632188038938496,-1.4696005411993347,-0.21461441752304578,-0.5777839915139291,-0.436639864934878,-0.24005658413034367,0.1423439476529609,-0.5076402080294065,-0.584785390156653,0.07035751168862707,-0.654351397812607,0.9920183607436488,-1.1458325135351948,-2.6811067773442097,-0.5099053666276699,-0.27901737525377746,-0.2743497170577263,-0.1052384592182562,0.37618284337287267,0.9748066051872398,1.182846746139367,0.17997186061687998,-0.7507440198460564,-0.17319629631470432,0.21279541901038748,0.21904064512408344,1.8524652487363291,1.2241602234226943,-0.0391277899166953,-1.5553823166836684,-2.316853271122791,-0.048747490727946215,-1.0766380525460097,0.999525107605847,0.6820761261078453,-0.47729960705370694,-0.6643026213103974,-0.4421862122976522,-0.2271913441358957,0.38321953406222414,1.551597294216807,0.8722300079950615,0.7278991410642184,-0.8480850852140075,-1.0223627185995299,-0.07655486975424775,-0.028389663719147775,-1.1826913046514616,0.49908994479823143,0.23501381663109017,0.7095194483139694,0.355061427532842,-0.38317592356798463,0.5526545544398631,-0.913168920346793,-0.5313266299059057,-1.0610130851841248,-0.1356154941327158,0.19815912084389403,-0.861274657399313,-0.15579630846333647,0.15760047931045323,0.5524226332574209,-0.7784323195400733,0.5500019167958924,-0.5474402807398899,-0.5783469759331317,-0.0378719346451878,2.031122211931684,0.3133891650163439,-2.9298125318930857,-1.6153514669178302,-0.23648859478273493,-1.3995052532076473,0.2887587059717741,0.07542297746214613,-2.8010769123215984],\"yaxis\":\"y13\",\"type\":\"scatter\"},{\"line\":{\"color\":\"rgba(128, 128, 128, 1.0)\",\"dash\":\"solid\",\"shape\":\"linear\",\"width\":1.3},\"marker\":{\"size\":2,\"symbol\":\"circle\"},\"mode\":\"markers\",\"name\":\"D\",\"text\":\"\",\"x\":[0.6951956068812144,0.49725417558382046,0.6087143272319379,0.10112467773010585,2.323613568869922,-0.24534012165281577,-1.588981039176941,0.5649426863896487,-1.061003385941566,1.046139137247561,-1.429030819194681,-0.6721985390439421,0.7446491237600207,-1.194499495828478,-0.22504824095902065,-0.3974007034506707,1.536542067477092,-0.39250064016403163,0.9523164329683868,-1.8573519129338643,1.3006210941603213,-0.5528283250328027,-0.6977698963321508,1.2942172706712607,-1.1549871293902265,0.25272725615392627,0.8445125936973771,-2.4699306276453563,-0.31190850791083896,1.2259265317416355,0.48418414451155,0.5649252815461252,0.14138713508186163,1.938355457479299,-1.0465970402655622,-1.3816713931096485,-0.8790836945117418,-0.8016568421156806,-0.03807425182074729,1.512011476372494,-0.358844527962155,1.7906226715812434,0.696488767895237,-0.2677337901158682,1.3042993099547446,-0.32026858309367945,-0.07720683218039519,-0.634742010310217,0.7603041907311168,1.5805588555198649,-0.1989611304897986,0.7220453059317153,0.5692340768872667,-0.25156765622962063,0.8092358452271889,1.0885470599932183,0.45062822224819526,-0.013762313193872652,0.5912886501401902,-0.7423096218981617,0.9382882421920437,0.08293536258955617,0.8345857880588031,-0.716795511109764,0.36263691765918415,-0.9270008736821341,-0.6838395828920901,0.8694508382211932,-0.2347351263121534,1.8793424244484218,-1.269768586915114,0.5573369027699515,0.6817476354328097,-0.20346366467539387,0.21314857289525754,-0.30799604434693434,0.366574150799827,2.171757651011116,-0.8840881683355313,-0.1636449694274178,-1.266223369167309,-0.7745833709493388,0.6283851977513192,1.2378303894503486,0.5122696947240207,-0.9102284691228753,-0.619141770208701,1.0581714210855506,-1.7158268206733926,-1.3392909615359103,-0.1580198932356279,0.711646018189122,0.8383109344980673,-0.2850035136230021,0.007760260934558799,0.3489907751758173,0.06754387559919373,-1.6012150819873734,0.6283008119768948,-0.7677935023498129],\"xaxis\":\"x14\",\"y\":[0.411724521970622,-0.8000732251239695,-0.5823566131410723,-0.5857337896662608,-0.4219711566665966,0.04283996998504896,-0.9855758156712042,2.9007985561812544,-1.1899520984503331,1.713676165776391,0.02619044992030263,0.542728988308099,0.017455810907856386,1.6737744863963797,0.25935713642881164,-0.13067253155400987,1.2032075496959809,0.035797859606884,-0.8220651724957111,-0.9560703164189802,1.9529022560668132,2.2604514000263505,1.1783937668792193,2.4632188038938496,-1.4696005411993347,-0.21461441752304578,-0.5777839915139291,-0.436639864934878,-0.24005658413034367,0.1423439476529609,-0.5076402080294065,-0.584785390156653,0.07035751168862707,-0.654351397812607,0.9920183607436488,-1.1458325135351948,-2.6811067773442097,-0.5099053666276699,-0.27901737525377746,-0.2743497170577263,-0.1052384592182562,0.37618284337287267,0.9748066051872398,1.182846746139367,0.17997186061687998,-0.7507440198460564,-0.17319629631470432,0.21279541901038748,0.21904064512408344,1.8524652487363291,1.2241602234226943,-0.0391277899166953,-1.5553823166836684,-2.316853271122791,-0.048747490727946215,-1.0766380525460097,0.999525107605847,0.6820761261078453,-0.47729960705370694,-0.6643026213103974,-0.4421862122976522,-0.2271913441358957,0.38321953406222414,1.551597294216807,0.8722300079950615,0.7278991410642184,-0.8480850852140075,-1.0223627185995299,-0.07655486975424775,-0.028389663719147775,-1.1826913046514616,0.49908994479823143,0.23501381663109017,0.7095194483139694,0.355061427532842,-0.38317592356798463,0.5526545544398631,-0.913168920346793,-0.5313266299059057,-1.0610130851841248,-0.1356154941327158,0.19815912084389403,-0.861274657399313,-0.15579630846333647,0.15760047931045323,0.5524226332574209,-0.7784323195400733,0.5500019167958924,-0.5474402807398899,-0.5783469759331317,-0.0378719346451878,2.031122211931684,0.3133891650163439,-2.9298125318930857,-1.6153514669178302,-0.23648859478273493,-1.3995052532076473,0.2887587059717741,0.07542297746214613,-2.8010769123215984],\"yaxis\":\"y14\",\"type\":\"scatter\"},{\"line\":{\"color\":\"rgba(128, 128, 128, 1.0)\",\"dash\":\"solid\",\"shape\":\"linear\",\"width\":1.3},\"marker\":{\"size\":2,\"symbol\":\"circle\"},\"mode\":\"markers\",\"name\":\"D\",\"text\":\"\",\"x\":[2.3120647498890845,-0.10844376718298135,0.49603694482045774,0.7029068935199622,0.33767586675516464,-0.3273942819094764,1.2910422644623754,-0.7280629942713662,-0.37948453567552576,-0.5075785585881247,0.7648412974132406,-0.34317556764828144,0.11167798409441208,1.2650984620862653,0.766761605724421,0.31955712666768243,-0.45891956640233755,-2.229721280031838,0.01375682566020346,-0.4184960839369062,-2.1354010328905866,-0.13595787316665328,-0.6074707709920614,0.23270802075036562,-0.8617204033782296,-1.1187483859844616,0.3655407036427369,1.3654646400459185,-0.5596958133724508,-0.20408541579895417,0.281380033365303,-0.9243321452113985,-1.2111859491646975,0.09379968704457334,-1.5012917548880185,-0.05862200358089037,-0.04718778502607619,-0.3242110428858523,-0.42527238807371115,-1.3679909676319204,1.8964567090068993,1.1885395823157534,-1.6920389323236837,1.3690654618438791,-1.6081745725857974,0.3808873876934197,1.5738398069809034,-0.16572277462275684,0.0717220500585075,0.33127683623696824,-0.5500698627042598,0.056776562191795034,1.1227764428347549,-0.7754774339956455,1.7504723294180942,-0.4018102332597638,-1.4640165953696878,-0.20503167430574165,-0.6365151172486725,1.3042113446387575,0.4603219669807841,0.23090188921472082,0.9700529693362641,0.16945282621225663,1.4802168937634455,0.0675260202312709,-0.1417359478016793,-0.23862574364672587,-0.2971032547170577,1.9106529557426482,-0.8743882521198557,-0.33819483933678207,-0.485591209095817,-0.5822230924675388,0.6659479730280735,-0.13675089264516105,-0.7035031932660262,-0.7071924291775493,0.9297246362993715,0.1126782792369145,0.5394383808318713,1.1745838261097399,-0.22509705230926447,-1.1797416296682188,-0.3237660238142024,1.7144677087925255,-0.6451368128462501,-1.486807554637661,0.152008246741144,-0.0042176350596296605,-1.0532979193695557,1.9416343610971065,-1.6342423293973727,-1.173615402945359,0.23446925202851698,-0.10348752353806556,0.44166541120995817,-1.754087775175577,0.5208903066785237,-0.9495706932847503],\"xaxis\":\"x15\",\"y\":[0.411724521970622,-0.8000732251239695,-0.5823566131410723,-0.5857337896662608,-0.4219711566665966,0.04283996998504896,-0.9855758156712042,2.9007985561812544,-1.1899520984503331,1.713676165776391,0.02619044992030263,0.542728988308099,0.017455810907856386,1.6737744863963797,0.25935713642881164,-0.13067253155400987,1.2032075496959809,0.035797859606884,-0.8220651724957111,-0.9560703164189802,1.9529022560668132,2.2604514000263505,1.1783937668792193,2.4632188038938496,-1.4696005411993347,-0.21461441752304578,-0.5777839915139291,-0.436639864934878,-0.24005658413034367,0.1423439476529609,-0.5076402080294065,-0.584785390156653,0.07035751168862707,-0.654351397812607,0.9920183607436488,-1.1458325135351948,-2.6811067773442097,-0.5099053666276699,-0.27901737525377746,-0.2743497170577263,-0.1052384592182562,0.37618284337287267,0.9748066051872398,1.182846746139367,0.17997186061687998,-0.7507440198460564,-0.17319629631470432,0.21279541901038748,0.21904064512408344,1.8524652487363291,1.2241602234226943,-0.0391277899166953,-1.5553823166836684,-2.316853271122791,-0.048747490727946215,-1.0766380525460097,0.999525107605847,0.6820761261078453,-0.47729960705370694,-0.6643026213103974,-0.4421862122976522,-0.2271913441358957,0.38321953406222414,1.551597294216807,0.8722300079950615,0.7278991410642184,-0.8480850852140075,-1.0223627185995299,-0.07655486975424775,-0.028389663719147775,-1.1826913046514616,0.49908994479823143,0.23501381663109017,0.7095194483139694,0.355061427532842,-0.38317592356798463,0.5526545544398631,-0.913168920346793,-0.5313266299059057,-1.0610130851841248,-0.1356154941327158,0.19815912084389403,-0.861274657399313,-0.15579630846333647,0.15760047931045323,0.5524226332574209,-0.7784323195400733,0.5500019167958924,-0.5474402807398899,-0.5783469759331317,-0.0378719346451878,2.031122211931684,0.3133891650163439,-2.9298125318930857,-1.6153514669178302,-0.23648859478273493,-1.3995052532076473,0.2887587059717741,0.07542297746214613,-2.8010769123215984],\"yaxis\":\"y15\",\"type\":\"scatter\"},{\"histfunc\":\"count\",\"histnorm\":\"\",\"marker\":{\"color\":\"rgba(128, 0, 128, 1.0)\",\"line\":{\"color\":\"#4D5663\",\"width\":1.3}},\"name\":\"D\",\"nbinsx\":10,\"opacity\":0.8,\"orientation\":\"v\",\"x\":[0.411724521970622,-0.8000732251239695,-0.5823566131410723,-0.5857337896662608,-0.4219711566665966,0.04283996998504896,-0.9855758156712042,2.9007985561812544,-1.1899520984503331,1.713676165776391,0.02619044992030263,0.542728988308099,0.017455810907856386,1.6737744863963797,0.25935713642881164,-0.13067253155400987,1.2032075496959809,0.035797859606884,-0.8220651724957111,-0.9560703164189802,1.9529022560668132,2.2604514000263505,1.1783937668792193,2.4632188038938496,-1.4696005411993347,-0.21461441752304578,-0.5777839915139291,-0.436639864934878,-0.24005658413034367,0.1423439476529609,-0.5076402080294065,-0.584785390156653,0.07035751168862707,-0.654351397812607,0.9920183607436488,-1.1458325135351948,-2.6811067773442097,-0.5099053666276699,-0.27901737525377746,-0.2743497170577263,-0.1052384592182562,0.37618284337287267,0.9748066051872398,1.182846746139367,0.17997186061687998,-0.7507440198460564,-0.17319629631470432,0.21279541901038748,0.21904064512408344,1.8524652487363291,1.2241602234226943,-0.0391277899166953,-1.5553823166836684,-2.316853271122791,-0.048747490727946215,-1.0766380525460097,0.999525107605847,0.6820761261078453,-0.47729960705370694,-0.6643026213103974,-0.4421862122976522,-0.2271913441358957,0.38321953406222414,1.551597294216807,0.8722300079950615,0.7278991410642184,-0.8480850852140075,-1.0223627185995299,-0.07655486975424775,-0.028389663719147775,-1.1826913046514616,0.49908994479823143,0.23501381663109017,0.7095194483139694,0.355061427532842,-0.38317592356798463,0.5526545544398631,-0.913168920346793,-0.5313266299059057,-1.0610130851841248,-0.1356154941327158,0.19815912084389403,-0.861274657399313,-0.15579630846333647,0.15760047931045323,0.5524226332574209,-0.7784323195400733,0.5500019167958924,-0.5474402807398899,-0.5783469759331317,-0.0378719346451878,2.031122211931684,0.3133891650163439,-2.9298125318930857,-1.6153514669178302,-0.23648859478273493,-1.3995052532076473,0.2887587059717741,0.07542297746214613,-2.8010769123215984],\"xaxis\":\"x16\",\"yaxis\":\"y16\",\"type\":\"histogram\"}],                        {\"bargap\":0.02,\"legend\":{\"bgcolor\":\"#F5F6F9\",\"font\":{\"color\":\"#4D5663\"}},\"paper_bgcolor\":\"#F5F6F9\",\"plot_bgcolor\":\"#F5F6F9\",\"showlegend\":false,\"template\":{\"data\":{\"barpolar\":[{\"marker\":{\"line\":{\"color\":\"#E5ECF6\",\"width\":0.5},\"pattern\":{\"fillmode\":\"overlay\",\"size\":10,\"solidity\":0.2}},\"type\":\"barpolar\"}],\"bar\":[{\"error_x\":{\"color\":\"#2a3f5f\"},\"error_y\":{\"color\":\"#2a3f5f\"},\"marker\":{\"line\":{\"color\":\"#E5ECF6\",\"width\":0.5},\"pattern\":{\"fillmode\":\"overlay\",\"size\":10,\"solidity\":0.2}},\"type\":\"bar\"}],\"carpet\":[{\"aaxis\":{\"endlinecolor\":\"#2a3f5f\",\"gridcolor\":\"white\",\"linecolor\":\"white\",\"minorgridcolor\":\"white\",\"startlinecolor\":\"#2a3f5f\"},\"baxis\":{\"endlinecolor\":\"#2a3f5f\",\"gridcolor\":\"white\",\"linecolor\":\"white\",\"minorgridcolor\":\"white\",\"startlinecolor\":\"#2a3f5f\"},\"type\":\"carpet\"}],\"choropleth\":[{\"colorbar\":{\"outlinewidth\":0,\"ticks\":\"\"},\"type\":\"choropleth\"}],\"contourcarpet\":[{\"colorbar\":{\"outlinewidth\":0,\"ticks\":\"\"},\"type\":\"contourcarpet\"}],\"contour\":[{\"colorbar\":{\"outlinewidth\":0,\"ticks\":\"\"},\"colorscale\":[[0.0,\"#0d0887\"],[0.1111111111111111,\"#46039f\"],[0.2222222222222222,\"#7201a8\"],[0.3333333333333333,\"#9c179e\"],[0.4444444444444444,\"#bd3786\"],[0.5555555555555556,\"#d8576b\"],[0.6666666666666666,\"#ed7953\"],[0.7777777777777778,\"#fb9f3a\"],[0.8888888888888888,\"#fdca26\"],[1.0,\"#f0f921\"]],\"type\":\"contour\"}],\"heatmapgl\":[{\"colorbar\":{\"outlinewidth\":0,\"ticks\":\"\"},\"colorscale\":[[0.0,\"#0d0887\"],[0.1111111111111111,\"#46039f\"],[0.2222222222222222,\"#7201a8\"],[0.3333333333333333,\"#9c179e\"],[0.4444444444444444,\"#bd3786\"],[0.5555555555555556,\"#d8576b\"],[0.6666666666666666,\"#ed7953\"],[0.7777777777777778,\"#fb9f3a\"],[0.8888888888888888,\"#fdca26\"],[1.0,\"#f0f921\"]],\"type\":\"heatmapgl\"}],\"heatmap\":[{\"colorbar\":{\"outlinewidth\":0,\"ticks\":\"\"},\"colorscale\":[[0.0,\"#0d0887\"],[0.1111111111111111,\"#46039f\"],[0.2222222222222222,\"#7201a8\"],[0.3333333333333333,\"#9c179e\"],[0.4444444444444444,\"#bd3786\"],[0.5555555555555556,\"#d8576b\"],[0.6666666666666666,\"#ed7953\"],[0.7777777777777778,\"#fb9f3a\"],[0.8888888888888888,\"#fdca26\"],[1.0,\"#f0f921\"]],\"type\":\"heatmap\"}],\"histogram2dcontour\":[{\"colorbar\":{\"outlinewidth\":0,\"ticks\":\"\"},\"colorscale\":[[0.0,\"#0d0887\"],[0.1111111111111111,\"#46039f\"],[0.2222222222222222,\"#7201a8\"],[0.3333333333333333,\"#9c179e\"],[0.4444444444444444,\"#bd3786\"],[0.5555555555555556,\"#d8576b\"],[0.6666666666666666,\"#ed7953\"],[0.7777777777777778,\"#fb9f3a\"],[0.8888888888888888,\"#fdca26\"],[1.0,\"#f0f921\"]],\"type\":\"histogram2dcontour\"}],\"histogram2d\":[{\"colorbar\":{\"outlinewidth\":0,\"ticks\":\"\"},\"colorscale\":[[0.0,\"#0d0887\"],[0.1111111111111111,\"#46039f\"],[0.2222222222222222,\"#7201a8\"],[0.3333333333333333,\"#9c179e\"],[0.4444444444444444,\"#bd3786\"],[0.5555555555555556,\"#d8576b\"],[0.6666666666666666,\"#ed7953\"],[0.7777777777777778,\"#fb9f3a\"],[0.8888888888888888,\"#fdca26\"],[1.0,\"#f0f921\"]],\"type\":\"histogram2d\"}],\"histogram\":[{\"marker\":{\"pattern\":{\"fillmode\":\"overlay\",\"size\":10,\"solidity\":0.2}},\"type\":\"histogram\"}],\"mesh3d\":[{\"colorbar\":{\"outlinewidth\":0,\"ticks\":\"\"},\"type\":\"mesh3d\"}],\"parcoords\":[{\"line\":{\"colorbar\":{\"outlinewidth\":0,\"ticks\":\"\"}},\"type\":\"parcoords\"}],\"pie\":[{\"automargin\":true,\"type\":\"pie\"}],\"scatter3d\":[{\"line\":{\"colorbar\":{\"outlinewidth\":0,\"ticks\":\"\"}},\"marker\":{\"colorbar\":{\"outlinewidth\":0,\"ticks\":\"\"}},\"type\":\"scatter3d\"}],\"scattercarpet\":[{\"marker\":{\"colorbar\":{\"outlinewidth\":0,\"ticks\":\"\"}},\"type\":\"scattercarpet\"}],\"scattergeo\":[{\"marker\":{\"colorbar\":{\"outlinewidth\":0,\"ticks\":\"\"}},\"type\":\"scattergeo\"}],\"scattergl\":[{\"marker\":{\"colorbar\":{\"outlinewidth\":0,\"ticks\":\"\"}},\"type\":\"scattergl\"}],\"scattermapbox\":[{\"marker\":{\"colorbar\":{\"outlinewidth\":0,\"ticks\":\"\"}},\"type\":\"scattermapbox\"}],\"scatterpolargl\":[{\"marker\":{\"colorbar\":{\"outlinewidth\":0,\"ticks\":\"\"}},\"type\":\"scatterpolargl\"}],\"scatterpolar\":[{\"marker\":{\"colorbar\":{\"outlinewidth\":0,\"ticks\":\"\"}},\"type\":\"scatterpolar\"}],\"scatter\":[{\"fillpattern\":{\"fillmode\":\"overlay\",\"size\":10,\"solidity\":0.2},\"type\":\"scatter\"}],\"scatterternary\":[{\"marker\":{\"colorbar\":{\"outlinewidth\":0,\"ticks\":\"\"}},\"type\":\"scatterternary\"}],\"surface\":[{\"colorbar\":{\"outlinewidth\":0,\"ticks\":\"\"},\"colorscale\":[[0.0,\"#0d0887\"],[0.1111111111111111,\"#46039f\"],[0.2222222222222222,\"#7201a8\"],[0.3333333333333333,\"#9c179e\"],[0.4444444444444444,\"#bd3786\"],[0.5555555555555556,\"#d8576b\"],[0.6666666666666666,\"#ed7953\"],[0.7777777777777778,\"#fb9f3a\"],[0.8888888888888888,\"#fdca26\"],[1.0,\"#f0f921\"]],\"type\":\"surface\"}],\"table\":[{\"cells\":{\"fill\":{\"color\":\"#EBF0F8\"},\"line\":{\"color\":\"white\"}},\"header\":{\"fill\":{\"color\":\"#C8D4E3\"},\"line\":{\"color\":\"white\"}},\"type\":\"table\"}]},\"layout\":{\"annotationdefaults\":{\"arrowcolor\":\"#2a3f5f\",\"arrowhead\":0,\"arrowwidth\":1},\"autotypenumbers\":\"strict\",\"coloraxis\":{\"colorbar\":{\"outlinewidth\":0,\"ticks\":\"\"}},\"colorscale\":{\"diverging\":[[0,\"#8e0152\"],[0.1,\"#c51b7d\"],[0.2,\"#de77ae\"],[0.3,\"#f1b6da\"],[0.4,\"#fde0ef\"],[0.5,\"#f7f7f7\"],[0.6,\"#e6f5d0\"],[0.7,\"#b8e186\"],[0.8,\"#7fbc41\"],[0.9,\"#4d9221\"],[1,\"#276419\"]],\"sequential\":[[0.0,\"#0d0887\"],[0.1111111111111111,\"#46039f\"],[0.2222222222222222,\"#7201a8\"],[0.3333333333333333,\"#9c179e\"],[0.4444444444444444,\"#bd3786\"],[0.5555555555555556,\"#d8576b\"],[0.6666666666666666,\"#ed7953\"],[0.7777777777777778,\"#fb9f3a\"],[0.8888888888888888,\"#fdca26\"],[1.0,\"#f0f921\"]],\"sequentialminus\":[[0.0,\"#0d0887\"],[0.1111111111111111,\"#46039f\"],[0.2222222222222222,\"#7201a8\"],[0.3333333333333333,\"#9c179e\"],[0.4444444444444444,\"#bd3786\"],[0.5555555555555556,\"#d8576b\"],[0.6666666666666666,\"#ed7953\"],[0.7777777777777778,\"#fb9f3a\"],[0.8888888888888888,\"#fdca26\"],[1.0,\"#f0f921\"]]},\"colorway\":[\"#636efa\",\"#EF553B\",\"#00cc96\",\"#ab63fa\",\"#FFA15A\",\"#19d3f3\",\"#FF6692\",\"#B6E880\",\"#FF97FF\",\"#FECB52\"],\"font\":{\"color\":\"#2a3f5f\"},\"geo\":{\"bgcolor\":\"white\",\"lakecolor\":\"white\",\"landcolor\":\"#E5ECF6\",\"showlakes\":true,\"showland\":true,\"subunitcolor\":\"white\"},\"hoverlabel\":{\"align\":\"left\"},\"hovermode\":\"closest\",\"mapbox\":{\"style\":\"light\"},\"paper_bgcolor\":\"white\",\"plot_bgcolor\":\"#E5ECF6\",\"polar\":{\"angularaxis\":{\"gridcolor\":\"white\",\"linecolor\":\"white\",\"ticks\":\"\"},\"bgcolor\":\"#E5ECF6\",\"radialaxis\":{\"gridcolor\":\"white\",\"linecolor\":\"white\",\"ticks\":\"\"}},\"scene\":{\"xaxis\":{\"backgroundcolor\":\"#E5ECF6\",\"gridcolor\":\"white\",\"gridwidth\":2,\"linecolor\":\"white\",\"showbackground\":true,\"ticks\":\"\",\"zerolinecolor\":\"white\"},\"yaxis\":{\"backgroundcolor\":\"#E5ECF6\",\"gridcolor\":\"white\",\"gridwidth\":2,\"linecolor\":\"white\",\"showbackground\":true,\"ticks\":\"\",\"zerolinecolor\":\"white\"},\"zaxis\":{\"backgroundcolor\":\"#E5ECF6\",\"gridcolor\":\"white\",\"gridwidth\":2,\"linecolor\":\"white\",\"showbackground\":true,\"ticks\":\"\",\"zerolinecolor\":\"white\"}},\"shapedefaults\":{\"line\":{\"color\":\"#2a3f5f\"}},\"ternary\":{\"aaxis\":{\"gridcolor\":\"white\",\"linecolor\":\"white\",\"ticks\":\"\"},\"baxis\":{\"gridcolor\":\"white\",\"linecolor\":\"white\",\"ticks\":\"\"},\"bgcolor\":\"#E5ECF6\",\"caxis\":{\"gridcolor\":\"white\",\"linecolor\":\"white\",\"ticks\":\"\"}},\"title\":{\"x\":0.05},\"xaxis\":{\"automargin\":true,\"gridcolor\":\"white\",\"linecolor\":\"white\",\"ticks\":\"\",\"title\":{\"standoff\":15},\"zerolinecolor\":\"white\",\"zerolinewidth\":2},\"yaxis\":{\"automargin\":true,\"gridcolor\":\"white\",\"linecolor\":\"white\",\"ticks\":\"\",\"title\":{\"standoff\":15},\"zerolinecolor\":\"white\",\"zerolinewidth\":2}}},\"title\":{\"font\":{\"color\":\"#4D5663\"}},\"xaxis\":{\"anchor\":\"y\",\"domain\":[0.0,0.2125],\"gridcolor\":\"#E1E5ED\",\"showgrid\":false,\"tickfont\":{\"color\":\"#4D5663\"},\"title\":{\"font\":{\"color\":\"#4D5663\"},\"text\":\"\"},\"zerolinecolor\":\"#E1E5ED\"},\"yaxis\":{\"anchor\":\"x\",\"domain\":[0.8025,1.0],\"gridcolor\":\"#E1E5ED\",\"showgrid\":false,\"tickfont\":{\"color\":\"#4D5663\"},\"title\":{\"font\":{\"color\":\"#4D5663\"},\"text\":\"\"},\"zerolinecolor\":\"#E1E5ED\"},\"xaxis2\":{\"anchor\":\"y2\",\"domain\":[0.2625,0.475],\"gridcolor\":\"#E1E5ED\",\"showgrid\":false,\"tickfont\":{\"color\":\"#4D5663\"},\"title\":{\"font\":{\"color\":\"#4D5663\"},\"text\":\"\"},\"zerolinecolor\":\"#E1E5ED\"},\"yaxis2\":{\"anchor\":\"x2\",\"domain\":[0.8025,1.0],\"gridcolor\":\"#E1E5ED\",\"showgrid\":false,\"tickfont\":{\"color\":\"#4D5663\"},\"title\":{\"font\":{\"color\":\"#4D5663\"},\"text\":\"\"},\"zerolinecolor\":\"#E1E5ED\"},\"xaxis3\":{\"anchor\":\"y3\",\"domain\":[0.525,0.7375],\"gridcolor\":\"#E1E5ED\",\"showgrid\":false,\"tickfont\":{\"color\":\"#4D5663\"},\"title\":{\"font\":{\"color\":\"#4D5663\"},\"text\":\"\"},\"zerolinecolor\":\"#E1E5ED\"},\"yaxis3\":{\"anchor\":\"x3\",\"domain\":[0.8025,1.0],\"gridcolor\":\"#E1E5ED\",\"showgrid\":false,\"tickfont\":{\"color\":\"#4D5663\"},\"title\":{\"font\":{\"color\":\"#4D5663\"},\"text\":\"\"},\"zerolinecolor\":\"#E1E5ED\"},\"xaxis4\":{\"anchor\":\"y4\",\"domain\":[0.7875,1.0],\"gridcolor\":\"#E1E5ED\",\"showgrid\":false,\"tickfont\":{\"color\":\"#4D5663\"},\"title\":{\"font\":{\"color\":\"#4D5663\"},\"text\":\"\"},\"zerolinecolor\":\"#E1E5ED\"},\"yaxis4\":{\"anchor\":\"x4\",\"domain\":[0.8025,1.0],\"gridcolor\":\"#E1E5ED\",\"showgrid\":false,\"tickfont\":{\"color\":\"#4D5663\"},\"title\":{\"font\":{\"color\":\"#4D5663\"},\"text\":\"\"},\"zerolinecolor\":\"#E1E5ED\"},\"xaxis5\":{\"anchor\":\"y5\",\"domain\":[0.0,0.2125],\"gridcolor\":\"#E1E5ED\",\"showgrid\":false,\"tickfont\":{\"color\":\"#4D5663\"},\"title\":{\"font\":{\"color\":\"#4D5663\"},\"text\":\"\"},\"zerolinecolor\":\"#E1E5ED\"},\"yaxis5\":{\"anchor\":\"x5\",\"domain\":[0.535,0.7325],\"gridcolor\":\"#E1E5ED\",\"showgrid\":false,\"tickfont\":{\"color\":\"#4D5663\"},\"title\":{\"font\":{\"color\":\"#4D5663\"},\"text\":\"\"},\"zerolinecolor\":\"#E1E5ED\"},\"xaxis6\":{\"anchor\":\"y6\",\"domain\":[0.2625,0.475],\"gridcolor\":\"#E1E5ED\",\"showgrid\":false,\"tickfont\":{\"color\":\"#4D5663\"},\"title\":{\"font\":{\"color\":\"#4D5663\"},\"text\":\"\"},\"zerolinecolor\":\"#E1E5ED\"},\"yaxis6\":{\"anchor\":\"x6\",\"domain\":[0.535,0.7325],\"gridcolor\":\"#E1E5ED\",\"showgrid\":false,\"tickfont\":{\"color\":\"#4D5663\"},\"title\":{\"font\":{\"color\":\"#4D5663\"},\"text\":\"\"},\"zerolinecolor\":\"#E1E5ED\"},\"xaxis7\":{\"anchor\":\"y7\",\"domain\":[0.525,0.7375],\"gridcolor\":\"#E1E5ED\",\"showgrid\":false,\"tickfont\":{\"color\":\"#4D5663\"},\"title\":{\"font\":{\"color\":\"#4D5663\"},\"text\":\"\"},\"zerolinecolor\":\"#E1E5ED\"},\"yaxis7\":{\"anchor\":\"x7\",\"domain\":[0.535,0.7325],\"gridcolor\":\"#E1E5ED\",\"showgrid\":false,\"tickfont\":{\"color\":\"#4D5663\"},\"title\":{\"font\":{\"color\":\"#4D5663\"},\"text\":\"\"},\"zerolinecolor\":\"#E1E5ED\"},\"xaxis8\":{\"anchor\":\"y8\",\"domain\":[0.7875,1.0],\"gridcolor\":\"#E1E5ED\",\"showgrid\":false,\"tickfont\":{\"color\":\"#4D5663\"},\"title\":{\"font\":{\"color\":\"#4D5663\"},\"text\":\"\"},\"zerolinecolor\":\"#E1E5ED\"},\"yaxis8\":{\"anchor\":\"x8\",\"domain\":[0.535,0.7325],\"gridcolor\":\"#E1E5ED\",\"showgrid\":false,\"tickfont\":{\"color\":\"#4D5663\"},\"title\":{\"font\":{\"color\":\"#4D5663\"},\"text\":\"\"},\"zerolinecolor\":\"#E1E5ED\"},\"xaxis9\":{\"anchor\":\"y9\",\"domain\":[0.0,0.2125],\"gridcolor\":\"#E1E5ED\",\"showgrid\":false,\"tickfont\":{\"color\":\"#4D5663\"},\"title\":{\"font\":{\"color\":\"#4D5663\"},\"text\":\"\"},\"zerolinecolor\":\"#E1E5ED\"},\"yaxis9\":{\"anchor\":\"x9\",\"domain\":[0.2675,0.465],\"gridcolor\":\"#E1E5ED\",\"showgrid\":false,\"tickfont\":{\"color\":\"#4D5663\"},\"title\":{\"font\":{\"color\":\"#4D5663\"},\"text\":\"\"},\"zerolinecolor\":\"#E1E5ED\"},\"xaxis10\":{\"anchor\":\"y10\",\"domain\":[0.2625,0.475],\"gridcolor\":\"#E1E5ED\",\"showgrid\":false,\"tickfont\":{\"color\":\"#4D5663\"},\"title\":{\"font\":{\"color\":\"#4D5663\"},\"text\":\"\"},\"zerolinecolor\":\"#E1E5ED\"},\"yaxis10\":{\"anchor\":\"x10\",\"domain\":[0.2675,0.465],\"gridcolor\":\"#E1E5ED\",\"showgrid\":false,\"tickfont\":{\"color\":\"#4D5663\"},\"title\":{\"font\":{\"color\":\"#4D5663\"},\"text\":\"\"},\"zerolinecolor\":\"#E1E5ED\"},\"xaxis11\":{\"anchor\":\"y11\",\"domain\":[0.525,0.7375],\"gridcolor\":\"#E1E5ED\",\"showgrid\":false,\"tickfont\":{\"color\":\"#4D5663\"},\"title\":{\"font\":{\"color\":\"#4D5663\"},\"text\":\"\"},\"zerolinecolor\":\"#E1E5ED\"},\"yaxis11\":{\"anchor\":\"x11\",\"domain\":[0.2675,0.465],\"gridcolor\":\"#E1E5ED\",\"showgrid\":false,\"tickfont\":{\"color\":\"#4D5663\"},\"title\":{\"font\":{\"color\":\"#4D5663\"},\"text\":\"\"},\"zerolinecolor\":\"#E1E5ED\"},\"xaxis12\":{\"anchor\":\"y12\",\"domain\":[0.7875,1.0],\"gridcolor\":\"#E1E5ED\",\"showgrid\":false,\"tickfont\":{\"color\":\"#4D5663\"},\"title\":{\"font\":{\"color\":\"#4D5663\"},\"text\":\"\"},\"zerolinecolor\":\"#E1E5ED\"},\"yaxis12\":{\"anchor\":\"x12\",\"domain\":[0.2675,0.465],\"gridcolor\":\"#E1E5ED\",\"showgrid\":false,\"tickfont\":{\"color\":\"#4D5663\"},\"title\":{\"font\":{\"color\":\"#4D5663\"},\"text\":\"\"},\"zerolinecolor\":\"#E1E5ED\"},\"xaxis13\":{\"anchor\":\"y13\",\"domain\":[0.0,0.2125],\"gridcolor\":\"#E1E5ED\",\"showgrid\":false,\"tickfont\":{\"color\":\"#4D5663\"},\"title\":{\"font\":{\"color\":\"#4D5663\"},\"text\":\"\"},\"zerolinecolor\":\"#E1E5ED\"},\"yaxis13\":{\"anchor\":\"x13\",\"domain\":[0.0,0.1975],\"gridcolor\":\"#E1E5ED\",\"showgrid\":false,\"tickfont\":{\"color\":\"#4D5663\"},\"title\":{\"font\":{\"color\":\"#4D5663\"},\"text\":\"\"},\"zerolinecolor\":\"#E1E5ED\"},\"xaxis14\":{\"anchor\":\"y14\",\"domain\":[0.2625,0.475],\"gridcolor\":\"#E1E5ED\",\"showgrid\":false,\"tickfont\":{\"color\":\"#4D5663\"},\"title\":{\"font\":{\"color\":\"#4D5663\"},\"text\":\"\"},\"zerolinecolor\":\"#E1E5ED\"},\"yaxis14\":{\"anchor\":\"x14\",\"domain\":[0.0,0.1975],\"gridcolor\":\"#E1E5ED\",\"showgrid\":false,\"tickfont\":{\"color\":\"#4D5663\"},\"title\":{\"font\":{\"color\":\"#4D5663\"},\"text\":\"\"},\"zerolinecolor\":\"#E1E5ED\"},\"xaxis15\":{\"anchor\":\"y15\",\"domain\":[0.525,0.7375],\"gridcolor\":\"#E1E5ED\",\"showgrid\":false,\"tickfont\":{\"color\":\"#4D5663\"},\"title\":{\"font\":{\"color\":\"#4D5663\"},\"text\":\"\"},\"zerolinecolor\":\"#E1E5ED\"},\"yaxis15\":{\"anchor\":\"x15\",\"domain\":[0.0,0.1975],\"gridcolor\":\"#E1E5ED\",\"showgrid\":false,\"tickfont\":{\"color\":\"#4D5663\"},\"title\":{\"font\":{\"color\":\"#4D5663\"},\"text\":\"\"},\"zerolinecolor\":\"#E1E5ED\"},\"xaxis16\":{\"anchor\":\"y16\",\"domain\":[0.7875,1.0],\"gridcolor\":\"#E1E5ED\",\"showgrid\":false,\"tickfont\":{\"color\":\"#4D5663\"},\"title\":{\"font\":{\"color\":\"#4D5663\"},\"text\":\"\"},\"zerolinecolor\":\"#E1E5ED\"},\"yaxis16\":{\"anchor\":\"x16\",\"domain\":[0.0,0.1975],\"gridcolor\":\"#E1E5ED\",\"showgrid\":false,\"tickfont\":{\"color\":\"#4D5663\"},\"title\":{\"font\":{\"color\":\"#4D5663\"},\"text\":\"\"},\"zerolinecolor\":\"#E1E5ED\"}},                        {\"showLink\": true, \"linkText\": \"Export to plot.ly\", \"plotlyServerURL\": \"https://plot.ly\", \"responsive\": true}                    ).then(function(){\n",
       "                            \n",
       "var gd = document.getElementById('ecda569f-ac3a-4e33-bec5-6a20b1af8a03');\n",
       "var x = new MutationObserver(function (mutations, observer) {{\n",
       "        var display = window.getComputedStyle(gd).display;\n",
       "        if (!display || display === 'none') {{\n",
       "            console.log([gd, 'removed!']);\n",
       "            Plotly.purge(gd);\n",
       "            observer.disconnect();\n",
       "        }}\n",
       "}});\n",
       "\n",
       "// Listen for the removal of the full notebook cells\n",
       "var notebookContainer = gd.closest('#notebook-container');\n",
       "if (notebookContainer) {{\n",
       "    x.observe(notebookContainer, {childList: true});\n",
       "}}\n",
       "\n",
       "// Listen for the clearing of the current output cell\n",
       "var outputEl = gd.closest('.output');\n",
       "if (outputEl) {{\n",
       "    x.observe(outputEl, {childList: true});\n",
       "}}\n",
       "\n",
       "                        })                };                });            </script>        </div>"
      ]
     },
     "metadata": {},
     "output_type": "display_data"
    }
   ],
   "source": [
    "df.scatter_matrix()"
   ]
  },
  {
   "cell_type": "markdown",
   "metadata": {
    "collapsed": true
   },
   "source": [
    "# Great Job!"
   ]
  }
 ],
 "metadata": {
  "kernelspec": {
   "display_name": "Python 3 (ipykernel)",
   "language": "python",
   "name": "python3"
  },
  "language_info": {
   "codemirror_mode": {
    "name": "ipython",
    "version": 3
   },
   "file_extension": ".py",
   "mimetype": "text/x-python",
   "name": "python",
   "nbconvert_exporter": "python",
   "pygments_lexer": "ipython3",
   "version": "3.9.18"
  }
 },
 "nbformat": 4,
 "nbformat_minor": 1
}
