{
 "cells": [
  {
   "cell_type": "code",
   "execution_count": 1,
   "id": "9997d845",
   "metadata": {},
   "outputs": [
    {
     "data": {
      "text/html": [
       "        <script type=\"text/javascript\">\n",
       "        window.PlotlyConfig = {MathJaxConfig: 'local'};\n",
       "        if (window.MathJax && window.MathJax.Hub && window.MathJax.Hub.Config) {window.MathJax.Hub.Config({SVG: {font: \"STIX-Web\"}});}\n",
       "        if (typeof require !== 'undefined') {\n",
       "        require.undef(\"plotly\");\n",
       "        requirejs.config({\n",
       "            paths: {\n",
       "                'plotly': ['https://cdn.plot.ly/plotly-2.27.0.min']\n",
       "            }\n",
       "        });\n",
       "        require(['plotly'], function(Plotly) {\n",
       "            window._Plotly = Plotly;\n",
       "        });\n",
       "        }\n",
       "        </script>\n",
       "        "
      ]
     },
     "metadata": {},
     "output_type": "display_data"
    }
   ],
   "source": [
    "import os, sys\n",
    "import pandas as pd\n",
    "import numpy as np\n",
    "import random as rd\n",
    "import matplotlib.pyplot as plt\n",
    "%matplotlib inline\n",
    "import seaborn as sns\n",
    "sns.set_style('darkgrid')\n",
    "import warnings\n",
    "warnings.filterwarnings('ignore')\n",
    "\n",
    "from plotly import __version__\n",
    "from plotly.offline import download_plotlyjs, init_notebook_mode, plot, iplot\n",
    "import cufflinks as cf\n",
    "cf.go_offline()\n",
    "from pandas_profiling import ProfileReport\n",
    "\n",
    "from sklearn.model_selection import train_test_split\n",
    "from sklearn.utils.class_weight import compute_class_weight\n",
    "from sklearn.preprocessing import LabelEncoder,MinMaxScaler,OneHotEncoder,StandardScaler\n",
    "from tensorflow.keras.models import Sequential\n",
    "from tensorflow.keras.layers import Dense\n",
    "from tensorflow.keras.layers import Dropout\n",
    "from tensorflow.keras.callbacks import ReduceLROnPlateau, EarlyStopping, ModelCheckpoint, LearningRateScheduler\n",
    "from sklearn.metrics import confusion_matrix, classification_report\n",
    "from sklearn.feature_selection import RFE\n",
    "\n",
    "from numpy import set_printoptions\n",
    "from sklearn.tree import DecisionTreeClassifier\n",
    "from sklearn.model_selection import cross_val_score\n",
    "from sklearn.model_selection import KFold\n",
    "from sklearn.naive_bayes import GaussianNB\n",
    "from sklearn.linear_model import LogisticRegression\n",
    "from sklearn.neighbors import KNeighborsClassifier\n",
    "from sklearn.discriminant_analysis import LinearDiscriminantAnalysis\n",
    "from sklearn.svm import SVC\n",
    "from sklearn.feature_selection import SelectFromModel\n",
    "from sklearn.model_selection import train_test_split, cross_val_score, GridSearchCV, KFold\n",
    "\n",
    "from sklearn.feature_selection import SelectKBest, f_classif\n",
    "from sklearn.ensemble import RandomForestClassifier\n",
    "from sklearn.neural_network import MLPClassifier\n",
    "from sklearn.ensemble import GradientBoostingClassifier\n",
    "from sklearn.naive_bayes import MultinomialNB\n"
   ]
  },
  {
   "cell_type": "code",
   "execution_count": 2,
   "id": "bdb90803",
   "metadata": {},
   "outputs": [],
   "source": [
    "exps_dir = \"../../exps\"\n",
    "if os.path.exists(exps_dir) == False: # tạo thư mục (nếu chưa có)\n",
    "  os.makedirs(exps_dir, exist_ok=True)\n",
    "\n",
    "save_dir = f\"{exps_dir}/feature1\"\n",
    "os.makedirs(save_dir, exist_ok=True)\n",
    "test_size=0.33\n",
    "seed=42\n"
   ]
  },
  {
   "cell_type": "code",
   "execution_count": 3,
   "id": "22bcc0d3",
   "metadata": {},
   "outputs": [
    {
     "data": {
      "text/plain": [
       "{0: 0.6325301204819277, 1: 2.3863636363636362}"
      ]
     },
     "execution_count": 3,
     "metadata": {},
     "output_type": "execute_result"
    }
   ],
   "source": [
    "x_train=pd.read_excel(f'{save_dir}/x_train.xlsx')\n",
    "y_train=pd.read_excel(f'{save_dir}/y_train.xlsx')\n",
    "x_test=pd.read_excel(f'{save_dir}/x_test.xlsx')\n",
    "y_test=pd.read_excel(f'{save_dir}/y_test.xlsx')\n",
    "class_weights_dict=dict(np.load(f'{exps_dir}/feature1/class_weights_dict.npz',allow_pickle=True))['class_weights_dict']\n",
    "class_weights_dict = {key: value for key, value in class_weights_dict.item().items()}\n",
    "class_weights_dict"
   ]
  },
  {
   "cell_type": "code",
   "execution_count": 4,
   "id": "5e53c9d0",
   "metadata": {},
   "outputs": [
    {
     "data": {
      "text/plain": [
       "{'LR': ['day_incident_date',\n",
       "  'incident_severity',\n",
       "  'injury_claim',\n",
       "  'insured_sex',\n",
       "  'month_policy_bind_date',\n",
       "  'policy_annual_premium',\n",
       "  'property_claim',\n",
       "  'property_damage',\n",
       "  'total_claim_amount',\n",
       "  'vehicle_claim'],\n",
       " 'LDA': ['day_incident_date',\n",
       "  'incident_severity',\n",
       "  'injury_claim',\n",
       "  'insured_sex',\n",
       "  'month_policy_bind_date',\n",
       "  'policy_annual_premium',\n",
       "  'property_claim',\n",
       "  'property_damage',\n",
       "  'total_claim_amount',\n",
       "  'vehicle_claim'],\n",
       " 'DTC': ['auto_model',\n",
       "  'day_incident_date',\n",
       "  'incident_severity',\n",
       "  'injury_claim',\n",
       "  'insured_hobbies',\n",
       "  'insured_occupation',\n",
       "  'month_policy_bind_date',\n",
       "  'policy_annual_premium',\n",
       "  'total_claim_amount',\n",
       "  'year_policy_bind_date'],\n",
       " 'RD': ['auto_model',\n",
       "  'day_incident_date',\n",
       "  'day_policy_bind_date',\n",
       "  'incident_severity',\n",
       "  'injury_claim',\n",
       "  'insured_hobbies',\n",
       "  'policy_annual_premium',\n",
       "  'property_claim',\n",
       "  'total_claim_amount',\n",
       "  'vehicle_claim'],\n",
       " 'KNC': ['age',\n",
       "  'insured_sex',\n",
       "  'insured_occupation',\n",
       "  'incident_severity',\n",
       "  'incident_state',\n",
       "  'incident_city',\n",
       "  'property_damage',\n",
       "  'total_claim_amount',\n",
       "  'property_claim',\n",
       "  'vehicle_claim',\n",
       "  'day_incident_date'],\n",
       " 'GNB': ['age',\n",
       "  'insured_sex',\n",
       "  'insured_occupation',\n",
       "  'incident_severity',\n",
       "  'incident_state',\n",
       "  'incident_city',\n",
       "  'property_damage',\n",
       "  'total_claim_amount',\n",
       "  'property_claim',\n",
       "  'vehicle_claim',\n",
       "  'day_incident_date'],\n",
       " 'NN': ['age',\n",
       "  'insured_sex',\n",
       "  'insured_occupation',\n",
       "  'incident_severity',\n",
       "  'incident_state',\n",
       "  'incident_city',\n",
       "  'property_damage',\n",
       "  'total_claim_amount',\n",
       "  'property_claim',\n",
       "  'vehicle_claim',\n",
       "  'day_incident_date'],\n",
       " 'BG': ['age',\n",
       "  'insured_sex',\n",
       "  'insured_occupation',\n",
       "  'incident_severity',\n",
       "  'incident_state',\n",
       "  'incident_city',\n",
       "  'property_damage',\n",
       "  'total_claim_amount',\n",
       "  'property_claim',\n",
       "  'vehicle_claim',\n",
       "  'day_incident_date'],\n",
       " 'NB': ['age',\n",
       "  'insured_sex',\n",
       "  'insured_occupation',\n",
       "  'incident_severity',\n",
       "  'incident_state',\n",
       "  'incident_city',\n",
       "  'property_damage',\n",
       "  'total_claim_amount',\n",
       "  'property_claim',\n",
       "  'vehicle_claim',\n",
       "  'day_incident_date'],\n",
       " 'SVM': ['age',\n",
       "  'insured_sex',\n",
       "  'insured_occupation',\n",
       "  'incident_severity',\n",
       "  'incident_state',\n",
       "  'incident_city',\n",
       "  'property_damage',\n",
       "  'total_claim_amount',\n",
       "  'property_claim',\n",
       "  'vehicle_claim',\n",
       "  'day_incident_date']}"
      ]
     },
     "execution_count": 4,
     "metadata": {},
     "output_type": "execute_result"
    }
   ],
   "source": [
    "feature_selection=dict(np.load(f'{exps_dir}/feature1/feature_model_selection.npz',allow_pickle=True))['feature_model_selection']\n",
    "feature_selection = {key: value for key, value in feature_selection.item().items()}\n",
    "feature_selection"
   ]
  },
  {
   "cell_type": "markdown",
   "id": "f3a418ea",
   "metadata": {},
   "source": [
    "### Kết luận:\n",
    "- Nhóm xây dựng một mạng Netual network ứng dụng kỹ thuật trong học sâu như callbacks, đánh trọng số,.... Nhưng không khắc phục được tình trạng (imbalanced variable)."
   ]
  },
  {
   "cell_type": "markdown",
   "id": "53f25a95",
   "metadata": {},
   "source": [
    "# 6. Đánh giá và lựa chọn mô hình học máy có giám sát"
   ]
  },
  {
   "cell_type": "code",
   "execution_count": 5,
   "id": "acef508d",
   "metadata": {},
   "outputs": [],
   "source": [
    "def check_model(name,model,X,Y,names,results,scoring):\n",
    "    kfold = KFold(n_splits=5, shuffle=True, random_state=seed)\n",
    "    cv_results=cross_val_score(model,X[feature_selection[name]],Y,cv=kfold,scoring=scoring)\n",
    "    results.append(cv_results)\n",
    "    names.append(name)\n",
    "    msg=scoring.title()+\" %s: %.3f%% (%.3f%%)\"%(name,cv_results.mean()*100,cv_results.std()*100)\n",
    "    print(msg)       \n",
    "    return "
   ]
  },
  {
   "cell_type": "code",
   "execution_count": 6,
   "id": "f838ccaa",
   "metadata": {
    "scrolled": false
   },
   "outputs": [
    {
     "name": "stdout",
     "output_type": "stream",
     "text": [
      "Accuracy LR: 76.000% (2.439%)\n",
      "Accuracy LDA: 83.238% (2.527%)\n",
      "Accuracy DTC: 80.000% (2.409%)\n",
      "Accuracy RD: 80.000% (1.998%)\n",
      "Accuracy KNC: 79.048% (2.694%)\n",
      "Accuracy NB: 79.238% (4.059%)\n",
      "Accuracy SVM: 73.905% (1.961%)\n",
      "Accuracy NN: 82.286% (3.332%)\n",
      "Accuracy BG: 80.762% (2.584%)\n"
     ]
    },
    {
     "data": {
      "image/png": "[encoded data removed]",
      "text/plain": [
       "<Figure size 640x480 with 1 Axes>"
      ]
     },
     "metadata": {},
     "output_type": "display_data"
    },
    {
     "name": "stdout",
     "output_type": "stream",
     "text": [
      "Precision LR: 46.135% (4.839%)\n",
      "Precision LDA: 65.151% (12.479%)\n",
      "Precision DTC: 56.282% (10.452%)\n",
      "Precision RD: 53.766% (7.153%)\n",
      "Precision KNC: 0.000% (0.000%)\n",
      "Precision NB: 50.962% (8.272%)\n",
      "Precision SVM: 43.436% (2.494%)\n",
      "Precision NN: 63.198% (13.888%)\n",
      "Precision BG: 55.196% (12.355%)\n"
     ]
    },
    {
     "data": {
      "image/png": "[encoded data removed]",
      "text/plain": [
       "<Figure size 640x480 with 1 Axes>"
      ]
     },
     "metadata": {},
     "output_type": "display_data"
    },
    {
     "name": "stdout",
     "output_type": "stream",
     "text": [
      "Recall LR: 79.643% (11.699%)\n",
      "Recall LDA: 40.376% (10.717%)\n",
      "Recall DTC: 58.649% (10.806%)\n",
      "Recall RD: 31.230% (6.350%)\n",
      "Recall KNC: 0.000% (0.000%)\n",
      "Recall NB: 62.478% (6.976%)\n",
      "Recall SVM: 81.514% (12.078%)\n",
      "Recall NN: 44.158% (11.342%)\n",
      "Recall BG: 40.567% (8.605%)\n"
     ]
    },
    {
     "data": {
      "image/png": "[encoded data removed]",
      "text/plain": [
       "<Figure size 640x480 with 1 Axes>"
      ]
     },
     "metadata": {},
     "output_type": "display_data"
    },
    {
     "name": "stdout",
     "output_type": "stream",
     "text": [
      "F1 LR: 57.782% (3.504%)\n",
      "F1 LDA: 49.432% (11.213%)\n",
      "F1 DTC: 55.321% (10.767%)\n",
      "F1 RD: 39.079% (6.310%)\n",
      "F1 KNC: 0.000% (0.000%)\n",
      "F1 NB: 55.762% (6.383%)\n",
      "F1 SVM: 56.255% (2.648%)\n",
      "F1 NN: 51.549% (7.960%)\n",
      "F1 BG: 46.477% (9.969%)\n"
     ]
    },
    {
     "data": {
      "image/png": "[encoded data removed]",
      "text/plain": [
       "<Figure size 640x480 with 1 Axes>"
      ]
     },
     "metadata": {},
     "output_type": "display_data"
    }
   ],
   "source": [
    "num_folds=5\n",
    "seed=7\n",
    "models=[]\n",
    "\n",
    "models.append(('KNC',KNeighborsClassifier(n_neighbors=100)))\n",
    "models.append(('NB',GaussianNB()))\n",
    "models.append(('SVM',SVC(class_weight=class_weights_dict)))\n",
    "models.append(('NN',MLPClassifier(hidden_layer_sizes=(100,), max_iter=500)))\n",
    "models.append(('GD',GradientBoostingClassifier(n_estimators=100, learning_rate=1.0, max_depth=1, random_state=42)))\n",
    "#models.append(('Naive',MultinomialNB()))\n",
    "\n",
    "\n",
    "RandomForestClassifier(n_estimators=500, \n",
    "                                max_depth=10, \n",
    "                                min_samples_split=400, \n",
    "                                random_state=12, \n",
    "                                class_weight=class_weights_dict,\n",
    "                                )\n",
    "\n",
    "results=[]\n",
    "names=[]\n",
    "scorings=['accuracy','precision','recall','f1']\n",
    "#check_model('LR',LogisticRegression(class_weight=class_weights_dict),X_logistic,Y,names,results,scorings)\n",
    "#check_model('LDA',LinearDiscriminantAnalysis(),X_linear,Y,names,results,scorings)\n",
    "#check_model('CART',DecisionTreeClassifier(class_weight=class_weights_dict),X_decision,Y,names,results,scorings)\n",
    "#check_model('RD',RandomForestClassifier(n_estimators=100, random_state=42,class_weight=class_weights_dict),X_forest,Y,names,results,scorings)\n",
    "\n",
    "\n",
    "\n",
    "for scoring in scorings:\n",
    "    check_model('LR',LogisticRegression(class_weight=class_weights_dict),x_train,y_train,names,results,scoring)\n",
    "    check_model('LDA',LinearDiscriminantAnalysis(),x_train,y_train,names,results,scoring)\n",
    "    check_model('DTC',DecisionTreeClassifier(class_weight=class_weights_dict),x_train,y_train,names,results,scoring)\n",
    "    check_model('RD',RandomForestClassifier(n_estimators=100, random_state=42,class_weight=class_weights_dict),x_train,y_train,names,results,scoring)\n",
    "    check_model('KNC',KNeighborsClassifier(n_neighbors=100),x_train,y_train,names,results,scoring)\n",
    "    check_model('NB',GaussianNB(),x_train,y_train,names,results,scoring)\n",
    "    check_model('SVM',SVC(class_weight=class_weights_dict),x_train,y_train,names,results,scoring)\n",
    "    check_model('NN',MLPClassifier(hidden_layer_sizes=(100,), max_iter=500),x_train,y_train,names,results,scoring)\n",
    "    check_model('BG',GradientBoostingClassifier(n_estimators=100, learning_rate=1.0, max_depth=1, random_state=42),x_train,y_train,names,results,scoring)\n",
    "    fig=plt.figure()\n",
    "    fig.suptitle(f'So sánh tương quan {scoring.title()} các loại mô hình')\n",
    "    ax=fig.add_subplot(111)\n",
    "    plt.boxplot(results)\n",
    "    ax.set_xticklabels(names)\n",
    "    plt.show()\n",
    "    results=[]\n",
    "    names=[]\n"
   ]
  },
  {
   "cell_type": "markdown",
   "id": "55214819",
   "metadata": {},
   "source": [
    "### Nhận xét dựa theo kết quả tập Train :\n",
    "Mô hình LDA: Mô hình này có độ chính xác cao nhất (83.238%) so với các mô hình khác. Tuy nhiên, chỉ số Recall của nó khá thấp (40.376%), điều này có nghĩa là mô hình này có thể bỏ sót một số trường hợp gian lận. Precision của nó cũng khá cao (65.151%), cho thấy mô hình này ít khi phân loại sai một hồ sơ không gian lận thành gian lận.\n",
    "\n",
    "Mô hình NN: Mô hình này có độ chính xác thứ hai cao nhất (82.286%) và Precision cao (63.198%). Tuy nhiên, giống như mô hình LDA, Recall của nó cũng khá thấp (44.158%).\n",
    "\n",
    "Mô hình BG: Mô hình này có độ chính xác khá cao (80.762%) và Precision tương đối (55.196%). Tuy nhiên, Recall của nó cũng khá thấp (40.567%).\n",
    "\n",
    "Nhìn chung từ kết quả trên ta có thể thấy LDA là mô hình tốt nhất , do có độ chính xác và Precision cao. Tuy nhiên,cần cải thiện chỉ số Recall cho mô hình vì việc bỏ sót các trường hợp gian lận có thể gây ra những hậu quả nghiêm trọng ."
   ]
  },
  {
   "cell_type": "code",
   "execution_count": 7,
   "id": "26a23326",
   "metadata": {},
   "outputs": [],
   "source": [
    "evaluate_result={}"
   ]
  },
  {
   "cell_type": "markdown",
   "id": "b075bb74",
   "metadata": {},
   "source": [
    "### LogisticRegression"
   ]
  },
  {
   "cell_type": "code",
   "execution_count": 8,
   "id": "8b62a338",
   "metadata": {},
   "outputs": [
    {
     "data": {
      "text/html": [
       "<style>#sk-container-id-1 {color: black;}#sk-container-id-1 pre{padding: 0;}#sk-container-id-1 div.sk-toggleable {background-color: white;}#sk-container-id-1 label.sk-toggleable__label {cursor: pointer;display: block;width: 100%;margin-bottom: 0;padding: 0.3em;box-sizing: border-box;text-align: center;}#sk-container-id-1 label.sk-toggleable__label-arrow:before {content: \"▸\";float: left;margin-right: 0.25em;color: #696969;}#sk-container-id-1 label.sk-toggleable__label-arrow:hover:before {color: black;}#sk-container-id-1 div.sk-estimator:hover label.sk-toggleable__label-arrow:before {color: black;}#sk-container-id-1 div.sk-toggleable__content {max-height: 0;max-width: 0;overflow: hidden;text-align: left;background-color: #f0f8ff;}#sk-container-id-1 div.sk-toggleable__content pre {margin: 0.2em;color: black;border-radius: 0.25em;background-color: #f0f8ff;}#sk-container-id-1 input.sk-toggleable__control:checked~div.sk-toggleable__content {max-height: 200px;max-width: 100%;overflow: auto;}#sk-container-id-1 input.sk-toggleable__control:checked~label.sk-toggleable__label-arrow:before {content: \"▾\";}#sk-container-id-1 div.sk-estimator input.sk-toggleable__control:checked~label.sk-toggleable__label {background-color: #d4ebff;}#sk-container-id-1 div.sk-label input.sk-toggleable__control:checked~label.sk-toggleable__label {background-color: #d4ebff;}#sk-container-id-1 input.sk-hidden--visually {border: 0;clip: rect(1px 1px 1px 1px);clip: rect(1px, 1px, 1px, 1px);height: 1px;margin: -1px;overflow: hidden;padding: 0;position: absolute;width: 1px;}#sk-container-id-1 div.sk-estimator {font-family: monospace;background-color: #f0f8ff;border: 1px dotted black;border-radius: 0.25em;box-sizing: border-box;margin-bottom: 0.5em;}#sk-container-id-1 div.sk-estimator:hover {background-color: #d4ebff;}#sk-container-id-1 div.sk-parallel-item::after {content: \"\";width: 100%;border-bottom: 1px solid gray;flex-grow: 1;}#sk-container-id-1 div.sk-label:hover label.sk-toggleable__label {background-color: #d4ebff;}#sk-container-id-1 div.sk-serial::before {content: \"\";position: absolute;border-left: 1px solid gray;box-sizing: border-box;top: 0;bottom: 0;left: 50%;z-index: 0;}#sk-container-id-1 div.sk-serial {display: flex;flex-direction: column;align-items: center;background-color: white;padding-right: 0.2em;padding-left: 0.2em;position: relative;}#sk-container-id-1 div.sk-item {position: relative;z-index: 1;}#sk-container-id-1 div.sk-parallel {display: flex;align-items: stretch;justify-content: center;background-color: white;position: relative;}#sk-container-id-1 div.sk-item::before, #sk-container-id-1 div.sk-parallel-item::before {content: \"\";position: absolute;border-left: 1px solid gray;box-sizing: border-box;top: 0;bottom: 0;left: 50%;z-index: -1;}#sk-container-id-1 div.sk-parallel-item {display: flex;flex-direction: column;z-index: 1;position: relative;background-color: white;}#sk-container-id-1 div.sk-parallel-item:first-child::after {align-self: flex-end;width: 50%;}#sk-container-id-1 div.sk-parallel-item:last-child::after {align-self: flex-start;width: 50%;}#sk-container-id-1 div.sk-parallel-item:only-child::after {width: 0;}#sk-container-id-1 div.sk-dashed-wrapped {border: 1px dashed gray;margin: 0 0.4em 0.5em 0.4em;box-sizing: border-box;padding-bottom: 0.4em;background-color: white;}#sk-container-id-1 div.sk-label label {font-family: monospace;font-weight: bold;display: inline-block;line-height: 1.2em;}#sk-container-id-1 div.sk-label-container {text-align: center;}#sk-container-id-1 div.sk-container {/* jupyter's `normalize.less` sets `[hidden] { display: none; }` but bootstrap.min.css set `[hidden] { display: none !important; }` so we also need the `!important` here to be able to override the default hidden behavior on the sphinx rendered scikit-learn.org. See: https://github.com/scikit-learn/scikit-learn/issues/21755 */display: inline-block !important;position: relative;}#sk-container-id-1 div.sk-text-repr-fallback {display: none;}</style><div id=\"sk-container-id-1\" class=\"sk-top-container\"><div class=\"sk-text-repr-fallback\"><pre>LogisticRegression(class_weight={0: 0.6325301204819277, 1: 2.3863636363636362})</pre><b>In a Jupyter environment, please rerun this cell to show the HTML representation or trust the notebook. <br />On GitHub, the HTML representation is unable to render, please try loading this page with nbviewer.org.</b></div><div class=\"sk-container\" hidden><div class=\"sk-item\"><div class=\"sk-estimator sk-toggleable\"><input class=\"sk-toggleable__control sk-hidden--visually\" id=\"sk-estimator-id-1\" type=\"checkbox\" checked><label for=\"sk-estimator-id-1\" class=\"sk-toggleable__label sk-toggleable__label-arrow\">LogisticRegression</label><div class=\"sk-toggleable__content\"><pre>LogisticRegression(class_weight={0: 0.6325301204819277, 1: 2.3863636363636362})</pre></div></div></div></div></div>"
      ],
      "text/plain": [
       "LogisticRegression(class_weight={0: 0.6325301204819277, 1: 2.3863636363636362})"
      ]
     },
     "execution_count": 8,
     "metadata": {},
     "output_type": "execute_result"
    }
   ],
   "source": [
    "supervied_features=x_train[feature_selection['LR']]\n",
    "supervied_target=y_train\n",
    "model=LogisticRegression(class_weight=class_weights_dict)\n",
    "model.fit(supervied_features,supervied_target)"
   ]
  },
  {
   "cell_type": "code",
   "execution_count": 9,
   "id": "4d6563d3",
   "metadata": {},
   "outputs": [
    {
     "data": {
      "image/png": "[encoded data removed]",
      "text/plain": [
       "<Figure size 1000x700 with 2 Axes>"
      ]
     },
     "metadata": {},
     "output_type": "display_data"
    },
    {
     "name": "stdout",
     "output_type": "stream",
     "text": [
      "              precision    recall  f1-score   support\n",
      "\n",
      "           0       0.86      0.74      0.80       182\n",
      "           1       0.52      0.71      0.60        72\n",
      "\n",
      "    accuracy                           0.73       254\n",
      "   macro avg       0.69      0.72      0.70       254\n",
      "weighted avg       0.77      0.73      0.74       254\n",
      "\n"
     ]
    }
   ],
   "source": [
    "predictions = model.predict(x_test[feature_selection['LR']])\n",
    "conf_matrix = confusion_matrix(y_test, predictions,labels=[1,0])\n",
    "\n",
    "# Vẽ heatmap\n",
    "plt.figure(figsize=(10, 7))\n",
    "sns.heatmap(conf_matrix, annot=True, fmt=\"d\", xticklabels=['1', '0'], yticklabels=['1', '0'],cmap='RdBu')\n",
    "plt.title(\"Confusion Matrix\")\n",
    "plt.ylabel(\"Actual Class\")\n",
    "plt.xlabel(\"Predicted Class\")\n",
    "plt.show()\n",
    "evaluate_result['LogisticRegression']=classification_report(y_test, predictions)\n",
    "print(classification_report(y_test, predictions))"
   ]
  },
  {
   "cell_type": "markdown",
   "id": "edcf3fd4",
   "metadata": {},
   "source": [
    "### Gaussian NB"
   ]
  },
  {
   "cell_type": "code",
   "execution_count": 10,
   "id": "25fdb5f8",
   "metadata": {},
   "outputs": [
    {
     "data": {
      "text/html": [
       "<style>#sk-container-id-2 {color: black;}#sk-container-id-2 pre{padding: 0;}#sk-container-id-2 div.sk-toggleable {background-color: white;}#sk-container-id-2 label.sk-toggleable__label {cursor: pointer;display: block;width: 100%;margin-bottom: 0;padding: 0.3em;box-sizing: border-box;text-align: center;}#sk-container-id-2 label.sk-toggleable__label-arrow:before {content: \"▸\";float: left;margin-right: 0.25em;color: #696969;}#sk-container-id-2 label.sk-toggleable__label-arrow:hover:before {color: black;}#sk-container-id-2 div.sk-estimator:hover label.sk-toggleable__label-arrow:before {color: black;}#sk-container-id-2 div.sk-toggleable__content {max-height: 0;max-width: 0;overflow: hidden;text-align: left;background-color: #f0f8ff;}#sk-container-id-2 div.sk-toggleable__content pre {margin: 0.2em;color: black;border-radius: 0.25em;background-color: #f0f8ff;}#sk-container-id-2 input.sk-toggleable__control:checked~div.sk-toggleable__content {max-height: 200px;max-width: 100%;overflow: auto;}#sk-container-id-2 input.sk-toggleable__control:checked~label.sk-toggleable__label-arrow:before {content: \"▾\";}#sk-container-id-2 div.sk-estimator input.sk-toggleable__control:checked~label.sk-toggleable__label {background-color: #d4ebff;}#sk-container-id-2 div.sk-label input.sk-toggleable__control:checked~label.sk-toggleable__label {background-color: #d4ebff;}#sk-container-id-2 input.sk-hidden--visually {border: 0;clip: rect(1px 1px 1px 1px);clip: rect(1px, 1px, 1px, 1px);height: 1px;margin: -1px;overflow: hidden;padding: 0;position: absolute;width: 1px;}#sk-container-id-2 div.sk-estimator {font-family: monospace;background-color: #f0f8ff;border: 1px dotted black;border-radius: 0.25em;box-sizing: border-box;margin-bottom: 0.5em;}#sk-container-id-2 div.sk-estimator:hover {background-color: #d4ebff;}#sk-container-id-2 div.sk-parallel-item::after {content: \"\";width: 100%;border-bottom: 1px solid gray;flex-grow: 1;}#sk-container-id-2 div.sk-label:hover label.sk-toggleable__label {background-color: #d4ebff;}#sk-container-id-2 div.sk-serial::before {content: \"\";position: absolute;border-left: 1px solid gray;box-sizing: border-box;top: 0;bottom: 0;left: 50%;z-index: 0;}#sk-container-id-2 div.sk-serial {display: flex;flex-direction: column;align-items: center;background-color: white;padding-right: 0.2em;padding-left: 0.2em;position: relative;}#sk-container-id-2 div.sk-item {position: relative;z-index: 1;}#sk-container-id-2 div.sk-parallel {display: flex;align-items: stretch;justify-content: center;background-color: white;position: relative;}#sk-container-id-2 div.sk-item::before, #sk-container-id-2 div.sk-parallel-item::before {content: \"\";position: absolute;border-left: 1px solid gray;box-sizing: border-box;top: 0;bottom: 0;left: 50%;z-index: -1;}#sk-container-id-2 div.sk-parallel-item {display: flex;flex-direction: column;z-index: 1;position: relative;background-color: white;}#sk-container-id-2 div.sk-parallel-item:first-child::after {align-self: flex-end;width: 50%;}#sk-container-id-2 div.sk-parallel-item:last-child::after {align-self: flex-start;width: 50%;}#sk-container-id-2 div.sk-parallel-item:only-child::after {width: 0;}#sk-container-id-2 div.sk-dashed-wrapped {border: 1px dashed gray;margin: 0 0.4em 0.5em 0.4em;box-sizing: border-box;padding-bottom: 0.4em;background-color: white;}#sk-container-id-2 div.sk-label label {font-family: monospace;font-weight: bold;display: inline-block;line-height: 1.2em;}#sk-container-id-2 div.sk-label-container {text-align: center;}#sk-container-id-2 div.sk-container {/* jupyter's `normalize.less` sets `[hidden] { display: none; }` but bootstrap.min.css set `[hidden] { display: none !important; }` so we also need the `!important` here to be able to override the default hidden behavior on the sphinx rendered scikit-learn.org. See: https://github.com/scikit-learn/scikit-learn/issues/21755 */display: inline-block !important;position: relative;}#sk-container-id-2 div.sk-text-repr-fallback {display: none;}</style><div id=\"sk-container-id-2\" class=\"sk-top-container\"><div class=\"sk-text-repr-fallback\"><pre>GaussianNB()</pre><b>In a Jupyter environment, please rerun this cell to show the HTML representation or trust the notebook. <br />On GitHub, the HTML representation is unable to render, please try loading this page with nbviewer.org.</b></div><div class=\"sk-container\" hidden><div class=\"sk-item\"><div class=\"sk-estimator sk-toggleable\"><input class=\"sk-toggleable__control sk-hidden--visually\" id=\"sk-estimator-id-2\" type=\"checkbox\" checked><label for=\"sk-estimator-id-2\" class=\"sk-toggleable__label sk-toggleable__label-arrow\">GaussianNB</label><div class=\"sk-toggleable__content\"><pre>GaussianNB()</pre></div></div></div></div></div>"
      ],
      "text/plain": [
       "GaussianNB()"
      ]
     },
     "execution_count": 10,
     "metadata": {},
     "output_type": "execute_result"
    }
   ],
   "source": [
    "supervied_features=x_train[feature_selection['GNB']]\n",
    "supervied_target=y_train\n",
    "model=GaussianNB()\n",
    "model.fit(supervied_features,supervied_target)"
   ]
  },
  {
   "cell_type": "code",
   "execution_count": 11,
   "id": "e19c6dee",
   "metadata": {},
   "outputs": [
    {
     "data": {
      "image/png": "[encoded data removed]",
      "text/plain": [
       "<Figure size 1000x700 with 2 Axes>"
      ]
     },
     "metadata": {},
     "output_type": "display_data"
    },
    {
     "name": "stdout",
     "output_type": "stream",
     "text": [
      "              precision    recall  f1-score   support\n",
      "\n",
      "           0       0.79      0.82      0.80       182\n",
      "           1       0.49      0.44      0.47        72\n",
      "\n",
      "    accuracy                           0.71       254\n",
      "   macro avg       0.64      0.63      0.64       254\n",
      "weighted avg       0.70      0.71      0.71       254\n",
      "\n"
     ]
    }
   ],
   "source": [
    "predictions = model.predict(x_test[feature_selection['GNB']])\n",
    "\n",
    "conf_matrix = confusion_matrix(y_test, predictions,labels=[1,0])\n",
    "\n",
    "# Vẽ heatmap\n",
    "plt.figure(figsize=(10, 7))\n",
    "sns.heatmap(conf_matrix, annot=True, fmt=\"d\", xticklabels=['1', '0'], yticklabels=['1', '0'],cmap='RdBu')\n",
    "plt.title(\"Confusion Matrix\")\n",
    "plt.ylabel(\"Actual Class\")\n",
    "plt.xlabel(\"Predicted Class\")\n",
    "plt.show()\n",
    "evaluate_result['GaussianNB']=classification_report(y_test, predictions)\n",
    "print(classification_report(y_test, predictions))"
   ]
  },
  {
   "cell_type": "markdown",
   "id": "4ea5c286",
   "metadata": {},
   "source": [
    "### MultinomialNB\n"
   ]
  },
  {
   "cell_type": "code",
   "execution_count": 12,
   "id": "884982c5",
   "metadata": {},
   "outputs": [
    {
     "data": {
      "text/html": [
       "<style>#sk-container-id-3 {color: black;}#sk-container-id-3 pre{padding: 0;}#sk-container-id-3 div.sk-toggleable {background-color: white;}#sk-container-id-3 label.sk-toggleable__label {cursor: pointer;display: block;width: 100%;margin-bottom: 0;padding: 0.3em;box-sizing: border-box;text-align: center;}#sk-container-id-3 label.sk-toggleable__label-arrow:before {content: \"▸\";float: left;margin-right: 0.25em;color: #696969;}#sk-container-id-3 label.sk-toggleable__label-arrow:hover:before {color: black;}#sk-container-id-3 div.sk-estimator:hover label.sk-toggleable__label-arrow:before {color: black;}#sk-container-id-3 div.sk-toggleable__content {max-height: 0;max-width: 0;overflow: hidden;text-align: left;background-color: #f0f8ff;}#sk-container-id-3 div.sk-toggleable__content pre {margin: 0.2em;color: black;border-radius: 0.25em;background-color: #f0f8ff;}#sk-container-id-3 input.sk-toggleable__control:checked~div.sk-toggleable__content {max-height: 200px;max-width: 100%;overflow: auto;}#sk-container-id-3 input.sk-toggleable__control:checked~label.sk-toggleable__label-arrow:before {content: \"▾\";}#sk-container-id-3 div.sk-estimator input.sk-toggleable__control:checked~label.sk-toggleable__label {background-color: #d4ebff;}#sk-container-id-3 div.sk-label input.sk-toggleable__control:checked~label.sk-toggleable__label {background-color: #d4ebff;}#sk-container-id-3 input.sk-hidden--visually {border: 0;clip: rect(1px 1px 1px 1px);clip: rect(1px, 1px, 1px, 1px);height: 1px;margin: -1px;overflow: hidden;padding: 0;position: absolute;width: 1px;}#sk-container-id-3 div.sk-estimator {font-family: monospace;background-color: #f0f8ff;border: 1px dotted black;border-radius: 0.25em;box-sizing: border-box;margin-bottom: 0.5em;}#sk-container-id-3 div.sk-estimator:hover {background-color: #d4ebff;}#sk-container-id-3 div.sk-parallel-item::after {content: \"\";width: 100%;border-bottom: 1px solid gray;flex-grow: 1;}#sk-container-id-3 div.sk-label:hover label.sk-toggleable__label {background-color: #d4ebff;}#sk-container-id-3 div.sk-serial::before {content: \"\";position: absolute;border-left: 1px solid gray;box-sizing: border-box;top: 0;bottom: 0;left: 50%;z-index: 0;}#sk-container-id-3 div.sk-serial {display: flex;flex-direction: column;align-items: center;background-color: white;padding-right: 0.2em;padding-left: 0.2em;position: relative;}#sk-container-id-3 div.sk-item {position: relative;z-index: 1;}#sk-container-id-3 div.sk-parallel {display: flex;align-items: stretch;justify-content: center;background-color: white;position: relative;}#sk-container-id-3 div.sk-item::before, #sk-container-id-3 div.sk-parallel-item::before {content: \"\";position: absolute;border-left: 1px solid gray;box-sizing: border-box;top: 0;bottom: 0;left: 50%;z-index: -1;}#sk-container-id-3 div.sk-parallel-item {display: flex;flex-direction: column;z-index: 1;position: relative;background-color: white;}#sk-container-id-3 div.sk-parallel-item:first-child::after {align-self: flex-end;width: 50%;}#sk-container-id-3 div.sk-parallel-item:last-child::after {align-self: flex-start;width: 50%;}#sk-container-id-3 div.sk-parallel-item:only-child::after {width: 0;}#sk-container-id-3 div.sk-dashed-wrapped {border: 1px dashed gray;margin: 0 0.4em 0.5em 0.4em;box-sizing: border-box;padding-bottom: 0.4em;background-color: white;}#sk-container-id-3 div.sk-label label {font-family: monospace;font-weight: bold;display: inline-block;line-height: 1.2em;}#sk-container-id-3 div.sk-label-container {text-align: center;}#sk-container-id-3 div.sk-container {/* jupyter's `normalize.less` sets `[hidden] { display: none; }` but bootstrap.min.css set `[hidden] { display: none !important; }` so we also need the `!important` here to be able to override the default hidden behavior on the sphinx rendered scikit-learn.org. See: https://github.com/scikit-learn/scikit-learn/issues/21755 */display: inline-block !important;position: relative;}#sk-container-id-3 div.sk-text-repr-fallback {display: none;}</style><div id=\"sk-container-id-3\" class=\"sk-top-container\"><div class=\"sk-text-repr-fallback\"><pre>MultinomialNB()</pre><b>In a Jupyter environment, please rerun this cell to show the HTML representation or trust the notebook. <br />On GitHub, the HTML representation is unable to render, please try loading this page with nbviewer.org.</b></div><div class=\"sk-container\" hidden><div class=\"sk-item\"><div class=\"sk-estimator sk-toggleable\"><input class=\"sk-toggleable__control sk-hidden--visually\" id=\"sk-estimator-id-3\" type=\"checkbox\" checked><label for=\"sk-estimator-id-3\" class=\"sk-toggleable__label sk-toggleable__label-arrow\">MultinomialNB</label><div class=\"sk-toggleable__content\"><pre>MultinomialNB()</pre></div></div></div></div></div>"
      ],
      "text/plain": [
       "MultinomialNB()"
      ]
     },
     "execution_count": 12,
     "metadata": {},
     "output_type": "execute_result"
    }
   ],
   "source": [
    "supervied_features=x_train[feature_selection['NB']]\n",
    "supervied_target=y_train\n",
    "model=MultinomialNB()\n",
    "model.fit(supervied_features,supervied_target)"
   ]
  },
  {
   "cell_type": "code",
   "execution_count": 13,
   "id": "727b39e2",
   "metadata": {},
   "outputs": [
    {
     "data": {
      "image/png": "[encoded data removed]",
      "text/plain": [
       "<Figure size 1000x700 with 2 Axes>"
      ]
     },
     "metadata": {},
     "output_type": "display_data"
    },
    {
     "name": "stdout",
     "output_type": "stream",
     "text": [
      "              precision    recall  f1-score   support\n",
      "\n",
      "           0       0.72      0.96      0.82       182\n",
      "           1       0.33      0.06      0.10        72\n",
      "\n",
      "    accuracy                           0.70       254\n",
      "   macro avg       0.53      0.51      0.46       254\n",
      "weighted avg       0.61      0.70      0.62       254\n",
      "\n"
     ]
    }
   ],
   "source": [
    "predictions = model.predict(x_test[feature_selection['NB']])\n",
    "\n",
    "conf_matrix = confusion_matrix(y_test, predictions,labels=[1,0])\n",
    "\n",
    "# Vẽ heatmap\n",
    "plt.figure(figsize=(10, 7))\n",
    "sns.heatmap(conf_matrix, annot=True, fmt=\"d\", xticklabels=['1', '0'], yticklabels=['1', '0'],cmap='RdBu')\n",
    "plt.title(\"Confusion Matrix\")\n",
    "plt.ylabel(\"Actual Class\")\n",
    "plt.xlabel(\"Predicted Class\")\n",
    "plt.show()\n",
    "evaluate_result['MultinomialNB']=classification_report(y_test, predictions)\n",
    "\n",
    "print(classification_report(y_test, predictions))"
   ]
  },
  {
   "cell_type": "markdown",
   "id": "1f60371f",
   "metadata": {},
   "source": [
    "### MLPClassifier"
   ]
  },
  {
   "cell_type": "code",
   "execution_count": 14,
   "id": "2d068540",
   "metadata": {},
   "outputs": [
    {
     "data": {
      "text/html": [
       "<style>#sk-container-id-4 {color: black;}#sk-container-id-4 pre{padding: 0;}#sk-container-id-4 div.sk-toggleable {background-color: white;}#sk-container-id-4 label.sk-toggleable__label {cursor: pointer;display: block;width: 100%;margin-bottom: 0;padding: 0.3em;box-sizing: border-box;text-align: center;}#sk-container-id-4 label.sk-toggleable__label-arrow:before {content: \"▸\";float: left;margin-right: 0.25em;color: #696969;}#sk-container-id-4 label.sk-toggleable__label-arrow:hover:before {color: black;}#sk-container-id-4 div.sk-estimator:hover label.sk-toggleable__label-arrow:before {color: black;}#sk-container-id-4 div.sk-toggleable__content {max-height: 0;max-width: 0;overflow: hidden;text-align: left;background-color: #f0f8ff;}#sk-container-id-4 div.sk-toggleable__content pre {margin: 0.2em;color: black;border-radius: 0.25em;background-color: #f0f8ff;}#sk-container-id-4 input.sk-toggleable__control:checked~div.sk-toggleable__content {max-height: 200px;max-width: 100%;overflow: auto;}#sk-container-id-4 input.sk-toggleable__control:checked~label.sk-toggleable__label-arrow:before {content: \"▾\";}#sk-container-id-4 div.sk-estimator input.sk-toggleable__control:checked~label.sk-toggleable__label {background-color: #d4ebff;}#sk-container-id-4 div.sk-label input.sk-toggleable__control:checked~label.sk-toggleable__label {background-color: #d4ebff;}#sk-container-id-4 input.sk-hidden--visually {border: 0;clip: rect(1px 1px 1px 1px);clip: rect(1px, 1px, 1px, 1px);height: 1px;margin: -1px;overflow: hidden;padding: 0;position: absolute;width: 1px;}#sk-container-id-4 div.sk-estimator {font-family: monospace;background-color: #f0f8ff;border: 1px dotted black;border-radius: 0.25em;box-sizing: border-box;margin-bottom: 0.5em;}#sk-container-id-4 div.sk-estimator:hover {background-color: #d4ebff;}#sk-container-id-4 div.sk-parallel-item::after {content: \"\";width: 100%;border-bottom: 1px solid gray;flex-grow: 1;}#sk-container-id-4 div.sk-label:hover label.sk-toggleable__label {background-color: #d4ebff;}#sk-container-id-4 div.sk-serial::before {content: \"\";position: absolute;border-left: 1px solid gray;box-sizing: border-box;top: 0;bottom: 0;left: 50%;z-index: 0;}#sk-container-id-4 div.sk-serial {display: flex;flex-direction: column;align-items: center;background-color: white;padding-right: 0.2em;padding-left: 0.2em;position: relative;}#sk-container-id-4 div.sk-item {position: relative;z-index: 1;}#sk-container-id-4 div.sk-parallel {display: flex;align-items: stretch;justify-content: center;background-color: white;position: relative;}#sk-container-id-4 div.sk-item::before, #sk-container-id-4 div.sk-parallel-item::before {content: \"\";position: absolute;border-left: 1px solid gray;box-sizing: border-box;top: 0;bottom: 0;left: 50%;z-index: -1;}#sk-container-id-4 div.sk-parallel-item {display: flex;flex-direction: column;z-index: 1;position: relative;background-color: white;}#sk-container-id-4 div.sk-parallel-item:first-child::after {align-self: flex-end;width: 50%;}#sk-container-id-4 div.sk-parallel-item:last-child::after {align-self: flex-start;width: 50%;}#sk-container-id-4 div.sk-parallel-item:only-child::after {width: 0;}#sk-container-id-4 div.sk-dashed-wrapped {border: 1px dashed gray;margin: 0 0.4em 0.5em 0.4em;box-sizing: border-box;padding-bottom: 0.4em;background-color: white;}#sk-container-id-4 div.sk-label label {font-family: monospace;font-weight: bold;display: inline-block;line-height: 1.2em;}#sk-container-id-4 div.sk-label-container {text-align: center;}#sk-container-id-4 div.sk-container {/* jupyter's `normalize.less` sets `[hidden] { display: none; }` but bootstrap.min.css set `[hidden] { display: none !important; }` so we also need the `!important` here to be able to override the default hidden behavior on the sphinx rendered scikit-learn.org. See: https://github.com/scikit-learn/scikit-learn/issues/21755 */display: inline-block !important;position: relative;}#sk-container-id-4 div.sk-text-repr-fallback {display: none;}</style><div id=\"sk-container-id-4\" class=\"sk-top-container\"><div class=\"sk-text-repr-fallback\"><pre>MLPClassifier(max_iter=500)</pre><b>In a Jupyter environment, please rerun this cell to show the HTML representation or trust the notebook. <br />On GitHub, the HTML representation is unable to render, please try loading this page with nbviewer.org.</b></div><div class=\"sk-container\" hidden><div class=\"sk-item\"><div class=\"sk-estimator sk-toggleable\"><input class=\"sk-toggleable__control sk-hidden--visually\" id=\"sk-estimator-id-4\" type=\"checkbox\" checked><label for=\"sk-estimator-id-4\" class=\"sk-toggleable__label sk-toggleable__label-arrow\">MLPClassifier</label><div class=\"sk-toggleable__content\"><pre>MLPClassifier(max_iter=500)</pre></div></div></div></div></div>"
      ],
      "text/plain": [
       "MLPClassifier(max_iter=500)"
      ]
     },
     "execution_count": 14,
     "metadata": {},
     "output_type": "execute_result"
    }
   ],
   "source": [
    "supervied_features=x_train[feature_selection['NN']]\n",
    "supervied_target=y_train\n",
    "model=MLPClassifier(hidden_layer_sizes=(100,), max_iter=500)\n",
    "model.fit(supervied_features,supervied_target)"
   ]
  },
  {
   "cell_type": "code",
   "execution_count": 15,
   "id": "7d164f81",
   "metadata": {},
   "outputs": [
    {
     "data": {
      "image/png": "[encoded data removed]",
      "text/plain": [
       "<Figure size 1000x700 with 2 Axes>"
      ]
     },
     "metadata": {},
     "output_type": "display_data"
    },
    {
     "name": "stdout",
     "output_type": "stream",
     "text": [
      "              precision    recall  f1-score   support\n",
      "\n",
      "           0       0.74      0.91      0.81       182\n",
      "           1       0.45      0.19      0.27        72\n",
      "\n",
      "    accuracy                           0.70       254\n",
      "   macro avg       0.60      0.55      0.54       254\n",
      "weighted avg       0.66      0.70      0.66       254\n",
      "\n"
     ]
    }
   ],
   "source": [
    "predictions = model.predict(x_test[feature_selection['NN']])\n",
    "\n",
    "conf_matrix = confusion_matrix(y_test, predictions,labels=[1,0])\n",
    "\n",
    "# Vẽ heatmap\n",
    "plt.figure(figsize=(10, 7))\n",
    "sns.heatmap(conf_matrix, annot=True, fmt=\"d\", xticklabels=['1', '0'], yticklabels=['1', '0'],cmap='RdBu')\n",
    "plt.title(\"Confusion Matrix\")\n",
    "plt.ylabel(\"Actual Class\")\n",
    "plt.xlabel(\"Predicted Class\")\n",
    "plt.show()\n",
    "evaluate_result['MLPClassifier']=classification_report(y_test, predictions)\n",
    "\n",
    "print(classification_report(y_test, predictions))"
   ]
  },
  {
   "cell_type": "markdown",
   "id": "cc9cc4e1",
   "metadata": {},
   "source": [
    "### GradientBoostingClassifier"
   ]
  },
  {
   "cell_type": "code",
   "execution_count": 16,
   "id": "75a01eab",
   "metadata": {},
   "outputs": [
    {
     "data": {
      "text/html": [
       "<style>#sk-container-id-5 {color: black;}#sk-container-id-5 pre{padding: 0;}#sk-container-id-5 div.sk-toggleable {background-color: white;}#sk-container-id-5 label.sk-toggleable__label {cursor: pointer;display: block;width: 100%;margin-bottom: 0;padding: 0.3em;box-sizing: border-box;text-align: center;}#sk-container-id-5 label.sk-toggleable__label-arrow:before {content: \"▸\";float: left;margin-right: 0.25em;color: #696969;}#sk-container-id-5 label.sk-toggleable__label-arrow:hover:before {color: black;}#sk-container-id-5 div.sk-estimator:hover label.sk-toggleable__label-arrow:before {color: black;}#sk-container-id-5 div.sk-toggleable__content {max-height: 0;max-width: 0;overflow: hidden;text-align: left;background-color: #f0f8ff;}#sk-container-id-5 div.sk-toggleable__content pre {margin: 0.2em;color: black;border-radius: 0.25em;background-color: #f0f8ff;}#sk-container-id-5 input.sk-toggleable__control:checked~div.sk-toggleable__content {max-height: 200px;max-width: 100%;overflow: auto;}#sk-container-id-5 input.sk-toggleable__control:checked~label.sk-toggleable__label-arrow:before {content: \"▾\";}#sk-container-id-5 div.sk-estimator input.sk-toggleable__control:checked~label.sk-toggleable__label {background-color: #d4ebff;}#sk-container-id-5 div.sk-label input.sk-toggleable__control:checked~label.sk-toggleable__label {background-color: #d4ebff;}#sk-container-id-5 input.sk-hidden--visually {border: 0;clip: rect(1px 1px 1px 1px);clip: rect(1px, 1px, 1px, 1px);height: 1px;margin: -1px;overflow: hidden;padding: 0;position: absolute;width: 1px;}#sk-container-id-5 div.sk-estimator {font-family: monospace;background-color: #f0f8ff;border: 1px dotted black;border-radius: 0.25em;box-sizing: border-box;margin-bottom: 0.5em;}#sk-container-id-5 div.sk-estimator:hover {background-color: #d4ebff;}#sk-container-id-5 div.sk-parallel-item::after {content: \"\";width: 100%;border-bottom: 1px solid gray;flex-grow: 1;}#sk-container-id-5 div.sk-label:hover label.sk-toggleable__label {background-color: #d4ebff;}#sk-container-id-5 div.sk-serial::before {content: \"\";position: absolute;border-left: 1px solid gray;box-sizing: border-box;top: 0;bottom: 0;left: 50%;z-index: 0;}#sk-container-id-5 div.sk-serial {display: flex;flex-direction: column;align-items: center;background-color: white;padding-right: 0.2em;padding-left: 0.2em;position: relative;}#sk-container-id-5 div.sk-item {position: relative;z-index: 1;}#sk-container-id-5 div.sk-parallel {display: flex;align-items: stretch;justify-content: center;background-color: white;position: relative;}#sk-container-id-5 div.sk-item::before, #sk-container-id-5 div.sk-parallel-item::before {content: \"\";position: absolute;border-left: 1px solid gray;box-sizing: border-box;top: 0;bottom: 0;left: 50%;z-index: -1;}#sk-container-id-5 div.sk-parallel-item {display: flex;flex-direction: column;z-index: 1;position: relative;background-color: white;}#sk-container-id-5 div.sk-parallel-item:first-child::after {align-self: flex-end;width: 50%;}#sk-container-id-5 div.sk-parallel-item:last-child::after {align-self: flex-start;width: 50%;}#sk-container-id-5 div.sk-parallel-item:only-child::after {width: 0;}#sk-container-id-5 div.sk-dashed-wrapped {border: 1px dashed gray;margin: 0 0.4em 0.5em 0.4em;box-sizing: border-box;padding-bottom: 0.4em;background-color: white;}#sk-container-id-5 div.sk-label label {font-family: monospace;font-weight: bold;display: inline-block;line-height: 1.2em;}#sk-container-id-5 div.sk-label-container {text-align: center;}#sk-container-id-5 div.sk-container {/* jupyter's `normalize.less` sets `[hidden] { display: none; }` but bootstrap.min.css set `[hidden] { display: none !important; }` so we also need the `!important` here to be able to override the default hidden behavior on the sphinx rendered scikit-learn.org. See: https://github.com/scikit-learn/scikit-learn/issues/21755 */display: inline-block !important;position: relative;}#sk-container-id-5 div.sk-text-repr-fallback {display: none;}</style><div id=\"sk-container-id-5\" class=\"sk-top-container\"><div class=\"sk-text-repr-fallback\"><pre>GradientBoostingClassifier(learning_rate=1.0, max_depth=1, random_state=42)</pre><b>In a Jupyter environment, please rerun this cell to show the HTML representation or trust the notebook. <br />On GitHub, the HTML representation is unable to render, please try loading this page with nbviewer.org.</b></div><div class=\"sk-container\" hidden><div class=\"sk-item\"><div class=\"sk-estimator sk-toggleable\"><input class=\"sk-toggleable__control sk-hidden--visually\" id=\"sk-estimator-id-5\" type=\"checkbox\" checked><label for=\"sk-estimator-id-5\" class=\"sk-toggleable__label sk-toggleable__label-arrow\">GradientBoostingClassifier</label><div class=\"sk-toggleable__content\"><pre>GradientBoostingClassifier(learning_rate=1.0, max_depth=1, random_state=42)</pre></div></div></div></div></div>"
      ],
      "text/plain": [
       "GradientBoostingClassifier(learning_rate=1.0, max_depth=1, random_state=42)"
      ]
     },
     "execution_count": 16,
     "metadata": {},
     "output_type": "execute_result"
    }
   ],
   "source": [
    "supervied_features=x_train[feature_selection['BG']]\n",
    "supervied_target=y_train\n",
    "model=GradientBoostingClassifier(n_estimators=100, learning_rate=1.0, max_depth=1, random_state=42)\n",
    "model.fit(supervied_features,supervied_target)"
   ]
  },
  {
   "cell_type": "code",
   "execution_count": 17,
   "id": "52e290c0",
   "metadata": {},
   "outputs": [
    {
     "data": {
      "image/png": "[encoded data removed]",
      "text/plain": [
       "<Figure size 1000x700 with 2 Axes>"
      ]
     },
     "metadata": {},
     "output_type": "display_data"
    },
    {
     "name": "stdout",
     "output_type": "stream",
     "text": [
      "              precision    recall  f1-score   support\n",
      "\n",
      "           0       0.79      0.92      0.85       182\n",
      "           1       0.65      0.39      0.49        72\n",
      "\n",
      "    accuracy                           0.77       254\n",
      "   macro avg       0.72      0.65      0.67       254\n",
      "weighted avg       0.75      0.77      0.75       254\n",
      "\n"
     ]
    }
   ],
   "source": [
    "predictions = model.predict(x_test[feature_selection['BG']])\n",
    "\n",
    "conf_matrix = confusion_matrix(y_test, predictions,labels=[1,0])\n",
    "\n",
    "# Vẽ heatmap\n",
    "plt.figure(figsize=(10, 7))\n",
    "sns.heatmap(conf_matrix, annot=True, fmt=\"d\", xticklabels=['1', '0'], yticklabels=['1', '0'],cmap='RdBu')\n",
    "plt.title(\"Confusion Matrix\")\n",
    "plt.ylabel(\"Actual Class\")\n",
    "plt.xlabel(\"Predicted Class\")\n",
    "plt.show()\n",
    "evaluate_result['GradientBoostingClassifier']=classification_report(y_test, predictions)\n",
    "\n",
    "print(classification_report(y_test, predictions))"
   ]
  },
  {
   "cell_type": "markdown",
   "id": "6e0cf408",
   "metadata": {},
   "source": [
    "### Kết luận:\n",
    "- Nhìn vào đồ thị có thể thấy giá trị trung vị của mô hình Random Forest là cao nhất theo scoring=\"Accuracy\"\n",
    "- Mô hình LDA là mô hình ít bị biến động nhất và mô hình GD là một mô hình cân đối khi vừa có tỉ lệ ít biến động vừa có khoảng trung vị cao tương đối"
   ]
  },
  {
   "cell_type": "code",
   "execution_count": null,
   "id": "7cba633c",
   "metadata": {},
   "outputs": [],
   "source": []
  },
  {
   "cell_type": "markdown",
   "id": "13d3f27f",
   "metadata": {},
   "source": [
    "### Mô hình SVM\n",
    "      -Tỉ lệ đoán sai ở lớp bị đánh trọng số thấp cao"
   ]
  },
  {
   "cell_type": "code",
   "execution_count": 18,
   "id": "7d55f102",
   "metadata": {},
   "outputs": [
    {
     "data": {
      "text/html": [
       "<style>#sk-container-id-6 {color: black;}#sk-container-id-6 pre{padding: 0;}#sk-container-id-6 div.sk-toggleable {background-color: white;}#sk-container-id-6 label.sk-toggleable__label {cursor: pointer;display: block;width: 100%;margin-bottom: 0;padding: 0.3em;box-sizing: border-box;text-align: center;}#sk-container-id-6 label.sk-toggleable__label-arrow:before {content: \"▸\";float: left;margin-right: 0.25em;color: #696969;}#sk-container-id-6 label.sk-toggleable__label-arrow:hover:before {color: black;}#sk-container-id-6 div.sk-estimator:hover label.sk-toggleable__label-arrow:before {color: black;}#sk-container-id-6 div.sk-toggleable__content {max-height: 0;max-width: 0;overflow: hidden;text-align: left;background-color: #f0f8ff;}#sk-container-id-6 div.sk-toggleable__content pre {margin: 0.2em;color: black;border-radius: 0.25em;background-color: #f0f8ff;}#sk-container-id-6 input.sk-toggleable__control:checked~div.sk-toggleable__content {max-height: 200px;max-width: 100%;overflow: auto;}#sk-container-id-6 input.sk-toggleable__control:checked~label.sk-toggleable__label-arrow:before {content: \"▾\";}#sk-container-id-6 div.sk-estimator input.sk-toggleable__control:checked~label.sk-toggleable__label {background-color: #d4ebff;}#sk-container-id-6 div.sk-label input.sk-toggleable__control:checked~label.sk-toggleable__label {background-color: #d4ebff;}#sk-container-id-6 input.sk-hidden--visually {border: 0;clip: rect(1px 1px 1px 1px);clip: rect(1px, 1px, 1px, 1px);height: 1px;margin: -1px;overflow: hidden;padding: 0;position: absolute;width: 1px;}#sk-container-id-6 div.sk-estimator {font-family: monospace;background-color: #f0f8ff;border: 1px dotted black;border-radius: 0.25em;box-sizing: border-box;margin-bottom: 0.5em;}#sk-container-id-6 div.sk-estimator:hover {background-color: #d4ebff;}#sk-container-id-6 div.sk-parallel-item::after {content: \"\";width: 100%;border-bottom: 1px solid gray;flex-grow: 1;}#sk-container-id-6 div.sk-label:hover label.sk-toggleable__label {background-color: #d4ebff;}#sk-container-id-6 div.sk-serial::before {content: \"\";position: absolute;border-left: 1px solid gray;box-sizing: border-box;top: 0;bottom: 0;left: 50%;z-index: 0;}#sk-container-id-6 div.sk-serial {display: flex;flex-direction: column;align-items: center;background-color: white;padding-right: 0.2em;padding-left: 0.2em;position: relative;}#sk-container-id-6 div.sk-item {position: relative;z-index: 1;}#sk-container-id-6 div.sk-parallel {display: flex;align-items: stretch;justify-content: center;background-color: white;position: relative;}#sk-container-id-6 div.sk-item::before, #sk-container-id-6 div.sk-parallel-item::before {content: \"\";position: absolute;border-left: 1px solid gray;box-sizing: border-box;top: 0;bottom: 0;left: 50%;z-index: -1;}#sk-container-id-6 div.sk-parallel-item {display: flex;flex-direction: column;z-index: 1;position: relative;background-color: white;}#sk-container-id-6 div.sk-parallel-item:first-child::after {align-self: flex-end;width: 50%;}#sk-container-id-6 div.sk-parallel-item:last-child::after {align-self: flex-start;width: 50%;}#sk-container-id-6 div.sk-parallel-item:only-child::after {width: 0;}#sk-container-id-6 div.sk-dashed-wrapped {border: 1px dashed gray;margin: 0 0.4em 0.5em 0.4em;box-sizing: border-box;padding-bottom: 0.4em;background-color: white;}#sk-container-id-6 div.sk-label label {font-family: monospace;font-weight: bold;display: inline-block;line-height: 1.2em;}#sk-container-id-6 div.sk-label-container {text-align: center;}#sk-container-id-6 div.sk-container {/* jupyter's `normalize.less` sets `[hidden] { display: none; }` but bootstrap.min.css set `[hidden] { display: none !important; }` so we also need the `!important` here to be able to override the default hidden behavior on the sphinx rendered scikit-learn.org. See: https://github.com/scikit-learn/scikit-learn/issues/21755 */display: inline-block !important;position: relative;}#sk-container-id-6 div.sk-text-repr-fallback {display: none;}</style><div id=\"sk-container-id-6\" class=\"sk-top-container\"><div class=\"sk-text-repr-fallback\"><pre>SVC(class_weight={0: 0.6325301204819277, 1: 2.3863636363636362})</pre><b>In a Jupyter environment, please rerun this cell to show the HTML representation or trust the notebook. <br />On GitHub, the HTML representation is unable to render, please try loading this page with nbviewer.org.</b></div><div class=\"sk-container\" hidden><div class=\"sk-item\"><div class=\"sk-estimator sk-toggleable\"><input class=\"sk-toggleable__control sk-hidden--visually\" id=\"sk-estimator-id-6\" type=\"checkbox\" checked><label for=\"sk-estimator-id-6\" class=\"sk-toggleable__label sk-toggleable__label-arrow\">SVC</label><div class=\"sk-toggleable__content\"><pre>SVC(class_weight={0: 0.6325301204819277, 1: 2.3863636363636362})</pre></div></div></div></div></div>"
      ],
      "text/plain": [
       "SVC(class_weight={0: 0.6325301204819277, 1: 2.3863636363636362})"
      ]
     },
     "execution_count": 18,
     "metadata": {},
     "output_type": "execute_result"
    }
   ],
   "source": [
    "supervied_features=x_train[feature_selection['SVM']]\n",
    "supervied_target=y_train\n",
    "model=SVC(class_weight=class_weights_dict)\n",
    "model.fit(supervied_features,supervied_target)"
   ]
  },
  {
   "cell_type": "code",
   "execution_count": 19,
   "id": "5e224f52",
   "metadata": {},
   "outputs": [
    {
     "data": {
      "image/png": "[encoded data removed]",
      "text/plain": [
       "<Figure size 1000x700 with 2 Axes>"
      ]
     },
     "metadata": {},
     "output_type": "display_data"
    },
    {
     "name": "stdout",
     "output_type": "stream",
     "text": [
      "              precision    recall  f1-score   support\n",
      "\n",
      "           0       0.85      0.69      0.76       182\n",
      "           1       0.47      0.68      0.55        72\n",
      "\n",
      "    accuracy                           0.69       254\n",
      "   macro avg       0.66      0.69      0.66       254\n",
      "weighted avg       0.74      0.69      0.70       254\n",
      "\n"
     ]
    }
   ],
   "source": [
    "predictions = model.predict(x_test[feature_selection['SVM']])\n",
    "\n",
    "conf_matrix = confusion_matrix(y_test, predictions,labels=[1,0])\n",
    "\n",
    "# Vẽ heatmap\n",
    "plt.figure(figsize=(10, 7))\n",
    "sns.heatmap(conf_matrix, annot=True, fmt=\"d\", xticklabels=['1', '0'], yticklabels=['1', '0'],cmap='RdBu')\n",
    "plt.title(\"Confusion Matrix\")\n",
    "plt.ylabel(\"Actual Class\")\n",
    "plt.xlabel(\"Predicted Class\")\n",
    "plt.show()\n",
    "evaluate_result['SVM']=classification_report(y_test, predictions)\n",
    "\n",
    "print(classification_report(y_test, predictions))"
   ]
  },
  {
   "cell_type": "markdown",
   "id": "3d29cb86",
   "metadata": {},
   "source": [
    "### Mô hình LDA\n",
    "    -Có kết quả đứng thứ hai, tập test được đánh giá có kết quả khả quan"
   ]
  },
  {
   "cell_type": "code",
   "execution_count": 20,
   "id": "5e36de3b",
   "metadata": {},
   "outputs": [
    {
     "data": {
      "text/html": [
       "<style>#sk-container-id-7 {color: black;}#sk-container-id-7 pre{padding: 0;}#sk-container-id-7 div.sk-toggleable {background-color: white;}#sk-container-id-7 label.sk-toggleable__label {cursor: pointer;display: block;width: 100%;margin-bottom: 0;padding: 0.3em;box-sizing: border-box;text-align: center;}#sk-container-id-7 label.sk-toggleable__label-arrow:before {content: \"▸\";float: left;margin-right: 0.25em;color: #696969;}#sk-container-id-7 label.sk-toggleable__label-arrow:hover:before {color: black;}#sk-container-id-7 div.sk-estimator:hover label.sk-toggleable__label-arrow:before {color: black;}#sk-container-id-7 div.sk-toggleable__content {max-height: 0;max-width: 0;overflow: hidden;text-align: left;background-color: #f0f8ff;}#sk-container-id-7 div.sk-toggleable__content pre {margin: 0.2em;color: black;border-radius: 0.25em;background-color: #f0f8ff;}#sk-container-id-7 input.sk-toggleable__control:checked~div.sk-toggleable__content {max-height: 200px;max-width: 100%;overflow: auto;}#sk-container-id-7 input.sk-toggleable__control:checked~label.sk-toggleable__label-arrow:before {content: \"▾\";}#sk-container-id-7 div.sk-estimator input.sk-toggleable__control:checked~label.sk-toggleable__label {background-color: #d4ebff;}#sk-container-id-7 div.sk-label input.sk-toggleable__control:checked~label.sk-toggleable__label {background-color: #d4ebff;}#sk-container-id-7 input.sk-hidden--visually {border: 0;clip: rect(1px 1px 1px 1px);clip: rect(1px, 1px, 1px, 1px);height: 1px;margin: -1px;overflow: hidden;padding: 0;position: absolute;width: 1px;}#sk-container-id-7 div.sk-estimator {font-family: monospace;background-color: #f0f8ff;border: 1px dotted black;border-radius: 0.25em;box-sizing: border-box;margin-bottom: 0.5em;}#sk-container-id-7 div.sk-estimator:hover {background-color: #d4ebff;}#sk-container-id-7 div.sk-parallel-item::after {content: \"\";width: 100%;border-bottom: 1px solid gray;flex-grow: 1;}#sk-container-id-7 div.sk-label:hover label.sk-toggleable__label {background-color: #d4ebff;}#sk-container-id-7 div.sk-serial::before {content: \"\";position: absolute;border-left: 1px solid gray;box-sizing: border-box;top: 0;bottom: 0;left: 50%;z-index: 0;}#sk-container-id-7 div.sk-serial {display: flex;flex-direction: column;align-items: center;background-color: white;padding-right: 0.2em;padding-left: 0.2em;position: relative;}#sk-container-id-7 div.sk-item {position: relative;z-index: 1;}#sk-container-id-7 div.sk-parallel {display: flex;align-items: stretch;justify-content: center;background-color: white;position: relative;}#sk-container-id-7 div.sk-item::before, #sk-container-id-7 div.sk-parallel-item::before {content: \"\";position: absolute;border-left: 1px solid gray;box-sizing: border-box;top: 0;bottom: 0;left: 50%;z-index: -1;}#sk-container-id-7 div.sk-parallel-item {display: flex;flex-direction: column;z-index: 1;position: relative;background-color: white;}#sk-container-id-7 div.sk-parallel-item:first-child::after {align-self: flex-end;width: 50%;}#sk-container-id-7 div.sk-parallel-item:last-child::after {align-self: flex-start;width: 50%;}#sk-container-id-7 div.sk-parallel-item:only-child::after {width: 0;}#sk-container-id-7 div.sk-dashed-wrapped {border: 1px dashed gray;margin: 0 0.4em 0.5em 0.4em;box-sizing: border-box;padding-bottom: 0.4em;background-color: white;}#sk-container-id-7 div.sk-label label {font-family: monospace;font-weight: bold;display: inline-block;line-height: 1.2em;}#sk-container-id-7 div.sk-label-container {text-align: center;}#sk-container-id-7 div.sk-container {/* jupyter's `normalize.less` sets `[hidden] { display: none; }` but bootstrap.min.css set `[hidden] { display: none !important; }` so we also need the `!important` here to be able to override the default hidden behavior on the sphinx rendered scikit-learn.org. See: https://github.com/scikit-learn/scikit-learn/issues/21755 */display: inline-block !important;position: relative;}#sk-container-id-7 div.sk-text-repr-fallback {display: none;}</style><div id=\"sk-container-id-7\" class=\"sk-top-container\"><div class=\"sk-text-repr-fallback\"><pre>LinearDiscriminantAnalysis()</pre><b>In a Jupyter environment, please rerun this cell to show the HTML representation or trust the notebook. <br />On GitHub, the HTML representation is unable to render, please try loading this page with nbviewer.org.</b></div><div class=\"sk-container\" hidden><div class=\"sk-item\"><div class=\"sk-estimator sk-toggleable\"><input class=\"sk-toggleable__control sk-hidden--visually\" id=\"sk-estimator-id-7\" type=\"checkbox\" checked><label for=\"sk-estimator-id-7\" class=\"sk-toggleable__label sk-toggleable__label-arrow\">LinearDiscriminantAnalysis</label><div class=\"sk-toggleable__content\"><pre>LinearDiscriminantAnalysis()</pre></div></div></div></div></div>"
      ],
      "text/plain": [
       "LinearDiscriminantAnalysis()"
      ]
     },
     "execution_count": 20,
     "metadata": {},
     "output_type": "execute_result"
    }
   ],
   "source": [
    "supervied_features=x_train[feature_selection['LDA']]\n",
    "supervied_target=y_train\n",
    "model=LinearDiscriminantAnalysis()\n",
    "model.fit(supervied_features,supervied_target)"
   ]
  },
  {
   "cell_type": "code",
   "execution_count": 21,
   "id": "316fbac8",
   "metadata": {},
   "outputs": [
    {
     "data": {
      "image/png": "[encoded data removed]",
      "text/plain": [
       "<Figure size 1000x700 with 2 Axes>"
      ]
     },
     "metadata": {},
     "output_type": "display_data"
    },
    {
     "name": "stdout",
     "output_type": "stream",
     "text": [
      "              precision    recall  f1-score   support\n",
      "\n",
      "           0       0.77      0.88      0.82       182\n",
      "           1       0.52      0.32      0.40        72\n",
      "\n",
      "    accuracy                           0.72       254\n",
      "   macro avg       0.64      0.60      0.61       254\n",
      "weighted avg       0.70      0.72      0.70       254\n",
      "\n"
     ]
    }
   ],
   "source": [
    "predictions = model.predict(x_test[feature_selection['LDA']])\n",
    "\n",
    "conf_matrix = confusion_matrix(y_test, predictions,labels=[1,0])\n",
    "\n",
    "# Vẽ heatmap\n",
    "plt.figure(figsize=(10, 7))\n",
    "sns.heatmap(conf_matrix, annot=True, fmt=\"d\", xticklabels=['1', '0'], yticklabels=['1', '0'],cmap='RdBu')\n",
    "plt.title(\"Confusion Matrix\")\n",
    "plt.ylabel(\"Actual Class\")\n",
    "plt.xlabel(\"Predicted Class\")\n",
    "plt.show()\n",
    "evaluate_result['LDA']=classification_report(y_test, predictions)\n",
    "\n",
    "# Hiển thị báo cáo phân loại để xem thêm thông tin chi tiết\n",
    "print(classification_report(y_test, predictions))"
   ]
  },
  {
   "cell_type": "markdown",
   "id": "d99a5eb9",
   "metadata": {},
   "source": [
    "## 2 Mô hình đạt điểm cao nhất là:\n",
    "    -RD: RandomForest\n",
    "    -CART: DecisionTreeClassifer\n"
   ]
  },
  {
   "cell_type": "markdown",
   "id": "81fca4f6",
   "metadata": {},
   "source": [
    "### DecisionTreeClassifer"
   ]
  },
  {
   "cell_type": "code",
   "execution_count": 22,
   "id": "ee8d893b",
   "metadata": {},
   "outputs": [
    {
     "data": {
      "text/html": [
       "<style>#sk-container-id-8 {color: black;}#sk-container-id-8 pre{padding: 0;}#sk-container-id-8 div.sk-toggleable {background-color: white;}#sk-container-id-8 label.sk-toggleable__label {cursor: pointer;display: block;width: 100%;margin-bottom: 0;padding: 0.3em;box-sizing: border-box;text-align: center;}#sk-container-id-8 label.sk-toggleable__label-arrow:before {content: \"▸\";float: left;margin-right: 0.25em;color: #696969;}#sk-container-id-8 label.sk-toggleable__label-arrow:hover:before {color: black;}#sk-container-id-8 div.sk-estimator:hover label.sk-toggleable__label-arrow:before {color: black;}#sk-container-id-8 div.sk-toggleable__content {max-height: 0;max-width: 0;overflow: hidden;text-align: left;background-color: #f0f8ff;}#sk-container-id-8 div.sk-toggleable__content pre {margin: 0.2em;color: black;border-radius: 0.25em;background-color: #f0f8ff;}#sk-container-id-8 input.sk-toggleable__control:checked~div.sk-toggleable__content {max-height: 200px;max-width: 100%;overflow: auto;}#sk-container-id-8 input.sk-toggleable__control:checked~label.sk-toggleable__label-arrow:before {content: \"▾\";}#sk-container-id-8 div.sk-estimator input.sk-toggleable__control:checked~label.sk-toggleable__label {background-color: #d4ebff;}#sk-container-id-8 div.sk-label input.sk-toggleable__control:checked~label.sk-toggleable__label {background-color: #d4ebff;}#sk-container-id-8 input.sk-hidden--visually {border: 0;clip: rect(1px 1px 1px 1px);clip: rect(1px, 1px, 1px, 1px);height: 1px;margin: -1px;overflow: hidden;padding: 0;position: absolute;width: 1px;}#sk-container-id-8 div.sk-estimator {font-family: monospace;background-color: #f0f8ff;border: 1px dotted black;border-radius: 0.25em;box-sizing: border-box;margin-bottom: 0.5em;}#sk-container-id-8 div.sk-estimator:hover {background-color: #d4ebff;}#sk-container-id-8 div.sk-parallel-item::after {content: \"\";width: 100%;border-bottom: 1px solid gray;flex-grow: 1;}#sk-container-id-8 div.sk-label:hover label.sk-toggleable__label {background-color: #d4ebff;}#sk-container-id-8 div.sk-serial::before {content: \"\";position: absolute;border-left: 1px solid gray;box-sizing: border-box;top: 0;bottom: 0;left: 50%;z-index: 0;}#sk-container-id-8 div.sk-serial {display: flex;flex-direction: column;align-items: center;background-color: white;padding-right: 0.2em;padding-left: 0.2em;position: relative;}#sk-container-id-8 div.sk-item {position: relative;z-index: 1;}#sk-container-id-8 div.sk-parallel {display: flex;align-items: stretch;justify-content: center;background-color: white;position: relative;}#sk-container-id-8 div.sk-item::before, #sk-container-id-8 div.sk-parallel-item::before {content: \"\";position: absolute;border-left: 1px solid gray;box-sizing: border-box;top: 0;bottom: 0;left: 50%;z-index: -1;}#sk-container-id-8 div.sk-parallel-item {display: flex;flex-direction: column;z-index: 1;position: relative;background-color: white;}#sk-container-id-8 div.sk-parallel-item:first-child::after {align-self: flex-end;width: 50%;}#sk-container-id-8 div.sk-parallel-item:last-child::after {align-self: flex-start;width: 50%;}#sk-container-id-8 div.sk-parallel-item:only-child::after {width: 0;}#sk-container-id-8 div.sk-dashed-wrapped {border: 1px dashed gray;margin: 0 0.4em 0.5em 0.4em;box-sizing: border-box;padding-bottom: 0.4em;background-color: white;}#sk-container-id-8 div.sk-label label {font-family: monospace;font-weight: bold;display: inline-block;line-height: 1.2em;}#sk-container-id-8 div.sk-label-container {text-align: center;}#sk-container-id-8 div.sk-container {/* jupyter's `normalize.less` sets `[hidden] { display: none; }` but bootstrap.min.css set `[hidden] { display: none !important; }` so we also need the `!important` here to be able to override the default hidden behavior on the sphinx rendered scikit-learn.org. See: https://github.com/scikit-learn/scikit-learn/issues/21755 */display: inline-block !important;position: relative;}#sk-container-id-8 div.sk-text-repr-fallback {display: none;}</style><div id=\"sk-container-id-8\" class=\"sk-top-container\"><div class=\"sk-text-repr-fallback\"><pre>DecisionTreeClassifier(class_weight={0: 0.6325301204819277,\n",
       "                                     1: 2.3863636363636362})</pre><b>In a Jupyter environment, please rerun this cell to show the HTML representation or trust the notebook. <br />On GitHub, the HTML representation is unable to render, please try loading this page with nbviewer.org.</b></div><div class=\"sk-container\" hidden><div class=\"sk-item\"><div class=\"sk-estimator sk-toggleable\"><input class=\"sk-toggleable__control sk-hidden--visually\" id=\"sk-estimator-id-8\" type=\"checkbox\" checked><label for=\"sk-estimator-id-8\" class=\"sk-toggleable__label sk-toggleable__label-arrow\">DecisionTreeClassifier</label><div class=\"sk-toggleable__content\"><pre>DecisionTreeClassifier(class_weight={0: 0.6325301204819277,\n",
       "                                     1: 2.3863636363636362})</pre></div></div></div></div></div>"
      ],
      "text/plain": [
       "DecisionTreeClassifier(class_weight={0: 0.6325301204819277,\n",
       "                                     1: 2.3863636363636362})"
      ]
     },
     "execution_count": 22,
     "metadata": {},
     "output_type": "execute_result"
    }
   ],
   "source": [
    "supervied_features=x_train[feature_selection['DTC']]\n",
    "supervied_target=y_train\n",
    "model=DecisionTreeClassifier(class_weight=class_weights_dict)\n",
    "model.fit(supervied_features,supervied_target)"
   ]
  },
  {
   "cell_type": "code",
   "execution_count": 23,
   "id": "d0c39654",
   "metadata": {},
   "outputs": [
    {
     "data": {
      "image/png": "[encoded data removed]",
      "text/plain": [
       "<Figure size 1000x700 with 2 Axes>"
      ]
     },
     "metadata": {},
     "output_type": "display_data"
    },
    {
     "name": "stdout",
     "output_type": "stream",
     "text": [
      "              precision    recall  f1-score   support\n",
      "\n",
      "           0       0.85      0.88      0.86       182\n",
      "           1       0.66      0.60      0.63        72\n",
      "\n",
      "    accuracy                           0.80       254\n",
      "   macro avg       0.75      0.74      0.75       254\n",
      "weighted avg       0.79      0.80      0.80       254\n",
      "\n"
     ]
    }
   ],
   "source": [
    "predictions = model.predict(x_test[feature_selection['DTC']])\n",
    "\n",
    "conf_matrix = confusion_matrix(y_test, predictions,labels=[1,0])\n",
    "\n",
    "# Vẽ heatmap\n",
    "plt.figure(figsize=(10, 7))\n",
    "sns.heatmap(conf_matrix, annot=True, fmt=\"d\", xticklabels=['1', '0'], yticklabels=['1', '0'],cmap='RdBu')\n",
    "plt.title(\"Confusion Matrix\")\n",
    "plt.ylabel(\"Actual Class\")\n",
    "plt.xlabel(\"Predicted Class\")\n",
    "plt.show()\n",
    "evaluate_result['DecisionTreeClassifer']=classification_report(y_test, predictions)\n",
    "print(classification_report(y_test, predictions))"
   ]
  },
  {
   "cell_type": "markdown",
   "id": "a121d659",
   "metadata": {},
   "source": [
    "### Mô hình Random Forest\n",
    "    - Có dấu hiệu tích cực hơn SVM"
   ]
  },
  {
   "cell_type": "code",
   "execution_count": 24,
   "id": "0fc8b61d",
   "metadata": {},
   "outputs": [
    {
     "data": {
      "text/html": [
       "<style>#sk-container-id-9 {color: black;}#sk-container-id-9 pre{padding: 0;}#sk-container-id-9 div.sk-toggleable {background-color: white;}#sk-container-id-9 label.sk-toggleable__label {cursor: pointer;display: block;width: 100%;margin-bottom: 0;padding: 0.3em;box-sizing: border-box;text-align: center;}#sk-container-id-9 label.sk-toggleable__label-arrow:before {content: \"▸\";float: left;margin-right: 0.25em;color: #696969;}#sk-container-id-9 label.sk-toggleable__label-arrow:hover:before {color: black;}#sk-container-id-9 div.sk-estimator:hover label.sk-toggleable__label-arrow:before {color: black;}#sk-container-id-9 div.sk-toggleable__content {max-height: 0;max-width: 0;overflow: hidden;text-align: left;background-color: #f0f8ff;}#sk-container-id-9 div.sk-toggleable__content pre {margin: 0.2em;color: black;border-radius: 0.25em;background-color: #f0f8ff;}#sk-container-id-9 input.sk-toggleable__control:checked~div.sk-toggleable__content {max-height: 200px;max-width: 100%;overflow: auto;}#sk-container-id-9 input.sk-toggleable__control:checked~label.sk-toggleable__label-arrow:before {content: \"▾\";}#sk-container-id-9 div.sk-estimator input.sk-toggleable__control:checked~label.sk-toggleable__label {background-color: #d4ebff;}#sk-container-id-9 div.sk-label input.sk-toggleable__control:checked~label.sk-toggleable__label {background-color: #d4ebff;}#sk-container-id-9 input.sk-hidden--visually {border: 0;clip: rect(1px 1px 1px 1px);clip: rect(1px, 1px, 1px, 1px);height: 1px;margin: -1px;overflow: hidden;padding: 0;position: absolute;width: 1px;}#sk-container-id-9 div.sk-estimator {font-family: monospace;background-color: #f0f8ff;border: 1px dotted black;border-radius: 0.25em;box-sizing: border-box;margin-bottom: 0.5em;}#sk-container-id-9 div.sk-estimator:hover {background-color: #d4ebff;}#sk-container-id-9 div.sk-parallel-item::after {content: \"\";width: 100%;border-bottom: 1px solid gray;flex-grow: 1;}#sk-container-id-9 div.sk-label:hover label.sk-toggleable__label {background-color: #d4ebff;}#sk-container-id-9 div.sk-serial::before {content: \"\";position: absolute;border-left: 1px solid gray;box-sizing: border-box;top: 0;bottom: 0;left: 50%;z-index: 0;}#sk-container-id-9 div.sk-serial {display: flex;flex-direction: column;align-items: center;background-color: white;padding-right: 0.2em;padding-left: 0.2em;position: relative;}#sk-container-id-9 div.sk-item {position: relative;z-index: 1;}#sk-container-id-9 div.sk-parallel {display: flex;align-items: stretch;justify-content: center;background-color: white;position: relative;}#sk-container-id-9 div.sk-item::before, #sk-container-id-9 div.sk-parallel-item::before {content: \"\";position: absolute;border-left: 1px solid gray;box-sizing: border-box;top: 0;bottom: 0;left: 50%;z-index: -1;}#sk-container-id-9 div.sk-parallel-item {display: flex;flex-direction: column;z-index: 1;position: relative;background-color: white;}#sk-container-id-9 div.sk-parallel-item:first-child::after {align-self: flex-end;width: 50%;}#sk-container-id-9 div.sk-parallel-item:last-child::after {align-self: flex-start;width: 50%;}#sk-container-id-9 div.sk-parallel-item:only-child::after {width: 0;}#sk-container-id-9 div.sk-dashed-wrapped {border: 1px dashed gray;margin: 0 0.4em 0.5em 0.4em;box-sizing: border-box;padding-bottom: 0.4em;background-color: white;}#sk-container-id-9 div.sk-label label {font-family: monospace;font-weight: bold;display: inline-block;line-height: 1.2em;}#sk-container-id-9 div.sk-label-container {text-align: center;}#sk-container-id-9 div.sk-container {/* jupyter's `normalize.less` sets `[hidden] { display: none; }` but bootstrap.min.css set `[hidden] { display: none !important; }` so we also need the `!important` here to be able to override the default hidden behavior on the sphinx rendered scikit-learn.org. See: https://github.com/scikit-learn/scikit-learn/issues/21755 */display: inline-block !important;position: relative;}#sk-container-id-9 div.sk-text-repr-fallback {display: none;}</style><div id=\"sk-container-id-9\" class=\"sk-top-container\"><div class=\"sk-text-repr-fallback\"><pre>RandomForestClassifier(class_weight={0: 0.6325301204819277,\n",
       "                                     1: 2.3863636363636362},\n",
       "                       random_state=42)</pre><b>In a Jupyter environment, please rerun this cell to show the HTML representation or trust the notebook. <br />On GitHub, the HTML representation is unable to render, please try loading this page with nbviewer.org.</b></div><div class=\"sk-container\" hidden><div class=\"sk-item\"><div class=\"sk-estimator sk-toggleable\"><input class=\"sk-toggleable__control sk-hidden--visually\" id=\"sk-estimator-id-9\" type=\"checkbox\" checked><label for=\"sk-estimator-id-9\" class=\"sk-toggleable__label sk-toggleable__label-arrow\">RandomForestClassifier</label><div class=\"sk-toggleable__content\"><pre>RandomForestClassifier(class_weight={0: 0.6325301204819277,\n",
       "                                     1: 2.3863636363636362},\n",
       "                       random_state=42)</pre></div></div></div></div></div>"
      ],
      "text/plain": [
       "RandomForestClassifier(class_weight={0: 0.6325301204819277,\n",
       "                                     1: 2.3863636363636362},\n",
       "                       random_state=42)"
      ]
     },
     "execution_count": 24,
     "metadata": {},
     "output_type": "execute_result"
    }
   ],
   "source": [
    "supervied_features=x_train[feature_selection['RD']]\n",
    "supervied_target=y_train\n",
    "model=RandomForestClassifier(n_estimators=100, random_state=42,class_weight=class_weights_dict)\n",
    "model.fit(supervied_features,supervied_target)"
   ]
  },
  {
   "cell_type": "code",
   "execution_count": 25,
   "id": "a1d5ab80",
   "metadata": {},
   "outputs": [
    {
     "data": {
      "image/png": "[encoded data removed]",
      "text/plain": [
       "<Figure size 1000x700 with 2 Axes>"
      ]
     },
     "metadata": {},
     "output_type": "display_data"
    },
    {
     "name": "stdout",
     "output_type": "stream",
     "text": [
      "              precision    recall  f1-score   support\n",
      "\n",
      "           0       0.78      0.91      0.84       182\n",
      "           1       0.60      0.33      0.43        72\n",
      "\n",
      "    accuracy                           0.75       254\n",
      "   macro avg       0.69      0.62      0.63       254\n",
      "weighted avg       0.73      0.75      0.72       254\n",
      "\n"
     ]
    }
   ],
   "source": [
    "predictions = model.predict(x_test[feature_selection['RD']])\n",
    "\n",
    "# Tạo ma trận nhầm lẫn\n",
    "conf_matrix = confusion_matrix(y_test, predictions,labels=[1,0])\n",
    "\n",
    "# Vẽ heatmap\n",
    "plt.figure(figsize=(10, 7))\n",
    "sns.heatmap(conf_matrix, annot=True, fmt=\"d\", xticklabels=['1', '0'], yticklabels=['1', '0'],cmap='RdBu')\n",
    "plt.title(\"Confusion Matrix\")\n",
    "plt.ylabel(\"Actual Class\")\n",
    "plt.xlabel(\"Predicted Class\")\n",
    "plt.show()\n",
    "evaluate_result['RD']=classification_report(y_test, predictions)\n",
    "\n",
    "# Hiển thị báo cáo phân loại để xem thêm thông tin chi tiết\n",
    "print(classification_report(y_test, predictions))"
   ]
  },
  {
   "cell_type": "code",
   "execution_count": 26,
   "id": "0ea619ba",
   "metadata": {},
   "outputs": [
    {
     "name": "stdout",
     "output_type": "stream",
     "text": [
      "LogisticRegression\n",
      "              precision    recall  f1-score   support\n",
      "\n",
      "           0       0.86      0.74      0.80       182\n",
      "           1       0.52      0.71      0.60        72\n",
      "\n",
      "    accuracy                           0.73       254\n",
      "   macro avg       0.69      0.72      0.70       254\n",
      "weighted avg       0.77      0.73      0.74       254\n",
      "\n",
      "GaussianNB\n",
      "              precision    recall  f1-score   support\n",
      "\n",
      "           0       0.79      0.82      0.80       182\n",
      "           1       0.49      0.44      0.47        72\n",
      "\n",
      "    accuracy                           0.71       254\n",
      "   macro avg       0.64      0.63      0.64       254\n",
      "weighted avg       0.70      0.71      0.71       254\n",
      "\n",
      "MultinomialNB\n",
      "              precision    recall  f1-score   support\n",
      "\n",
      "           0       0.72      0.96      0.82       182\n",
      "           1       0.33      0.06      0.10        72\n",
      "\n",
      "    accuracy                           0.70       254\n",
      "   macro avg       0.53      0.51      0.46       254\n",
      "weighted avg       0.61      0.70      0.62       254\n",
      "\n",
      "MLPClassifier\n",
      "              precision    recall  f1-score   support\n",
      "\n",
      "           0       0.74      0.91      0.81       182\n",
      "           1       0.45      0.19      0.27        72\n",
      "\n",
      "    accuracy                           0.70       254\n",
      "   macro avg       0.60      0.55      0.54       254\n",
      "weighted avg       0.66      0.70      0.66       254\n",
      "\n",
      "GradientBoostingClassifier\n",
      "              precision    recall  f1-score   support\n",
      "\n",
      "           0       0.79      0.92      0.85       182\n",
      "           1       0.65      0.39      0.49        72\n",
      "\n",
      "    accuracy                           0.77       254\n",
      "   macro avg       0.72      0.65      0.67       254\n",
      "weighted avg       0.75      0.77      0.75       254\n",
      "\n",
      "SVM\n",
      "              precision    recall  f1-score   support\n",
      "\n",
      "           0       0.85      0.69      0.76       182\n",
      "           1       0.47      0.68      0.55        72\n",
      "\n",
      "    accuracy                           0.69       254\n",
      "   macro avg       0.66      0.69      0.66       254\n",
      "weighted avg       0.74      0.69      0.70       254\n",
      "\n",
      "LDA\n",
      "              precision    recall  f1-score   support\n",
      "\n",
      "           0       0.77      0.88      0.82       182\n",
      "           1       0.52      0.32      0.40        72\n",
      "\n",
      "    accuracy                           0.72       254\n",
      "   macro avg       0.64      0.60      0.61       254\n",
      "weighted avg       0.70      0.72      0.70       254\n",
      "\n",
      "DecisionTreeClassifer\n",
      "              precision    recall  f1-score   support\n",
      "\n",
      "           0       0.85      0.88      0.86       182\n",
      "           1       0.66      0.60      0.63        72\n",
      "\n",
      "    accuracy                           0.80       254\n",
      "   macro avg       0.75      0.74      0.75       254\n",
      "weighted avg       0.79      0.80      0.80       254\n",
      "\n",
      "RD\n",
      "              precision    recall  f1-score   support\n",
      "\n",
      "           0       0.78      0.91      0.84       182\n",
      "           1       0.60      0.33      0.43        72\n",
      "\n",
      "    accuracy                           0.75       254\n",
      "   macro avg       0.69      0.62      0.63       254\n",
      "weighted avg       0.73      0.75      0.72       254\n",
      "\n"
     ]
    }
   ],
   "source": [
    "for x,y in evaluate_result.items():\n",
    "    print(x)\n",
    "    print(y)"
   ]
  },
  {
   "cell_type": "markdown",
   "id": "99eb0699",
   "metadata": {},
   "source": [
    "### Nhận xét dựa trên kết quả của tập Test\n",
    "DecisionTreeClassifier: Mô hình này có độ chính xác cao nhất (80%) so với các mô hình khác. Precision và Recall của nó cũng khá cân đối (0.85 và 0.88 cho lớp 0, 0.66 và 0.60 cho lớp 1), cho thấy mô hình này có hiệu suất tốt trong việc phân loại cả hai lớp.\n",
    "\n",
    "GradientBoostingClassifier: Mô hình này có độ chính xác thứ hai cao nhất (77%) và Precision cao (0.79 cho lớp 0 và 0.65 cho lớp 1). Tuy nhiên, Recall của lớp 1 khá thấp (0.39), cho thấy mô hình này có thể bỏ sót một số trường hợp gian lận.\n",
    "\n",
    "Dựa trên các dữ liệu tập test ta thấy mô hình DecisionTreeClassifier  là lựa chọn tốt nhất cho bài toán dự đoán hồ sơ gian lận của bạn, do chúng có độ chính xác và Precision cao, cùng với Recall cân đối giữa hai lớp."
   ]
  },
  {
   "cell_type": "markdown",
   "id": "f79a7ebb",
   "metadata": {},
   "source": [
    "### Nhận xét kết quả từ tập test và tập train\n",
    "Khi so sánh kết quả giữa tập test và tập train, ta thấy rằng các chỉ số đánh giá trên tập test có xu hướng thấp hơn. Điều này là bình thường vì mô hình thường hoạt động tốt hơn trên dữ liệu mà nó đã được huấn luyện. Tuy nhiên, nếu sự khác biệt giữa hiệu suất trên tập train và tập test quá lớn, điều này có thể là dấu hiệu của hiện tượng quá khớp (overfitting), tức mô hình hoạt động tốt trên tập train nhưng không tốt trên dữ liệu mới."
   ]
  },
  {
   "cell_type": "code",
   "execution_count": 27,
   "id": "ffe10617",
   "metadata": {},
   "outputs": [],
   "source": [
    "def check_result(prediction):\n",
    "    if isinstance(prediction, (np.ndarray, pd.Series)):\n",
    "        prediction = prediction.item()  # Hoặc sử dụng prediction[0] hoặc prediction.iloc[0]\n",
    "    if prediction==1:\n",
    "        return \"Y\"\n",
    "    else:\n",
    "        return \"N\""
   ]
  },
  {
   "cell_type": "code",
   "execution_count": null,
   "id": "fe808724",
   "metadata": {},
   "outputs": [],
   "source": []
  },
  {
   "cell_type": "code",
   "execution_count": 28,
   "id": "d8b81715",
   "metadata": {},
   "outputs": [],
   "source": [
    "def check_output(stt,model, X_test, Y_test):\n",
    "    print(f\"Lần thứ {stt}: \")\n",
    "    indx = rd.randint(0, X_test.shape[0] - 1)  # Đảm bảo indx nằm trong giới hạn của DataFrame\n",
    "    sample = X_test.iloc[indx, :].values        # Chuyển DataFrame thành mảng NumPy\n",
    "    sample = np.expand_dims(sample, axis=0)     # Mở rộng kích thước cho phù hợp với mô hình\n",
    "    y_predict = model.predict(sample)\n",
    "    Y_check = check_result(Y_test.iloc[indx])\n",
    "    print('True:', Y_check)\n",
    "    print('Predicted:', check_result(y_predict))\n",
    "    print(\"----------------------------\")\n",
    "    if Y_check==check_result(y_predict):\n",
    "        return True\n",
    "    else: return False\n",
    "    \n",
    "    "
   ]
  },
  {
   "cell_type": "code",
   "execution_count": 29,
   "id": "8e3eefa4",
   "metadata": {},
   "outputs": [
    {
     "name": "stdout",
     "output_type": "stream",
     "text": [
      "Lần thứ 1: \n",
      "True: Y\n",
      "Predicted: Y\n",
      "----------------------------\n",
      "Lần thứ 2: \n",
      "True: Y\n",
      "Predicted: N\n",
      "----------------------------\n",
      "Lần thứ 3: \n",
      "True: N\n",
      "Predicted: N\n",
      "----------------------------\n",
      "Lần thứ 4: \n",
      "True: Y\n",
      "Predicted: N\n",
      "----------------------------\n",
      "Lần thứ 5: \n",
      "True: Y\n",
      "Predicted: N\n",
      "----------------------------\n",
      "Lần thứ 6: \n",
      "True: N\n",
      "Predicted: N\n",
      "----------------------------\n",
      "Lần thứ 7: \n",
      "True: Y\n",
      "Predicted: N\n",
      "----------------------------\n",
      "Lần thứ 8: \n",
      "True: Y\n",
      "Predicted: N\n",
      "----------------------------\n",
      "Lần thứ 9: \n",
      "True: N\n",
      "Predicted: Y\n",
      "----------------------------\n",
      "Lần thứ 10: \n",
      "True: N\n",
      "Predicted: N\n",
      "----------------------------\n"
     ]
    }
   ],
   "source": [
    "n_check=10\n",
    "solandung=0\n",
    "for i in range(n_check):\n",
    "    if check_output(i+1,model, x_test[feature_selection['RD']], y_test):\n",
    "        solandung+=1\n"
   ]
  },
  {
   "cell_type": "code",
   "execution_count": 30,
   "id": "a3a65590",
   "metadata": {},
   "outputs": [
    {
     "name": "stdout",
     "output_type": "stream",
     "text": [
      "Số lần dự đoán đúng: 4 chiếm khoảng 40.0% tổng lần dự đoán\n"
     ]
    }
   ],
   "source": [
    "print(f\"Số lần dự đoán đúng: {solandung} chiếm khoảng {(solandung/n_check)*100}% tổng lần dự đoán\")"
   ]
  },
  {
   "cell_type": "code",
   "execution_count": 31,
   "id": "0075b835",
   "metadata": {},
   "outputs": [
    {
     "name": "stdout",
     "output_type": "stream",
     "text": [
      "True: N\n",
      "Predicted: N\n",
      "----------------------------\n",
      "True: N\n",
      "Predicted: N\n",
      "----------------------------\n",
      "True: N\n",
      "Predicted: N\n",
      "----------------------------\n",
      "True: N\n",
      "Predicted: N\n",
      "----------------------------\n",
      "True: N\n",
      "Predicted: N\n",
      "----------------------------\n",
      "True: N\n",
      "Predicted: N\n",
      "----------------------------\n",
      "True: Y\n",
      "Predicted: N\n",
      "----------------------------\n",
      "True: N\n",
      "Predicted: N\n",
      "----------------------------\n",
      "True: N\n",
      "Predicted: N\n",
      "----------------------------\n",
      "True: N\n",
      "Predicted: N\n",
      "----------------------------\n",
      "True: N\n",
      "Predicted: N\n",
      "----------------------------\n",
      "True: N\n",
      "Predicted: N\n",
      "----------------------------\n",
      "True: Y\n",
      "Predicted: N\n",
      "----------------------------\n",
      "True: N\n",
      "Predicted: N\n",
      "----------------------------\n",
      "True: N\n",
      "Predicted: N\n",
      "----------------------------\n",
      "True: Y\n",
      "Predicted: Y\n",
      "----------------------------\n",
      "True: Y\n",
      "Predicted: N\n",
      "----------------------------\n",
      "True: N\n",
      "Predicted: N\n",
      "----------------------------\n",
      "True: N\n",
      "Predicted: N\n",
      "----------------------------\n",
      "True: N\n",
      "Predicted: N\n",
      "----------------------------\n",
      "True: N\n",
      "Predicted: N\n",
      "----------------------------\n",
      "True: N\n",
      "Predicted: N\n",
      "----------------------------\n",
      "True: N\n",
      "Predicted: N\n",
      "----------------------------\n",
      "True: N\n",
      "Predicted: N\n",
      "----------------------------\n",
      "True: Y\n",
      "Predicted: N\n",
      "----------------------------\n",
      "True: N\n",
      "Predicted: N\n",
      "----------------------------\n",
      "True: N\n",
      "Predicted: N\n",
      "----------------------------\n",
      "True: N\n",
      "Predicted: N\n",
      "----------------------------\n",
      "True: N\n",
      "Predicted: N\n",
      "----------------------------\n",
      "True: N\n",
      "Predicted: N\n",
      "----------------------------\n",
      "True: N\n",
      "Predicted: Y\n",
      "----------------------------\n",
      "True: N\n",
      "Predicted: N\n",
      "----------------------------\n",
      "True: N\n",
      "Predicted: N\n",
      "----------------------------\n",
      "True: N\n",
      "Predicted: N\n",
      "----------------------------\n",
      "True: Y\n",
      "Predicted: N\n",
      "----------------------------\n",
      "True: Y\n",
      "Predicted: Y\n",
      "----------------------------\n",
      "True: N\n",
      "Predicted: N\n",
      "----------------------------\n",
      "True: Y\n",
      "Predicted: Y\n",
      "----------------------------\n",
      "True: Y\n",
      "Predicted: N\n",
      "----------------------------\n",
      "True: N\n",
      "Predicted: N\n",
      "----------------------------\n",
      "True: N\n",
      "Predicted: N\n",
      "----------------------------\n",
      "True: N\n",
      "Predicted: N\n",
      "----------------------------\n",
      "True: Y\n",
      "Predicted: N\n",
      "----------------------------\n",
      "True: Y\n",
      "Predicted: Y\n",
      "----------------------------\n",
      "True: N\n",
      "Predicted: N\n",
      "----------------------------\n",
      "True: Y\n",
      "Predicted: N\n",
      "----------------------------\n",
      "True: N\n",
      "Predicted: N\n",
      "----------------------------\n",
      "True: N\n",
      "Predicted: N\n",
      "----------------------------\n",
      "True: N\n",
      "Predicted: N\n",
      "----------------------------\n",
      "True: N\n",
      "Predicted: N\n",
      "----------------------------\n",
      "True: N\n",
      "Predicted: N\n",
      "----------------------------\n",
      "True: N\n",
      "Predicted: N\n",
      "----------------------------\n",
      "True: N\n",
      "Predicted: N\n",
      "----------------------------\n",
      "True: N\n",
      "Predicted: N\n",
      "----------------------------\n",
      "True: N\n",
      "Predicted: N\n",
      "----------------------------\n",
      "True: N\n",
      "Predicted: N\n",
      "----------------------------\n",
      "True: N\n",
      "Predicted: N\n",
      "----------------------------\n",
      "True: Y\n",
      "Predicted: N\n",
      "----------------------------\n",
      "True: N\n",
      "Predicted: N\n",
      "----------------------------\n",
      "True: N\n",
      "Predicted: Y\n",
      "----------------------------\n",
      "True: N\n",
      "Predicted: N\n",
      "----------------------------\n",
      "True: N\n",
      "Predicted: N\n",
      "----------------------------\n",
      "True: Y\n",
      "Predicted: N\n",
      "----------------------------\n",
      "True: Y\n",
      "Predicted: N\n",
      "----------------------------\n",
      "True: Y\n",
      "Predicted: Y\n",
      "----------------------------\n",
      "True: N\n",
      "Predicted: N\n",
      "----------------------------\n",
      "True: Y\n",
      "Predicted: N\n",
      "----------------------------\n",
      "True: N\n",
      "Predicted: N\n",
      "----------------------------\n",
      "True: N\n",
      "Predicted: N\n",
      "----------------------------\n",
      "True: N\n",
      "Predicted: N\n",
      "----------------------------\n",
      "True: N\n",
      "Predicted: N\n",
      "----------------------------\n",
      "True: N\n",
      "Predicted: N\n",
      "----------------------------\n",
      "True: N\n",
      "Predicted: Y\n",
      "----------------------------\n",
      "True: N\n",
      "Predicted: N\n",
      "----------------------------\n",
      "True: N\n",
      "Predicted: N\n",
      "----------------------------\n",
      "True: Y\n",
      "Predicted: N\n",
      "----------------------------\n",
      "True: N\n",
      "Predicted: N\n",
      "----------------------------\n",
      "True: N\n",
      "Predicted: N\n",
      "----------------------------\n",
      "True: Y\n",
      "Predicted: N\n",
      "----------------------------\n",
      "True: N\n",
      "Predicted: N\n",
      "----------------------------\n",
      "True: N\n",
      "Predicted: N\n",
      "----------------------------\n",
      "True: N\n",
      "Predicted: N\n",
      "----------------------------\n",
      "True: Y\n",
      "Predicted: Y\n",
      "----------------------------\n",
      "True: N\n",
      "Predicted: N\n",
      "----------------------------\n",
      "True: N\n",
      "Predicted: N\n",
      "----------------------------\n",
      "True: Y\n",
      "Predicted: N\n",
      "----------------------------\n",
      "True: N\n",
      "Predicted: N\n",
      "----------------------------\n",
      "True: Y\n",
      "Predicted: N\n",
      "----------------------------\n",
      "True: N\n",
      "Predicted: N\n",
      "----------------------------\n",
      "True: N\n",
      "Predicted: N\n",
      "----------------------------\n",
      "True: N\n",
      "Predicted: N\n",
      "----------------------------\n",
      "True: N\n",
      "Predicted: N\n",
      "----------------------------\n",
      "True: Y\n",
      "Predicted: N\n",
      "----------------------------\n",
      "True: N\n",
      "Predicted: Y\n",
      "----------------------------\n",
      "True: N\n",
      "Predicted: N\n",
      "----------------------------\n",
      "True: Y\n",
      "Predicted: N\n",
      "----------------------------\n",
      "True: N\n",
      "Predicted: N\n",
      "----------------------------\n",
      "True: N\n",
      "Predicted: N\n",
      "----------------------------\n",
      "True: Y\n",
      "Predicted: N\n",
      "----------------------------\n",
      "True: N\n",
      "Predicted: N\n",
      "----------------------------\n",
      "True: Y\n",
      "Predicted: Y\n",
      "----------------------------\n",
      "True: N\n",
      "Predicted: N\n",
      "----------------------------\n",
      "True: Y\n",
      "Predicted: N\n",
      "----------------------------\n",
      "True: N\n",
      "Predicted: N\n",
      "----------------------------\n",
      "True: Y\n",
      "Predicted: N\n",
      "----------------------------\n",
      "True: N\n",
      "Predicted: N\n",
      "----------------------------\n",
      "True: N\n",
      "Predicted: N\n",
      "----------------------------\n",
      "True: N\n",
      "Predicted: N\n",
      "----------------------------\n",
      "True: N\n",
      "Predicted: N\n",
      "----------------------------\n",
      "True: Y\n",
      "Predicted: Y\n",
      "----------------------------\n",
      "True: N\n",
      "Predicted: N\n",
      "----------------------------\n",
      "True: Y\n",
      "Predicted: N\n",
      "----------------------------\n",
      "True: Y\n",
      "Predicted: N\n",
      "----------------------------\n",
      "True: N\n",
      "Predicted: N\n",
      "----------------------------\n",
      "True: N\n",
      "Predicted: N\n",
      "----------------------------\n",
      "True: N\n",
      "Predicted: N\n",
      "----------------------------\n",
      "True: Y\n",
      "Predicted: N\n",
      "----------------------------\n",
      "True: N\n",
      "Predicted: N\n",
      "----------------------------\n",
      "True: N\n",
      "Predicted: N\n",
      "----------------------------\n",
      "True: N\n",
      "Predicted: N\n",
      "----------------------------\n",
      "True: N\n",
      "Predicted: N\n",
      "----------------------------\n",
      "True: N\n",
      "Predicted: N\n",
      "----------------------------\n",
      "True: N\n",
      "Predicted: Y\n",
      "----------------------------\n",
      "True: Y\n",
      "Predicted: N\n",
      "----------------------------\n",
      "True: N\n",
      "Predicted: N\n",
      "----------------------------\n",
      "True: N\n",
      "Predicted: N\n",
      "----------------------------\n",
      "True: N\n",
      "Predicted: N\n",
      "----------------------------\n",
      "True: Y\n",
      "Predicted: Y\n",
      "----------------------------\n",
      "True: N\n",
      "Predicted: N\n",
      "----------------------------\n",
      "True: N\n",
      "Predicted: Y\n",
      "----------------------------\n",
      "True: Y\n",
      "Predicted: N\n",
      "----------------------------\n",
      "True: N\n",
      "Predicted: N\n",
      "----------------------------\n",
      "True: N\n",
      "Predicted: Y\n",
      "----------------------------\n",
      "True: N\n",
      "Predicted: Y\n",
      "----------------------------\n",
      "True: Y\n",
      "Predicted: N\n",
      "----------------------------\n",
      "True: Y\n",
      "Predicted: Y\n",
      "----------------------------\n",
      "True: Y\n",
      "Predicted: Y\n",
      "----------------------------\n",
      "True: N\n",
      "Predicted: Y\n",
      "----------------------------\n",
      "True: N\n",
      "Predicted: N\n",
      "----------------------------\n",
      "True: N\n",
      "Predicted: Y\n",
      "----------------------------\n",
      "True: Y\n",
      "Predicted: Y\n",
      "----------------------------\n",
      "True: Y\n",
      "Predicted: Y\n",
      "----------------------------\n",
      "True: Y\n",
      "Predicted: N\n",
      "----------------------------\n",
      "True: N\n",
      "Predicted: N\n",
      "----------------------------\n",
      "True: N\n",
      "Predicted: N\n",
      "----------------------------\n",
      "True: Y\n",
      "Predicted: Y\n",
      "----------------------------\n",
      "True: Y\n",
      "Predicted: Y\n",
      "----------------------------\n",
      "True: Y\n",
      "Predicted: Y\n",
      "----------------------------\n",
      "True: N\n",
      "Predicted: N\n",
      "----------------------------\n",
      "True: Y\n",
      "Predicted: N\n",
      "----------------------------\n",
      "True: N\n",
      "Predicted: N\n",
      "----------------------------\n",
      "True: Y\n",
      "Predicted: Y\n",
      "----------------------------\n",
      "True: N\n",
      "Predicted: N\n",
      "----------------------------\n",
      "True: N\n",
      "Predicted: N\n",
      "----------------------------\n",
      "True: Y\n",
      "Predicted: N\n",
      "----------------------------\n",
      "True: N\n",
      "Predicted: N\n",
      "----------------------------\n",
      "True: N\n",
      "Predicted: N\n",
      "----------------------------\n",
      "True: Y\n",
      "Predicted: N\n",
      "----------------------------\n",
      "True: N\n",
      "Predicted: N\n",
      "----------------------------\n",
      "True: Y\n",
      "Predicted: N\n",
      "----------------------------\n",
      "True: N\n",
      "Predicted: N\n",
      "----------------------------\n",
      "True: N\n",
      "Predicted: N\n",
      "----------------------------\n",
      "True: N\n",
      "Predicted: N\n",
      "----------------------------\n",
      "True: N\n",
      "Predicted: N\n",
      "----------------------------\n",
      "True: Y\n",
      "Predicted: Y\n",
      "----------------------------\n",
      "True: N\n",
      "Predicted: N\n",
      "----------------------------\n",
      "True: N\n",
      "Predicted: N\n",
      "----------------------------\n",
      "True: N\n",
      "Predicted: N\n",
      "----------------------------\n"
     ]
    },
    {
     "name": "stdout",
     "output_type": "stream",
     "text": [
      "True: N\n",
      "Predicted: N\n",
      "----------------------------\n",
      "True: N\n",
      "Predicted: N\n",
      "----------------------------\n",
      "True: N\n",
      "Predicted: N\n",
      "----------------------------\n",
      "True: N\n",
      "Predicted: N\n",
      "----------------------------\n",
      "True: Y\n",
      "Predicted: N\n",
      "----------------------------\n",
      "True: N\n",
      "Predicted: N\n",
      "----------------------------\n",
      "True: N\n",
      "Predicted: N\n",
      "----------------------------\n",
      "True: N\n",
      "Predicted: N\n",
      "----------------------------\n",
      "True: N\n",
      "Predicted: N\n",
      "----------------------------\n",
      "True: Y\n",
      "Predicted: N\n",
      "----------------------------\n",
      "True: N\n",
      "Predicted: N\n",
      "----------------------------\n",
      "True: N\n",
      "Predicted: N\n",
      "----------------------------\n",
      "True: Y\n",
      "Predicted: N\n",
      "----------------------------\n",
      "True: Y\n",
      "Predicted: N\n",
      "----------------------------\n",
      "True: N\n",
      "Predicted: N\n",
      "----------------------------\n",
      "True: N\n",
      "Predicted: N\n",
      "----------------------------\n",
      "True: N\n",
      "Predicted: N\n",
      "----------------------------\n",
      "True: N\n",
      "Predicted: N\n",
      "----------------------------\n",
      "True: N\n",
      "Predicted: Y\n",
      "----------------------------\n",
      "True: N\n",
      "Predicted: N\n",
      "----------------------------\n",
      "True: N\n",
      "Predicted: N\n",
      "----------------------------\n",
      "True: N\n",
      "Predicted: N\n",
      "----------------------------\n",
      "True: N\n",
      "Predicted: Y\n",
      "----------------------------\n",
      "True: N\n",
      "Predicted: N\n",
      "----------------------------\n",
      "True: N\n",
      "Predicted: N\n",
      "----------------------------\n",
      "True: N\n",
      "Predicted: N\n",
      "----------------------------\n",
      "True: N\n",
      "Predicted: N\n",
      "----------------------------\n",
      "True: N\n",
      "Predicted: N\n",
      "----------------------------\n",
      "True: N\n",
      "Predicted: N\n",
      "----------------------------\n",
      "True: Y\n",
      "Predicted: N\n",
      "----------------------------\n",
      "True: N\n",
      "Predicted: N\n",
      "----------------------------\n",
      "True: Y\n",
      "Predicted: Y\n",
      "----------------------------\n",
      "True: N\n",
      "Predicted: N\n",
      "----------------------------\n",
      "True: N\n",
      "Predicted: N\n",
      "----------------------------\n",
      "True: N\n",
      "Predicted: N\n",
      "----------------------------\n",
      "True: N\n",
      "Predicted: N\n",
      "----------------------------\n",
      "True: N\n",
      "Predicted: N\n",
      "----------------------------\n",
      "True: N\n",
      "Predicted: N\n",
      "----------------------------\n",
      "True: Y\n",
      "Predicted: Y\n",
      "----------------------------\n",
      "True: N\n",
      "Predicted: Y\n",
      "----------------------------\n",
      "True: Y\n",
      "Predicted: N\n",
      "----------------------------\n",
      "True: Y\n",
      "Predicted: N\n",
      "----------------------------\n",
      "True: N\n",
      "Predicted: N\n",
      "----------------------------\n",
      "True: N\n",
      "Predicted: N\n",
      "----------------------------\n",
      "True: N\n",
      "Predicted: N\n",
      "----------------------------\n",
      "True: N\n",
      "Predicted: N\n",
      "----------------------------\n",
      "True: N\n",
      "Predicted: N\n",
      "----------------------------\n",
      "True: Y\n",
      "Predicted: N\n",
      "----------------------------\n",
      "True: N\n",
      "Predicted: N\n",
      "----------------------------\n",
      "True: N\n",
      "Predicted: N\n",
      "----------------------------\n",
      "True: Y\n",
      "Predicted: N\n",
      "----------------------------\n",
      "True: N\n",
      "Predicted: N\n",
      "----------------------------\n",
      "True: Y\n",
      "Predicted: Y\n",
      "----------------------------\n",
      "True: N\n",
      "Predicted: N\n",
      "----------------------------\n",
      "True: N\n",
      "Predicted: N\n",
      "----------------------------\n",
      "True: N\n",
      "Predicted: N\n",
      "----------------------------\n",
      "True: N\n",
      "Predicted: N\n",
      "----------------------------\n",
      "True: N\n",
      "Predicted: Y\n",
      "----------------------------\n",
      "True: Y\n",
      "Predicted: N\n",
      "----------------------------\n",
      "True: N\n",
      "Predicted: N\n",
      "----------------------------\n",
      "True: N\n",
      "Predicted: N\n",
      "----------------------------\n",
      "True: N\n",
      "Predicted: N\n",
      "----------------------------\n",
      "True: Y\n",
      "Predicted: N\n",
      "----------------------------\n",
      "True: Y\n",
      "Predicted: N\n",
      "----------------------------\n",
      "True: N\n",
      "Predicted: N\n",
      "----------------------------\n",
      "True: Y\n",
      "Predicted: Y\n",
      "----------------------------\n",
      "True: N\n",
      "Predicted: N\n",
      "----------------------------\n",
      "True: Y\n",
      "Predicted: N\n",
      "----------------------------\n",
      "True: N\n",
      "Predicted: Y\n",
      "----------------------------\n",
      "True: N\n",
      "Predicted: N\n",
      "----------------------------\n",
      "True: N\n",
      "Predicted: N\n",
      "----------------------------\n",
      "True: Y\n",
      "Predicted: N\n",
      "----------------------------\n",
      "True: N\n",
      "Predicted: Y\n",
      "----------------------------\n",
      "True: N\n",
      "Predicted: N\n",
      "----------------------------\n",
      "True: Y\n",
      "Predicted: N\n",
      "----------------------------\n",
      "True: N\n",
      "Predicted: N\n",
      "----------------------------\n",
      "True: N\n",
      "Predicted: N\n",
      "----------------------------\n",
      "True: N\n",
      "Predicted: N\n",
      "----------------------------\n",
      "True: Y\n",
      "Predicted: N\n",
      "----------------------------\n",
      "True: Y\n",
      "Predicted: Y\n",
      "----------------------------\n",
      "True: N\n",
      "Predicted: N\n",
      "----------------------------\n",
      "True: N\n",
      "Predicted: N\n",
      "----------------------------\n",
      "True: N\n",
      "Predicted: N\n",
      "----------------------------\n",
      "True: Y\n",
      "Predicted: Y\n",
      "----------------------------\n",
      "True: N\n",
      "Predicted: N\n",
      "----------------------------\n",
      "True: N\n",
      "Predicted: N\n",
      "----------------------------\n"
     ]
    }
   ],
   "source": [
    "solandung=0\n",
    "for indx in range(len(x_test)):\n",
    "    sample = x_test[feature_selection['RD']].iloc[indx, :].values        # Chuyển DataFrame thành mảng NumPy\n",
    "    sample = np.expand_dims(sample, axis=0)     # Mở rộng kích thước cho phù hợp với mô hình\n",
    "    y_predict = model.predict(sample)\n",
    "    Y_check = check_result(y_test.iloc[indx])\n",
    "    print('True:', Y_check)\n",
    "    print('Predicted:', check_result(y_predict))\n",
    "    print(\"----------------------------\")\n",
    "    if Y_check==check_result(y_predict):\n",
    "        solandung+=1\n",
    "    \n"
   ]
  },
  {
   "cell_type": "code",
   "execution_count": 32,
   "id": "ec4e62df",
   "metadata": {},
   "outputs": [
    {
     "name": "stdout",
     "output_type": "stream",
     "text": [
      "Số lần dự đoán đúng trong lan kiểm tra: 190 chiếm khoảng 74.80314960629921% tổng lần dự đoán\n"
     ]
    }
   ],
   "source": [
    "print(f\"Số lần dự đoán đúng trong lan kiểm tra: {solandung} chiếm khoảng {(solandung/len(x_test))*100}% tổng lần dự đoán\")\n"
   ]
  },
  {
   "cell_type": "code",
   "execution_count": null,
   "id": "342d5430",
   "metadata": {},
   "outputs": [],
   "source": []
  },
  {
   "cell_type": "code",
   "execution_count": null,
   "id": "8d230486",
   "metadata": {},
   "outputs": [],
   "source": []
  },
  {
   "cell_type": "code",
   "execution_count": null,
   "id": "5c2fe14f",
   "metadata": {},
   "outputs": [],
   "source": []
  },
  {
   "cell_type": "code",
   "execution_count": null,
   "id": "a169dd67",
   "metadata": {},
   "outputs": [],
   "source": []
  },
  {
   "cell_type": "code",
   "execution_count": null,
   "id": "49aefbe9",
   "metadata": {},
   "outputs": [],
   "source": []
  }
 ],
 "metadata": {
  "kernelspec": {
   "display_name": "Python 3 (ipykernel)",
   "language": "python",
   "name": "python3"
  },
  "language_info": {
   "codemirror_mode": {
    "name": "ipython",
    "version": 3
   },
   "file_extension": ".py",
   "mimetype": "text/x-python",
   "name": "python",
   "nbconvert_exporter": "python",
   "pygments_lexer": "ipython3",
   "version": "3.9.15"
  }
 },
 "nbformat": 4,
 "nbformat_minor": 5
}
